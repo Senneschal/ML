{
 "cells": [
  {
   "cell_type": "code",
   "execution_count": 81,
   "metadata": {},
   "outputs": [
    {
     "name": "stdout",
     "output_type": "stream",
     "text": [
      "The autoreload extension is already loaded. To reload it, use:\n",
      "  %reload_ext autoreload\n"
     ]
    }
   ],
   "source": [
    "# Useful starting lines\n",
    "%matplotlib inline\n",
    "import numpy as np\n",
    "import matplotlib.pyplot as plt\n",
    "import datetime\n",
    "%load_ext autoreload\n",
    "%autoreload 2"
   ]
  },
  {
   "cell_type": "markdown",
   "metadata": {},
   "source": [
    "## Load the training data into feature matrix, class labels, and event ids:"
   ]
  },
  {
   "cell_type": "code",
   "execution_count": 97,
   "metadata": {},
   "outputs": [],
   "source": [
    "from proj1_helpers import *\n",
    "DATA_TRAIN_PATH = 'train.csv' # TODO: download train data and supply path here \n",
    "y, tX, ids = load_csv_data(DATA_TRAIN_PATH)"
   ]
  },
  {
   "cell_type": "code",
   "execution_count": 98,
   "metadata": {},
   "outputs": [
    {
     "name": "stdout",
     "output_type": "stream",
     "text": [
      "[ 1. -1. -1. ...  1. -1. -1.]\n",
      "----------------------------------\n",
      "[[ 138.47    51.655   97.827 ...    1.24    -2.475  113.497]\n",
      " [ 160.937   68.768  103.235 ... -999.    -999.      46.226]\n",
      " [-999.     162.172  125.953 ... -999.    -999.      44.251]\n",
      " ...\n",
      " [ 105.457   60.526   75.839 ... -999.    -999.      41.992]\n",
      " [  94.951   19.362   68.812 ... -999.    -999.       0.   ]\n",
      " [-999.      72.756   70.831 ... -999.    -999.       0.   ]]\n",
      "----------------------------------\n",
      "[100000 100001 100002 ... 349997 349998 349999]\n"
     ]
    }
   ],
   "source": [
    "print(y)\n",
    "print('----------------------------------')\n",
    "print(tX)\n",
    "print('----------------------------------')\n",
    "print(ids)"
   ]
  },
  {
   "cell_type": "code",
   "execution_count": 99,
   "metadata": {},
   "outputs": [],
   "source": [
    "tx = np.insert(tX, 0, 1, axis=1)"
   ]
  },
  {
   "cell_type": "markdown",
   "metadata": {},
   "source": [
    "## Cleaning the data\n",
    "There seems to be quiet a few incorrect values \"-999\", for now we'll set these equal to the average of their respective column."
   ]
  },
  {
   "cell_type": "code",
   "execution_count": 100,
   "metadata": {},
   "outputs": [
    {
     "data": {
      "text/plain": [
       "array([[  1.   , 138.47 ,  51.655, ...,   1.24 ,  -2.475, 113.497],\n",
       "       [  1.   , 160.937,  68.768, ...,     nan,     nan,  46.226],\n",
       "       [  1.   ,     nan, 162.172, ...,     nan,     nan,  44.251],\n",
       "       ...,\n",
       "       [  1.   , 105.457,  60.526, ...,     nan,     nan,  41.992],\n",
       "       [  1.   ,  94.951,  19.362, ...,     nan,     nan,   0.   ],\n",
       "       [  1.   ,     nan,  72.756, ...,     nan,     nan,   0.   ]])"
      ]
     },
     "execution_count": 100,
     "metadata": {},
     "output_type": "execute_result"
    }
   ],
   "source": [
    "tx_ = np.where(tx==-999, np.nan, tx)\n",
    "tx_"
   ]
  },
  {
   "cell_type": "code",
   "execution_count": 101,
   "metadata": {},
   "outputs": [],
   "source": [
    "for i in range(0, 30):\n",
    "    tx[:,i] = np.where(tx[:,i]==-999, np.nanmean(tx_[:,i]), tx_[:,i])"
   ]
  },
  {
   "cell_type": "code",
   "execution_count": 102,
   "metadata": {},
   "outputs": [
    {
     "data": {
      "text/plain": [
       "array([[  1. , 138.5,  51.7, ...,   1.2,  -2.5, 113.5],\n",
       "       [  1. , 160.9,  68.8, ...,  -0. ,  -0. ,  46.2],\n",
       "       [  1. , 121.9, 162.2, ...,  -0. ,  -0. ,  44.3],\n",
       "       ...,\n",
       "       [  1. , 105.5,  60.5, ...,  -0. ,  -0. ,  42. ],\n",
       "       [  1. ,  95. ,  19.4, ...,  -0. ,  -0. ,   0. ],\n",
       "       [  1. , 121.9,  72.8, ...,  -0. ,  -0. ,   0. ]])"
      ]
     },
     "execution_count": 102,
     "metadata": {},
     "output_type": "execute_result"
    }
   ],
   "source": [
    "np.around(tx, 1)"
   ]
  },
  {
   "cell_type": "markdown",
   "metadata": {},
   "source": [
    "## Testing the functions\n",
    "Everything goes into implementations.py."
   ]
  },
  {
   "cell_type": "code",
   "execution_count": 103,
   "metadata": {},
   "outputs": [],
   "source": [
    "from implementations import *"
   ]
  },
  {
   "cell_type": "code",
   "execution_count": 104,
   "metadata": {},
   "outputs": [
    {
     "data": {
      "text/plain": [
       "(0.34040945217523977,\n",
       " array([-1.15430619e+00,  1.82637143e-04, -7.20672107e-03, -6.45384640e-03,\n",
       "        -1.73123839e-05,  2.32665195e-02,  4.20381986e-04,  2.50304362e-03,\n",
       "         3.60203545e-01, -1.26385429e-03, -2.84568774e+00, -2.22719927e-01,\n",
       "         9.89163555e-02,  3.56752661e-01,  2.85396180e+00, -6.42020723e-04,\n",
       "        -4.57219107e-04,  2.85879539e+00, -6.80776737e-04,  1.38605239e-03,\n",
       "         3.15125355e-03,  5.15272243e-04, -3.71558734e-04,  4.27220740e-02,\n",
       "        -1.01225645e-03,  4.70620275e-04,  1.34341503e-04, -2.12423006e-03,\n",
       "         1.42389540e-03, -1.78105047e-03,  2.84577828e+00]))"
      ]
     },
     "execution_count": 104,
     "metadata": {},
     "output_type": "execute_result"
    }
   ],
   "source": [
    "least_squares(y, tx)"
   ]
  },
  {
   "cell_type": "code",
   "execution_count": 108,
   "metadata": {},
   "outputs": [
    {
     "data": {
      "text/plain": [
       "(0.42762024204944515,\n",
       " array([-9.62870376e-06, -8.53651159e-04, -1.50111309e-03, -6.36774819e-04,\n",
       "         5.46515024e-04, -6.60541850e-06,  1.50986077e-04, -2.28034909e-05,\n",
       "        -1.99323578e-05, -2.03017754e-04,  1.82396766e-04, -2.81108003e-05,\n",
       "         2.98359738e-05, -8.86668785e-07,  1.49124208e-04, -1.16576897e-08,\n",
       "        -6.96956963e-07, -4.49068267e-04,  3.39987182e-07,  2.41478887e-07,\n",
       "        -3.03244905e-04,  1.26971335e-06, -3.35812581e-04,  1.71133406e-06,\n",
       "        -4.13086154e-04,  7.26136261e-08,  1.66055103e-07, -5.63962759e-04,\n",
       "         1.99886767e-07, -3.09761717e-07,  4.82340961e-04]))"
      ]
     },
     "execution_count": 108,
     "metadata": {},
     "output_type": "execute_result"
    }
   ],
   "source": [
    "least_squares_GD(y, tx, np.zeros(31), 100, 0.000001)\n",
    "\n",
    "# THIS CONVERGES INTO A LOCAL MINIMUM, solution: Dynamic Step Size ?"
   ]
  },
  {
   "cell_type": "code",
   "execution_count": 109,
   "metadata": {},
   "outputs": [
    {
     "data": {
      "text/plain": [
       "array([-1.15430619e+00,  1.82642973e-04, -7.20671861e-03, -6.45384287e-03,\n",
       "       -1.73132964e-05,  2.32665198e-02,  4.20385733e-04,  2.50304348e-03,\n",
       "        3.60203545e-01, -1.26385382e-03, -2.84568774e+00, -2.22719927e-01,\n",
       "        9.89163555e-02,  3.56752661e-01,  2.85396180e+00, -6.42020722e-04,\n",
       "       -4.57219112e-04,  2.85879539e+00, -6.80776738e-04,  1.38605239e-03,\n",
       "        3.15125411e-03,  5.15272240e-04, -3.71557781e-04,  4.27220741e-02,\n",
       "       -1.01225793e-03,  4.70620273e-04,  1.34341503e-04, -2.12423048e-03,\n",
       "        1.42389540e-03, -1.78105047e-03,  2.84577828e+00])"
      ]
     },
     "execution_count": 109,
     "metadata": {},
     "output_type": "execute_result"
    }
   ],
   "source": [
    "least_squares_GD(y, tx, [-1.15430619e+00,  1.82637143e-04, -7.20672107e-03, -6.45384640e-03,\n",
    "        -1.73123839e-05,  2.32665195e-02,  4.20381986e-04,  2.50304362e-03,\n",
    "         3.60203545e-01, -1.26385429e-03, -2.84568774e+00, -2.22719927e-01,\n",
    "         9.89163555e-02,  3.56752661e-01,  2.85396180e+00, -6.42020723e-04,\n",
    "        -4.57219107e-04,  2.85879539e+00, -6.80776737e-04,  1.38605239e-03,\n",
    "         3.15125355e-03,  5.15272243e-04, -3.71558734e-04,  4.27220740e-02,\n",
    "        -1.01225645e-03,  4.70620275e-04,  1.34341503e-04, -2.12423006e-03,\n",
    "         1.42389540e-03, -1.78105047e-03,  2.84577828e+00], 100, 0.000001)[1]\n",
    "\n",
    "# IT STAYS IN THE ABSOLUTE MINIMUM WHEN USING THAT AS A STARTING POINT"
   ]
  },
  {
   "cell_type": "code",
   "execution_count": 78,
   "metadata": {
    "scrolled": true
   },
   "outputs": [
    {
     "ename": "KeyboardInterrupt",
     "evalue": "",
     "output_type": "error",
     "traceback": [
      "\u001b[1;31m---------------------------------------------------------------------------\u001b[0m",
      "\u001b[1;31mKeyboardInterrupt\u001b[0m                         Traceback (most recent call last)",
      "\u001b[1;32m<ipython-input-78-7f49a649c562>\u001b[0m in \u001b[0;36m<module>\u001b[1;34m\u001b[0m\n\u001b[1;32m----> 1\u001b[1;33m \u001b[0mleast_squares_SGD\u001b[0m\u001b[1;33m(\u001b[0m\u001b[0my\u001b[0m\u001b[1;33m,\u001b[0m \u001b[0mtx\u001b[0m\u001b[1;33m,\u001b[0m \u001b[0mnp\u001b[0m\u001b[1;33m.\u001b[0m\u001b[0mzeros\u001b[0m\u001b[1;33m(\u001b[0m\u001b[1;36m31\u001b[0m\u001b[1;33m)\u001b[0m\u001b[1;33m,\u001b[0m \u001b[1;36m100\u001b[0m\u001b[1;33m,\u001b[0m \u001b[1;36m0.000001\u001b[0m\u001b[1;33m)\u001b[0m\u001b[1;33m\u001b[0m\u001b[1;33m\u001b[0m\u001b[0m\n\u001b[0m",
      "\u001b[1;32m<ipython-input-57-61f8ba95cb09>\u001b[0m in \u001b[0;36mleast_squares_SGD\u001b[1;34m(y, tx, initial_w, max_iters, gamma)\u001b[0m\n\u001b[0;32m      6\u001b[0m     \u001b[1;32mfor\u001b[0m \u001b[0mi\u001b[0m \u001b[1;32min\u001b[0m \u001b[0mrange\u001b[0m \u001b[1;33m(\u001b[0m\u001b[0mmax_iters\u001b[0m\u001b[1;33m)\u001b[0m\u001b[1;33m:\u001b[0m\u001b[1;33m\u001b[0m\u001b[1;33m\u001b[0m\u001b[0m\n\u001b[0;32m      7\u001b[0m             \u001b[1;32mfor\u001b[0m \u001b[0mn\u001b[0m \u001b[1;32min\u001b[0m \u001b[0mrange\u001b[0m \u001b[1;33m(\u001b[0m\u001b[0mN\u001b[0m\u001b[1;33m)\u001b[0m\u001b[1;33m:\u001b[0m\u001b[1;33m\u001b[0m\u001b[1;33m\u001b[0m\u001b[0m\n\u001b[1;32m----> 8\u001b[1;33m                 \u001b[0mgrad\u001b[0m \u001b[1;33m=\u001b[0m \u001b[0mcompute_st_gradient\u001b[0m\u001b[1;33m(\u001b[0m\u001b[0my\u001b[0m\u001b[1;33m[\u001b[0m\u001b[0mn\u001b[0m\u001b[1;33m]\u001b[0m\u001b[1;33m,\u001b[0m \u001b[0mtx\u001b[0m\u001b[1;33m[\u001b[0m\u001b[0mn\u001b[0m\u001b[1;33m]\u001b[0m\u001b[1;33m,\u001b[0m \u001b[0mws\u001b[0m\u001b[1;33m)\u001b[0m\u001b[1;33m\u001b[0m\u001b[1;33m\u001b[0m\u001b[0m\n\u001b[0m\u001b[0;32m      9\u001b[0m                 \u001b[0mws\u001b[0m \u001b[1;33m=\u001b[0m \u001b[0mws\u001b[0m \u001b[1;33m-\u001b[0m \u001b[0mgamma\u001b[0m\u001b[1;33m*\u001b[0m\u001b[0mgrad\u001b[0m\u001b[1;33m\u001b[0m\u001b[1;33m\u001b[0m\u001b[0m\n\u001b[0;32m     10\u001b[0m \u001b[1;33m\u001b[0m\u001b[0m\n",
      "\u001b[1;32m<ipython-input-32-44d3c09c40e9>\u001b[0m in \u001b[0;36mcompute_st_gradient\u001b[1;34m(y_n, tx_n, w)\u001b[0m\n\u001b[0;32m      1\u001b[0m \u001b[1;32mdef\u001b[0m \u001b[0mcompute_st_gradient\u001b[0m\u001b[1;33m(\u001b[0m\u001b[0my_n\u001b[0m\u001b[1;33m,\u001b[0m \u001b[0mtx_n\u001b[0m\u001b[1;33m,\u001b[0m \u001b[0mw\u001b[0m\u001b[1;33m)\u001b[0m\u001b[1;33m:\u001b[0m\u001b[1;33m\u001b[0m\u001b[1;33m\u001b[0m\u001b[0m\n\u001b[0;32m      2\u001b[0m     \u001b[1;34m\"\"\" We don't use batches here! \"\"\"\u001b[0m\u001b[1;33m\u001b[0m\u001b[1;33m\u001b[0m\u001b[0m\n\u001b[1;32m----> 3\u001b[1;33m     \u001b[1;32mreturn\u001b[0m \u001b[1;33m-\u001b[0m\u001b[0mnp\u001b[0m\u001b[1;33m.\u001b[0m\u001b[0mdot\u001b[0m\u001b[1;33m(\u001b[0m\u001b[0mtx_n\u001b[0m\u001b[1;33m.\u001b[0m\u001b[0mtranspose\u001b[0m\u001b[1;33m(\u001b[0m\u001b[1;33m)\u001b[0m\u001b[1;33m,\u001b[0m \u001b[0my_n\u001b[0m \u001b[1;33m-\u001b[0m \u001b[0mnp\u001b[0m\u001b[1;33m.\u001b[0m\u001b[0mmatmul\u001b[0m\u001b[1;33m(\u001b[0m\u001b[0mtx_n\u001b[0m\u001b[1;33m,\u001b[0m \u001b[0mw\u001b[0m\u001b[1;33m)\u001b[0m\u001b[1;33m)\u001b[0m\u001b[1;33m\u001b[0m\u001b[1;33m\u001b[0m\u001b[0m\n\u001b[0m",
      "\u001b[1;31mKeyboardInterrupt\u001b[0m: "
     ]
    }
   ],
   "source": [
    "least_squares_SGD(y, tx, np.zeros(31), 100, 0.000001)"
   ]
  },
  {
   "cell_type": "code",
   "execution_count": 89,
   "metadata": {},
   "outputs": [],
   "source": [
    "weights = np.array([-1.87271515e-01, -3.18249509e-05, -7.86553702e-03, -6.12747878e-03,\n",
    "        -2.79314299e-04, -1.00144970e-02,  9.66471915e-05, -1.78655467e-02,\n",
    "         2.94121690e-01, -9.52512471e-04,  6.71011715e-03, -2.29125293e-01,\n",
    "         9.86471103e-02,  1.66238227e-01,  2.22108976e-03, -2.40704264e-03,\n",
    "         2.39504581e-04,  6.78697853e-03, -2.84137894e-04,  1.44738922e-03,\n",
    "         2.56756367e-03,  1.23142637e-03, -8.18848408e-05, -2.17112860e-01,\n",
    "        -4.47434614e-03, -3.55307447e-04,  1.57568937e-03, -8.47702975e-03,\n",
    "         4.10466181e-03, -2.18287587e-03, -2.29300926e-03])"
   ]
  },
  {
   "cell_type": "code",
   "execution_count": null,
   "metadata": {},
   "outputs": [],
   "source": []
  },
  {
   "cell_type": "markdown",
   "metadata": {},
   "source": [
    "## Generate predictions and save ouput in csv format for submission:"
   ]
  },
  {
   "cell_type": "code",
   "execution_count": 49,
   "metadata": {},
   "outputs": [],
   "source": [
    "DATA_TEST_PATH = 'test.csv'\n",
    "_, tX_test, ids_test = load_csv_data(DATA_TEST_PATH)"
   ]
  },
  {
   "cell_type": "code",
   "execution_count": 88,
   "metadata": {},
   "outputs": [
    {
     "ename": "ValueError",
     "evalue": "shapes (568238,30) and (31,) not aligned: 30 (dim 1) != 31 (dim 0)",
     "output_type": "error",
     "traceback": [
      "\u001b[1;31m---------------------------------------------------------------------------\u001b[0m",
      "\u001b[1;31mValueError\u001b[0m                                Traceback (most recent call last)",
      "\u001b[1;32m<ipython-input-88-1aef93a81020>\u001b[0m in \u001b[0;36m<module>\u001b[1;34m\u001b[0m\n\u001b[0;32m      2\u001b[0m \u001b[1;33m\u001b[0m\u001b[0m\n\u001b[0;32m      3\u001b[0m \u001b[0mOUTPUT_PATH\u001b[0m \u001b[1;33m=\u001b[0m \u001b[1;34m'submission'\u001b[0m\u001b[1;33m+\u001b[0m\u001b[0mstr\u001b[0m\u001b[1;33m(\u001b[0m\u001b[0mtime\u001b[0m\u001b[1;33m)\u001b[0m \u001b[1;31m# TODO: fill in desired name of output file for submission\u001b[0m\u001b[1;33m\u001b[0m\u001b[1;33m\u001b[0m\u001b[0m\n\u001b[1;32m----> 4\u001b[1;33m \u001b[0my_pred\u001b[0m \u001b[1;33m=\u001b[0m \u001b[0mpredict_labels\u001b[0m\u001b[1;33m(\u001b[0m\u001b[0mweights\u001b[0m\u001b[1;33m,\u001b[0m \u001b[0mtX_test\u001b[0m\u001b[1;33m)\u001b[0m\u001b[1;33m\u001b[0m\u001b[1;33m\u001b[0m\u001b[0m\n\u001b[0m\u001b[0;32m      5\u001b[0m \u001b[0mcreate_csv_submission\u001b[0m\u001b[1;33m(\u001b[0m\u001b[0mids_test\u001b[0m\u001b[1;33m,\u001b[0m \u001b[0my_pred\u001b[0m\u001b[1;33m,\u001b[0m \u001b[0mOUTPUT_PATH\u001b[0m\u001b[1;33m)\u001b[0m\u001b[1;33m\u001b[0m\u001b[1;33m\u001b[0m\u001b[0m\n",
      "\u001b[1;32m~\\Documents\\GitHub\\ML\\proj1_helpers.py\u001b[0m in \u001b[0;36mpredict_labels\u001b[1;34m(weights, data)\u001b[0m\n\u001b[0;32m     27\u001b[0m \u001b[1;32mdef\u001b[0m \u001b[0mpredict_labels\u001b[0m\u001b[1;33m(\u001b[0m\u001b[0mweights\u001b[0m\u001b[1;33m,\u001b[0m \u001b[0mdata\u001b[0m\u001b[1;33m)\u001b[0m\u001b[1;33m:\u001b[0m\u001b[1;33m\u001b[0m\u001b[1;33m\u001b[0m\u001b[0m\n\u001b[0;32m     28\u001b[0m     \u001b[1;34m\"\"\"Generates class predictions given weights, and a test data matrix\"\"\"\u001b[0m\u001b[1;33m\u001b[0m\u001b[1;33m\u001b[0m\u001b[0m\n\u001b[1;32m---> 29\u001b[1;33m     \u001b[0my_pred\u001b[0m \u001b[1;33m=\u001b[0m \u001b[0mnp\u001b[0m\u001b[1;33m.\u001b[0m\u001b[0mdot\u001b[0m\u001b[1;33m(\u001b[0m\u001b[0mdata\u001b[0m\u001b[1;33m,\u001b[0m \u001b[0mweights\u001b[0m\u001b[1;33m)\u001b[0m\u001b[1;33m\u001b[0m\u001b[1;33m\u001b[0m\u001b[0m\n\u001b[0m\u001b[0;32m     30\u001b[0m     \u001b[0my_pred\u001b[0m\u001b[1;33m[\u001b[0m\u001b[0mnp\u001b[0m\u001b[1;33m.\u001b[0m\u001b[0mwhere\u001b[0m\u001b[1;33m(\u001b[0m\u001b[0my_pred\u001b[0m \u001b[1;33m<=\u001b[0m \u001b[1;36m0\u001b[0m\u001b[1;33m)\u001b[0m\u001b[1;33m]\u001b[0m \u001b[1;33m=\u001b[0m \u001b[1;33m-\u001b[0m\u001b[1;36m1\u001b[0m\u001b[1;33m\u001b[0m\u001b[1;33m\u001b[0m\u001b[0m\n\u001b[0;32m     31\u001b[0m     \u001b[0my_pred\u001b[0m\u001b[1;33m[\u001b[0m\u001b[0mnp\u001b[0m\u001b[1;33m.\u001b[0m\u001b[0mwhere\u001b[0m\u001b[1;33m(\u001b[0m\u001b[0my_pred\u001b[0m \u001b[1;33m>\u001b[0m \u001b[1;36m0\u001b[0m\u001b[1;33m)\u001b[0m\u001b[1;33m]\u001b[0m \u001b[1;33m=\u001b[0m \u001b[1;36m1\u001b[0m\u001b[1;33m\u001b[0m\u001b[1;33m\u001b[0m\u001b[0m\n",
      "\u001b[1;31mValueError\u001b[0m: shapes (568238,30) and (31,) not aligned: 30 (dim 1) != 31 (dim 0)"
     ]
    }
   ],
   "source": [
    "time = datetime.datetime.now()\n",
    "\n",
    "OUTPUT_PATH = 'submission'+str(time)\n",
    "y_pred = predict_labels(weights, tX_test)\n",
    "create_csv_submission(ids_test, y_pred, OUTPUT_PATH)"
   ]
  },
  {
   "cell_type": "code",
   "execution_count": null,
   "metadata": {},
   "outputs": [],
   "source": []
  }
 ],
 "metadata": {
  "anaconda-cloud": {},
  "kernelspec": {
   "display_name": "Python 3",
   "language": "python",
   "name": "python3"
  },
  "language_info": {
   "codemirror_mode": {
    "name": "ipython",
    "version": 3
   },
   "file_extension": ".py",
   "mimetype": "text/x-python",
   "name": "python",
   "nbconvert_exporter": "python",
   "pygments_lexer": "ipython3",
   "version": "3.7.3"
  }
 },
 "nbformat": 4,
 "nbformat_minor": 1
}
