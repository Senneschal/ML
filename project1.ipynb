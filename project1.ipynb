{
 "cells": [
  {
   "cell_type": "code",
   "execution_count": 28,
   "metadata": {},
   "outputs": [],
   "source": [
    "# Useful starting lines\n",
    "%matplotlib inline\n",
    "import numpy as np\n",
    "import matplotlib.pyplot as plt\n",
    "import datetime\n",
    "%load_ext autoreload\n",
    "%autoreload 2"
   ]
  },
  {
   "cell_type": "markdown",
   "metadata": {},
   "source": [
    "## Load the training data into feature matrix, class labels, and event ids:"
   ]
  },
  {
   "cell_type": "code",
   "execution_count": 1,
   "metadata": {},
   "outputs": [],
   "source": [
    "from proj1_helpers import *\n",
    "DATA_TRAIN_PATH = 'train.csv' # TODO: download train data and supply path here \n",
    "y, tX, ids = load_csv_data(DATA_TRAIN_PATH)"
   ]
  },
  {
   "cell_type": "code",
   "execution_count": 2,
   "metadata": {},
   "outputs": [
    {
     "name": "stdout",
     "output_type": "stream",
     "text": [
      "[ 1. -1. -1. ...  1. -1. -1.]\n",
      "----------------------------------\n",
      "[[ 138.47    51.655   97.827 ...    1.24    -2.475  113.497]\n",
      " [ 160.937   68.768  103.235 ... -999.    -999.      46.226]\n",
      " [-999.     162.172  125.953 ... -999.    -999.      44.251]\n",
      " ...\n",
      " [ 105.457   60.526   75.839 ... -999.    -999.      41.992]\n",
      " [  94.951   19.362   68.812 ... -999.    -999.       0.   ]\n",
      " [-999.      72.756   70.831 ... -999.    -999.       0.   ]]\n",
      "----------------------------------\n",
      "[100000 100001 100002 ... 349997 349998 349999]\n"
     ]
    }
   ],
   "source": [
    "print(y)\n",
    "print('----------------------------------')\n",
    "print(tX)\n",
    "print('----------------------------------')\n",
    "print(ids)"
   ]
  },
  {
   "cell_type": "code",
   "execution_count": 99,
   "metadata": {},
   "outputs": [],
   "source": [
    "# Not needed, why ?\n",
    "# tx = np.insert(tX, 0, 1, axis=1)"
   ]
  },
  {
   "cell_type": "markdown",
   "metadata": {},
   "source": [
    "## Cleaning the data\n",
    "There seems to be quiet a few incorrect values \"-999\", for now we'll set these equal to the average of their respective column."
   ]
  },
  {
   "cell_type": "code",
   "execution_count": 4,
   "metadata": {},
   "outputs": [
    {
     "data": {
      "text/plain": [
       "array([[138.47 ,  51.655,  97.827, ...,   1.24 ,  -2.475, 113.497],\n",
       "       [160.937,  68.768, 103.235, ...,     nan,     nan,  46.226],\n",
       "       [    nan, 162.172, 125.953, ...,     nan,     nan,  44.251],\n",
       "       ...,\n",
       "       [105.457,  60.526,  75.839, ...,     nan,     nan,  41.992],\n",
       "       [ 94.951,  19.362,  68.812, ...,     nan,     nan,   0.   ],\n",
       "       [    nan,  72.756,  70.831, ...,     nan,     nan,   0.   ]])"
      ]
     },
     "execution_count": 4,
     "metadata": {},
     "output_type": "execute_result"
    }
   ],
   "source": [
    "tx_ = np.where(tX==-999, np.nan, tX)\n",
    "tx_"
   ]
  },
  {
   "cell_type": "code",
   "execution_count": 6,
   "metadata": {},
   "outputs": [],
   "source": [
    "for i in range(0, 30):\n",
    "    tX[:,i] = np.where(tX[:,i]==-999, np.nanmean(tx_[:,i]), tx_[:,i])"
   ]
  },
  {
   "cell_type": "code",
   "execution_count": 7,
   "metadata": {},
   "outputs": [
    {
     "data": {
      "text/plain": [
       "array([[138.5,  51.7,  97.8, ...,   1.2,  -2.5, 113.5],\n",
       "       [160.9,  68.8, 103.2, ...,  -0. ,  -0. ,  46.2],\n",
       "       [121.9, 162.2, 126. , ...,  -0. ,  -0. ,  44.3],\n",
       "       ...,\n",
       "       [105.5,  60.5,  75.8, ...,  -0. ,  -0. ,  42. ],\n",
       "       [ 95. ,  19.4,  68.8, ...,  -0. ,  -0. ,   0. ],\n",
       "       [121.9,  72.8,  70.8, ...,  -0. ,  -0. ,   0. ]])"
      ]
     },
     "execution_count": 7,
     "metadata": {},
     "output_type": "execute_result"
    }
   ],
   "source": [
    "np.around(tX, 1)"
   ]
  },
  {
   "cell_type": "markdown",
   "metadata": {},
   "source": [
    "## Testing the functions\n",
    "Everything goes into implementations.py."
   ]
  },
  {
   "cell_type": "code",
   "execution_count": 17,
   "metadata": {},
   "outputs": [],
   "source": [
    "%run implementations.py"
   ]
  },
  {
   "cell_type": "code",
   "execution_count": 22,
   "metadata": {},
   "outputs": [],
   "source": [
    "weights_LS = least_squares(y, tX)[1]"
   ]
  },
  {
   "cell_type": "code",
   "execution_count": 24,
   "metadata": {},
   "outputs": [],
   "source": [
    "weights_LSGD1 = least_squares_GD(y, tX, np.zeros(30), 100, 0.000001)[1]\n",
    "\n",
    "# THIS CONVERGES INTO A LOCAL MINIMUM, solution: Dynamic Step Size ?"
   ]
  },
  {
   "cell_type": "code",
   "execution_count": 109,
   "metadata": {},
   "outputs": [
    {
     "data": {
      "text/plain": [
       "array([-1.15430619e+00,  1.82642973e-04, -7.20671861e-03, -6.45384287e-03,\n",
       "       -1.73132964e-05,  2.32665198e-02,  4.20385733e-04,  2.50304348e-03,\n",
       "        3.60203545e-01, -1.26385382e-03, -2.84568774e+00, -2.22719927e-01,\n",
       "        9.89163555e-02,  3.56752661e-01,  2.85396180e+00, -6.42020722e-04,\n",
       "       -4.57219112e-04,  2.85879539e+00, -6.80776738e-04,  1.38605239e-03,\n",
       "        3.15125411e-03,  5.15272240e-04, -3.71557781e-04,  4.27220741e-02,\n",
       "       -1.01225793e-03,  4.70620273e-04,  1.34341503e-04, -2.12423048e-03,\n",
       "        1.42389540e-03, -1.78105047e-03,  2.84577828e+00])"
      ]
     },
     "execution_count": 109,
     "metadata": {},
     "output_type": "execute_result"
    }
   ],
   "source": [
    "weights_LSGD2 = least_squares_GD(y, tX, [-1.15430619e+00,  1.82637143e-04, -7.20672107e-03, -6.45384640e-03,\n",
    "        -1.73123839e-05,  2.32665195e-02,  4.20381986e-04,  2.50304362e-03,\n",
    "         3.60203545e-01, -1.26385429e-03, -2.84568774e+00, -2.22719927e-01,\n",
    "         9.89163555e-02,  3.56752661e-01,  2.85396180e+00, -6.42020723e-04,\n",
    "        -4.57219107e-04,  2.85879539e+00, -6.80776737e-04,  1.38605239e-03,\n",
    "         3.15125355e-03,  5.15272243e-04, -3.71558734e-04,  4.27220740e-02,\n",
    "        -1.01225645e-03,  4.70620275e-04,  1.34341503e-04, -2.12423006e-03,\n",
    "         1.42389540e-03, -1.78105047e-03,  2.84577828e+00], 100, 0.000001)[1]\n",
    "\n",
    "# IT STAYS IN THE ABSOLUTE MINIMUM WHEN USING THAT AS A STARTING POINT"
   ]
  },
  {
   "cell_type": "code",
   "execution_count": 26,
   "metadata": {
    "scrolled": true
   },
   "outputs": [],
   "source": [
    "weights_LSSGD = least_squares_SGD(y, tX, np.zeros(30), 100, 0.000001)[1]"
   ]
  },
  {
   "cell_type": "markdown",
   "metadata": {},
   "source": [
    "## Generate predictions and save ouput in csv format for submission:"
   ]
  },
  {
   "cell_type": "code",
   "execution_count": 21,
   "metadata": {},
   "outputs": [],
   "source": [
    "DATA_TEST_PATH = 'test.csv'\n",
    "_, tX_test, ids_test = load_csv_data(DATA_TEST_PATH)"
   ]
  },
  {
   "cell_type": "code",
   "execution_count": 29,
   "metadata": {},
   "outputs": [
    {
     "name": "stdout",
     "output_type": "stream",
     "text": [
      "(30,)\n"
     ]
    },
    {
     "ename": "OSError",
     "evalue": "[Errno 22] Invalid argument: 'submission2019-10-03 10:49:54.013337'",
     "output_type": "error",
     "traceback": [
      "\u001b[1;31m---------------------------------------------------------------------------\u001b[0m",
      "\u001b[1;31mOSError\u001b[0m                                   Traceback (most recent call last)",
      "\u001b[1;32m<ipython-input-29-bf80f27539bb>\u001b[0m in \u001b[0;36m<module>\u001b[1;34m\u001b[0m\n\u001b[0;32m      4\u001b[0m \u001b[0mprint\u001b[0m\u001b[1;33m(\u001b[0m\u001b[0mweights\u001b[0m\u001b[1;33m.\u001b[0m\u001b[0mshape\u001b[0m\u001b[1;33m)\u001b[0m\u001b[1;33m\u001b[0m\u001b[1;33m\u001b[0m\u001b[0m\n\u001b[0;32m      5\u001b[0m \u001b[0my_pred\u001b[0m \u001b[1;33m=\u001b[0m \u001b[0mpredict_labels\u001b[0m\u001b[1;33m(\u001b[0m\u001b[0mweights_LSSGD\u001b[0m\u001b[1;33m,\u001b[0m \u001b[0mtX_test\u001b[0m\u001b[1;33m)\u001b[0m\u001b[1;33m\u001b[0m\u001b[1;33m\u001b[0m\u001b[0m\n\u001b[1;32m----> 6\u001b[1;33m \u001b[0mcreate_csv_submission\u001b[0m\u001b[1;33m(\u001b[0m\u001b[0mids_test\u001b[0m\u001b[1;33m,\u001b[0m \u001b[0my_pred\u001b[0m\u001b[1;33m,\u001b[0m \u001b[0mOUTPUT_PATH\u001b[0m\u001b[1;33m)\u001b[0m\u001b[1;33m\u001b[0m\u001b[1;33m\u001b[0m\u001b[0m\n\u001b[0m",
      "\u001b[1;32m~\\Documents\\GitHub\\ML\\proj1_helpers.py\u001b[0m in \u001b[0;36mcreate_csv_submission\u001b[1;34m(ids, y_pred, name)\u001b[0m\n\u001b[0;32m     41\u001b[0m                \u001b[0mname\u001b[0m \u001b[1;33m(\u001b[0m\u001b[0mstring\u001b[0m \u001b[0mname\u001b[0m \u001b[0mof\u001b[0m \u001b[1;33m.\u001b[0m\u001b[0mcsv\u001b[0m \u001b[0moutput\u001b[0m \u001b[0mfile\u001b[0m \u001b[0mto\u001b[0m \u001b[0mbe\u001b[0m \u001b[0mcreated\u001b[0m\u001b[1;33m)\u001b[0m\u001b[1;33m\u001b[0m\u001b[1;33m\u001b[0m\u001b[0m\n\u001b[0;32m     42\u001b[0m     \"\"\"\n\u001b[1;32m---> 43\u001b[1;33m     \u001b[1;32mwith\u001b[0m \u001b[0mopen\u001b[0m\u001b[1;33m(\u001b[0m\u001b[0mname\u001b[0m\u001b[1;33m,\u001b[0m \u001b[1;34m'w'\u001b[0m\u001b[1;33m)\u001b[0m \u001b[1;32mas\u001b[0m \u001b[0mcsvfile\u001b[0m\u001b[1;33m:\u001b[0m\u001b[1;33m\u001b[0m\u001b[1;33m\u001b[0m\u001b[0m\n\u001b[0m\u001b[0;32m     44\u001b[0m         \u001b[0mfieldnames\u001b[0m \u001b[1;33m=\u001b[0m \u001b[1;33m[\u001b[0m\u001b[1;34m'Id'\u001b[0m\u001b[1;33m,\u001b[0m \u001b[1;34m'Prediction'\u001b[0m\u001b[1;33m]\u001b[0m\u001b[1;33m\u001b[0m\u001b[1;33m\u001b[0m\u001b[0m\n\u001b[0;32m     45\u001b[0m         \u001b[0mwriter\u001b[0m \u001b[1;33m=\u001b[0m \u001b[0mcsv\u001b[0m\u001b[1;33m.\u001b[0m\u001b[0mDictWriter\u001b[0m\u001b[1;33m(\u001b[0m\u001b[0mcsvfile\u001b[0m\u001b[1;33m,\u001b[0m \u001b[0mdelimiter\u001b[0m\u001b[1;33m=\u001b[0m\u001b[1;34m\",\"\u001b[0m\u001b[1;33m,\u001b[0m \u001b[0mfieldnames\u001b[0m\u001b[1;33m=\u001b[0m\u001b[0mfieldnames\u001b[0m\u001b[1;33m)\u001b[0m\u001b[1;33m\u001b[0m\u001b[1;33m\u001b[0m\u001b[0m\n",
      "\u001b[1;31mOSError\u001b[0m: [Errno 22] Invalid argument: 'submission2019-10-03 10:49:54.013337'"
     ]
    }
   ],
   "source": [
    "time = datetime.datetime.now().hour\n",
    "\n",
    "OUTPUT_PATH = 'submission'+str(time)+\".csv\"\n",
    "print(weights.shape)\n",
    "y_pred = predict_labels(weights_LSSGD, tX_test)\n",
    "create_csv_submission(ids_test, y_pred, OUTPUT_PATH)"
   ]
  },
  {
   "cell_type": "code",
   "execution_count": null,
   "metadata": {},
   "outputs": [],
   "source": []
  }
 ],
 "metadata": {
  "anaconda-cloud": {},
  "kernelspec": {
   "display_name": "Python 3",
   "language": "python",
   "name": "python3"
  },
  "language_info": {
   "codemirror_mode": {
    "name": "ipython",
    "version": 3
   },
   "file_extension": ".py",
   "mimetype": "text/x-python",
   "name": "python",
   "nbconvert_exporter": "python",
   "pygments_lexer": "ipython3",
   "version": "3.7.3"
  }
 },
 "nbformat": 4,
 "nbformat_minor": 1
}
