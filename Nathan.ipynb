{
 "cells": [
  {
   "cell_type": "code",
   "execution_count": 1,
   "metadata": {},
   "outputs": [],
   "source": [
    "# Useful starting lines\n",
    "%matplotlib inline\n",
    "import numpy as np\n",
    "import matplotlib.pyplot as plt\n",
    "import datetime\n",
    "import copy\n",
    "%load_ext autoreload\n",
    "%autoreload 2"
   ]
  },
  {
   "cell_type": "code",
   "execution_count": 2,
   "metadata": {},
   "outputs": [],
   "source": [
    "%run proj1_helpers.py\n",
    "%run implementations.py"
   ]
  },
  {
   "cell_type": "code",
   "execution_count": 3,
   "metadata": {},
   "outputs": [],
   "source": [
    "DATA_TRAIN_PATH = 'train.csv' # TODO: download train data and supply path here \n",
    "y, tX, ids = load_csv_data(DATA_TRAIN_PATH)"
   ]
  },
  {
   "cell_type": "markdown",
   "metadata": {},
   "source": [
    "## preprocessing"
   ]
  },
  {
   "cell_type": "code",
   "execution_count": 4,
   "metadata": {},
   "outputs": [
    {
     "name": "stdout",
     "output_type": "stream",
     "text": [
      "[[   1.     138.47    51.655 ...    1.24    -2.475  113.497]\n",
      " [  -1.     160.937   68.768 ... -999.    -999.      46.226]\n",
      " [  -1.    -999.     162.172 ... -999.    -999.      44.251]\n",
      " ...\n",
      " [   1.     105.457   60.526 ... -999.    -999.      41.992]\n",
      " [  -1.      94.951   19.362 ... -999.    -999.       0.   ]\n",
      " [  -1.    -999.      72.756 ... -999.    -999.       0.   ]]\n"
     ]
    }
   ],
   "source": [
    "# Im merging X & Y so that I don't have to store indices in a seperate variable when shuffling\n",
    "Y = np.reshape(y,(250000,1))\n",
    "X = np.append(Y, tX, axis=1)\n",
    "print(X)"
   ]
  },
  {
   "cell_type": "code",
   "execution_count": 5,
   "metadata": {},
   "outputs": [
    {
     "name": "stdout",
     "output_type": "stream",
     "text": [
      "(99913, 31)\n",
      "(77544, 31)\n",
      "(50379, 31)\n",
      "(22164, 31)\n"
     ]
    }
   ],
   "source": [
    "# splitting the data set\n",
    "X_0 = X[X[:,23]==0]\n",
    "print(X_0.shape)\n",
    "X_1 = X[X[:,23]==1]\n",
    "print(X_1.shape)\n",
    "X_2 = X[X[:,23]==2]\n",
    "print(X_2.shape)\n",
    "X_3 = X[X[:,23]==3]\n",
    "print(X_3.shape)"
   ]
  },
  {
   "cell_type": "code",
   "execution_count": 6,
   "metadata": {},
   "outputs": [
    {
     "name": "stdout",
     "output_type": "stream",
     "text": [
      "(72543, 31)\n"
     ]
    }
   ],
   "source": [
    "# merging 2 & 3\n",
    "X_2_3 = np.concatenate((X_2, X_3), axis=0)\n",
    "print(X_2_3.shape)"
   ]
  },
  {
   "cell_type": "code",
   "execution_count": 7,
   "metadata": {},
   "outputs": [],
   "source": [
    "# remove useless constants/making sure the matrix isn't singular\n",
    "X_0 = np.delete(X_0, 23, 1)\n",
    "X_1 = np.delete(X_1, 23, 1)"
   ]
  },
  {
   "cell_type": "code",
   "execution_count": 8,
   "metadata": {},
   "outputs": [
    {
     "name": "stdout",
     "output_type": "stream",
     "text": [
      "[False False False False False  True  True  True False False False False\n",
      " False  True False False False False False False False False False  True\n",
      "  True  True  True  True  True False]\n",
      "(30,)\n"
     ]
    }
   ],
   "source": [
    "# remove the -999 colums\n",
    "where = np.array([np.all(X_0[:,i]==-999) for i in range(0, 30)])\n",
    "print(where)\n",
    "print(where.shape)"
   ]
  },
  {
   "cell_type": "code",
   "execution_count": 9,
   "metadata": {},
   "outputs": [
    {
     "name": "stdout",
     "output_type": "stream",
     "text": [
      "[5, 6, 7, 13, 23, 24, 25, 26, 27, 28]\n"
     ]
    }
   ],
   "source": [
    "remove = [i for i in range(0,30) if where[i]==True]\n",
    "print(remove)"
   ]
  },
  {
   "cell_type": "code",
   "execution_count": 10,
   "metadata": {},
   "outputs": [],
   "source": [
    "X_0 = np.delete(X_0, remove, 1)"
   ]
  },
  {
   "cell_type": "code",
   "execution_count": 11,
   "metadata": {},
   "outputs": [],
   "source": [
    "# Last column in X_0 are all zeros for some reason \n",
    "X_0 = np.delete(X_0, 19, 1)"
   ]
  },
  {
   "cell_type": "code",
   "execution_count": 12,
   "metadata": {},
   "outputs": [
    {
     "name": "stdout",
     "output_type": "stream",
     "text": [
      "(99913, 19)\n",
      "(77544, 23)\n",
      "(72543, 31)\n"
     ]
    }
   ],
   "source": [
    "where = np.array([np.all(X_1[:,i]==-999) for i in range(0, 30)])\n",
    "remove = [i for i in range(0,30) if where[i]==True]\n",
    "X_1 = np.delete(X_1, remove, 1)\n",
    "\n",
    "print(X_0.shape)\n",
    "print(X_1.shape)\n",
    "print(X_2_3.shape)"
   ]
  },
  {
   "cell_type": "code",
   "execution_count": 13,
   "metadata": {},
   "outputs": [],
   "source": [
    "# replace the remaining -999 in first column by median\n",
    "X_0 = np.where(X_0==-999, np.nan, X_0)\n",
    "X_1 = np.where(X_1==-999, np.nan, X_1)\n",
    "X_2_3 = np.where(X_2_3==-999, np.nan, X_2_3)"
   ]
  },
  {
   "cell_type": "code",
   "execution_count": 14,
   "metadata": {
    "scrolled": true
   },
   "outputs": [
    {
     "name": "stdout",
     "output_type": "stream",
     "text": [
      "111.452\n",
      "112.4055\n",
      "113.23\n"
     ]
    }
   ],
   "source": [
    "median = np.nanmedian(X_0[:,1])\n",
    "print(median)\n",
    "X_0[np.isnan(X_0[:,1]),1]=median\n",
    "\n",
    "median = np.nanmedian(X_1[:,1])\n",
    "print(median)\n",
    "X_1[np.isnan(X_1[:,1]),1]=median\n",
    "\n",
    "median = np.nanmedian(X_2_3[:,1])\n",
    "print(median)\n",
    "X_2_3[np.isnan(X_2_3[:,1]),1]=median"
   ]
  },
  {
   "cell_type": "code",
   "execution_count": 15,
   "metadata": {},
   "outputs": [],
   "source": [
    "# splitting the data without cross-validation\n",
    "np.random.seed(1)\n",
    "\n",
    "np.random.shuffle(X_0)\n",
    "np.random.shuffle(X_1)\n",
    "np.random.shuffle(X_2_3)\n",
    "\n",
    "\n",
    "X_0_t = X_0[:-100, 1:]\n",
    "X_0_v = X_0[-100:, 1:]\n",
    "\n",
    "X_1_t = X_1[:-100, 1:]\n",
    "X_1_v = X_1[-100:, 1:]\n",
    "\n",
    "X_2_3_t = X_2_3[:-100, 1:]\n",
    "X_2_3_v = X_2_3[-100:, 1:]"
   ]
  },
  {
   "cell_type": "code",
   "execution_count": 16,
   "metadata": {},
   "outputs": [],
   "source": [
    "# seperating X & Y again after shuffle\n",
    "Y_0_t = X_0[:-100, 0]\n",
    "Y_0_v = X_0[-100:, 0]\n",
    "\n",
    "Y_1_t = X_1[:-100, 0]\n",
    "Y_1_v = X_1[-100:, 0]\n",
    "\n",
    "Y_2_3_t = X_2_3[:-100, 0]\n",
    "Y_2_3_v = X_2_3[-100:, 0]"
   ]
  },
  {
   "cell_type": "markdown",
   "metadata": {},
   "source": [
    "## Used function"
   ]
  },
  {
   "cell_type": "code",
   "execution_count": 17,
   "metadata": {},
   "outputs": [],
   "source": [
    "def build_3D_poly(x, degree):\n",
    "    phi = np.zeros((x.shape[0],x.shape[1],degree))\n",
    "    for i in range(1,degree+1):\n",
    "        phi[:,:,i-1] = x**i\n",
    "    return phi"
   ]
  },
  {
   "cell_type": "code",
   "execution_count": 18,
   "metadata": {},
   "outputs": [],
   "source": [
    "def build_poly(x, degree):\n",
    "    phi = build_3D_poly(x, degree)\n",
    "    Phi = phi[:,:,0]\n",
    "    for i in range(1, degree):\n",
    "        Phi = np.concatenate((Phi, phi[:,:,i]), axis = 1)\n",
    "    \n",
    "    return Phi"
   ]
  },
  {
   "cell_type": "code",
   "execution_count": 19,
   "metadata": {},
   "outputs": [],
   "source": [
    "def least_squares(y, x):\n",
    "    \"\"\"calculate the least squares solution.\"\"\"\n",
    "    Gram = np.dot(np.transpose(x), x)    \n",
    "    ws = np.dot(np.linalg.inv(Gram), np.dot(np.transpose(x), y))\n",
    "    return ws"
   ]
  },
  {
   "cell_type": "code",
   "execution_count": 20,
   "metadata": {},
   "outputs": [],
   "source": [
    "def predict_labels(weights, data):\n",
    "    \"\"\"Generates class predictions given weights, and a test data matrix\"\"\"\n",
    "    y_pred = np.dot(data, weights)\n",
    "    y_pred[np.where(y_pred <= 0)] = -1\n",
    "    y_pred[np.where(y_pred > 0)] = 1\n",
    "    return y_pred"
   ]
  },
  {
   "cell_type": "code",
   "execution_count": 21,
   "metadata": {},
   "outputs": [],
   "source": [
    "def accuracy(y_pred, y_real):\n",
    "    return str(sum([1 for i in range(0, len(y_pred)) if y_pred[i]==y_real[i]])/len(y_pred)*100)+' %'"
   ]
  },
  {
   "cell_type": "markdown",
   "metadata": {},
   "source": [
    "## Results"
   ]
  },
  {
   "cell_type": "code",
   "execution_count": 22,
   "metadata": {},
   "outputs": [
    {
     "name": "stdout",
     "output_type": "stream",
     "text": [
      "training accuracy: 82.14360854798474 %\n"
     ]
    }
   ],
   "source": [
    "X_0_t_3 = build_poly(X_0_t, 3)\n",
    "ws = least_squares(Y_0_t, X_0_t_3)\n",
    "y_pred = predict_labels(ws, X_0_t_3)\n",
    "print('training accuracy: '+accuracy(y_pred, Y_0_t))"
   ]
  },
  {
   "cell_type": "code",
   "execution_count": 23,
   "metadata": {},
   "outputs": [
    {
     "name": "stdout",
     "output_type": "stream",
     "text": [
      "validation accuracy: 79.0 %\n"
     ]
    }
   ],
   "source": [
    "X_0_v_3 = build_poly(X_0_v, 3)\n",
    "y_pred = predict_labels(ws, X_0_v_3)\n",
    "print('validation accuracy: '+accuracy(y_pred, Y_0_v))"
   ]
  }
 ],
 "metadata": {
  "kernelspec": {
   "display_name": "Python 3",
   "language": "python",
   "name": "python3"
  },
  "language_info": {
   "codemirror_mode": {
    "name": "ipython",
    "version": 3
   },
   "file_extension": ".py",
   "mimetype": "text/x-python",
   "name": "python",
   "nbconvert_exporter": "python",
   "pygments_lexer": "ipython3",
   "version": "3.7.3"
  }
 },
 "nbformat": 4,
 "nbformat_minor": 2
}
