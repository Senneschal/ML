{
 "cells": [
  {
   "cell_type": "markdown",
   "metadata": {},
   "source": [
    "# Basic models\n",
    "## Loading data"
   ]
  },
  {
   "cell_type": "code",
   "execution_count": 2,
   "metadata": {},
   "outputs": [],
   "source": [
    "# Useful starting lines\n",
    "%matplotlib inline\n",
    "import numpy as np\n",
    "import matplotlib.pyplot as plt\n",
    "import datetime\n",
    "import copy\n",
    "%load_ext autoreload\n",
    "%autoreload 2"
   ]
  },
  {
   "cell_type": "code",
   "execution_count": 3,
   "metadata": {},
   "outputs": [],
   "source": [
    "%run proj1_helpers.py\n",
    "%run implementations.py"
   ]
  },
  {
   "cell_type": "code",
   "execution_count": 4,
   "metadata": {},
   "outputs": [],
   "source": [
    "DATA_TRAIN_PATH = 'train.csv' # TODO: download train data and supply path here \n",
    "y, tX, ids = load_csv_data(DATA_TRAIN_PATH)\n",
    "tx = copy.deepcopy(tX)"
   ]
  },
  {
   "cell_type": "markdown",
   "metadata": {},
   "source": [
    "## Cleaning data"
   ]
  },
  {
   "cell_type": "code",
   "execution_count": 5,
   "metadata": {},
   "outputs": [],
   "source": [
    "tx = np.where(tx==-999, np.nan, tx) # replace -999 value with nan"
   ]
  },
  {
   "cell_type": "code",
   "execution_count": 6,
   "metadata": {},
   "outputs": [],
   "source": [
    "col_mean = np.nanmean(tx, axis=0)\n",
    "inds_nan = np.where(np.isnan(tx))\n",
    "tx[inds_nan] = np.take(col_mean, inds_nan[1])"
   ]
  },
  {
   "cell_type": "code",
   "execution_count": 200,
   "metadata": {},
   "outputs": [],
   "source": [
    "#CELL NOT USED\n",
    "tx_stand,_,_ = standardize(tx)"
   ]
  },
  {
   "cell_type": "code",
   "execution_count": 201,
   "metadata": {},
   "outputs": [],
   "source": [
    "#CELL NOT USED\n",
    "tx = np.insert(tx, 0, 1, axis=1)\n",
    "tx_stand = np.insert(tx_stand, 0, 1, axis=1)"
   ]
  },
  {
   "cell_type": "markdown",
   "metadata": {},
   "source": [
    "## Split data"
   ]
  },
  {
   "cell_type": "code",
   "execution_count": 255,
   "metadata": {},
   "outputs": [],
   "source": [
    "#CELL NOT USED\n",
    "ratio_train_test = 0.8\n",
    "x_train, y_train, x_test, y_test = split_data(tx_stand, y, ratio_train_test, seed=1)\n",
    "x_train_ns, y_train_ns, x_test_ns, y_test_ns = split_data(tx, y, ratio_train_test, seed=1)"
   ]
  },
  {
   "cell_type": "code",
   "execution_count": 295,
   "metadata": {},
   "outputs": [],
   "source": [
    "##CELL NOT USED\n",
    "ratio_train_test = 0.8\n",
    "x_train, y_train, x_test, y_test = split_data(tx, y, ratio_train_test, seed=1234)\n",
    "x_train_ns, y_train_ns, x_test_ns, y_test_ns = split_data(tx, y, ratio_train_test, seed=1234)"
   ]
  },
  {
   "cell_type": "code",
   "execution_count": 296,
   "metadata": {},
   "outputs": [],
   "source": [
    "##CELL NOT USED\n",
    "x_train,_,_ = standardize(copy.deepcopy(x_train))\n",
    "x_train = np.insert(x_train, 0, 1, axis=1)\n",
    "x_test,_,_ = standardize(copy.deepcopy(x_test))\n",
    "x_test = np.insert(x_test, 0, 1, axis=1)\n",
    "x_train_ns = np.insert(x_train_ns, 0, 1, axis=1)\n",
    "x_test_ns = np.insert(x_test_ns, 0, 1, axis=1)"
   ]
  },
  {
   "cell_type": "markdown",
   "metadata": {},
   "source": [
    "## Cross-validation"
   ]
  },
  {
   "cell_type": "code",
   "execution_count": 7,
   "metadata": {},
   "outputs": [],
   "source": [
    "#Divide the data into 5 parts\n",
    "num_folds = 5\n",
    "shuffled_indices = np.arange(tx.shape[0])\n",
    "np.random.seed(1)\n",
    "np.random.shuffle(shuffled_indices)\n",
    "folds_indices = np.array_split(shuffled_indices, num_folds)\n",
    "x_folds = []\n",
    "y_folds = []\n",
    "for fold in folds_indices:\n",
    "    x_folds.append(tx[fold])\n",
    "    y_folds.append(y[fold])"
   ]
  },
  {
   "cell_type": "code",
   "execution_count": 8,
   "metadata": {},
   "outputs": [],
   "source": [
    "# Put those parts together to make 5 train/test splits\n",
    "x_train = []\n",
    "x_test = []\n",
    "x_train_ns = []\n",
    "x_test_ns = []\n",
    "y_train = []\n",
    "y_test = []\n",
    "for i in range(num_folds):\n",
    "    x_test_ns.append(x_folds[i])\n",
    "    y_test.append(y_folds[i])\n",
    "    indices = [j for j in range(num_folds) if j != i]\n",
    "    x_train_ns.append(np.concatenate([x_folds[j] for j in indices]))\n",
    "    y_train.append(np.concatenate([y_folds[j] for j in indices]))\n",
    "    #standardize\n",
    "    x_train.append(standardize(copy.deepcopy(x_train_ns[i]))[0])\n",
    "    x_test.append(standardize(copy.deepcopy(x_test_ns[i]))[0])\n",
    "    #insert column of ones\n",
    "    x_train_ns[i] = np.insert(x_train_ns[i], 0, 1, axis=1)\n",
    "    x_test_ns[i] = np.insert(x_test_ns[i], 0, 1, axis=1)\n",
    "    x_train[i] = np.insert(x_train[i], 0, 1, axis=1)\n",
    "    x_test[i] = np.insert(x_test[i], 0, 1, axis=1)"
   ]
  },
  {
   "cell_type": "markdown",
   "metadata": {},
   "source": [
    "## Linear Regression with Gradient Descent"
   ]
  },
  {
   "cell_type": "code",
   "execution_count": 9,
   "metadata": {},
   "outputs": [
    {
     "name": "stdout",
     "output_type": "stream",
     "text": [
      "Categorical accuracy train :  [0.70101, 0.70141, 0.70037, 0.70119, 0.70122]  || f1_score train:  [0.30688547350064127, 0.3068926400623064, 0.30511347265300587, 0.3058169774080694, 0.3063047804547572]\n",
      "Categorical accuracy test :  [0.70098, 0.69896, 0.70346, 0.70072, 0.7006]  || f1_score test:  [0.3048548955790616, 0.3047974232920834, 0.30732252276651206, 0.3068926400623064, 0.306577253945675]\n",
      "Categorical accuracy train mean:  0.7010400000000001  stdev:  0.00035821781083578065\n",
      "Categorical accuracy test mean:  0.700944  stdev:  0.0014447366542037871\n"
     ]
    }
   ],
   "source": [
    "cat_accuracies_train = []\n",
    "cat_accuracies_test = []\n",
    "f1_scores_train = []\n",
    "f1_scores_test = []\n",
    "for i in range(num_folds):\n",
    "    weights_LSGD1 = least_squares_GD(y_train[i], x_train[i], np.zeros(31), 100, 0.000001)[0]\n",
    "    cat_accuracy_train, f1_score_train = metrics(y_train[i], predict_labels(weights_LSGD1, x_train[i]))\n",
    "    cat_accuracy_test, f1_score_test = metrics(y_test[i], predict_labels(weights_LSGD1, x_test[i]))\n",
    "    cat_accuracies_train.append(cat_accuracy_train)\n",
    "    cat_accuracies_test.append(cat_accuracy_test)\n",
    "    f1_scores_train.append(f1_score_train)\n",
    "    f1_scores_test.append(f1_score_test)\n",
    "\n",
    "print(\"Categorical accuracy train : \",cat_accuracies_train,\" || f1_score train: \",f1_scores_train)\n",
    "print(\"Categorical accuracy test : \",cat_accuracies_test,\" || f1_score test: \",f1_scores_test)\n",
    "print(\"Categorical accuracy train mean: \",np.mean(cat_accuracies_train), \" stdev: \", np.std(cat_accuracies_train))\n",
    "print(\"Categorical accuracy test mean: \",np.mean(cat_accuracies_test), \" stdev: \", np.std(cat_accuracies_test))"
   ]
  },
  {
   "cell_type": "code",
   "execution_count": 10,
   "metadata": {},
   "outputs": [],
   "source": [
    "def least_squares_GD_cv(y, x, test_y, test_x, w_i, max_iter, gamma):\n",
    "    cat_accuracies_train = []\n",
    "    cat_accuracies_test = []\n",
    "    f1_scores_train = []\n",
    "    f1_scores_test = []\n",
    "    for i in range(num_folds):\n",
    "        weights_LSGD1 = least_squares_GD(y[i], x[i], w_i, max_iter, gamma)[0]\n",
    "        cat_accuracy_train, f1_score_train = metrics(y[i], predict_labels(weights_LSGD1, x[i]))\n",
    "        cat_accuracy_test, f1_score_test = metrics(test_y[i], predict_labels(weights_LSGD1, test_x[i]))\n",
    "        cat_accuracies_train.append(cat_accuracy_train)\n",
    "        cat_accuracies_test.append(cat_accuracy_test)\n",
    "        f1_scores_train.append(f1_score_train)\n",
    "        f1_scores_test.append(f1_score_test)\n",
    "    return cat_accuracies_train, cat_accuracies_test"
   ]
  },
  {
   "cell_type": "code",
   "execution_count": 11,
   "metadata": {},
   "outputs": [
    {
     "name": "stdout",
     "output_type": "stream",
     "text": [
      "Gamma: 1e-06 || Categorical accuracy train : ( 0.7010400000000001 ,  0.00035821781083578065 )\n",
      "Gamma: 1e-06 || Categorical accuracy test : ( 0.700944 ,  0.0014447366542037871 )\n",
      "Gamma: 1e-05 || Categorical accuracy train : ( 0.70108 ,  0.00036297382825763023 )\n",
      "Gamma: 1e-05 || Categorical accuracy test : ( 0.7009559999999999 ,  0.0014701510126514169 )\n",
      "Gamma: 0.0001 || Categorical accuracy train : ( 0.7015100000000001 ,  0.00044707941129065265 )\n",
      "Gamma: 0.0001 || Categorical accuracy test : ( 0.7015 ,  0.0015816447135814059 )\n",
      "Gamma: 0.001 || Categorical accuracy train : ( 0.705468 ,  0.00039593686365378835 )\n",
      "Gamma: 0.001 || Categorical accuracy test : ( 0.705444 ,  0.0012901100728232213 )\n",
      "Gamma: 0.01 || Categorical accuracy train : ( 0.7248060000000001 ,  0.000568545512690078 )\n",
      "Gamma: 0.01 || Categorical accuracy test : ( 0.7247679999999999 ,  0.0022847179256967293 )\n",
      "Gamma: 0.05 || Categorical accuracy train : ( 0.7369410000000001 ,  0.0006012769744468879 )\n",
      "Gamma: 0.05 || Categorical accuracy test : ( 0.7368119999999999 ,  0.001534697364303452 )\n",
      "Gamma: 0.1 || Categorical accuracy train : ( 0.741298 ,  0.000623158085881919 )\n",
      "Gamma: 0.1 || Categorical accuracy test : ( 0.7413000000000001 ,  0.0014985326155943159 )\n",
      "Gamma: 0.2 || Categorical accuracy train : ( 0.743668 ,  0.0005563775696413109 )\n",
      "Gamma: 0.2 || Categorical accuracy test : ( 0.74376 ,  0.0016420475023579525 )\n",
      "Gamma: 0.3 || Categorical accuracy train : ( 0.7442489999999999 ,  0.0005591726030484968 )\n",
      "Gamma: 0.3 || Categorical accuracy test : ( 0.744304 ,  0.0016676882202617937 )\n",
      "Gamma: 0.31 || Categorical accuracy train : ( 0.744391 ,  0.0005096802919478008 )\n",
      "Gamma: 0.31 || Categorical accuracy test : ( 0.7444879999999999 ,  0.001651985472091051 )\n",
      "Gamma: 0.32 || Categorical accuracy train : ( 0.408456 ,  0.012640530605951628 )\n",
      "Gamma: 0.32 || Categorical accuracy test : ( 0.40828800000000004 ,  0.012203983611919501 )\n",
      "Gamma: 0.33 || Categorical accuracy train : ( 0.370019 ,  0.00018268552214119994 )\n",
      "Gamma: 0.33 || Categorical accuracy test : ( 0.37006799999999995 ,  0.000614048857990957 )\n",
      "Gamma: 0.34 || Categorical accuracy train : ( 0.369943 ,  0.00018329211657896967 )\n",
      "Gamma: 0.34 || Categorical accuracy test : ( 0.369972 ,  0.000636817085197948 )\n",
      "Gamma: 0.4 || Categorical accuracy train : ( 0.36994399999999994 ,  0.0001840217378463761 )\n",
      "Gamma: 0.4 || Categorical accuracy test : ( 0.369972 ,  0.000636817085197948 )\n",
      "Gamma: 0.5 || Categorical accuracy train : ( 0.36994399999999994 ,  0.0001840217378463761 )\n",
      "Gamma: 0.5 || Categorical accuracy test : ( 0.369972 ,  0.000636817085197948 )\n",
      "[0.7010400000000001, 0.70108, 0.7015100000000001, 0.705468, 0.7248060000000001, 0.7369410000000001, 0.741298, 0.743668, 0.7442489999999999, 0.744391, 0.408456, 0.370019, 0.369943, 0.36994399999999994, 0.36994399999999994]\n",
      "[0.700944, 0.7009559999999999, 0.7015, 0.705444, 0.7247679999999999, 0.7368119999999999, 0.7413000000000001, 0.74376, 0.744304, 0.7444879999999999, 0.40828800000000004, 0.37006799999999995, 0.369972, 0.369972, 0.369972]\n",
      "[0.00035821781083578065, 0.00036297382825763023, 0.00044707941129065265, 0.00039593686365378835, 0.000568545512690078, 0.0006012769744468879, 0.000623158085881919, 0.0005563775696413109, 0.0005591726030484968, 0.0005096802919478008, 0.012640530605951628, 0.00018268552214119994, 0.00018329211657896967, 0.0001840217378463761, 0.0001840217378463761]\n",
      "[0.0014447366542037871, 0.0014701510126514169, 0.0015816447135814059, 0.0012901100728232213, 0.0022847179256967293, 0.001534697364303452, 0.0014985326155943159, 0.0016420475023579525, 0.0016676882202617937, 0.001651985472091051, 0.012203983611919501, 0.000614048857990957, 0.000636817085197948, 0.000636817085197948, 0.000636817085197948]\n"
     ]
    }
   ],
   "source": [
    "gammas = [0.000001, 0.00001, 0.0001, 0.001, 0.01, 0.05, 0.1, 0.2, 0.3, 0.31, 0.32, 0.33, 0.34, 0.4, 0.5]\n",
    "accuracies_train_mean1 = []\n",
    "accuracies_test_mean1 = []\n",
    "accuracies_train_std1 = []\n",
    "accuracies_test_std1 = []\n",
    "for gamma in gammas:\n",
    "    cat_accuracies_train, cat_accuracies_test = least_squares_GD_cv(y_train, x_train, y_test, x_test, np.zeros(31), 100, gamma)\n",
    "    \n",
    "    print(\"Gamma: \" + str(gamma) + \" || Categorical accuracy train : (\",np.mean(cat_accuracies_train),\", \", np.std(cat_accuracies_train),\")\")\n",
    "    print(\"Gamma: \" + str(gamma) + \" || Categorical accuracy test : (\",np.mean(cat_accuracies_test),\", \", np.std(cat_accuracies_test),\")\")\n",
    "    accuracies_train_mean1.append(np.mean(cat_accuracies_train))\n",
    "    accuracies_test_mean1.append(np.mean(cat_accuracies_test))\n",
    "    accuracies_train_std1.append(np.std(cat_accuracies_train))\n",
    "    accuracies_test_std1.append(np.std(cat_accuracies_test))\n",
    "    \n",
    "print(accuracies_train_mean1)\n",
    "print(accuracies_test_mean1)\n",
    "print(accuracies_train_std1)\n",
    "print(accuracies_test_std1)"
   ]
  },
  {
   "cell_type": "code",
   "execution_count": 12,
   "metadata": {},
   "outputs": [
    {
     "data": {
      "image/png": "[encoded data removed]",
      "text/plain": [
       "<Figure size 432x288 with 1 Axes>"
      ]
     },
     "metadata": {
      "needs_background": "light"
     },
     "output_type": "display_data"
    }
   ],
   "source": [
    "plt.errorbar(gammas[:], accuracies_train_mean1, yerr=accuracies_train_std1, label=\"train\")\n",
    "plt.errorbar(gammas[:], accuracies_test_mean1, yerr=accuracies_test_std1, label=\"test\")\n",
    "plt.xscale(\"log\")\n",
    "plt.xlabel(\"Gamma\")\n",
    "plt.ylabel(\"Categorical accuracy\")\n",
    "plt.title(\"Categorical accuracy for Linear Regression with Gradient Descent\")\n",
    "plt.legend()\n",
    "plt.show()"
   ]
  },
  {
   "cell_type": "code",
   "execution_count": 423,
   "metadata": {},
   "outputs": [
    {
     "data": {
      "text/plain": [
       "array([ 9.60e-05,  1.24e-04,  1.00e-05,  2.40e-05,  3.80e-05,  1.29e-04,\n",
       "       -2.00e-06, -9.20e-05, -5.50e-05, -9.70e-05,  1.68e-04, -4.90e-05,\n",
       "       -2.90e-05, -2.80e-05, -2.80e-05])"
      ]
     },
     "execution_count": 423,
     "metadata": {},
     "output_type": "execute_result"
    }
   ],
   "source": [
    "np.array(accuracies_train_mean1) - np.array(accuracies_test_mean1)"
   ]
  },
  {
   "cell_type": "code",
   "execution_count": 13,
   "metadata": {},
   "outputs": [
    {
     "data": {
      "image/png": "[encoded data removed]",
      "text/plain": [
       "<Figure size 432x288 with 1 Axes>"
      ]
     },
     "metadata": {
      "needs_background": "light"
     },
     "output_type": "display_data"
    }
   ],
   "source": [
    "plt.errorbar(gammas[:9], accuracies_train_mean1[:9], yerr=accuracies_train_std1[:9], label=\"train\")\n",
    "plt.errorbar(gammas[:9], accuracies_test_mean1[:9], yerr=accuracies_test_std1[:9], label=\"test\")\n",
    "plt.xscale(\"log\")\n",
    "plt.xlabel(\"Gamma\")\n",
    "plt.ylabel(\"Categorical accuracy\")\n",
    "plt.title(\"Categorical accuracy for Linear Regression with Gradient Descent\")\n",
    "plt.legend()\n",
    "plt.show()"
   ]
  },
  {
   "cell_type": "code",
   "execution_count": 14,
   "metadata": {},
   "outputs": [
    {
     "name": "stdout",
     "output_type": "stream",
     "text": [
      "Best performance: gamma  0.31 , train accuracy:  0.744391 , test accuracy:  0.744391 , std:  0.0005096802919478008\n"
     ]
    }
   ],
   "source": [
    "print(\"Best performance: gamma \", gammas[np.argmax(accuracies_train_mean1)], \", train accuracy: \", accuracies_train_mean1[np.argmax(accuracies_train_mean1)], \", test accuracy: \", accuracies_train_mean1[np.argmax(accuracies_train_mean1)], \", std: \", accuracies_train_std1[np.argmax(accuracies_train_mean1)])"
   ]
  },
  {
   "cell_type": "code",
   "execution_count": 48,
   "metadata": {},
   "outputs": [
    {
     "name": "stdout",
     "output_type": "stream",
     "text": [
      "Wall time: 931 ms\n",
      "[-3.13130000e-01  7.08601533e-03 -2.55704445e-01 -2.53742409e-01\n",
      " -2.23842350e-03  2.40628424e-02  8.81081511e-02  4.63328228e-03\n",
      "  2.77105802e-01 -2.82107748e-02  6.25935359e-02 -1.76302816e-01\n",
      "  1.17095501e-01  7.60924665e-02  1.77424342e-01 -1.39096964e-03\n",
      " -2.54160458e-03  2.63020309e-01 -1.07656703e-04  2.39270733e-03\n",
      "  1.04371178e-01  2.17604174e-03 -4.99052975e-02  2.80071808e-02\n",
      " -5.50856085e-02  9.14066604e-04  5.14744781e-04 -4.19412417e-02\n",
      "  1.49303342e-03 -5.15073324e-04 -2.59649759e-02]\n"
     ]
    }
   ],
   "source": [
    "%time weights_LSGD1 = least_squares_GD(y_train[0], x_train[0], np.zeros(31), 100, 0.31)[0]\n",
    "print(weights_LSGD1)"
   ]
  },
  {
   "cell_type": "code",
   "execution_count": 16,
   "metadata": {},
   "outputs": [
    {
     "name": "stdout",
     "output_type": "stream",
     "text": [
      "0.74338\n",
      "Wall time: 93.7 ms\n"
     ]
    }
   ],
   "source": [
    "%%time\n",
    "cat_accuracy_test, f1_score_test = metrics(y_test[0], predict_labels(weights_LSGD1, x_test[0]))\n",
    "print(cat_accuracy_test)"
   ]
  },
  {
   "cell_type": "markdown",
   "metadata": {},
   "source": [
    "### Least Squares GD with non-standardized data"
   ]
  },
  {
   "cell_type": "code",
   "execution_count": 428,
   "metadata": {},
   "outputs": [
    {
     "name": "stdout",
     "output_type": "stream",
     "text": [
      "Gamma: 1e-07 || Categorical accuracy train : ( 0.657332 ,  0.0004281775332733195 )\n",
      "Gamma: 1e-07 || Categorical accuracy test : ( 0.657332 ,  0.001712710133093164 )\n",
      "Gamma: 1e-06 || Categorical accuracy train : ( 0.6655960000000001 ,  0.0002944554295644445 )\n",
      "Gamma: 1e-06 || Categorical accuracy test : ( 0.665576 ,  0.0016871941204259547 )\n",
      "Gamma: 1e-05 || Categorical accuracy train : ( 0.34266800000000003 ,  0.00042817753327328243 )\n",
      "Gamma: 1e-05 || Categorical accuracy test : ( 0.34266800000000003 ,  0.0017127101330931612 )\n",
      "Gamma: 0.0001 || Categorical accuracy train : ( 0.34266800000000003 ,  0.00042817753327328243 )\n",
      "Gamma: 0.0001 || Categorical accuracy test : ( 0.34266800000000003 ,  0.0017127101330931612 )\n",
      "Gamma: 0.001 || Categorical accuracy train : ( 0.34266800000000003 ,  0.00042817753327328243 )\n",
      "Gamma: 0.001 || Categorical accuracy test : ( 0.34266800000000003 ,  0.0017127101330931612 )\n",
      "Gamma: 0.01 || Categorical accuracy train : ( 0.657332 ,  0.0004281775332733195 )\n",
      "Gamma: 0.01 || Categorical accuracy test : ( 0.657332 ,  0.001712710133093164 )\n",
      "Gamma: 0.05 || Categorical accuracy train : ( 0.657332 ,  0.0004281775332733195 )\n",
      "Gamma: 0.05 || Categorical accuracy test : ( 0.657332 ,  0.001712710133093164 )\n",
      "Gamma: 0.1 || Categorical accuracy train : ( 0.657332 ,  0.0004281775332733195 )\n",
      "Gamma: 0.1 || Categorical accuracy test : ( 0.657332 ,  0.001712710133093164 )\n",
      "Gamma: 0.2 || Categorical accuracy train : ( 0.657332 ,  0.0004281775332733195 )\n",
      "Gamma: 0.2 || Categorical accuracy test : ( 0.657332 ,  0.001712710133093164 )\n",
      "Gamma: 0.3 || Categorical accuracy train : ( 0.657332 ,  0.0004281775332733195 )\n",
      "Gamma: 0.3 || Categorical accuracy test : ( 0.657332 ,  0.001712710133093164 )\n",
      "Gamma: 0.31 || Categorical accuracy train : ( 0.657332 ,  0.0004281775332733195 )\n",
      "Gamma: 0.31 || Categorical accuracy test : ( 0.657332 ,  0.001712710133093164 )\n",
      "Gamma: 0.32 || Categorical accuracy train : ( 0.657332 ,  0.0004281775332733195 )\n",
      "Gamma: 0.32 || Categorical accuracy test : ( 0.657332 ,  0.001712710133093164 )\n",
      "Gamma: 0.33 || Categorical accuracy train : ( 0.657332 ,  0.0004281775332733195 )\n",
      "Gamma: 0.33 || Categorical accuracy test : ( 0.657332 ,  0.001712710133093164 )\n",
      "Gamma: 0.34 || Categorical accuracy train : ( 0.657332 ,  0.0004281775332733195 )\n",
      "Gamma: 0.34 || Categorical accuracy test : ( 0.657332 ,  0.001712710133093164 )\n",
      "Gamma: 0.4 || Categorical accuracy train : ( 0.657332 ,  0.0004281775332733195 )\n",
      "Gamma: 0.4 || Categorical accuracy test : ( 0.657332 ,  0.001712710133093164 )\n",
      "Gamma: 0.5 || Categorical accuracy train : ( 0.657332 ,  0.0004281775332733195 )\n",
      "Gamma: 0.5 || Categorical accuracy test : ( 0.657332 ,  0.001712710133093164 )\n",
      "[0.657332, 0.6655960000000001, 0.34266800000000003, 0.34266800000000003, 0.34266800000000003, 0.657332, 0.657332, 0.657332, 0.657332, 0.657332, 0.657332, 0.657332, 0.657332, 0.657332, 0.657332, 0.657332]\n",
      "[0.657332, 0.665576, 0.34266800000000003, 0.34266800000000003, 0.34266800000000003, 0.657332, 0.657332, 0.657332, 0.657332, 0.657332, 0.657332, 0.657332, 0.657332, 0.657332, 0.657332, 0.657332]\n",
      "[0.0004281775332733195, 0.0002944554295644445, 0.00042817753327328243, 0.00042817753327328243, 0.00042817753327328243, 0.0004281775332733195, 0.0004281775332733195, 0.0004281775332733195, 0.0004281775332733195, 0.0004281775332733195, 0.0004281775332733195, 0.0004281775332733195, 0.0004281775332733195, 0.0004281775332733195, 0.0004281775332733195, 0.0004281775332733195]\n",
      "[0.001712710133093164, 0.0016871941204259547, 0.0017127101330931612, 0.0017127101330931612, 0.0017127101330931612, 0.001712710133093164, 0.001712710133093164, 0.001712710133093164, 0.001712710133093164, 0.001712710133093164, 0.001712710133093164, 0.001712710133093164, 0.001712710133093164, 0.001712710133093164, 0.001712710133093164, 0.001712710133093164]\n"
     ]
    }
   ],
   "source": [
    "gammas = [0.0000001, 0.000001, 0.00001, 0.0001, 0.001, 0.01, 0.05, 0.1, 0.2, 0.3, 0.31, 0.32, 0.33, 0.34, 0.4, 0.5]\n",
    "accuracies_train_mean2 = []\n",
    "accuracies_test_mean2 = []\n",
    "accuracies_train_std2 = []\n",
    "accuracies_test_std2 = []\n",
    "for gamma in gammas:\n",
    "    cat_accuracies_train, cat_accuracies_test = least_squares_GD_cv(y_train, x_train_ns, y_test, x_test_ns, np.zeros(31), 100, gamma)\n",
    "    \n",
    "    print(\"Gamma: \" + str(gamma) + \" || Categorical accuracy train : (\",np.mean(cat_accuracies_train),\", \", np.std(cat_accuracies_train),\")\")\n",
    "    print(\"Gamma: \" + str(gamma) + \" || Categorical accuracy test : (\",np.mean(cat_accuracies_test),\", \", np.std(cat_accuracies_test),\")\")\n",
    "    accuracies_train_mean2.append(np.mean(cat_accuracies_train))\n",
    "    accuracies_test_mean2.append(np.mean(cat_accuracies_test))\n",
    "    accuracies_train_std2.append(np.std(cat_accuracies_train))\n",
    "    accuracies_test_std2.append(np.std(cat_accuracies_test))\n",
    "    \n",
    "print(accuracies_train_mean2)\n",
    "print(accuracies_test_mean2)\n",
    "print(accuracies_train_std2)\n",
    "print(accuracies_test_std2)"
   ]
  },
  {
   "cell_type": "code",
   "execution_count": null,
   "metadata": {},
   "outputs": [],
   "source": []
  },
  {
   "cell_type": "code",
   "execution_count": 278,
   "metadata": {},
   "outputs": [
    {
     "data": {
      "image/png": "[encoded data removed]",
      "text/plain": [
       "<Figure size 432x288 with 1 Axes>"
      ]
     },
     "metadata": {
      "needs_background": "light"
     },
     "output_type": "display_data"
    }
   ],
   "source": [
    "plt.plot(gammas[:9], accuracies_train_2[:9], label=\"train\")\n",
    "plt.plot(gammas[:9], accuracies_test_2[:9], label=\"test\")\n",
    "plt.xscale(\"log\")\n",
    "plt.xlabel(\"Gamma\")\n",
    "plt.ylabel(\"Categorical accuracy\")\n",
    "plt.title(\"Categorical accuracy for Linear Regression with Gradient Descent, with non-standardized data\")\n",
    "plt.legend()\n",
    "plt.show()"
   ]
  },
  {
   "cell_type": "code",
   "execution_count": 426,
   "metadata": {},
   "outputs": [
    {
     "data": {
      "image/png": "[encoded data removed]",
      "text/plain": [
       "<Figure size 432x288 with 1 Axes>"
      ]
     },
     "metadata": {
      "needs_background": "light"
     },
     "output_type": "display_data"
    }
   ],
   "source": [
    "plt.errorbar(gammas[:], accuracies_train_mean2[:], yerr=accuracies_train_std2[:], label=\"train\")\n",
    "plt.errorbar(gammas[:], accuracies_test_mean2[:], yerr=accuracies_test_std2[:], label=\"test\")\n",
    "plt.xscale(\"log\")\n",
    "plt.xlabel(\"Gamma\")\n",
    "plt.ylabel(\"Categorical accuracy\")\n",
    "plt.title(\"Categorical accuracy for Linear Regression with Gradient Descent, with non-standardized data\")\n",
    "plt.legend()\n",
    "plt.show()"
   ]
  },
  {
   "cell_type": "markdown",
   "metadata": {},
   "source": [
    "## Linear Regression with Stochastic Gradient Descent"
   ]
  },
  {
   "cell_type": "code",
   "execution_count": 405,
   "metadata": {},
   "outputs": [],
   "source": [
    "def least_squares_SGD_cv(y_train, x_train, w_i, max_iter, gamma):\n",
    "    cat_accuracies_train = []\n",
    "    cat_accuracies_test = []\n",
    "    f1_scores_train = []\n",
    "    f1_scores_test = []\n",
    "    for i in range(num_folds):\n",
    "        weights = least_squares_SGD(y_train[i], x_train[i], w_i, max_iter, gamma)[0]\n",
    "        cat_accuracy_train, f1_score_train = metrics(y_train[i], predict_labels(weights, x_train[i]))\n",
    "        cat_accuracy_test, f1_score_test = metrics(y_test[i], predict_labels(weights, x_test[i]))\n",
    "        cat_accuracies_train.append(cat_accuracy_train)\n",
    "        cat_accuracies_test.append(cat_accuracy_test)\n",
    "        f1_scores_train.append(f1_score_train)\n",
    "        f1_scores_test.append(f1_score_test)\n",
    "    return cat_accuracies_train, cat_accuracies_test"
   ]
  },
  {
   "cell_type": "code",
   "execution_count": 449,
   "metadata": {},
   "outputs": [
    {
     "name": "stdout",
     "output_type": "stream",
     "text": [
      "Gamma: 1e-07 || Categorical accuracy train : ( 0.6805560000000002 ,  0.02070836797046061 )\n",
      "Gamma: 1e-07 || Categorical accuracy test : ( 0.680652 ,  0.018223359075647955 )\n",
      "Gamma: 1e-06 || Categorical accuracy train : ( 0.6815289999999999 ,  0.007880309892383678 )\n",
      "Gamma: 1e-06 || Categorical accuracy test : ( 0.6809000000000001 ,  0.00844370534777239 )\n",
      "Gamma: 1e-05 || Categorical accuracy train : ( 0.696086 ,  0.009965198643278503 )\n",
      "Gamma: 1e-05 || Categorical accuracy test : ( 0.6957239999999999 ,  0.011083468049306582 )\n",
      "Gamma: 0.0001 || Categorical accuracy train : ( 0.687024 ,  0.01932466646542704 )\n",
      "Gamma: 0.0001 || Categorical accuracy test : ( 0.684868 ,  0.01790933432598768 )\n",
      "Gamma: 0.001 || Categorical accuracy train : ( 0.683438 ,  0.01807710225672246 )\n",
      "Gamma: 0.001 || Categorical accuracy test : ( 0.683652 ,  0.018188425330412743 )\n",
      "Gamma: 0.01 || Categorical accuracy train : ( 0.669627 ,  0.039975058298894334 )\n",
      "Gamma: 0.01 || Categorical accuracy test : ( 0.670596 ,  0.03892796095353568 )\n",
      "Gamma: 0.02 || Categorical accuracy train : ( 0.6732950000000001 ,  0.018405982179715345 )\n",
      "Gamma: 0.02 || Categorical accuracy test : ( 0.674324 ,  0.01918478313664244 )\n",
      "Gamma: 0.03 || Categorical accuracy train : ( 0.564291 ,  0.06792796010480517 )\n",
      "Gamma: 0.03 || Categorical accuracy test : ( 0.563044 ,  0.06801446599069935 )\n",
      "Gamma: 0.05 || Categorical accuracy train : ( 0.574128 ,  0.05401641978139609 )\n",
      "Gamma: 0.05 || Categorical accuracy test : ( 0.57406 ,  0.054979089843321345 )\n",
      "Gamma: 0.1 || Categorical accuracy train : ( 0.514948 ,  0.05072345449592328 )\n",
      "Gamma: 0.1 || Categorical accuracy test : ( 0.51558 ,  0.05082329544608457 )\n",
      "Gamma: 0.2 || Categorical accuracy train : ( 0.49653800000000003 ,  0.08014778197804354 )\n",
      "Gamma: 0.2 || Categorical accuracy test : ( 0.49684799999999996 ,  0.08075530308283164 )\n",
      "Gamma: 0.3 || Categorical accuracy train : ( 0.5311779999999999 ,  0.0766293191017642 )\n",
      "Gamma: 0.3 || Categorical accuracy test : ( 0.530564 ,  0.07632190920043865 )\n",
      "Gamma: 0.31 || Categorical accuracy train : ( 0.568364 ,  0.08832109506793946 )\n",
      "Gamma: 0.31 || Categorical accuracy test : ( 0.5677719999999999 ,  0.08808684133285744 )\n",
      "Gamma: 0.32 || Categorical accuracy train : ( 0.5222749999999999 ,  0.07157761081511452 )\n",
      "Gamma: 0.32 || Categorical accuracy test : ( 0.522932 ,  0.07028613132048171 )\n",
      "Gamma: 0.33 || Categorical accuracy train : ( 0.45723499999999995 ,  0.03755266927929357 )\n",
      "Gamma: 0.33 || Categorical accuracy test : ( 0.45665999999999995 ,  0.038025833324202105 )\n",
      "Gamma: 0.34 || Categorical accuracy train : ( 0.46664300000000003 ,  0.04491869472725136 )\n",
      "Gamma: 0.34 || Categorical accuracy test : ( 0.46704 ,  0.043407328413529456 )\n",
      "Gamma: 0.4 || Categorical accuracy train : ( 0.473051 ,  0.05978319616748505 )\n",
      "Gamma: 0.4 || Categorical accuracy test : ( 0.47319200000000006 ,  0.059675276756794356 )\n",
      "Gamma: 0.5 || Categorical accuracy train : ( 0.534829 ,  0.07309148680934054 )\n",
      "Gamma: 0.5 || Categorical accuracy test : ( 0.534648 ,  0.07173399038112965 )\n",
      "[0.6805560000000002, 0.6815289999999999, 0.696086, 0.687024, 0.683438, 0.669627, 0.6732950000000001, 0.564291, 0.574128, 0.514948, 0.49653800000000003, 0.5311779999999999, 0.568364, 0.5222749999999999, 0.45723499999999995, 0.46664300000000003, 0.473051, 0.534829]\n",
      "[0.680652, 0.6809000000000001, 0.6957239999999999, 0.684868, 0.683652, 0.670596, 0.674324, 0.563044, 0.57406, 0.51558, 0.49684799999999996, 0.530564, 0.5677719999999999, 0.522932, 0.45665999999999995, 0.46704, 0.47319200000000006, 0.534648]\n",
      "[0.02070836797046061, 0.007880309892383678, 0.009965198643278503, 0.01932466646542704, 0.01807710225672246, 0.039975058298894334, 0.018405982179715345, 0.06792796010480517, 0.05401641978139609, 0.05072345449592328, 0.08014778197804354, 0.0766293191017642, 0.08832109506793946, 0.07157761081511452, 0.03755266927929357, 0.04491869472725136, 0.05978319616748505, 0.07309148680934054]\n",
      "[0.018223359075647955, 0.00844370534777239, 0.011083468049306582, 0.01790933432598768, 0.018188425330412743, 0.03892796095353568, 0.01918478313664244, 0.06801446599069935, 0.054979089843321345, 0.05082329544608457, 0.08075530308283164, 0.07632190920043865, 0.08808684133285744, 0.07028613132048171, 0.038025833324202105, 0.043407328413529456, 0.059675276756794356, 0.07173399038112965]\n"
     ]
    }
   ],
   "source": [
    "gammas = [0.0000001, 0.000001, 0.00001, 0.0001, 0.001, 0.01, 0.02, 0.03, 0.05, 0.1, 0.2, 0.3, 0.31, 0.32, 0.33, 0.34, 0.4, 0.5]\n",
    "accuracies_train_mean3 = []\n",
    "accuracies_test_mean3 = []\n",
    "accuracies_train_std3 = []\n",
    "accuracies_test_std3 = []\n",
    "for gamma in gammas:\n",
    "    cat_accuracies_train, cat_accuracies_test = least_squares_SGD_cv(y_train, x_train, np.zeros(31), 100, gamma)\n",
    "    \n",
    "    print(\"Gamma: \" + str(gamma) + \" || Categorical accuracy train : (\",np.mean(cat_accuracies_train),\", \", np.std(cat_accuracies_train),\")\")\n",
    "    print(\"Gamma: \" + str(gamma) + \" || Categorical accuracy test : (\",np.mean(cat_accuracies_test),\", \", np.std(cat_accuracies_test),\")\")\n",
    "    accuracies_train_mean3.append(np.mean(cat_accuracies_train))\n",
    "    accuracies_test_mean3.append(np.mean(cat_accuracies_test))\n",
    "    accuracies_train_std3.append(np.std(cat_accuracies_train))\n",
    "    accuracies_test_std3.append(np.std(cat_accuracies_test))\n",
    "    \n",
    "print(accuracies_train_mean3)\n",
    "print(accuracies_test_mean3)\n",
    "print(accuracies_train_std3)\n",
    "print(accuracies_test_std3)"
   ]
  },
  {
   "cell_type": "code",
   "execution_count": 407,
   "metadata": {},
   "outputs": [
    {
     "data": {
      "image/png": "[encoded data removed]",
      "text/plain": [
       "<Figure size 432x288 with 1 Axes>"
      ]
     },
     "metadata": {
      "needs_background": "light"
     },
     "output_type": "display_data"
    }
   ],
   "source": [
    "plt.plot(gammas[:], accuracies_train_3[:], label=\"train\")\n",
    "plt.plot(gammas[:], accuracies_test_3[:], label=\"test\")\n",
    "plt.xscale(\"log\")\n",
    "plt.xlabel(\"Gamma\")\n",
    "plt.ylabel(\"Categorical accuracy\")\n",
    "plt.title(\"Categorical accuracy for Linear Regression with Stochastic Gradient Descent\")\n",
    "plt.legend()\n",
    "plt.show()"
   ]
  },
  {
   "cell_type": "code",
   "execution_count": 450,
   "metadata": {},
   "outputs": [
    {
     "data": {
      "image/png": "[encoded data removed]",
      "text/plain": [
       "<Figure size 432x288 with 1 Axes>"
      ]
     },
     "metadata": {
      "needs_background": "light"
     },
     "output_type": "display_data"
    }
   ],
   "source": [
    "plt.errorbar(gammas[:], accuracies_train_mean3[:], yerr=accuracies_train_std3[:], label=\"train\")\n",
    "plt.errorbar(gammas[:], accuracies_test_mean3[:], yerr=accuracies_test_std3[:], label=\"test\")\n",
    "plt.xscale(\"log\")\n",
    "plt.xlabel(\"Gamma\")\n",
    "plt.ylabel(\"Categorical accuracy\")\n",
    "plt.title(\"Categorical accuracy for Linear Regression with Stochastic Gradient Descent\")\n",
    "plt.legend()\n",
    "plt.show()"
   ]
  },
  {
   "cell_type": "code",
   "execution_count": 451,
   "metadata": {},
   "outputs": [
    {
     "name": "stdout",
     "output_type": "stream",
     "text": [
      "Best performance: gamma  1e-05 , train accuracy:  0.696086 , test accuracy:  0.6957239999999999 , std:  0.009965198643278503\n"
     ]
    }
   ],
   "source": [
    "print(\"Best performance: gamma \", gammas[np.argmax(accuracies_train_mean3)], \", train accuracy: \", accuracies_train_mean3[np.argmax(accuracies_train_mean3)], \", test accuracy: \", accuracies_test_mean3[np.argmax(accuracies_train_mean3)], \", std: \", accuracies_train_std3[np.argmax(accuracies_train_mean3)])"
   ]
  },
  {
   "cell_type": "code",
   "execution_count": 46,
   "metadata": {},
   "outputs": [
    {
     "name": "stdout",
     "output_type": "stream",
     "text": [
      "Wall time: 11 ms\n",
      "[-1.60043091e-04  2.82092403e-05 -2.43397004e-04  1.74676572e-05\n",
      "  4.84123325e-05  8.47379756e-05  4.14929252e-05 -1.17459224e-04\n",
      "  4.85951117e-05 -1.04668948e-06  6.32848868e-06 -2.52299449e-04\n",
      "  1.13216405e-04  1.75207899e-04  2.61783414e-04 -1.22122960e-04\n",
      "  3.72632938e-05 -6.14085614e-05 -1.58243799e-04 -4.59572131e-05\n",
      " -3.24962153e-06  5.39713979e-05 -1.12415051e-04  1.71732846e-05\n",
      " -1.26414596e-04 -2.76566119e-05 -3.98097694e-05 -8.10260673e-05\n",
      " -3.18344081e-05 -2.16245228e-05 -3.83512081e-05]\n"
     ]
    }
   ],
   "source": [
    "%time weights_LSSGD1 = least_squares_SGD(y_train[0], x_train[0], np.zeros(31), 100, 0.00001)[0]\n",
    "print(weights_LSSGD1)"
   ]
  },
  {
   "cell_type": "code",
   "execution_count": 33,
   "metadata": {},
   "outputs": [
    {
     "ename": "NameError",
     "evalue": "name 'weights_LSSGD1' is not defined",
     "output_type": "error",
     "traceback": [
      "\u001b[1;31m---------------------------------------------------------------------------\u001b[0m",
      "\u001b[1;31mNameError\u001b[0m                                 Traceback (most recent call last)",
      "\u001b[1;32m<timed exec>\u001b[0m in \u001b[0;36m<module>\u001b[1;34m\u001b[0m\n",
      "\u001b[1;31mNameError\u001b[0m: name 'weights_LSSGD1' is not defined"
     ]
    }
   ],
   "source": [
    "%%time\n",
    "cat_accuracy_test, f1_score_test = metrics(y_test[0], predict_labels(weights_LSSGD1, x_test[0]))\n",
    "print(cat_accuracy_test)"
   ]
  },
  {
   "cell_type": "markdown",
   "metadata": {},
   "source": [
    "## Least Squares"
   ]
  },
  {
   "cell_type": "code",
   "execution_count": 424,
   "metadata": {},
   "outputs": [],
   "source": [
    "def least_squares_cv(y_train, x_train, y_test, x_test):\n",
    "    cat_accuracies_train = []\n",
    "    cat_accuracies_test = []\n",
    "    f1_scores_train = []\n",
    "    f1_scores_test = []\n",
    "    for i in range(num_folds):\n",
    "        weights = least_squares(y_train[i], x_train[i])[0]\n",
    "        cat_accuracy_train, f1_score_train = metrics(y_train[i], predict_labels(weights, x_train[i]))\n",
    "        cat_accuracy_test, f1_score_test = metrics(y_test[i], predict_labels(weights, x_test[i]))\n",
    "        cat_accuracies_train.append(cat_accuracy_train)\n",
    "        cat_accuracies_test.append(cat_accuracy_test)\n",
    "        f1_scores_train.append(f1_score_train)\n",
    "        f1_scores_test.append(f1_score_test)\n",
    "    return cat_accuracies_train, cat_accuracies_test"
   ]
  },
  {
   "cell_type": "code",
   "execution_count": 425,
   "metadata": {},
   "outputs": [
    {
     "name": "stdout",
     "output_type": "stream",
     "text": [
      "Categorical accuracy train : ( 0.744493 ,  0.0006400749956060015 )\n",
      "Categorical accuracy test : ( 0.706348 ,  0.021547419706312843 )\n"
     ]
    }
   ],
   "source": [
    "cat_accuracies_train4, cat_accuracies_test4 = least_squares_cv(y_train, x_train, y_test, x_test)\n",
    "\n",
    "print(\"Categorical accuracy train : (\",np.mean(cat_accuracies_train4),\", \", np.std(cat_accuracies_train4),\")\")\n",
    "print(\"Categorical accuracy test : (\",np.mean(cat_accuracies_test4),\", \", np.std(cat_accuracies_test4),\")\")"
   ]
  },
  {
   "cell_type": "code",
   "execution_count": 32,
   "metadata": {},
   "outputs": [
    {
     "name": "stdout",
     "output_type": "stream",
     "text": [
      "Wall time: 35.9 ms\n",
      "[-3.13130000e-01  1.05475629e-02 -2.56438955e-01 -2.64020033e-01\n",
      " -3.80177226e-03  2.27716610e-02  8.92120020e-02  4.35561312e-03\n",
      "  2.82055477e-01 -2.77485131e-02 -3.51835905e+01 -1.87273104e-01\n",
      "  1.17102656e-01  7.61178986e-02  6.98004258e+00 -1.39537393e-03\n",
      " -2.46978642e-03  7.01990616e+00 -5.35820157e-05  2.38873367e-03\n",
      "  1.06417393e-01  2.16975969e-03 -4.91944796e-02  3.46963071e-02\n",
      " -5.17441641e-02  9.39297005e-04  4.96717719e-04 -4.05398626e-02\n",
      "  1.49469672e-03 -5.36661183e-04  2.98086548e+01]\n"
     ]
    }
   ],
   "source": [
    "%time weights_LS = least_squares(y_train[0], x_train[0])[0]\n",
    "print(weights_LS)"
   ]
  },
  {
   "cell_type": "markdown",
   "metadata": {},
   "source": [
    "## Ridge regression"
   ]
  },
  {
   "cell_type": "code",
   "execution_count": 77,
   "metadata": {},
   "outputs": [],
   "source": [
    "def ridge_regression_cv(y_train, x_train, y_test, x_test, lambda_):\n",
    "    cat_accuracies_train = []\n",
    "    cat_accuracies_test = []\n",
    "    f1_scores_train = []\n",
    "    f1_scores_test = []\n",
    "    for i in range(num_folds):\n",
    "        weights = ridge_regression(y_train[i], x_train[i], lambda_)[0]\n",
    "        cat_accuracy_train, f1_score_train = metrics(y_train[i], predict_labels(weights, x_train[i]))\n",
    "        cat_accuracy_test, f1_score_test = metrics(y_test[i], predict_labels(weights, x_test[i]))\n",
    "        cat_accuracies_train.append(cat_accuracy_train)\n",
    "        cat_accuracies_test.append(cat_accuracy_test)\n",
    "        f1_scores_train.append(f1_score_train)\n",
    "        f1_scores_test.append(f1_score_test)\n",
    "    return cat_accuracies_train, cat_accuracies_test"
   ]
  },
  {
   "cell_type": "code",
   "execution_count": 415,
   "metadata": {},
   "outputs": [
    {
     "name": "stdout",
     "output_type": "stream",
     "text": [
      "Lambda: 1e-06 || Categorical accuracy train : ( 0.7444919999999999 ,  0.0006442251159338472 )\n",
      "Lambda: 1e-06 || Categorical accuracy test : ( 0.706584 ,  0.021464603047808752 )\n",
      "Lambda: 2.894266124716752e-06 || Categorical accuracy train : ( 0.744494 ,  0.0006440139750036307 )\n",
      "Lambda: 2.894266124716752e-06 || Categorical accuracy test : ( 0.706924 ,  0.021380901384179286 )\n",
      "Lambda: 8.376776400682924e-06 || Categorical accuracy train : ( 0.744492 ,  0.0006401609172700525 )\n",
      "Lambda: 8.376776400682924e-06 || Categorical accuracy test : ( 0.708172 ,  0.021165748179547077 )\n",
      "Lambda: 2.424462017082331e-05 || Categorical accuracy train : ( 0.744499 ,  0.0006373021261536687 )\n",
      "Lambda: 2.424462017082331e-05 || Categorical accuracy test : ( 0.710884 ,  0.020403064083612532 )\n",
      "Lambda: 7.017038286703837e-05 || Categorical accuracy train : ( 0.744494 ,  0.0006333908745790631 )\n",
      "Lambda: 7.017038286703837e-05 || Categorical accuracy test : ( 0.71778 ,  0.018846287698111794 )\n",
      "Lambda: 0.00020309176209047368 || Categorical accuracy train : ( 0.7444939999999999 ,  0.0006414545969903012 )\n",
      "Lambda: 0.00020309176209047368 || Categorical accuracy test : ( 0.729336 ,  0.013634558445362282 )\n",
      "Lambda: 0.0005878016072274912 || Categorical accuracy train : ( 0.744474 ,  0.0006413064789942219 )\n",
      "Lambda: 0.0005878016072274912 || Categorical accuracy test : ( 0.73978 ,  0.007302481769919047 )\n",
      "Lambda: 0.0017012542798525892 || Categorical accuracy train : ( 0.7444879999999999 ,  0.0006426554286707508 )\n",
      "Lambda: 0.0017012542798525892 || Categorical accuracy test : ( 0.74402 ,  0.0035192499200824164 )\n",
      "Lambda: 0.004923882631706742 || Categorical accuracy train : ( 0.7444880000000001 ,  0.0006436349897263012 )\n",
      "Lambda: 0.004923882631706742 || Categorical accuracy test : ( 0.7445959999999999 ,  0.0022184463031590307 )\n",
      "Lambda: 0.014251026703029992 || Categorical accuracy train : ( 0.744486 ,  0.0006485784455253022 )\n",
      "Lambda: 0.014251026703029992 || Categorical accuracy test : ( 0.744552 ,  0.0018824069698128451 )\n",
      "Lambda: 0.041246263829013564 || Categorical accuracy train : ( 0.744488 ,  0.0006460386985312845 )\n",
      "Lambda: 0.041246263829013564 || Categorical accuracy test : ( 0.7446240000000001 ,  0.0017498525652179968 )\n",
      "Lambda: 0.11937766417144383 || Categorical accuracy train : ( 0.744487 ,  0.0006452100433192193 )\n",
      "Lambda: 0.11937766417144383 || Categorical accuracy test : ( 0.7446280000000001 ,  0.0016138203121785107 )\n",
      "Lambda: 0.34551072945922184 || Categorical accuracy train : ( 0.744487 ,  0.0006452100433192193 )\n",
      "Lambda: 0.34551072945922184 || Categorical accuracy test : ( 0.7445960000000001 ,  0.0015550897080233044 )\n",
      "Lambda: 1.0 || Categorical accuracy train : ( 0.744487 ,  0.0006452100433192193 )\n",
      "Lambda: 1.0 || Categorical accuracy test : ( 0.744568 ,  0.001527172550827164 )\n",
      "Lambda: 2.8942661247167516 || Categorical accuracy train : ( 0.744487 ,  0.0006452100433192193 )\n",
      "Lambda: 2.8942661247167516 || Categorical accuracy test : ( 0.7445640000000001 ,  0.0015397869982565723 )\n",
      "Lambda: 8.376776400682925 || Categorical accuracy train : ( 0.744487 ,  0.0006452100433192193 )\n",
      "Lambda: 8.376776400682925 || Categorical accuracy test : ( 0.744552 ,  0.0015302601086089763 )\n",
      "Lambda: 24.244620170823307 || Categorical accuracy train : ( 0.744486 ,  0.0006471043192561808 )\n",
      "Lambda: 24.244620170823307 || Categorical accuracy test : ( 0.744548 ,  0.001523658754446 )\n",
      "Lambda: 70.17038286703837 || Categorical accuracy train : ( 0.7444850000000001 ,  0.0006525565109628548 )\n",
      "Lambda: 70.17038286703837 || Categorical accuracy test : ( 0.744548 ,  0.0015185572099858575 )\n",
      "Lambda: 203.09176209047388 || Categorical accuracy train : ( 0.744487 ,  0.0006481249879459767 )\n",
      "Lambda: 203.09176209047388 || Categorical accuracy test : ( 0.744544 ,  0.0015240682399420469 )\n",
      "Lambda: 587.8016072274924 || Categorical accuracy train : ( 0.7444839999999999 ,  0.0006445184248723792 )\n",
      "Lambda: 587.8016072274924 || Categorical accuracy test : ( 0.744556 ,  0.0015266381365602185 )\n",
      "Lambda: 1701.2542798525926 || Categorical accuracy train : ( 0.744487 ,  0.0006380564238372591 )\n",
      "Lambda: 1701.2542798525926 || Categorical accuracy test : ( 0.74454 ,  0.0015055630176116816 )\n",
      "Lambda: 4923.882631706751 || Categorical accuracy train : ( 0.744467 ,  0.0006389491372558407 )\n",
      "Lambda: 4923.882631706751 || Categorical accuracy test : ( 0.7445320000000001 ,  0.0015072411883968846 )\n",
      "Lambda: 14251.026703030022 || Categorical accuracy train : ( 0.744437 ,  0.0006323416797902877 )\n",
      "Lambda: 14251.026703030022 || Categorical accuracy test : ( 0.744412 ,  0.0016048227316435737 )\n",
      "Lambda: 41246.263829013646 || Categorical accuracy train : ( 0.74424 ,  0.0005875542528141577 )\n",
      "Lambda: 41246.263829013646 || Categorical accuracy test : ( 0.7443799999999999 ,  0.0016111114176245041 )\n",
      "Lambda: 119377.66417144357 || Categorical accuracy train : ( 0.743874 ,  0.000642288097351948 )\n",
      "Lambda: 119377.66417144357 || Categorical accuracy test : ( 0.7439479999999999 ,  0.0017862407452524445 )\n",
      "Lambda: 345510.7294592218 || Categorical accuracy train : ( 0.7426389999999999 ,  0.0006178462591939798 )\n",
      "Lambda: 345510.7294592218 || Categorical accuracy test : ( 0.7428 ,  0.0018500162161451438 )\n",
      "Lambda: 1000000.0 || Categorical accuracy train : ( 0.740105 ,  0.0005580501769554483 )\n",
      "Lambda: 1000000.0 || Categorical accuracy test : ( 0.740104 ,  0.001449546135864585 )\n",
      "Lambda: 2894266.1247167517 || Categorical accuracy train : ( 0.734599 ,  0.0005017409690268506 )\n",
      "Lambda: 2894266.1247167517 || Categorical accuracy test : ( 0.734452 ,  0.0018882626935889863 )\n",
      "Lambda: 8376776.400682924 || Categorical accuracy train : ( 0.7274899999999999 ,  0.0005200192304136356 )\n",
      "Lambda: 8376776.400682924 || Categorical accuracy test : ( 0.7274679999999999 ,  0.0020670597475641547 )\n",
      "Lambda: 24244620.170823306 || Categorical accuracy train : ( 0.719189 ,  0.0004305043553786786 )\n",
      "Lambda: 24244620.170823306 || Categorical accuracy test : ( 0.719276 ,  0.0016238916219994586 )\n",
      "Lambda: 70170382.86703837 || Categorical accuracy train : ( 0.711344 ,  0.00043527462595470276 )\n",
      "Lambda: 70170382.86703837 || Categorical accuracy test : ( 0.7114240000000001 ,  0.0018506388086279592 )\n",
      "Lambda: 203091762.0904739 || Categorical accuracy train : ( 0.705748 ,  0.0003834136147817258 )\n",
      "Lambda: 203091762.0904739 || Categorical accuracy test : ( 0.7057079999999999 ,  0.0013001292243465688 )\n",
      "Lambda: 587801607.2274923 || Categorical accuracy train : ( 0.702905 ,  0.0003568753283711119 )\n",
      "Lambda: 587801607.2274923 || Categorical accuracy test : ( 0.70278 ,  0.0014576144894998555 )\n",
      "Lambda: 1701254279.8525927 || Categorical accuracy train : ( 0.701684 ,  0.000402621410260292 )\n",
      "Lambda: 1701254279.8525927 || Categorical accuracy test : ( 0.701692 ,  0.0015656615215301165 )\n",
      "Lambda: 4923882631.706752 || Categorical accuracy train : ( 0.7012379999999999 ,  0.0003945959959249307 )\n",
      "Lambda: 4923882631.706752 || Categorical accuracy test : ( 0.701192 ,  0.001414021216248166 )\n",
      "Lambda: 14251026703.029963 || Categorical accuracy train : ( 0.701092 ,  0.00037870304989530976 )\n",
      "Lambda: 14251026703.029963 || Categorical accuracy test : ( 0.7010159999999999 ,  0.0014654091578804884 )\n",
      "Lambda: 41246263829.01365 || Categorical accuracy train : ( 0.701068 ,  0.00035917405251495584 )\n",
      "Lambda: 41246263829.01365 || Categorical accuracy test : ( 0.700956 ,  0.001468463142200047 )\n",
      "Lambda: 119377664171.44357 || Categorical accuracy train : ( 0.7010479999999999 ,  0.00035720582302082844 )\n",
      "Lambda: 119377664171.44357 || Categorical accuracy test : ( 0.70094 ,  0.0014530519605299658 )\n",
      "Lambda: 345510729459.22327 || Categorical accuracy train : ( 0.7010379999999999 ,  0.0003620580064022851 )\n",
      "Lambda: 345510729459.22327 || Categorical accuracy test : ( 0.70094 ,  0.0014377760604488913 )\n",
      "Lambda: 1000000000000.0 || Categorical accuracy train : ( 0.7010310000000001 ,  0.0003613779185284939 )\n",
      "Lambda: 1000000000000.0 || Categorical accuracy test : ( 0.700948 ,  0.0014438060811618543 )\n",
      "[0.7444919999999999, 0.744494, 0.744492, 0.744499, 0.744494, 0.7444939999999999, 0.744474, 0.7444879999999999, 0.7444880000000001, 0.744486, 0.744488, 0.744487, 0.744487, 0.744487, 0.744487, 0.744487, 0.744486, 0.7444850000000001, 0.744487, 0.7444839999999999, 0.744487, 0.744467, 0.744437, 0.74424, 0.743874, 0.7426389999999999, 0.740105, 0.734599, 0.7274899999999999, 0.719189, 0.711344, 0.705748, 0.702905, 0.701684, 0.7012379999999999, 0.701092, 0.701068, 0.7010479999999999, 0.7010379999999999, 0.7010310000000001]\n",
      "[0.706584, 0.706924, 0.708172, 0.710884, 0.71778, 0.729336, 0.73978, 0.74402, 0.7445959999999999, 0.744552, 0.7446240000000001, 0.7446280000000001, 0.7445960000000001, 0.744568, 0.7445640000000001, 0.744552, 0.744548, 0.744548, 0.744544, 0.744556, 0.74454, 0.7445320000000001, 0.744412, 0.7443799999999999, 0.7439479999999999, 0.7428, 0.740104, 0.734452, 0.7274679999999999, 0.719276, 0.7114240000000001, 0.7057079999999999, 0.70278, 0.701692, 0.701192, 0.7010159999999999, 0.700956, 0.70094, 0.70094, 0.700948]\n",
      "[0.0006442251159338472, 0.0006440139750036307, 0.0006401609172700525, 0.0006373021261536687, 0.0006333908745790631, 0.0006414545969903012, 0.0006413064789942219, 0.0006426554286707508, 0.0006436349897263012, 0.0006485784455253022, 0.0006460386985312845, 0.0006452100433192193, 0.0006452100433192193, 0.0006452100433192193, 0.0006452100433192193, 0.0006452100433192193, 0.0006471043192561808, 0.0006525565109628548, 0.0006481249879459767, 0.0006445184248723792, 0.0006380564238372591, 0.0006389491372558407, 0.0006323416797902877, 0.0005875542528141577, 0.000642288097351948, 0.0006178462591939798, 0.0005580501769554483, 0.0005017409690268506, 0.0005200192304136356, 0.0004305043553786786, 0.00043527462595470276, 0.0003834136147817258, 0.0003568753283711119, 0.000402621410260292, 0.0003945959959249307, 0.00037870304989530976, 0.00035917405251495584, 0.00035720582302082844, 0.0003620580064022851, 0.0003613779185284939]\n",
      "[0.021464603047808752, 0.021380901384179286, 0.021165748179547077, 0.020403064083612532, 0.018846287698111794, 0.013634558445362282, 0.007302481769919047, 0.0035192499200824164, 0.0022184463031590307, 0.0018824069698128451, 0.0017498525652179968, 0.0016138203121785107, 0.0015550897080233044, 0.001527172550827164, 0.0015397869982565723, 0.0015302601086089763, 0.001523658754446, 0.0015185572099858575, 0.0015240682399420469, 0.0015266381365602185, 0.0015055630176116816, 0.0015072411883968846, 0.0016048227316435737, 0.0016111114176245041, 0.0017862407452524445, 0.0018500162161451438, 0.001449546135864585, 0.0018882626935889863, 0.0020670597475641547, 0.0016238916219994586, 0.0018506388086279592, 0.0013001292243465688, 0.0014576144894998555, 0.0015656615215301165, 0.001414021216248166, 0.0014654091578804884, 0.001468463142200047, 0.0014530519605299658, 0.0014377760604488913, 0.0014438060811618543]\n"
     ]
    }
   ],
   "source": [
    "lambdas =  np.logspace(-6, 12, 40)\n",
    "accuracies_train_mean5 = []\n",
    "accuracies_test_mean5 = []\n",
    "accuracies_train_std5 = []\n",
    "accuracies_test_std5 = []\n",
    "for lambda_ in lambdas:\n",
    "    cat_accuracies_train, cat_accuracies_test = ridge_regression_cv(y_train, x_train, y_test, x_test, lambda_)\n",
    "    \n",
    "    print(\"Lambda: \" + str(lambda_) + \" || Categorical accuracy train : (\",np.mean(cat_accuracies_train),\", \", np.std(cat_accuracies_train),\")\")\n",
    "    print(\"Lambda: \" + str(lambda_) + \" || Categorical accuracy test : (\",np.mean(cat_accuracies_test),\", \", np.std(cat_accuracies_test),\")\")\n",
    "    accuracies_train_mean5.append(np.mean(cat_accuracies_train))\n",
    "    accuracies_test_mean5.append(np.mean(cat_accuracies_test))\n",
    "    accuracies_train_std5.append(np.std(cat_accuracies_train))\n",
    "    accuracies_test_std5.append(np.std(cat_accuracies_test))\n",
    "    \n",
    "print(accuracies_train_mean5)\n",
    "print(accuracies_test_mean5)\n",
    "print(accuracies_train_std5)\n",
    "print(accuracies_test_std5)"
   ]
  },
  {
   "cell_type": "code",
   "execution_count": 287,
   "metadata": {},
   "outputs": [
    {
     "data": {
      "image/png": "[encoded data removed]",
      "text/plain": [
       "<Figure size 432x288 with 1 Axes>"
      ]
     },
     "metadata": {
      "needs_background": "light"
     },
     "output_type": "display_data"
    }
   ],
   "source": [
    "plt.plot(lambdas[:], accuracies_train_4[:], label=\"train\")\n",
    "plt.plot(lambdas[:], accuracies_test_4[:], label=\"test\")\n",
    "plt.xscale(\"log\")\n",
    "plt.xlabel(\"Lambda\")\n",
    "plt.ylabel(\"Categorical accuracy\")\n",
    "plt.title(\"Categorical accuracy for Ridge Regression\")\n",
    "plt.legend()\n",
    "plt.show()"
   ]
  },
  {
   "cell_type": "code",
   "execution_count": 416,
   "metadata": {},
   "outputs": [
    {
     "data": {
      "image/png": "[encoded data removed]",
      "text/plain": [
       "<Figure size 432x288 with 1 Axes>"
      ]
     },
     "metadata": {
      "needs_background": "light"
     },
     "output_type": "display_data"
    }
   ],
   "source": [
    "plt.errorbar(lambdas[:], accuracies_train_mean5[:], yerr=accuracies_train_std5[:], label=\"train\")\n",
    "plt.errorbar(lambdas[:], accuracies_test_mean5[:], yerr=accuracies_test_std5[:], label=\"test\")\n",
    "plt.xscale(\"log\")\n",
    "plt.xlabel(\"Lambda\")\n",
    "plt.ylabel(\"Categorical accuracy\")\n",
    "plt.title(\"Categorical accuracy for Ridge Regression\")\n",
    "plt.legend()\n",
    "plt.show()"
   ]
  },
  {
   "cell_type": "code",
   "execution_count": 288,
   "metadata": {},
   "outputs": [
    {
     "name": "stdout",
     "output_type": "stream",
     "text": [
      "Best performance: lambda  0.0017012542798525892 , train accuracy:  0.74494034938219 , test accuracy:  0.7433976020738821\n"
     ]
    }
   ],
   "source": [
    "print(\"Best performance: lambda \", lambdas[np.argmax(accuracies_test_4)], \", train accuracy: \", accuracies_train_4[np.argmax(accuracies_test_4)], \", test accuracy: \", accuracies_test_4[np.argmax(accuracies_test_4)])"
   ]
  },
  {
   "cell_type": "code",
   "execution_count": 417,
   "metadata": {},
   "outputs": [
    {
     "name": "stdout",
     "output_type": "stream",
     "text": [
      "Best performance: lambda  0.11937766417144383 , train accuracy:  0.744487 , test accuracy:  0.7446280000000001 , std:  0.0016138203121785107\n"
     ]
    }
   ],
   "source": [
    "print(\"Best performance: lambda \", lambdas[np.argmax(accuracies_test_mean5)], \", train accuracy: \", accuracies_train_mean5[np.argmax(accuracies_test_mean5)], \", test accuracy: \", accuracies_test_mean5[np.argmax(accuracies_test_mean5)], \", std: \", accuracies_test_std5[np.argmax(accuracies_test_mean5)])"
   ]
  },
  {
   "cell_type": "code",
   "execution_count": 56,
   "metadata": {},
   "outputs": [
    {
     "name": "stdout",
     "output_type": "stream",
     "text": [
      "Wall time: 30.9 ms\n",
      "[-3.13129997e-01  1.05477334e-02 -2.56440286e-01 -2.64020310e-01\n",
      " -3.80243113e-03  2.27707685e-02  8.92127465e-02  4.35586425e-03\n",
      "  2.82055788e-01 -2.77491203e-02  1.58871333e-02 -1.87272958e-01\n",
      "  1.17102028e-01  7.61181825e-02  1.83822255e-01 -1.39543135e-03\n",
      " -2.46968208e-03  2.85810288e-01 -5.34218801e-05  2.38845075e-03\n",
      "  1.06418533e-01  2.17017576e-03 -4.91935951e-02  3.46967641e-02\n",
      " -5.17449693e-02  9.39311925e-04  4.96985538e-04 -4.05400326e-02\n",
      "  1.49424114e-03 -5.36261692e-04  8.59141734e-03]\n"
     ]
    }
   ],
   "source": [
    "%time weights_RR = ridge_regression(y_train[0], x_train[0], 0.11937766417144383)[0]\n",
    "print(weights_RR)"
   ]
  },
  {
   "cell_type": "code",
   "execution_count": null,
   "metadata": {},
   "outputs": [],
   "source": []
  },
  {
   "cell_type": "markdown",
   "metadata": {},
   "source": [
    "## Logistic regression"
   ]
  },
  {
   "cell_type": "code",
   "execution_count": 61,
   "metadata": {},
   "outputs": [],
   "source": [
    "def logistic_regression_cv(y_train, x_train, w_i, max_iter, gamma):\n",
    "    cat_accuracies_train = []\n",
    "    cat_accuracies_test = []\n",
    "    f1_scores_train = []\n",
    "    f1_scores_test = []\n",
    "    for i in range(num_folds):\n",
    "        weights = logistic_regression(y_train[i], x_train[i], w_i, max_iter, gamma)[0]\n",
    "        cat_accuracy_train, f1_score_train = metrics(y_train[i], predict_labels(weights, x_train[i]))\n",
    "        cat_accuracy_test, f1_score_test = metrics(y_test[i], predict_labels(weights, x_test[i]))\n",
    "        cat_accuracies_train.append(cat_accuracy_train)\n",
    "        cat_accuracies_test.append(cat_accuracy_test)\n",
    "        f1_scores_train.append(f1_score_train)\n",
    "        f1_scores_test.append(f1_score_test)\n",
    "    return cat_accuracies_train, cat_accuracies_test"
   ]
  },
  {
   "cell_type": "code",
   "execution_count": 220,
   "metadata": {},
   "outputs": [
    {
     "name": "stdout",
     "output_type": "stream",
     "text": [
      "The loss for step 0 is 155989.9942229971.\n",
      "The loss for step 1000 is 155986.6570715598.\n",
      "The loss for step 2000 is 155982.98179237847.\n",
      "The loss for step 3000 is 155980.06425238322.\n",
      "The loss for step 4000 is 155976.5968732667.\n",
      "The loss for step 5000 is 155973.095968284.\n",
      "The loss for step 6000 is 155969.6429974646.\n",
      "The loss for step 7000 is 155966.12319732865.\n",
      "The loss for step 8000 is 155962.90345196048.\n",
      "The loss for step 9000 is 155959.52730909263.\n",
      "Gamma: 1e-07 || Categorical accuracy train :  0.7000702078686135  || f1_score train:  0.3066197633514551\n",
      "Gamma: 1e-07 || Categorical accuracy test :  0.7009297106676284  || f1_score test:  0.3029107725788901\n",
      "The loss for step 0 is 155989.96826378352.\n",
      "The loss for step 1000 is 155956.79188752055.\n",
      "The loss for step 2000 is 155923.7250396881.\n",
      "The loss for step 3000 is 155889.3155319965.\n",
      "The loss for step 4000 is 155858.36890505935.\n",
      "The loss for step 5000 is 155824.44251516537.\n",
      "The loss for step 6000 is 155791.68708996166.\n",
      "The loss for step 7000 is 155760.31542237665.\n",
      "The loss for step 8000 is 155724.4841626578.\n",
      "The loss for step 9000 is 155695.18323025096.\n",
      "Gamma: 1e-06 || Categorical accuracy train :  0.6995725318379353  || f1_score train:  0.31087760118589686\n",
      "Gamma: 1e-06 || Categorical accuracy test :  0.699647351126072  || f1_score test:  0.30688333276792074\n",
      "The loss for step 0 is 155989.31137530712.\n",
      "The loss for step 1000 is 155656.55537984386.\n",
      "The loss for step 2000 is 155315.66544951912.\n",
      "The loss for step 3000 is 155004.33586212376.\n",
      "The loss for step 4000 is 154674.34281532824.\n",
      "The loss for step 5000 is 154387.79259280802.\n",
      "The loss for step 6000 is 154101.83194901032.\n",
      "The loss for step 7000 is 153823.46406898653.\n",
      "The loss for step 8000 is 153513.88397693832.\n",
      "The loss for step 9000 is 153232.95163012337.\n",
      "Gamma: 1e-05 || Categorical accuracy train :  0.7034650693635968  || f1_score train:  0.3146472154301826\n",
      "Gamma: 1e-05 || Categorical accuracy test :  0.7032940610723731  || f1_score test:  0.3110659898477157\n",
      "The loss for step 0 is 155993.39660230803.\n",
      "The loss for step 1000 is 152864.0482729738.\n",
      "The loss for step 2000 is 150162.40909921366.\n",
      "The loss for step 3000 is 147905.65969628483.\n",
      "The loss for step 4000 is 145819.8379011215.\n",
      "The loss for step 5000 is 144032.4732804417.\n",
      "The loss for step 6000 is 142639.12949599867.\n",
      "The loss for step 7000 is 141343.77909098178.\n",
      "The loss for step 8000 is 139985.65797980234.\n",
      "The loss for step 9000 is 138830.10392258866.\n",
      "Gamma: 0.0001 || Categorical accuracy train :  0.7080419114314407  || f1_score train:  0.314110631667266\n",
      "Gamma: 0.0001 || Categorical accuracy test :  0.707421655846758  || f1_score test:  0.3111802923659989\n",
      "The loss for step 0 is 155935.4685136066.\n",
      "The loss for step 1000 is 137661.90657096024.\n",
      "The loss for step 2000 is 130534.71589012079.\n",
      "The loss for step 3000 is 126238.820753745.\n",
      "The loss for step 4000 is 124270.73442442194.\n",
      "The loss for step 5000 is 122087.49494514929.\n",
      "The loss for step 6000 is 120709.53072819975.\n",
      "The loss for step 7000 is 119859.21187045088.\n",
      "The loss for step 8000 is 119244.28889350362.\n",
      "The loss for step 9000 is 118728.15818590093.\n",
      "Gamma: 0.001 || Categorical accuracy train :  0.7367293797712468  || f1_score train:  0.29562899261968867\n",
      "Gamma: 0.001 || Categorical accuracy test :  0.7394004969143223  || f1_score test:  0.2933351571316212\n",
      "The loss for step 0 is 155722.24645860298.\n",
      "The loss for step 1000 is 121303.39889418696.\n",
      "The loss for step 2000 is 120381.89550804172.\n",
      "The loss for step 3000 is 118978.48885464437.\n",
      "The loss for step 4000 is 117825.58894663963.\n",
      "The loss for step 5000 is 116256.50994816743.\n",
      "The loss for step 6000 is 115620.12147817257.\n",
      "The loss for step 7000 is 117619.9490652083.\n",
      "The loss for step 8000 is 116107.1781794206.\n",
      "The loss for step 9000 is 114953.70679049409.\n",
      "Gamma: 0.01 || Categorical accuracy train :  0.7480070741092932  || f1_score train:  0.31382010264863447\n",
      "Gamma: 0.01 || Categorical accuracy test :  0.7530656407790334  || f1_score test:  0.31089450705655397\n",
      "The loss for step 0 is 154562.36871596056.\n",
      "The loss for step 1000 is 134994.98461790773.\n",
      "The loss for step 2000 is 140831.1291235079.\n",
      "The loss for step 3000 is 129157.54918262185.\n",
      "The loss for step 4000 is 130325.20260572275.\n",
      "The loss for step 5000 is 140178.83867709053.\n",
      "The loss for step 6000 is 126373.04253131394.\n",
      "The loss for step 7000 is 123641.61614761151.\n",
      "The loss for step 8000 is 132551.11340257974.\n",
      "The loss for step 9000 is 140683.36810782275.\n",
      "Gamma: 0.05 || Categorical accuracy train :  0.743310256569768  || f1_score train:  0.31666423567867574\n",
      "Gamma: 0.05 || Categorical accuracy test :  0.747335096577703  || f1_score test:  0.31437449338016754\n",
      "The loss for step 0 is 161235.8051448892.\n",
      "The loss for step 1000 is 204342.75920213803.\n",
      "The loss for step 2000 is 143213.19465851085.\n",
      "The loss for step 3000 is 147894.32631215837.\n",
      "The loss for step 4000 is 175084.1425861079.\n",
      "The loss for step 5000 is 151862.473793759.\n",
      "The loss for step 6000 is 178046.00300574582.\n",
      "The loss for step 7000 is 141518.41982845034.\n",
      "The loss for step 8000 is 167332.068234501.\n",
      "The loss for step 9000 is 182000.89389162493.\n",
      "Gamma: 0.1 || Categorical accuracy train :  0.7171689343511993  || f1_score train:  0.2874189068356068\n",
      "Gamma: 0.1 || Categorical accuracy test :  0.7160775827522642  || f1_score test:  0.2823513215859031\n",
      "The loss for step 0 is 161593.33797283916.\n",
      "The loss for step 1000 is 245168.18040392353.\n",
      "The loss for step 2000 is 194289.00618946555.\n",
      "The loss for step 3000 is 262136.6068545118.\n",
      "The loss for step 4000 is 203823.4541274118.\n",
      "The loss for step 5000 is 231676.7641631987.\n",
      "The loss for step 6000 is 258689.74524245365.\n",
      "The loss for step 7000 is 214458.373934009.\n",
      "The loss for step 8000 is 233681.9405880971.\n",
      "The loss for step 9000 is 227890.52450493534.\n",
      "Gamma: 0.2 || Categorical accuracy train :  0.704233801089555  || f1_score train:  0.3541388603461453\n",
      "Gamma: 0.2 || Categorical accuracy test :  0.7032940610723731  || f1_score test:  0.3472530383812962\n",
      "The loss for step 0 is 155289.73702898604.\n",
      "The loss for step 1000 is 262003.62553245053.\n",
      "The loss for step 2000 is 329878.12586854433.\n",
      "The loss for step 3000 is 281172.66380639566.\n",
      "The loss for step 4000 is 270490.91934335243.\n",
      "The loss for step 5000 is 269477.63808639394.\n",
      "The loss for step 6000 is 268968.00257088343.\n",
      "The loss for step 7000 is 254053.44906404684.\n",
      "The loss for step 8000 is 278487.95050324476.\n",
      "The loss for step 9000 is 411832.5714168564.\n",
      "Gamma: 0.3 || Categorical accuracy train :  0.656132524017312  || f1_score train:  0.23145172064220543\n",
      "Gamma: 0.3 || Categorical accuracy test :  0.6560872004488258  || f1_score test:  0.22549333333333332\n",
      "The loss for step 0 is 193752.13990083482.\n",
      "The loss for step 1000 is 288437.0167992633.\n",
      "The loss for step 2000 is 413375.92415315117.\n",
      "The loss for step 3000 is 292145.0246671829.\n",
      "The loss for step 4000 is 447691.1986323021.\n",
      "The loss for step 5000 is 277369.3446509552.\n",
      "The loss for step 6000 is 433102.3177428015.\n",
      "The loss for step 7000 is 524464.3267081528.\n",
      "The loss for step 8000 is 319725.84160686086.\n",
      "The loss for step 9000 is 416477.9910281388.\n",
      "Gamma: 0.31 || Categorical accuracy train :  0.6795943940349973  || f1_score train:  0.3091770380582802\n",
      "Gamma: 0.31 || Categorical accuracy test :  0.6806524004167669  || f1_score test:  0.3045250713412148\n",
      "The loss for step 0 is 153414.268108161.\n",
      "The loss for step 1000 is 365907.9099800825.\n",
      "The loss for step 2000 is 327345.8399117837.\n",
      "The loss for step 3000 is 299619.2611162249.\n",
      "The loss for step 4000 is 721838.2151644212.\n",
      "The loss for step 5000 is 297830.7014178617.\n",
      "The loss for step 6000 is 305185.40541198355.\n",
      "The loss for step 7000 is 312755.92816973967.\n",
      "The loss for step 8000 is 349229.09038879233.\n",
      "The loss for step 9000 is 341980.52314396825.\n",
      "Gamma: 0.32 || Categorical accuracy train :  0.6633754876780747  || f1_score train:  0.2720072484076922\n",
      "Gamma: 0.32 || Categorical accuracy test :  0.6628596617776709  || f1_score test:  0.26575856557092226\n",
      "The loss for step 0 is 210664.4743018263.\n",
      "The loss for step 1000 is 516321.9911956092.\n",
      "The loss for step 2000 is 515097.3044499312.\n",
      "The loss for step 3000 is 320061.11549983826.\n",
      "The loss for step 4000 is 373194.81200377527.\n",
      "The loss for step 5000 is 292713.3677391654.\n",
      "The loss for step 6000 is 346430.25639230857.\n",
      "The loss for step 7000 is 345327.0004135163.\n",
      "The loss for step 8000 is 421615.956314031.\n",
      "The loss for step 9000 is 397441.60080217384.\n",
      "Gamma: 0.33 || Categorical accuracy train :  0.6854731921473832  || f1_score train:  0.27575401188337284\n",
      "Gamma: 0.33 || Categorical accuracy test :  0.6882664101947583  || f1_score test:  0.27032647119983366\n",
      "The loss for step 0 is 158769.89969357412.\n",
      "The loss for step 1000 is 476171.6413273211.\n",
      "The loss for step 2000 is 405332.0194990497.\n",
      "The loss for step 3000 is 299428.3333928501.\n",
      "The loss for step 4000 is 463064.31944409467.\n",
      "The loss for step 5000 is 310387.3148660335.\n",
      "The loss for step 6000 is 424435.50791145244.\n",
      "The loss for step 7000 is 428947.3052761287.\n",
      "The loss for step 8000 is 408339.9328264131.\n",
      "The loss for step 9000 is 451236.6073169144.\n",
      "Gamma: 0.34 || Categorical accuracy train :  0.7254739031131413  || f1_score train:  0.35903530998778643\n",
      "Gamma: 0.34 || Categorical accuracy test :  0.7291816943175443  || f1_score test:  0.356180626461579\n",
      "The loss for step 0 is 156084.44585910294.\n",
      "The loss for step 1000 is 370385.69989892765.\n",
      "The loss for step 2000 is 404396.05676667014.\n",
      "The loss for step 3000 is 328234.50269902346.\n",
      "The loss for step 4000 is 399253.37883449683.\n",
      "The loss for step 5000 is 411526.17268812447.\n",
      "The loss for step 6000 is 556650.0113095283.\n",
      "The loss for step 7000 is 351069.2972066754.\n",
      "The loss for step 8000 is 346110.6118554935.\n",
      "The loss for step 9000 is 349152.4868530255.\n",
      "Gamma: 0.4 || Categorical accuracy train :  0.701674324360353  || f1_score train:  0.32413533750600393\n",
      "Gamma: 0.4 || Categorical accuracy test :  0.7037749459004569  || f1_score test:  0.32151745476558824\n",
      "The loss for step 0 is 211322.3219555252.\n",
      "The loss for step 1000 is 847746.8269653519.\n",
      "The loss for step 2000 is 514183.8923550586.\n",
      "The loss for step 3000 is 622062.5964538226.\n",
      "The loss for step 4000 is 562028.1905619658.\n",
      "The loss for step 5000 is 424027.5721843787.\n",
      "The loss for step 6000 is 512399.98637458944.\n",
      "The loss for step 7000 is 482605.1085536735.\n",
      "The loss for step 8000 is 789364.7034653944.\n",
      "The loss for step 9000 is 496282.6121929048.\n",
      "Gamma: 0.5 || Categorical accuracy train :  0.7100503896981062  || f1_score train:  0.3179601400665952\n",
      "Gamma: 0.5 || Categorical accuracy test :  0.70942534263044  || f1_score test:  0.3123224671987015\n",
      "[0.7000702078686135, 0.6995725318379353, 0.7034650693635968, 0.7080419114314407, 0.7367293797712468, 0.7480070741092932, 0.743310256569768, 0.7171689343511993, 0.704233801089555, 0.656132524017312, 0.6795943940349973, 0.6633754876780747, 0.6854731921473832, 0.7254739031131413, 0.701674324360353, 0.7100503896981062]\n",
      "[0.7009297106676284, 0.699647351126072, 0.7032940610723731, 0.707421655846758, 0.7394004969143223, 0.7530656407790334, 0.747335096577703, 0.7160775827522642, 0.7032940610723731, 0.6560872004488258, 0.6806524004167669, 0.6628596617776709, 0.6882664101947583, 0.7291816943175443, 0.7037749459004569, 0.70942534263044]\n"
     ]
    }
   ],
   "source": [
    "y_train_log = np.copy(y_train)\n",
    "y_train_log = np.where(y_train_log==-1, 0, y_train_log)\n",
    "\n",
    "y_test_log = np.copy(y_test)\n",
    "y_test_log = np.where(y_test_log==-1, 0, y_test_log)\n",
    "\n",
    "gammas = [0.0000001, 0.000001, 0.00001, 0.0001, 0.001, 0.01, 0.05, 0.1, 0.2, 0.3, 0.31, 0.32, 0.33, 0.34, 0.4, 0.5]\n",
    "weights_result_5 = []\n",
    "accuracies_train_5 = []\n",
    "accuracies_test_5 = []\n",
    "for gamma in gammas:\n",
    "    weights_LR = logistic_regression(y_train_log, x_train, np.zeros(31), 10000, gamma)[0]\n",
    "    cat_accuracy_train, f1_score_train = metrics(y_train_log, predict_labels(weights_LR, x_train))\n",
    "    cat_accuracy_test, f1_score_test = metrics(y_test_log, predict_labels(weights_LR, x_test))\n",
    "    \n",
    "    print(\"Gamma: \" + str(gamma) + \" || Categorical accuracy train : \",cat_accuracy_train,\" || f1_score train: \",f1_score_train)\n",
    "    print(\"Gamma: \" + str(gamma) + \" || Categorical accuracy test : \",cat_accuracy_test,\" || f1_score test: \",f1_score_test)\n",
    "    weights_result_5.append(weights_LR)\n",
    "    accuracies_train_5.append(cat_accuracy_train)\n",
    "    accuracies_test_5.append(cat_accuracy_test)\n",
    "    \n",
    "print(accuracies_train_5)\n",
    "print(accuracies_test_5)"
   ]
  },
  {
   "cell_type": "code",
   "execution_count": 221,
   "metadata": {},
   "outputs": [
    {
     "name": "stdout",
     "output_type": "stream",
     "text": [
      "Best performance: gamma  0.01 , train accuracy:  0.7480070741092932 , test accuracy:  0.7530656407790334\n"
     ]
    }
   ],
   "source": [
    "print(\"Best performance: gamma \", gammas[np.argmax(accuracies_test_5)], \", train accuracy: \", accuracies_train_5[np.argmax(accuracies_test_5)], \", test accuracy: \", accuracies_test_5[np.argmax(accuracies_test_5)])"
   ]
  },
  {
   "cell_type": "code",
   "execution_count": 222,
   "metadata": {},
   "outputs": [
    {
     "data": {
      "image/png": "[encoded data removed]",
      "text/plain": [
       "<Figure size 432x288 with 1 Axes>"
      ]
     },
     "metadata": {
      "needs_background": "light"
     },
     "output_type": "display_data"
    }
   ],
   "source": [
    "plt.plot(gammas[:8], accuracies_train_5[:8], label=\"train\")\n",
    "plt.plot(gammas[:8], accuracies_test_5[:8], label=\"test\")\n",
    "plt.xscale(\"log\")\n",
    "plt.xlabel(\"Gamma\")\n",
    "plt.ylabel(\"Categorical accuracy\")\n",
    "plt.title(\"Categorical accuracy for Logistic Regression\")\n",
    "plt.legend()\n",
    "plt.show()"
   ]
  },
  {
   "cell_type": "code",
   "execution_count": 62,
   "metadata": {},
   "outputs": [],
   "source": [
    "y_train_log = np.copy(y_train)\n",
    "y_train_log = np.where(y_train_log==-1, 0, y_train_log)\n",
    "\n",
    "y_test_log = np.copy(y_test)\n",
    "y_test_log = np.where(y_test_log==-1, 0, y_test_log)"
   ]
  },
  {
   "cell_type": "code",
   "execution_count": 66,
   "metadata": {},
   "outputs": [
    {
     "name": "stdout",
     "output_type": "stream",
     "text": [
      "The loss for step 0 is 147005.43077788234.\n",
      "The loss for step 500 is 173873.86903986018.\n",
      "The loss for step 1000 is 173220.00586432236.\n",
      "The loss for step 1500 is 149184.0855405997.\n",
      "The loss for step 2000 is 136699.01978409037.\n",
      "The loss for step 2500 is 140102.15854321962.\n",
      "The loss for step 3000 is 129843.51219496729.\n",
      "The loss for step 3500 is 126047.39225069282.\n",
      "The loss for step 4000 is 141845.40856899193.\n",
      "The loss for step 4500 is 152595.87276415888.\n",
      "The loss for step 0 is 133769.89446855383.\n",
      "The loss for step 500 is 131248.89635826973.\n",
      "The loss for step 1000 is 190587.9012323714.\n",
      "The loss for step 1500 is 137364.6946862666.\n",
      "The loss for step 2000 is 132883.346348958.\n",
      "The loss for step 2500 is 145768.37675616363.\n",
      "The loss for step 3000 is 161200.7796164515.\n",
      "The loss for step 3500 is 135991.13420186282.\n",
      "The loss for step 4000 is 144532.83500636442.\n",
      "The loss for step 4500 is 125255.23819831829.\n",
      "The loss for step 0 is 133998.1594856299.\n",
      "The loss for step 500 is 155048.37803205496.\n",
      "The loss for step 1000 is 146179.29107442286.\n",
      "The loss for step 1500 is 157315.52986705612.\n",
      "The loss for step 2000 is 129395.38094984341.\n",
      "The loss for step 2500 is 131716.36371108837.\n",
      "The loss for step 3000 is 141391.72162883787.\n",
      "The loss for step 3500 is 120581.37399487084.\n",
      "The loss for step 4000 is 143917.58711652225.\n",
      "The loss for step 4500 is 142731.7555232786.\n",
      "The loss for step 0 is 145288.64001724965.\n",
      "The loss for step 500 is 171700.25040338392.\n",
      "The loss for step 1000 is 149557.8916609428.\n",
      "The loss for step 1500 is 139346.4448041814.\n",
      "The loss for step 2000 is 130466.3423380717.\n",
      "The loss for step 2500 is 179437.9242286532.\n",
      "The loss for step 3000 is 167424.84784809314.\n",
      "The loss for step 3500 is 149653.34002567065.\n",
      "The loss for step 4000 is 173355.1305797867.\n",
      "The loss for step 4500 is 150593.42981048796.\n",
      "The loss for step 0 is 146765.18675785218.\n",
      "The loss for step 500 is 144566.21388191904.\n",
      "The loss for step 1000 is 143407.93247218305.\n",
      "The loss for step 1500 is 139118.537035727.\n",
      "The loss for step 2000 is 153522.0638598976.\n",
      "The loss for step 2500 is 149144.70820565626.\n",
      "The loss for step 3000 is 143355.41445554237.\n",
      "The loss for step 3500 is 139064.17691171568.\n",
      "The loss for step 4000 is 128781.97001151908.\n",
      "The loss for step 4500 is 151864.1536388921.\n",
      "Gamma: 0.1 || Categorical accuracy train : ( 0.7068109999999999 ,  0.01715847236790035 )\n",
      "Gamma: 0.1 || Categorical accuracy test : ( 0.70634 ,  0.017216963727672792 )\n",
      "The loss for step 0 is 145314.73466141475.\n",
      "The loss for step 500 is 360273.0262642357.\n",
      "The loss for step 1000 is 244049.54040953284.\n",
      "The loss for step 1500 is 182638.40919577458.\n",
      "The loss for step 2000 is 226179.62044239065.\n",
      "The loss for step 2500 is 201559.30175315362.\n",
      "The loss for step 3000 is 366483.104684312.\n",
      "The loss for step 3500 is 242684.8087997454.\n",
      "The loss for step 4000 is 191953.82667829085.\n",
      "The loss for step 4500 is 177957.93910298697.\n",
      "The loss for step 0 is 128968.44704183498.\n",
      "The loss for step 500 is 200295.42500344757.\n",
      "The loss for step 1000 is 174544.27409835265.\n",
      "The loss for step 1500 is 235675.78073303902.\n",
      "The loss for step 2000 is 177445.27054428743.\n",
      "The loss for step 2500 is 205974.8479509494.\n",
      "The loss for step 3000 is 197461.10320848413.\n",
      "The loss for step 3500 is 216597.30516069854.\n",
      "The loss for step 4000 is 253830.36418085985.\n",
      "The loss for step 4500 is 207617.85923214265.\n",
      "The loss for step 0 is 133781.43348633888.\n",
      "The loss for step 500 is 268624.64594747976.\n",
      "The loss for step 1000 is 207487.90510164635.\n",
      "The loss for step 1500 is 158823.1023655892.\n",
      "The loss for step 2000 is 167307.05147365585.\n",
      "The loss for step 2500 is 158505.35698489854.\n",
      "The loss for step 3000 is 277606.5730090176.\n",
      "The loss for step 3500 is 245154.21474113181.\n",
      "The loss for step 4000 is 221542.47991567917.\n",
      "The loss for step 4500 is 191550.92369880664.\n",
      "The loss for step 0 is 150769.06277978895.\n",
      "The loss for step 500 is 258649.63356676546.\n",
      "The loss for step 1000 is 259451.2312062221.\n",
      "The loss for step 1500 is 190076.2985008196.\n",
      "The loss for step 2000 is 172401.05697286.\n",
      "The loss for step 2500 is 196762.9125498552.\n",
      "The loss for step 3000 is 429551.81090848055.\n",
      "The loss for step 3500 is 256720.26705353163.\n",
      "The loss for step 4000 is 192174.7461508773.\n",
      "The loss for step 4500 is 178750.6410404243.\n",
      "The loss for step 0 is 135857.11450033408.\n",
      "The loss for step 500 is 197901.03831233262.\n",
      "The loss for step 1000 is 205901.25524406036.\n",
      "The loss for step 1500 is 195804.94278619852.\n",
      "The loss for step 2000 is 181935.20883405066.\n",
      "The loss for step 2500 is 211843.55704980768.\n",
      "The loss for step 3000 is 215571.07619740337.\n",
      "The loss for step 3500 is 189841.23190338718.\n",
      "The loss for step 4000 is 224218.08390180912.\n",
      "The loss for step 4500 is 173059.69657897385.\n",
      "Gamma: 0.2 || Categorical accuracy train : ( 0.702088 ,  0.018109432514576477 )\n",
      "Gamma: 0.2 || Categorical accuracy test : ( 0.7013159999999999 ,  0.017749277844464527 )\n",
      "The loss for step 0 is 152389.50861460608.\n",
      "The loss for step 500 is 304610.4185077817.\n",
      "The loss for step 1000 is 289797.834776907.\n",
      "The loss for step 1500 is 257076.13278755167.\n",
      "The loss for step 2000 is 342019.99249358574.\n",
      "The loss for step 2500 is 765502.7018022543.\n",
      "The loss for step 3000 is 382723.9521179622.\n",
      "The loss for step 3500 is 307472.7751180666.\n",
      "The loss for step 4000 is 304402.2792086776.\n",
      "The loss for step 4500 is 319847.5029280386.\n",
      "The loss for step 0 is 150738.0461425232.\n",
      "The loss for step 500 is 261673.69028823488.\n",
      "The loss for step 1000 is 234237.25520527738.\n",
      "The loss for step 1500 is 370899.8576594461.\n",
      "The loss for step 2000 is 293281.9732585976.\n",
      "The loss for step 2500 is 281930.72914630163.\n",
      "The loss for step 3000 is 385708.4550877364.\n",
      "The loss for step 3500 is 277110.646741346.\n",
      "The loss for step 4000 is 283778.3684829303.\n",
      "The loss for step 4500 is 363262.1960361627.\n",
      "The loss for step 0 is 170721.9149538122.\n",
      "The loss for step 500 is 281478.55643309176.\n",
      "The loss for step 1000 is 272178.5013206164.\n",
      "The loss for step 1500 is 365001.57868589717.\n",
      "The loss for step 2000 is 233938.17955198348.\n",
      "The loss for step 2500 is 287855.1803870489.\n",
      "The loss for step 3000 is 342596.2007282059.\n",
      "The loss for step 3500 is 224104.70500162698.\n",
      "The loss for step 4000 is 229490.22905851528.\n",
      "The loss for step 4500 is 276971.46200662036.\n",
      "The loss for step 0 is 136013.47480020244.\n",
      "The loss for step 500 is 333764.60439699853.\n",
      "The loss for step 1000 is 242696.1544304147.\n",
      "The loss for step 1500 is 388877.85761764075.\n",
      "The loss for step 2000 is 266102.8772188331.\n",
      "The loss for step 2500 is 282459.12205427233.\n",
      "The loss for step 3000 is 322078.78743969277.\n",
      "The loss for step 3500 is 292225.8087585182.\n",
      "The loss for step 4000 is 261666.04069704545.\n",
      "The loss for step 4500 is 285251.4535264436.\n",
      "The loss for step 0 is 154241.85081962106.\n",
      "The loss for step 500 is 274990.36991823744.\n",
      "The loss for step 1000 is 264192.85245451645.\n",
      "The loss for step 1500 is 232274.08628240388.\n",
      "The loss for step 2000 is 231882.38104427923.\n",
      "The loss for step 2500 is 242208.74593532807.\n",
      "The loss for step 3000 is 270009.899411634.\n",
      "The loss for step 3500 is 327391.3953425971.\n",
      "The loss for step 4000 is 289239.44167542213.\n",
      "The loss for step 4500 is 319255.51762942376.\n",
      "Gamma: 0.3 || Categorical accuracy train : ( 0.684474 ,  0.022947579915973695 )\n",
      "Gamma: 0.3 || Categorical accuracy test : ( 0.683836 ,  0.022375148357050057 )\n",
      "The loss for step 0 is 171724.07695080532.\n",
      "The loss for step 500 is 287931.90301372943.\n",
      "The loss for step 1000 is 368072.7835298524.\n",
      "The loss for step 1500 is 320663.282638988.\n",
      "The loss for step 2000 is 377737.2833443838.\n",
      "The loss for step 2500 is 336408.55479734443.\n",
      "The loss for step 3000 is 303184.1355814268.\n",
      "The loss for step 3500 is 387482.0651653358.\n",
      "The loss for step 4000 is 285155.6329209226.\n",
      "The loss for step 4500 is 470978.54461088206.\n",
      "The loss for step 0 is 163891.1508264321.\n",
      "The loss for step 500 is 416531.8890152112.\n",
      "The loss for step 1000 is 339636.3244114349.\n",
      "The loss for step 1500 is 253464.11938680423.\n",
      "The loss for step 2000 is 440218.8770900684.\n",
      "The loss for step 2500 is 238232.79832649365.\n",
      "The loss for step 3000 is 286495.38115281693.\n",
      "The loss for step 3500 is 300338.2077408847.\n",
      "The loss for step 4000 is 287677.4631294848.\n",
      "The loss for step 4500 is 521095.81529337517.\n",
      "The loss for step 0 is 131200.30909489142.\n",
      "The loss for step 500 is 290553.42888125486.\n",
      "The loss for step 1000 is 305755.06302680756.\n",
      "The loss for step 1500 is 317383.5061424352.\n",
      "The loss for step 2000 is 350547.6139203455.\n",
      "The loss for step 2500 is 294032.0551152439.\n",
      "The loss for step 3000 is 262589.5545032482.\n",
      "The loss for step 3500 is 329162.8442882549.\n",
      "The loss for step 4000 is 370064.5144338849.\n",
      "The loss for step 4500 is 255434.9842964556.\n",
      "The loss for step 0 is 162739.11054895737.\n",
      "The loss for step 500 is 272755.73583679995.\n",
      "The loss for step 1000 is 383414.0694589616.\n",
      "The loss for step 1500 is 338563.0996774021.\n",
      "The loss for step 2000 is 317981.57611086837.\n",
      "The loss for step 2500 is 528575.6481632391.\n",
      "The loss for step 3000 is 405185.4331275562.\n",
      "The loss for step 3500 is 293048.0177847764.\n",
      "The loss for step 4000 is 226665.46091361946.\n",
      "The loss for step 4500 is 352847.9620711564.\n",
      "The loss for step 0 is 131686.53441183356.\n",
      "The loss for step 500 is 272295.53198715404.\n",
      "The loss for step 1000 is 281769.3610823529.\n",
      "The loss for step 1500 is 342424.2541072301.\n",
      "The loss for step 2000 is 312544.26074638055.\n",
      "The loss for step 2500 is 338106.4938592819.\n",
      "The loss for step 3000 is 218197.12613798637.\n",
      "The loss for step 3500 is 316783.55344077037.\n",
      "The loss for step 4000 is 233685.0701149409.\n",
      "The loss for step 4500 is 283617.1865998793.\n",
      "Gamma: 0.35 || Categorical accuracy train : ( 0.68267 ,  0.03351656948436099 )\n",
      "Gamma: 0.35 || Categorical accuracy test : ( 0.6835280000000001 ,  0.03389469244586828 )\n",
      "The loss for step 0 is 192870.37241286182.\n",
      "The loss for step 500 is 480900.14368529577.\n",
      "The loss for step 1000 is 511294.3784266941.\n",
      "The loss for step 1500 is 376924.04124399717.\n",
      "The loss for step 2000 is 357216.43581373314.\n",
      "The loss for step 2500 is 415570.0829084803.\n",
      "The loss for step 3000 is 344250.1666234109.\n",
      "The loss for step 3500 is 362349.1804244495.\n",
      "The loss for step 4000 is 421644.6625950403.\n",
      "The loss for step 4500 is 311231.54473964847.\n",
      "The loss for step 0 is 338881.7476878505.\n",
      "The loss for step 500 is 441019.0922843841.\n",
      "The loss for step 1000 is 440791.7616339597.\n",
      "The loss for step 1500 is 331398.1822882776.\n",
      "The loss for step 2000 is 387313.9385310582.\n",
      "The loss for step 2500 is 447341.08381999494.\n",
      "The loss for step 3000 is 806876.1085620252.\n",
      "The loss for step 3500 is 403807.056661366.\n",
      "The loss for step 4000 is 230806.97498593922.\n",
      "The loss for step 4500 is 518051.9314776423.\n",
      "The loss for step 0 is 161370.2293926222.\n",
      "The loss for step 500 is 336458.90449754195.\n",
      "The loss for step 1000 is 437533.53018569865.\n",
      "The loss for step 1500 is 360821.129762104.\n",
      "The loss for step 2000 is 407501.2514078613.\n",
      "The loss for step 2500 is 540541.2043945142.\n",
      "The loss for step 3000 is 449480.93340764346.\n",
      "The loss for step 3500 is 442295.8982362703.\n",
      "The loss for step 4000 is 423362.0107798354.\n",
      "The loss for step 4500 is 339329.38310087373.\n",
      "The loss for step 0 is 147474.58484515423.\n",
      "The loss for step 500 is 607151.252952797.\n",
      "The loss for step 1000 is 387457.5290786049.\n",
      "The loss for step 1500 is 413974.19560695963.\n",
      "The loss for step 2000 is 351272.07037043705.\n",
      "The loss for step 2500 is 417146.2602288684.\n",
      "The loss for step 3000 is 522082.41577596636.\n",
      "The loss for step 3500 is 276519.9063220096.\n",
      "The loss for step 4000 is 318497.9024699084.\n",
      "The loss for step 4500 is 740922.1510159217.\n",
      "The loss for step 0 is 148607.12116976635.\n",
      "The loss for step 500 is 335055.2748274359.\n",
      "The loss for step 1000 is 335090.68837011885.\n",
      "The loss for step 1500 is 355200.2853457155.\n",
      "The loss for step 2000 is 371567.3454989182.\n",
      "The loss for step 2500 is 413745.72640912037.\n",
      "The loss for step 3000 is 349123.0644109369.\n",
      "The loss for step 3500 is 355071.74179392285.\n",
      "The loss for step 4000 is 728184.8764699403.\n",
      "The loss for step 4500 is 310698.0708481121.\n",
      "Gamma: 0.4 || Categorical accuracy train : ( 0.652189 ,  0.015829891471516797 )\n",
      "Gamma: 0.4 || Categorical accuracy test : ( 0.652492 ,  0.017691189219495678 )\n",
      "The loss for step 0 is 163985.91810051806.\n",
      "The loss for step 500 is 341316.7546148596.\n",
      "The loss for step 1000 is 534459.3234926884.\n",
      "The loss for step 1500 is 446033.9254116966.\n",
      "The loss for step 2000 is 582783.5618860458.\n",
      "The loss for step 2500 is 794244.5244050549.\n",
      "The loss for step 3000 is 482598.37629618857.\n",
      "The loss for step 3500 is 510295.0193545797.\n",
      "The loss for step 4000 is 526306.191563949.\n",
      "The loss for step 4500 is 565579.0976888654.\n",
      "The loss for step 0 is 235733.76044240387.\n",
      "The loss for step 500 is 500221.02235727594.\n",
      "The loss for step 1000 is 442573.4567701305.\n",
      "The loss for step 1500 is 431734.8540617322.\n",
      "The loss for step 2000 is 742126.3115593728.\n",
      "The loss for step 2500 is 420411.4160069902.\n",
      "The loss for step 3000 is 623829.3000059745.\n",
      "The loss for step 3500 is 431188.0864145396.\n",
      "The loss for step 4000 is 439805.6321539609.\n",
      "The loss for step 4500 is 485664.75401357445.\n",
      "The loss for step 0 is 229211.012491993.\n",
      "The loss for step 500 is 443824.2823715017.\n",
      "The loss for step 1000 is 423553.44021471223.\n",
      "The loss for step 1500 is 322190.8692059937.\n",
      "The loss for step 2000 is 474187.6498384872.\n",
      "The loss for step 2500 is 287247.29957365186.\n",
      "The loss for step 3000 is 472522.3653757785.\n",
      "The loss for step 3500 is 462022.87537825655.\n",
      "The loss for step 4000 is 543585.80001554.\n",
      "The loss for step 4500 is 478276.65632651374.\n",
      "The loss for step 0 is 177376.28307794355.\n",
      "The loss for step 500 is 524821.8685787881.\n",
      "The loss for step 1000 is 362553.09232292895.\n",
      "The loss for step 1500 is 403352.7494390465.\n",
      "The loss for step 2000 is 756914.7955895832.\n",
      "The loss for step 2500 is 360143.55101348937.\n",
      "The loss for step 3000 is 439112.0955147599.\n",
      "The loss for step 3500 is 352323.21623554575.\n",
      "The loss for step 4000 is 591701.0275247183.\n",
      "The loss for step 4500 is 339868.626138953.\n",
      "The loss for step 0 is 137399.02842933973.\n",
      "The loss for step 500 is 479997.04258639296.\n",
      "The loss for step 1000 is 401960.52191823634.\n",
      "The loss for step 1500 is 423497.8590945838.\n",
      "The loss for step 2000 is 416650.5611996291.\n",
      "The loss for step 2500 is 511771.5097532035.\n",
      "The loss for step 3000 is 632998.604229799.\n",
      "The loss for step 3500 is 467985.9300182994.\n",
      "The loss for step 4000 is 365725.461097979.\n",
      "The loss for step 4500 is 519326.4605451023.\n",
      "Gamma: 0.5 || Categorical accuracy train : ( 0.695343 ,  0.021463926155296024 )\n",
      "Gamma: 0.5 || Categorical accuracy test : ( 0.6955560000000001 ,  0.021948825572225942 )\n",
      "[0.7006840000000001, 0.7068329999999999, 0.725808, 0.739528, 0.7315039999999999, 0.7068109999999999, 0.702088, 0.684474, 0.68267, 0.652189, 0.695343]\n",
      "[0.70082, 0.707164, 0.725564, 0.739304, 0.73182, 0.70634, 0.7013159999999999, 0.683836, 0.6835280000000001, 0.652492, 0.6955560000000001]\n",
      "[0.0007671075543885681, 0.003416203448274102, 0.002934466902181688, 0.003534420178756334, 0.011746022901390901, 0.01715847236790035, 0.018109432514576477, 0.022947579915973695, 0.03351656948436099, 0.015829891471516797, 0.021463926155296024]\n",
      "[0.0017847800984995613, 0.0035837946369734934, 0.0036046947166161036, 0.005038260017109079, 0.013401128310705779, 0.017216963727672792, 0.017749277844464527, 0.022375148357050057, 0.03389469244586828, 0.017691189219495678, 0.021948825572225942]\n"
     ]
    }
   ],
   "source": [
    "gammas = [0.00001, 0.0001, 0.001, 0.01, 0.05, 0.1, 0.2, 0.3, 0.35, 0.4, 0.5]\n",
    "accuracies_train_mean6 = []\n",
    "accuracies_test_mean6 = []\n",
    "accuracies_train_std6 = []\n",
    "accuracies_test_std6 = []\n",
    "for gamma in gammas:\n",
    "    cat_accuracies_train, cat_accuracies_test = logistic_regression_cv(y_train_log, x_train, np.zeros(31), 5000, gamma)\n",
    "    \n",
    "    print(\"Gamma: \" + str(gamma) + \" || Categorical accuracy train : (\",np.mean(cat_accuracies_train),\", \", np.std(cat_accuracies_train),\")\")\n",
    "    print(\"Gamma: \" + str(gamma) + \" || Categorical accuracy test : (\",np.mean(cat_accuracies_test),\", \", np.std(cat_accuracies_test),\")\")\n",
    "    accuracies_train_mean6.append(np.mean(cat_accuracies_train))\n",
    "    accuracies_test_mean6.append(np.mean(cat_accuracies_test))\n",
    "    accuracies_train_std6.append(np.std(cat_accuracies_train))\n",
    "    accuracies_test_std6.append(np.std(cat_accuracies_test))\n",
    "    \n",
    "print(accuracies_train_mean6)\n",
    "print(accuracies_test_mean6)\n",
    "print(accuracies_train_std6)\n",
    "print(accuracies_test_std6)"
   ]
  },
  {
   "cell_type": "code",
   "execution_count": 72,
   "metadata": {},
   "outputs": [
    {
     "name": "stdout",
     "output_type": "stream",
     "text": [
      "[0.7006840000000001, 0.7068329999999999, 0.725808, 0.739528, 0.7315039999999999, 0.7068109999999999, 0.702088, 0.684474, 0.68267, 0.652189, 0.695343]\n",
      "[0.70082, 0.707164, 0.725564, 0.739304, 0.73182, 0.70634, 0.7013159999999999, 0.683836, 0.6835280000000001, 0.652492, 0.6955560000000001]\n",
      "[0.0007671075543885681, 0.003416203448274102, 0.002934466902181688, 0.003534420178756334, 0.011746022901390901, 0.01715847236790035, 0.018109432514576477, 0.022947579915973695, 0.03351656948436099, 0.015829891471516797, 0.021463926155296024]\n",
      "[0.0017847800984995613, 0.0035837946369734934, 0.0036046947166161036, 0.005038260017109079, 0.013401128310705779, 0.017216963727672792, 0.017749277844464527, 0.022375148357050057, 0.03389469244586828, 0.017691189219495678, 0.021948825572225942]\n"
     ]
    },
    {
     "data": {
      "image/png": "[encoded data removed]",
      "text/plain": [
       "<Figure size 432x288 with 1 Axes>"
      ]
     },
     "metadata": {
      "needs_background": "light"
     },
     "output_type": "display_data"
    }
   ],
   "source": [
    "print(accuracies_train_mean6)\n",
    "print(accuracies_test_mean6)\n",
    "print(accuracies_train_std6)\n",
    "print(accuracies_test_std6)\n",
    "\n",
    "plt.errorbar(gammas[:], accuracies_train_mean6[:], yerr=accuracies_train_std6[:], label=\"train\")\n",
    "plt.errorbar(gammas[:], accuracies_test_mean6[:], yerr=accuracies_test_std6[:], label=\"test\")\n",
    "plt.xscale(\"log\")\n",
    "plt.xlabel(\"Gamma\")\n",
    "plt.ylabel(\"Categorical accuracy\")\n",
    "plt.title(\"Categorical accuracy for Logistic Regression\")\n",
    "plt.legend()\n",
    "plt.show()"
   ]
  },
  {
   "cell_type": "code",
   "execution_count": 71,
   "metadata": {},
   "outputs": [
    {
     "name": "stdout",
     "output_type": "stream",
     "text": [
      "Best performance: gamma  0.01 , train accuracy:  0.739528 , test accuracy:  0.739304 , std:  0.003534420178756334\n"
     ]
    }
   ],
   "source": [
    "gammas = [0.00001, 0.0001, 0.001, 0.01, 0.05, 0.1, 0.2, 0.3, 0.35, 0.4, 0.5]\n",
    "print(\"Best performance: gamma \", gammas[np.argmax(accuracies_train_mean6)], \", train accuracy: \", accuracies_train_mean6[np.argmax(accuracies_train_mean6)], \", test accuracy: \", accuracies_test_mean6[np.argmax(accuracies_train_mean6)], \", std: \", accuracies_train_std6[np.argmax(accuracies_train_mean6)])"
   ]
  },
  {
   "cell_type": "code",
   "execution_count": 58,
   "metadata": {},
   "outputs": [],
   "source": [
    "y_train_log = np.copy(y_train)\n",
    "y_train_log = np.where(y_train_log==-1, 0, y_train_log)"
   ]
  },
  {
   "cell_type": "code",
   "execution_count": 73,
   "metadata": {},
   "outputs": [
    {
     "name": "stdout",
     "output_type": "stream",
     "text": [
      "The loss for step 0 is 138775.68988087037.\n",
      "The loss for step 500 is 116744.65861552053.\n",
      "The loss for step 1000 is 107442.8309220059.\n",
      "The loss for step 1500 is 105252.11024957613.\n",
      "The loss for step 2000 is 133121.13572423125.\n",
      "The loss for step 2500 is 109985.98089335207.\n",
      "The loss for step 3000 is 106524.08997813454.\n",
      "The loss for step 3500 is 104502.68490073398.\n",
      "The loss for step 4000 is 103164.36259639809.\n",
      "The loss for step 4500 is 104326.57310225695.\n",
      "Wall time: 1min 17s\n",
      "[-0.90906672 -0.25327141 -0.69622693 -0.56236294  0.32446871 -0.10569927\n",
      "  0.12432682 -0.06207718  0.79446163 -0.08182467  0.07363604 -0.46041125\n",
      "  0.33356426  0.0354029   0.47751836  0.00794709 -0.00415608  0.3314193\n",
      "  0.15561382  0.01637708  0.17182487  0.09943165 -0.34730518  0.03544712\n",
      " -0.18954729  0.00555886 -0.09720198 -0.15257085  0.11811588 -0.09703519\n",
      " -0.09681555]\n"
     ]
    }
   ],
   "source": [
    "%time weights_LR = logistic_regression(y_train_log[0], x_train[0], np.zeros(31), 5000, 0.01)[0]\n",
    "print(weights_LR)"
   ]
  },
  {
   "cell_type": "markdown",
   "metadata": {},
   "source": [
    "## Regularized logistic regression"
   ]
  },
  {
   "cell_type": "code",
   "execution_count": 101,
   "metadata": {},
   "outputs": [],
   "source": [
    "def reg_logistic_regression_cv(y_train, x_train, lambda_, w_i, max_iter, gamma):\n",
    "    cat_accuracies_train = []\n",
    "    cat_accuracies_test = []\n",
    "    f1_scores_train = []\n",
    "    f1_scores_test = []\n",
    "    for i in range(num_folds):\n",
    "        weights = reg_logistic_regression(y_train[i], x_train[i], lambda_, w_i, max_iter, gamma)[0]\n",
    "        cat_accuracy_train, f1_score_train = metrics(y_train[i], predict_labels(weights, x_train[i]))\n",
    "        cat_accuracy_test, f1_score_test = metrics(y_test[i], predict_labels(weights, x_test[i]))\n",
    "        cat_accuracies_train.append(cat_accuracy_train)\n",
    "        cat_accuracies_test.append(cat_accuracy_test)\n",
    "        f1_scores_train.append(f1_score_train)\n",
    "        f1_scores_test.append(f1_score_test)\n",
    "    return cat_accuracies_train, cat_accuracies_test"
   ]
  },
  {
   "cell_type": "code",
   "execution_count": 104,
   "metadata": {},
   "outputs": [
    {
     "name": "stdout",
     "output_type": "stream",
     "text": [
      "The loss for step 0 is 138094.39284539782.\n",
      "The loss for step 500 is 110774.99091734077.\n",
      "The loss for step 1000 is 106794.78351195043.\n",
      "The loss for step 1500 is 105122.93973763101.\n",
      "The loss for step 2000 is 105697.87315580342.\n",
      "The loss for step 2500 is 104763.20706231704.\n",
      "The loss for step 3000 is 108441.4842630534.\n",
      "The loss for step 3500 is 103710.67729831095.\n",
      "The loss for step 4000 is 103002.93284247883.\n",
      "The loss for step 4500 is 104949.70863596132.\n",
      "Wall time: 1min 24s\n",
      "[-0.68670293 -0.01873236 -0.58381652 -0.34170032  0.08434848  0.07012641\n",
      "  0.28795161  0.02719103  0.51828044 -0.12703247  0.16964973 -0.41195066\n",
      "  0.32552896  0.20793587  0.49672123 -0.04047384 -0.0842403   0.31357342\n",
      "  0.03929911 -0.0482054   0.1442309   0.11073408 -0.0161264   0.0298651\n",
      "  0.00185587  0.03930165 -0.04049998 -0.16759714 -0.06650038  0.0398133\n",
      "  0.0162456 ]\n"
     ]
    }
   ],
   "source": [
    "%time weights_RLR = reg_logistic_regression(y_train_log[0], x_train[0], 0.01, np.zeros(31), 5000, 0.01)[0]\n",
    "print(weights_RLR)"
   ]
  },
  {
   "cell_type": "code",
   "execution_count": 102,
   "metadata": {},
   "outputs": [
    {
     "name": "stdout",
     "output_type": "stream",
     "text": [
      "The loss for step 0 is 138666.6603444086.\n",
      "The loss for step 500 is 126949.72278931359.\n",
      "The loss for step 1000 is 121379.85563202035.\n",
      "The loss for step 1500 is 118041.29009851534.\n",
      "The loss for step 2000 is 115602.27426073822.\n",
      "The loss for step 2500 is 113647.21854068818.\n",
      "The loss for step 3000 is 112284.72542397924.\n",
      "The loss for step 3500 is 111010.61631400573.\n",
      "The loss for step 4000 is 110237.23416583946.\n",
      "The loss for step 4500 is 109782.0488742209.\n",
      "The loss for step 0 is 138600.65850651692.\n",
      "The loss for step 500 is 129896.58137887983.\n",
      "The loss for step 1000 is 124060.06335768841.\n",
      "The loss for step 1500 is 119642.11521976437.\n",
      "The loss for step 2000 is 116818.54006013751.\n",
      "The loss for step 2500 is 115251.61187760512.\n",
      "The loss for step 3000 is 113831.68181245294.\n",
      "The loss for step 3500 is 112654.77696883136.\n",
      "The loss for step 4000 is 111562.14050698013.\n",
      "The loss for step 4500 is 110364.36336241734.\n",
      "The loss for step 0 is 138667.05733324005.\n",
      "The loss for step 500 is 128930.27239554406.\n",
      "The loss for step 1000 is 122844.35616344678.\n",
      "The loss for step 1500 is 119155.65155173591.\n",
      "The loss for step 2000 is 115855.86132416708.\n",
      "The loss for step 2500 is 114151.19752562299.\n",
      "The loss for step 3000 is 112438.42593263375.\n",
      "The loss for step 3500 is 111112.161895614.\n",
      "The loss for step 4000 is 110354.51242642144.\n",
      "The loss for step 4500 is 109409.45722467935.\n",
      "The loss for step 0 is 138568.38496234905.\n",
      "The loss for step 500 is 128146.54685732555.\n",
      "The loss for step 1000 is 123006.14800705193.\n",
      "The loss for step 1500 is 118383.4448261308.\n",
      "The loss for step 2000 is 115731.48270659355.\n",
      "The loss for step 2500 is 113637.55539295859.\n",
      "The loss for step 3000 is 112529.93550192114.\n",
      "The loss for step 3500 is 111074.13766216999.\n",
      "The loss for step 4000 is 109900.68061778427.\n",
      "The loss for step 4500 is 109091.53910494466.\n",
      "The loss for step 0 is 138614.17986353193.\n",
      "The loss for step 500 is 127846.43761831657.\n",
      "The loss for step 1000 is 122707.64311215725.\n",
      "The loss for step 1500 is 118636.48393567966.\n",
      "The loss for step 2000 is 116118.21776669132.\n",
      "The loss for step 2500 is 113473.18363602777.\n",
      "The loss for step 3000 is 111928.52311711563.\n",
      "The loss for step 3500 is 110736.02737098394.\n",
      "The loss for step 4000 is 109978.26938469589.\n",
      "The loss for step 4500 is 108985.38702263791.\n",
      "Lambda: 0.01Gamma: 0.001 || Categorical accuracy train : ( 0.724057 ,  0.0038773349094449136 )\n",
      "Lambda: 0.01Gamma: 0.001 || Categorical accuracy test : ( 0.7243080000000001 ,  0.004461006164532837 )\n",
      "The loss for step 0 is 137878.00724996335.\n",
      "The loss for step 500 is 111546.081061025.\n",
      "The loss for step 1000 is 108957.32995791007.\n",
      "The loss for step 1500 is 107298.79563481106.\n",
      "The loss for step 2000 is 106370.24528486027.\n",
      "The loss for step 2500 is 106503.64182448394.\n",
      "The loss for step 3000 is 104665.46513430572.\n",
      "The loss for step 3500 is 104344.7262474779.\n",
      "The loss for step 4000 is 104031.3268813168.\n",
      "The loss for step 4500 is 105264.86523206817.\n",
      "The loss for step 0 is 138565.48156880657.\n",
      "The loss for step 500 is 109376.45894470965.\n",
      "The loss for step 1000 is 107596.80125754543.\n",
      "The loss for step 1500 is 108302.6754047932.\n",
      "The loss for step 2000 is 107115.10233714644.\n",
      "The loss for step 2500 is 106218.74489052453.\n",
      "The loss for step 3000 is 104530.65749570087.\n",
      "The loss for step 3500 is 104562.29064074716.\n",
      "The loss for step 4000 is 104388.0358501918.\n",
      "The loss for step 4500 is 104400.06117067594.\n",
      "The loss for step 0 is 137706.71778417192.\n",
      "The loss for step 500 is 111703.7076149217.\n",
      "The loss for step 1000 is 107173.19001135825.\n",
      "The loss for step 1500 is 108326.61115239613.\n",
      "The loss for step 2000 is 107145.45617883722.\n",
      "The loss for step 2500 is 107168.38384576909.\n",
      "The loss for step 3000 is 105458.51057676435.\n",
      "The loss for step 3500 is 104735.14813788493.\n",
      "The loss for step 4000 is 104584.17231506229.\n",
      "The loss for step 4500 is 109930.40717651599.\n",
      "The loss for step 0 is 138125.30059458766.\n",
      "The loss for step 500 is 110383.17320300663.\n",
      "The loss for step 1000 is 110284.8227679381.\n",
      "The loss for step 1500 is 105170.12422631866.\n",
      "The loss for step 2000 is 105100.9699622695.\n",
      "The loss for step 2500 is 104798.20267657668.\n",
      "The loss for step 3000 is 105244.17564881116.\n",
      "The loss for step 3500 is 103286.46352721872.\n",
      "The loss for step 4000 is 102992.250074078.\n",
      "The loss for step 4500 is 105914.21044434898.\n",
      "The loss for step 0 is 138352.3327734441.\n",
      "The loss for step 500 is 112717.87613315166.\n",
      "The loss for step 1000 is 106418.21075210666.\n",
      "The loss for step 1500 is 105235.58750170411.\n",
      "The loss for step 2000 is 105221.30835362748.\n",
      "The loss for step 2500 is 109862.12726068877.\n",
      "The loss for step 3000 is 105123.72411155491.\n",
      "The loss for step 3500 is 104848.83911367686.\n",
      "The loss for step 4000 is 103591.93626181445.\n",
      "The loss for step 4500 is 103304.20141806731.\n",
      "Lambda: 0.01Gamma: 0.01 || Categorical accuracy train : ( 0.7397349999999999 ,  0.0032121332475474927 )\n",
      "Lambda: 0.01Gamma: 0.01 || Categorical accuracy test : ( 0.7401359999999999 ,  0.0027695313683004366 )\n",
      "The loss for step 0 is 142278.05104242335.\n",
      "The loss for step 500 is 121985.09362601965.\n",
      "The loss for step 1000 is 120317.03592681169.\n",
      "The loss for step 1500 is 125352.85981586184.\n",
      "The loss for step 2000 is 115662.49293179663.\n",
      "The loss for step 2500 is 113852.85726664998.\n",
      "The loss for step 3000 is 123395.33718844247.\n",
      "The loss for step 3500 is 114807.30398030707.\n",
      "The loss for step 4000 is 115205.99352531962.\n",
      "The loss for step 4500 is 111663.08697799279.\n",
      "The loss for step 0 is 134879.60254750276.\n",
      "The loss for step 500 is 114172.90957143405.\n",
      "The loss for step 1000 is 119225.38986970365.\n",
      "The loss for step 1500 is 111145.57232018303.\n",
      "The loss for step 2000 is 109011.75576088637.\n",
      "The loss for step 2500 is 123026.61010157394.\n",
      "The loss for step 3000 is 114858.64620850579.\n",
      "The loss for step 3500 is 115712.34534548504.\n",
      "The loss for step 4000 is 127121.79378172643.\n",
      "The loss for step 4500 is 126530.09850852734.\n",
      "The loss for step 0 is 140926.37321403463.\n",
      "The loss for step 500 is 135833.41915850094.\n",
      "The loss for step 1000 is 117155.53829593748.\n",
      "The loss for step 1500 is 118381.25809140093.\n",
      "The loss for step 2000 is 111001.8257574237.\n",
      "The loss for step 2500 is 112173.11008622752.\n",
      "The loss for step 3000 is 109635.94133375076.\n",
      "The loss for step 3500 is 112177.06435972257.\n",
      "The loss for step 4000 is 117476.94509139587.\n",
      "The loss for step 4500 is 115864.34364569781.\n",
      "The loss for step 0 is 135799.57161879342.\n",
      "The loss for step 500 is 113422.43244845388.\n",
      "The loss for step 1000 is 126680.06578131931.\n",
      "The loss for step 1500 is 115837.85421546108.\n",
      "The loss for step 2000 is 117102.11487498188.\n",
      "The loss for step 2500 is 127229.26988278459.\n",
      "The loss for step 3000 is 118337.35535497531.\n",
      "The loss for step 3500 is 118647.29267555579.\n",
      "The loss for step 4000 is 117572.08889502609.\n",
      "The loss for step 4500 is 120024.59171068373.\n",
      "The loss for step 0 is 134912.7658932004.\n",
      "The loss for step 500 is 122397.1960701282.\n",
      "The loss for step 1000 is 135427.58367634186.\n",
      "The loss for step 1500 is 115144.81886350106.\n",
      "The loss for step 2000 is 110990.46137219452.\n",
      "The loss for step 2500 is 119212.45609604592.\n",
      "The loss for step 3000 is 111344.63608828695.\n",
      "The loss for step 3500 is 116493.42487774199.\n",
      "The loss for step 4000 is 110656.13957838516.\n",
      "The loss for step 4500 is 110402.70608734417.\n",
      "Lambda: 0.01Gamma: 0.05 || Categorical accuracy train : ( 0.714253 ,  0.023919985911367108 )\n",
      "Lambda: 0.01Gamma: 0.05 || Categorical accuracy test : ( 0.7137600000000001 ,  0.023402721209295305 )\n",
      "The loss for step 0 is 138551.83365665548.\n",
      "The loss for step 500 is 130038.97122182699.\n",
      "The loss for step 1000 is 127114.7166157632.\n",
      "The loss for step 1500 is 125359.09438784554.\n",
      "The loss for step 2000 is 124362.38826415397.\n",
      "The loss for step 2500 is 124361.65381881421.\n",
      "The loss for step 3000 is 124380.21486380836.\n",
      "The loss for step 3500 is 124071.35573967997.\n",
      "The loss for step 4000 is 123927.2676820767.\n",
      "The loss for step 4500 is 124071.73127143615.\n",
      "The loss for step 0 is 138644.15593786404.\n",
      "The loss for step 500 is 130974.12047023537.\n",
      "The loss for step 1000 is 125852.28092343251.\n",
      "The loss for step 1500 is 125446.77577822523.\n",
      "The loss for step 2000 is 124880.37174979795.\n",
      "The loss for step 2500 is 124366.28472786958.\n",
      "The loss for step 3000 is 124168.12264470926.\n",
      "The loss for step 3500 is 124461.28078288365.\n",
      "The loss for step 4000 is 124136.50243583434.\n",
      "The loss for step 4500 is 125189.85809699718.\n",
      "The loss for step 0 is 138638.35217067512.\n",
      "The loss for step 500 is 129656.82390198427.\n",
      "The loss for step 1000 is 126914.15284949382.\n",
      "The loss for step 1500 is 125601.94454236064.\n",
      "The loss for step 2000 is 125434.25054060834.\n",
      "The loss for step 2500 is 125129.56455711645.\n",
      "The loss for step 3000 is 124242.37036141101.\n",
      "The loss for step 3500 is 124486.32479577244.\n",
      "The loss for step 4000 is 124792.18768227458.\n",
      "The loss for step 4500 is 124692.51395064352.\n",
      "The loss for step 0 is 138566.00790878295.\n",
      "The loss for step 500 is 129798.88125451977.\n",
      "The loss for step 1000 is 127554.9625029496.\n",
      "The loss for step 1500 is 125595.85876148252.\n",
      "The loss for step 2000 is 124438.28902994934.\n",
      "The loss for step 2500 is 124537.44733619732.\n",
      "The loss for step 3000 is 124572.42266984544.\n",
      "The loss for step 3500 is 123672.51006921922.\n",
      "The loss for step 4000 is 124952.40551441269.\n",
      "The loss for step 4500 is 124533.69278436546.\n",
      "The loss for step 0 is 138640.60482619266.\n",
      "The loss for step 500 is 129265.57879419347.\n",
      "The loss for step 1000 is 126366.41949138643.\n",
      "The loss for step 1500 is 124938.96410263996.\n",
      "The loss for step 2000 is 124008.3515199324.\n",
      "The loss for step 2500 is 124022.20532326984.\n",
      "The loss for step 3000 is 124482.95300251953.\n",
      "The loss for step 3500 is 124831.25716669066.\n",
      "The loss for step 4000 is 124197.48594609492.\n",
      "The loss for step 4500 is 123703.97438260911.\n",
      "Lambda: 1.0Gamma: 0.001 || Categorical accuracy train : ( 0.7099179999999999 ,  0.006108650096379712 )\n",
      "Lambda: 1.0Gamma: 0.001 || Categorical accuracy test : ( 0.709588 ,  0.005519718833418944 )\n",
      "The loss for step 0 is 137821.68954092066.\n",
      "The loss for step 500 is 125380.79248916982.\n",
      "The loss for step 1000 is 126389.3263262443.\n",
      "The loss for step 1500 is 125183.47285825356.\n",
      "The loss for step 2000 is 123225.29547536491.\n",
      "The loss for step 2500 is 125742.85147984857.\n",
      "The loss for step 3000 is 126094.5640148729.\n",
      "The loss for step 3500 is 121764.47793844614.\n",
      "The loss for step 4000 is 126449.86757158353.\n",
      "The loss for step 4500 is 122635.19977573604.\n",
      "The loss for step 0 is 138779.7522489088.\n",
      "The loss for step 500 is 124654.57519671737.\n",
      "The loss for step 1000 is 126120.42055593243.\n",
      "The loss for step 1500 is 123610.18627364511.\n",
      "The loss for step 2000 is 127698.00000788398.\n",
      "The loss for step 2500 is 124564.77636963077.\n",
      "The loss for step 3000 is 123401.72994896467.\n",
      "The loss for step 3500 is 124250.85955060208.\n",
      "The loss for step 4000 is 130943.92660994754.\n",
      "The loss for step 4500 is 125246.94851193484.\n",
      "The loss for step 0 is 138638.66775311902.\n",
      "The loss for step 500 is 125203.70710906002.\n",
      "The loss for step 1000 is 126568.57595358219.\n",
      "The loss for step 1500 is 128654.22473358049.\n",
      "The loss for step 2000 is 123317.7242959926.\n",
      "The loss for step 2500 is 125184.49444545503.\n",
      "The loss for step 3000 is 126991.41431050241.\n",
      "The loss for step 3500 is 126821.6357686536.\n",
      "The loss for step 4000 is 125869.08320167338.\n",
      "The loss for step 4500 is 124375.81096793781.\n",
      "The loss for step 0 is 137905.6189403373.\n",
      "The loss for step 500 is 125534.7851055838.\n",
      "The loss for step 1000 is 123736.92342953518.\n",
      "The loss for step 1500 is 124322.9342569794.\n",
      "The loss for step 2000 is 123418.26262001712.\n",
      "The loss for step 2500 is 124043.22402200814.\n",
      "The loss for step 3000 is 124932.18980879679.\n",
      "The loss for step 3500 is 123497.76160141955.\n",
      "The loss for step 4000 is 123611.71150539342.\n",
      "The loss for step 4500 is 123373.3575268606.\n",
      "The loss for step 0 is 138492.17853619342.\n",
      "The loss for step 500 is 130413.07305765002.\n",
      "The loss for step 1000 is 127746.45727283512.\n",
      "The loss for step 1500 is 126951.4892207171.\n",
      "The loss for step 2000 is 122340.3333219279.\n",
      "The loss for step 2500 is 125002.89287716629.\n",
      "The loss for step 3000 is 122782.43044204332.\n",
      "The loss for step 3500 is 124594.59439262486.\n",
      "The loss for step 4000 is 125853.20751692353.\n",
      "The loss for step 4500 is 125016.25611164345.\n",
      "Lambda: 1.0Gamma: 0.01 || Categorical accuracy train : ( 0.692365 ,  0.015046745495288996 )\n",
      "Lambda: 1.0Gamma: 0.01 || Categorical accuracy test : ( 0.691884 ,  0.015227813500302665 )\n",
      "The loss for step 0 is 137907.03543688616.\n",
      "The loss for step 500 is 131284.04490784937.\n",
      "The loss for step 1000 is 133999.05458880804.\n",
      "The loss for step 1500 is 134532.85643068037.\n",
      "The loss for step 2000 is 131858.0545977484.\n",
      "The loss for step 2500 is 132661.0171146244.\n",
      "The loss for step 3000 is 130799.88724813453.\n",
      "The loss for step 3500 is 132758.45564966736.\n",
      "The loss for step 4000 is 127485.6364050614.\n",
      "The loss for step 4500 is 124302.48073211375.\n",
      "The loss for step 0 is 136431.0238694619.\n",
      "The loss for step 500 is 127077.1502945282.\n",
      "The loss for step 1000 is 132467.68126157648.\n",
      "The loss for step 1500 is 139208.6002912878.\n",
      "The loss for step 2000 is 125531.12480118642.\n",
      "The loss for step 2500 is 124842.49456174491.\n",
      "The loss for step 3000 is 126803.32739935572.\n",
      "The loss for step 3500 is 127902.52455425764.\n",
      "The loss for step 4000 is 131528.823806833.\n",
      "The loss for step 4500 is 133051.4666646724.\n",
      "The loss for step 0 is 135232.56230753494.\n",
      "The loss for step 500 is 129414.88708693958.\n",
      "The loss for step 1000 is 127293.74974240907.\n",
      "The loss for step 1500 is 131223.9428916232.\n",
      "The loss for step 2000 is 131361.50051409283.\n",
      "The loss for step 2500 is 126838.88622482622.\n",
      "The loss for step 3000 is 137109.42244178258.\n",
      "The loss for step 3500 is 143378.62586374325.\n",
      "The loss for step 4000 is 142250.50304636508.\n",
      "The loss for step 4500 is 127049.54353184793.\n",
      "The loss for step 0 is 141336.89441642148.\n",
      "The loss for step 500 is 123786.50462388073.\n",
      "The loss for step 1000 is 128959.1278895042.\n",
      "The loss for step 1500 is 121445.8426594863.\n",
      "The loss for step 2000 is 141899.11122772496.\n",
      "The loss for step 2500 is 128619.95348735293.\n",
      "The loss for step 3000 is 127704.88884803637.\n",
      "The loss for step 3500 is 127298.19848589064.\n",
      "The loss for step 4000 is 132441.2238990945.\n",
      "The loss for step 4500 is 124125.1068852675.\n",
      "The loss for step 0 is 140359.07362960314.\n",
      "The loss for step 500 is 131972.26525482986.\n",
      "The loss for step 1000 is 129379.7174116046.\n",
      "The loss for step 1500 is 123660.1150694139.\n",
      "The loss for step 2000 is 126669.52548083746.\n",
      "The loss for step 2500 is 134920.08812956768.\n",
      "The loss for step 3000 is 125163.6371450828.\n",
      "The loss for step 3500 is 123634.03221790922.\n",
      "The loss for step 4000 is 136359.26696737824.\n",
      "The loss for step 4500 is 128988.97710266487.\n",
      "Lambda: 1.0Gamma: 0.05 || Categorical accuracy train : ( 0.61894 ,  0.060276231799939205 )\n",
      "Lambda: 1.0Gamma: 0.05 || Categorical accuracy test : ( 0.6198680000000001 ,  0.058413986818227015 )\n",
      "The loss for step 0 is 138636.79221992558.\n",
      "The loss for step 500 is 138111.45394494862.\n",
      "The loss for step 1000 is 138279.56022711008.\n",
      "The loss for step 1500 is 138380.65276225406.\n",
      "The loss for step 2000 is 138417.48107898247.\n",
      "The loss for step 2500 is 138177.9309785584.\n",
      "The loss for step 3000 is 138486.54512131432.\n",
      "The loss for step 3500 is 138063.80837747362.\n",
      "The loss for step 4000 is 138363.8172120967.\n",
      "The loss for step 4500 is 138464.50255465155.\n",
      "The loss for step 0 is 138666.02111500298.\n",
      "The loss for step 500 is 138153.7826517506.\n",
      "The loss for step 1000 is 138347.1611886353.\n",
      "The loss for step 1500 is 138133.30690494546.\n",
      "The loss for step 2000 is 138282.15349987833.\n",
      "The loss for step 2500 is 138512.61290004643.\n",
      "The loss for step 3000 is 138465.73231099214.\n",
      "The loss for step 3500 is 138633.55524134572.\n",
      "The loss for step 4000 is 138068.31453098918.\n",
      "The loss for step 4500 is 138365.1420471001.\n",
      "The loss for step 0 is 138507.0027054142.\n",
      "The loss for step 500 is 138400.13746421953.\n",
      "The loss for step 1000 is 138285.99716806153.\n",
      "The loss for step 1500 is 138306.39546410122.\n",
      "The loss for step 2000 is 138595.6943243923.\n",
      "The loss for step 2500 is 138378.89720190788.\n",
      "The loss for step 3000 is 138685.90162788925.\n",
      "The loss for step 3500 is 138332.34248856863.\n",
      "The loss for step 4000 is 138272.68177524483.\n",
      "The loss for step 4500 is 138382.4325616032.\n",
      "The loss for step 0 is 138428.52204924152.\n",
      "The loss for step 500 is 138347.15882941463.\n",
      "The loss for step 1000 is 138263.63199018285.\n",
      "The loss for step 1500 is 138078.0846617226.\n",
      "The loss for step 2000 is 138572.60965753568.\n",
      "The loss for step 2500 is 138285.1054808831.\n",
      "The loss for step 3000 is 138490.21359103193.\n",
      "The loss for step 3500 is 138160.68778228984.\n",
      "The loss for step 4000 is 138290.86134650628.\n",
      "The loss for step 4500 is 138286.1320301148.\n",
      "The loss for step 0 is 138731.38728313564.\n",
      "The loss for step 500 is 138539.0360906842.\n",
      "The loss for step 1000 is 138406.12359789468.\n",
      "The loss for step 1500 is 138574.07111388043.\n",
      "The loss for step 2000 is 137863.59880648946.\n",
      "The loss for step 2500 is 138671.77480835214.\n",
      "The loss for step 3000 is 138206.21248470203.\n",
      "The loss for step 3500 is 138172.15595981298.\n",
      "The loss for step 4000 is 138275.30996814652.\n",
      "The loss for step 4500 is 138431.6577360953.\n",
      "Lambda: 100.0Gamma: 0.001 || Categorical accuracy train : ( 0.670322 ,  0.024742454728664282 )\n",
      "Lambda: 100.0Gamma: 0.001 || Categorical accuracy test : ( 0.670192 ,  0.025754631738776637 )\n",
      "The loss for step 0 is 137817.9546470763.\n",
      "The loss for step 500 is 138709.68214892337.\n",
      "The loss for step 1000 is 138326.5364065458.\n",
      "The loss for step 1500 is 137913.5223786142.\n",
      "The loss for step 2000 is 137655.90078762526.\n",
      "The loss for step 2500 is 137634.05809681278.\n",
      "The loss for step 3000 is 137848.33783348606.\n",
      "The loss for step 3500 is 137705.6395638881.\n",
      "The loss for step 4000 is 137917.37712521187.\n",
      "The loss for step 4500 is 139021.51382607708.\n",
      "The loss for step 0 is 138181.17753984543.\n",
      "The loss for step 500 is 138218.50514819584.\n",
      "The loss for step 1000 is 137813.04546890297.\n",
      "The loss for step 1500 is 138319.56803111997.\n",
      "The loss for step 2000 is 137817.50634086886.\n",
      "The loss for step 2500 is 138197.39205968482.\n",
      "The loss for step 3000 is 138045.28824149916.\n",
      "The loss for step 3500 is 138916.38078659732.\n",
      "The loss for step 4000 is 137916.18411307954.\n",
      "The loss for step 4500 is 137705.46959327022.\n",
      "The loss for step 0 is 139068.56125195447.\n",
      "The loss for step 500 is 138069.38200592165.\n",
      "The loss for step 1000 is 137638.06258389735.\n",
      "The loss for step 1500 is 138728.40896738158.\n",
      "The loss for step 2000 is 138555.855028733.\n",
      "The loss for step 2500 is 137973.62356108509.\n",
      "The loss for step 3000 is 137872.04501101008.\n",
      "The loss for step 3500 is 139596.9342851696.\n",
      "The loss for step 4000 is 139623.57404977566.\n",
      "The loss for step 4500 is 138436.83242758614.\n",
      "The loss for step 0 is 136805.88542869582.\n",
      "The loss for step 500 is 138259.09600418454.\n",
      "The loss for step 1000 is 138402.9130819556.\n",
      "The loss for step 1500 is 139183.51841562678.\n",
      "The loss for step 2000 is 138415.596260295.\n",
      "The loss for step 2500 is 138248.93370470445.\n",
      "The loss for step 3000 is 137844.76724730857.\n",
      "The loss for step 3500 is 138114.16906681165.\n",
      "The loss for step 4000 is 137815.40178044885.\n",
      "The loss for step 4500 is 138585.0964887812.\n",
      "The loss for step 0 is 138858.85033428998.\n",
      "The loss for step 500 is 138485.47649848342.\n",
      "The loss for step 1000 is 138683.69725126974.\n",
      "The loss for step 1500 is 138835.80380863525.\n",
      "The loss for step 2000 is 137776.20334205852.\n",
      "The loss for step 2500 is 139205.688300261.\n",
      "The loss for step 3000 is 139161.50226979284.\n",
      "The loss for step 3500 is 138041.4607169852.\n",
      "The loss for step 4000 is 138617.36075702342.\n",
      "The loss for step 4500 is 138720.64580544896.\n",
      "Lambda: 100.0Gamma: 0.01 || Categorical accuracy train : ( 0.6072750000000001 ,  0.04505318912130414 )\n",
      "Lambda: 100.0Gamma: 0.01 || Categorical accuracy test : ( 0.606796 ,  0.04632595540299196 )\n",
      "The loss for step 0 is 136579.2986776532.\n"
     ]
    },
    {
     "name": "stderr",
     "output_type": "stream",
     "text": [
      "C:\\Users\\ruben\\git\\ML\\implementations.py:121: RuntimeWarning: overflow encountered in double_scalars\n",
      "  loss = compute_loss_log_reg(y,tx,w) + lambda_/2*np.dot(w.T,w)\n"
     ]
    },
    {
     "name": "stdout",
     "output_type": "stream",
     "text": [
      "The loss for step 500 is inf.\n"
     ]
    },
    {
     "name": "stderr",
     "output_type": "stream",
     "text": [
      "C:\\Users\\ruben\\git\\ML\\implementations.py:299: RuntimeWarning: overflow encountered in multiply\n",
      "  grad = compute_gradient_log_reg(y[rand_ind], tx[rand_ind], ws) + lambda_*ws\n"
     ]
    },
    {
     "name": "stdout",
     "output_type": "stream",
     "text": [
      "The loss for step 1000 is nan.\n",
      "The loss for step 1500 is nan.\n",
      "The loss for step 2000 is nan.\n",
      "The loss for step 2500 is nan.\n",
      "The loss for step 3000 is nan.\n",
      "The loss for step 3500 is nan.\n",
      "The loss for step 4000 is nan.\n",
      "The loss for step 4500 is nan.\n"
     ]
    },
    {
     "name": "stderr",
     "output_type": "stream",
     "text": [
      "C:\\Users\\ruben\\git\\ML\\proj1_helpers.py:157: RuntimeWarning: invalid value encountered in less_equal\n",
      "  y_pred[np.where(y_pred <= 0)] = -1\n",
      "C:\\Users\\ruben\\git\\ML\\proj1_helpers.py:158: RuntimeWarning: invalid value encountered in greater\n",
      "  y_pred[np.where(y_pred > 0)] = 1\n"
     ]
    },
    {
     "name": "stdout",
     "output_type": "stream",
     "text": [
      "The loss for step 0 is 135605.3353897098.\n",
      "The loss for step 500 is inf.\n"
     ]
    },
    {
     "name": "stderr",
     "output_type": "stream",
     "text": [
      "C:\\Users\\ruben\\git\\ML\\implementations.py:300: RuntimeWarning: invalid value encountered in subtract\n",
      "  ws = ws - gamma*grad\n"
     ]
    },
    {
     "name": "stdout",
     "output_type": "stream",
     "text": [
      "The loss for step 1000 is nan.\n",
      "The loss for step 1500 is nan.\n"
     ]
    },
    {
     "ename": "KeyboardInterrupt",
     "evalue": "",
     "output_type": "error",
     "traceback": [
      "\u001b[1;31m---------------------------------------------------------------------------\u001b[0m",
      "\u001b[1;31mKeyboardInterrupt\u001b[0m                         Traceback (most recent call last)",
      "\u001b[1;32m<ipython-input-102-97021f5f8c85>\u001b[0m in \u001b[0;36m<module>\u001b[1;34m\u001b[0m\n\u001b[0;32m     10\u001b[0m     \u001b[0mweights\u001b[0m \u001b[1;33m=\u001b[0m \u001b[1;33m[\u001b[0m\u001b[1;33m]\u001b[0m\u001b[1;33m\u001b[0m\u001b[1;33m\u001b[0m\u001b[0m\n\u001b[0;32m     11\u001b[0m     \u001b[1;32mfor\u001b[0m \u001b[0mgamma\u001b[0m \u001b[1;32min\u001b[0m \u001b[0mgammas\u001b[0m\u001b[1;33m:\u001b[0m\u001b[1;33m\u001b[0m\u001b[1;33m\u001b[0m\u001b[0m\n\u001b[1;32m---> 12\u001b[1;33m         \u001b[0mcat_accuracies_train\u001b[0m\u001b[1;33m,\u001b[0m \u001b[0mcat_accuracies_test\u001b[0m \u001b[1;33m=\u001b[0m \u001b[0mreg_logistic_regression_cv\u001b[0m\u001b[1;33m(\u001b[0m\u001b[0my_train_log\u001b[0m\u001b[1;33m,\u001b[0m \u001b[0mx_train\u001b[0m\u001b[1;33m,\u001b[0m \u001b[0mlambda_\u001b[0m\u001b[1;33m,\u001b[0m \u001b[0mnp\u001b[0m\u001b[1;33m.\u001b[0m\u001b[0mzeros\u001b[0m\u001b[1;33m(\u001b[0m\u001b[1;36m31\u001b[0m\u001b[1;33m)\u001b[0m\u001b[1;33m,\u001b[0m \u001b[1;36m5000\u001b[0m\u001b[1;33m,\u001b[0m \u001b[0mgamma\u001b[0m\u001b[1;33m)\u001b[0m\u001b[1;33m\u001b[0m\u001b[1;33m\u001b[0m\u001b[0m\n\u001b[0m\u001b[0;32m     13\u001b[0m \u001b[1;33m\u001b[0m\u001b[0m\n\u001b[0;32m     14\u001b[0m         \u001b[0mprint\u001b[0m\u001b[1;33m(\u001b[0m\u001b[1;34m\"Lambda: \"\u001b[0m \u001b[1;33m+\u001b[0m \u001b[0mstr\u001b[0m\u001b[1;33m(\u001b[0m\u001b[0mlambda_\u001b[0m\u001b[1;33m)\u001b[0m \u001b[1;33m+\u001b[0m \u001b[1;34m\"Gamma: \"\u001b[0m \u001b[1;33m+\u001b[0m \u001b[0mstr\u001b[0m\u001b[1;33m(\u001b[0m\u001b[0mgamma\u001b[0m\u001b[1;33m)\u001b[0m \u001b[1;33m+\u001b[0m \u001b[1;34m\" || Categorical accuracy train : (\"\u001b[0m\u001b[1;33m,\u001b[0m\u001b[0mnp\u001b[0m\u001b[1;33m.\u001b[0m\u001b[0mmean\u001b[0m\u001b[1;33m(\u001b[0m\u001b[0mcat_accuracies_train\u001b[0m\u001b[1;33m)\u001b[0m\u001b[1;33m,\u001b[0m\u001b[1;34m\", \"\u001b[0m\u001b[1;33m,\u001b[0m \u001b[0mnp\u001b[0m\u001b[1;33m.\u001b[0m\u001b[0mstd\u001b[0m\u001b[1;33m(\u001b[0m\u001b[0mcat_accuracies_train\u001b[0m\u001b[1;33m)\u001b[0m\u001b[1;33m,\u001b[0m\u001b[1;34m\")\"\u001b[0m\u001b[1;33m)\u001b[0m\u001b[1;33m\u001b[0m\u001b[1;33m\u001b[0m\u001b[0m\n",
      "\u001b[1;32m<ipython-input-101-efedb8b44589>\u001b[0m in \u001b[0;36mreg_logistic_regression_cv\u001b[1;34m(y_train, x_train, lambda_, w_i, max_iter, gamma)\u001b[0m\n\u001b[0;32m      5\u001b[0m     \u001b[0mf1_scores_test\u001b[0m \u001b[1;33m=\u001b[0m \u001b[1;33m[\u001b[0m\u001b[1;33m]\u001b[0m\u001b[1;33m\u001b[0m\u001b[1;33m\u001b[0m\u001b[0m\n\u001b[0;32m      6\u001b[0m     \u001b[1;32mfor\u001b[0m \u001b[0mi\u001b[0m \u001b[1;32min\u001b[0m \u001b[0mrange\u001b[0m\u001b[1;33m(\u001b[0m\u001b[0mnum_folds\u001b[0m\u001b[1;33m)\u001b[0m\u001b[1;33m:\u001b[0m\u001b[1;33m\u001b[0m\u001b[1;33m\u001b[0m\u001b[0m\n\u001b[1;32m----> 7\u001b[1;33m         \u001b[0mweights\u001b[0m \u001b[1;33m=\u001b[0m \u001b[0mreg_logistic_regression\u001b[0m\u001b[1;33m(\u001b[0m\u001b[0my_train\u001b[0m\u001b[1;33m[\u001b[0m\u001b[0mi\u001b[0m\u001b[1;33m]\u001b[0m\u001b[1;33m,\u001b[0m \u001b[0mx_train\u001b[0m\u001b[1;33m[\u001b[0m\u001b[0mi\u001b[0m\u001b[1;33m]\u001b[0m\u001b[1;33m,\u001b[0m \u001b[0mlambda_\u001b[0m\u001b[1;33m,\u001b[0m \u001b[0mw_i\u001b[0m\u001b[1;33m,\u001b[0m \u001b[0mmax_iter\u001b[0m\u001b[1;33m,\u001b[0m \u001b[0mgamma\u001b[0m\u001b[1;33m)\u001b[0m\u001b[1;33m[\u001b[0m\u001b[1;36m0\u001b[0m\u001b[1;33m]\u001b[0m\u001b[1;33m\u001b[0m\u001b[1;33m\u001b[0m\u001b[0m\n\u001b[0m\u001b[0;32m      8\u001b[0m         \u001b[0mcat_accuracy_train\u001b[0m\u001b[1;33m,\u001b[0m \u001b[0mf1_score_train\u001b[0m \u001b[1;33m=\u001b[0m \u001b[0mmetrics\u001b[0m\u001b[1;33m(\u001b[0m\u001b[0my_train\u001b[0m\u001b[1;33m[\u001b[0m\u001b[0mi\u001b[0m\u001b[1;33m]\u001b[0m\u001b[1;33m,\u001b[0m \u001b[0mpredict_labels\u001b[0m\u001b[1;33m(\u001b[0m\u001b[0mweights\u001b[0m\u001b[1;33m,\u001b[0m \u001b[0mx_train\u001b[0m\u001b[1;33m[\u001b[0m\u001b[0mi\u001b[0m\u001b[1;33m]\u001b[0m\u001b[1;33m)\u001b[0m\u001b[1;33m)\u001b[0m\u001b[1;33m\u001b[0m\u001b[1;33m\u001b[0m\u001b[0m\n\u001b[0;32m      9\u001b[0m         \u001b[0mcat_accuracy_test\u001b[0m\u001b[1;33m,\u001b[0m \u001b[0mf1_score_test\u001b[0m \u001b[1;33m=\u001b[0m \u001b[0mmetrics\u001b[0m\u001b[1;33m(\u001b[0m\u001b[0my_test\u001b[0m\u001b[1;33m[\u001b[0m\u001b[0mi\u001b[0m\u001b[1;33m]\u001b[0m\u001b[1;33m,\u001b[0m \u001b[0mpredict_labels\u001b[0m\u001b[1;33m(\u001b[0m\u001b[0mweights\u001b[0m\u001b[1;33m,\u001b[0m \u001b[0mx_test\u001b[0m\u001b[1;33m[\u001b[0m\u001b[0mi\u001b[0m\u001b[1;33m]\u001b[0m\u001b[1;33m)\u001b[0m\u001b[1;33m)\u001b[0m\u001b[1;33m\u001b[0m\u001b[1;33m\u001b[0m\u001b[0m\n",
      "\u001b[1;32m~\\git\\ML\\implementations.py\u001b[0m in \u001b[0;36mreg_logistic_regression\u001b[1;34m(y, tx, lambda_, initial_w, max_iters, gamma)\u001b[0m\n\u001b[0;32m    299\u001b[0m         \u001b[0mgrad\u001b[0m \u001b[1;33m=\u001b[0m \u001b[0mcompute_gradient_log_reg\u001b[0m\u001b[1;33m(\u001b[0m\u001b[0my\u001b[0m\u001b[1;33m[\u001b[0m\u001b[0mrand_ind\u001b[0m\u001b[1;33m]\u001b[0m\u001b[1;33m,\u001b[0m \u001b[0mtx\u001b[0m\u001b[1;33m[\u001b[0m\u001b[0mrand_ind\u001b[0m\u001b[1;33m]\u001b[0m\u001b[1;33m,\u001b[0m \u001b[0mws\u001b[0m\u001b[1;33m)\u001b[0m \u001b[1;33m+\u001b[0m \u001b[0mlambda_\u001b[0m\u001b[1;33m*\u001b[0m\u001b[0mws\u001b[0m\u001b[1;33m\u001b[0m\u001b[1;33m\u001b[0m\u001b[0m\n\u001b[0;32m    300\u001b[0m         \u001b[0mws\u001b[0m \u001b[1;33m=\u001b[0m \u001b[0mws\u001b[0m \u001b[1;33m-\u001b[0m \u001b[0mgamma\u001b[0m\u001b[1;33m*\u001b[0m\u001b[0mgrad\u001b[0m\u001b[1;33m\u001b[0m\u001b[1;33m\u001b[0m\u001b[0m\n\u001b[1;32m--> 301\u001b[1;33m         \u001b[0mloss\u001b[0m \u001b[1;33m=\u001b[0m \u001b[0mcompute_loss_reg_log_reg\u001b[0m\u001b[1;33m(\u001b[0m\u001b[0my\u001b[0m\u001b[1;33m,\u001b[0m \u001b[0mtx\u001b[0m\u001b[1;33m,\u001b[0m \u001b[0mws\u001b[0m\u001b[1;33m,\u001b[0m \u001b[0mlambda_\u001b[0m\u001b[1;33m)\u001b[0m\u001b[1;33m\u001b[0m\u001b[1;33m\u001b[0m\u001b[0m\n\u001b[0m\u001b[0;32m    302\u001b[0m         \u001b[1;32mif\u001b[0m \u001b[0mi\u001b[0m\u001b[1;33m%\u001b[0m\u001b[1;33m(\u001b[0m\u001b[0mmax_iters\u001b[0m\u001b[1;33m/\u001b[0m\u001b[1;36m10\u001b[0m\u001b[1;33m)\u001b[0m \u001b[1;33m==\u001b[0m \u001b[1;36m0\u001b[0m\u001b[1;33m:\u001b[0m\u001b[1;33m\u001b[0m\u001b[1;33m\u001b[0m\u001b[0m\n\u001b[0;32m    303\u001b[0m             \u001b[0mprint\u001b[0m\u001b[1;33m(\u001b[0m\u001b[1;34m\"The loss for step {} is {}.\"\u001b[0m\u001b[1;33m.\u001b[0m\u001b[0mformat\u001b[0m\u001b[1;33m(\u001b[0m\u001b[0mi\u001b[0m\u001b[1;33m,\u001b[0m \u001b[0mloss\u001b[0m\u001b[1;33m)\u001b[0m\u001b[1;33m)\u001b[0m\u001b[1;33m\u001b[0m\u001b[1;33m\u001b[0m\u001b[0m\n",
      "\u001b[1;32m~\\git\\ML\\implementations.py\u001b[0m in \u001b[0;36mcompute_loss_reg_log_reg\u001b[1;34m(y, tx, w, lambda_)\u001b[0m\n\u001b[0;32m    119\u001b[0m     \u001b[1;33m-\u001b[0m \u001b[0mw\u001b[0m\u001b[1;33m:\u001b[0m \u001b[0mweights\u001b[0m \u001b[1;32mfor\u001b[0m \u001b[0mthe\u001b[0m \u001b[0mmodel\u001b[0m\u001b[1;33m\u001b[0m\u001b[1;33m\u001b[0m\u001b[0m\n\u001b[0;32m    120\u001b[0m     \"\"\"\n\u001b[1;32m--> 121\u001b[1;33m     \u001b[0mloss\u001b[0m \u001b[1;33m=\u001b[0m \u001b[0mcompute_loss_log_reg\u001b[0m\u001b[1;33m(\u001b[0m\u001b[0my\u001b[0m\u001b[1;33m,\u001b[0m\u001b[0mtx\u001b[0m\u001b[1;33m,\u001b[0m\u001b[0mw\u001b[0m\u001b[1;33m)\u001b[0m \u001b[1;33m+\u001b[0m \u001b[0mlambda_\u001b[0m\u001b[1;33m/\u001b[0m\u001b[1;36m2\u001b[0m\u001b[1;33m*\u001b[0m\u001b[0mnp\u001b[0m\u001b[1;33m.\u001b[0m\u001b[0mdot\u001b[0m\u001b[1;33m(\u001b[0m\u001b[0mw\u001b[0m\u001b[1;33m.\u001b[0m\u001b[0mT\u001b[0m\u001b[1;33m,\u001b[0m\u001b[0mw\u001b[0m\u001b[1;33m)\u001b[0m\u001b[1;33m\u001b[0m\u001b[1;33m\u001b[0m\u001b[0m\n\u001b[0m\u001b[0;32m    122\u001b[0m     \u001b[1;32mreturn\u001b[0m \u001b[0mloss\u001b[0m\u001b[1;33m\u001b[0m\u001b[1;33m\u001b[0m\u001b[0m\n\u001b[0;32m    123\u001b[0m \u001b[1;33m\u001b[0m\u001b[0m\n",
      "\u001b[1;32m~\\git\\ML\\implementations.py\u001b[0m in \u001b[0;36mcompute_loss_log_reg\u001b[1;34m(y, tx, w)\u001b[0m\n\u001b[0;32m    103\u001b[0m     \"\"\"\n\u001b[0;32m    104\u001b[0m     \u001b[0meps\u001b[0m \u001b[1;33m=\u001b[0m \u001b[1;36m1e-15\u001b[0m\u001b[1;33m\u001b[0m\u001b[1;33m\u001b[0m\u001b[0m\n\u001b[1;32m--> 105\u001b[1;33m     \u001b[0msig\u001b[0m \u001b[1;33m=\u001b[0m \u001b[0msigmoid\u001b[0m\u001b[1;33m(\u001b[0m\u001b[0mtx\u001b[0m\u001b[1;33m.\u001b[0m\u001b[0mdot\u001b[0m\u001b[1;33m(\u001b[0m\u001b[0mw\u001b[0m\u001b[1;33m)\u001b[0m\u001b[1;33m)\u001b[0m\u001b[1;33m\u001b[0m\u001b[1;33m\u001b[0m\u001b[0m\n\u001b[0m\u001b[0;32m    106\u001b[0m     \u001b[0msig\u001b[0m \u001b[1;33m=\u001b[0m \u001b[0mnp\u001b[0m\u001b[1;33m.\u001b[0m\u001b[0mclip\u001b[0m\u001b[1;33m(\u001b[0m\u001b[0msig\u001b[0m\u001b[1;33m,\u001b[0m \u001b[0meps\u001b[0m\u001b[1;33m,\u001b[0m \u001b[1;36m1\u001b[0m\u001b[1;33m-\u001b[0m\u001b[0meps\u001b[0m\u001b[1;33m)\u001b[0m\u001b[1;33m\u001b[0m\u001b[1;33m\u001b[0m\u001b[0m\n\u001b[0;32m    107\u001b[0m \u001b[1;33m\u001b[0m\u001b[0m\n",
      "\u001b[1;32m~\\git\\ML\\implementations.py\u001b[0m in \u001b[0;36msigmoid\u001b[1;34m(x)\u001b[0m\n\u001b[0;32m     84\u001b[0m \u001b[1;33m\u001b[0m\u001b[0m\n\u001b[0;32m     85\u001b[0m \u001b[1;32mdef\u001b[0m \u001b[0msigmoid\u001b[0m\u001b[1;33m(\u001b[0m\u001b[0mx\u001b[0m\u001b[1;33m)\u001b[0m\u001b[1;33m:\u001b[0m\u001b[1;33m\u001b[0m\u001b[1;33m\u001b[0m\u001b[0m\n\u001b[1;32m---> 86\u001b[1;33m     \u001b[1;32mreturn\u001b[0m \u001b[1;36m1.0\u001b[0m \u001b[1;33m/\u001b[0m \u001b[1;33m(\u001b[0m\u001b[1;36m1\u001b[0m \u001b[1;33m+\u001b[0m \u001b[0mnp\u001b[0m\u001b[1;33m.\u001b[0m\u001b[0mexp\u001b[0m\u001b[1;33m(\u001b[0m\u001b[1;33m-\u001b[0m\u001b[0mx\u001b[0m\u001b[1;33m)\u001b[0m\u001b[1;33m)\u001b[0m\u001b[1;33m\u001b[0m\u001b[1;33m\u001b[0m\u001b[0m\n\u001b[0m\u001b[0;32m     87\u001b[0m \u001b[1;33m\u001b[0m\u001b[0m\n\u001b[0;32m     88\u001b[0m \u001b[1;32mdef\u001b[0m \u001b[0msigmoid_deriv\u001b[0m\u001b[1;33m(\u001b[0m\u001b[0mx\u001b[0m\u001b[1;33m)\u001b[0m\u001b[1;33m:\u001b[0m\u001b[1;33m\u001b[0m\u001b[1;33m\u001b[0m\u001b[0m\n",
      "\u001b[1;31mKeyboardInterrupt\u001b[0m: "
     ]
    }
   ],
   "source": [
    "gammas = [0.001, 0.01, 0.05]\n",
    "lambdas = np.logspace(-2, 2, 3)\n",
    "accuracies_train_mean7 = []\n",
    "accuracies_train_std7 = []\n",
    "accuracies_test_mean7 = []\n",
    "accuracies_test_std7 = []\n",
    "for lambda_ in lambdas:\n",
    "    accuracy_train = []\n",
    "    accuracy_test = []\n",
    "    weights = []\n",
    "    for gamma in gammas:\n",
    "        cat_accuracies_train, cat_accuracies_test = reg_logistic_regression_cv(y_train_log, x_train, lambda_, np.zeros(31), 5000, gamma)\n",
    "\n",
    "        print(\"Lambda: \" + str(lambda_) + \"Gamma: \" + str(gamma) + \" || Categorical accuracy train : (\",np.mean(cat_accuracies_train),\", \", np.std(cat_accuracies_train),\")\")\n",
    "        print(\"Lambda: \" + str(lambda_) + \"Gamma: \" + str(gamma) + \" || Categorical accuracy test : (\",np.mean(cat_accuracies_test),\", \", np.std(cat_accuracies_test),\")\")\n",
    "        accuracies_train_mean7.append(np.mean(cat_accuracies_train))\n",
    "        accuracies_test_mean7.append(np.mean(cat_accuracies_test))\n",
    "        accuracies_train_std7.append(np.std(cat_accuracies_train))\n",
    "        accuracies_test_std7.append(np.std(cat_accuracies_test))\n"
   ]
  },
  {
   "cell_type": "code",
   "execution_count": 191,
   "metadata": {},
   "outputs": [
    {
     "name": "stdout",
     "output_type": "stream",
     "text": [
      "0\n"
     ]
    },
    {
     "ename": "TypeError",
     "evalue": "list indices must be integers or slices, not tuple",
     "output_type": "error",
     "traceback": [
      "\u001b[1;31m---------------------------------------------------------------------------\u001b[0m",
      "\u001b[1;31mTypeError\u001b[0m                                 Traceback (most recent call last)",
      "\u001b[1;32m<ipython-input-191-a8c5b39db5cf>\u001b[0m in \u001b[0;36m<module>\u001b[1;34m\u001b[0m\n\u001b[0;32m      1\u001b[0m \u001b[0mbest_index\u001b[0m \u001b[1;33m=\u001b[0m \u001b[0mnp\u001b[0m\u001b[1;33m.\u001b[0m\u001b[0munravel_index\u001b[0m\u001b[1;33m(\u001b[0m\u001b[0mnp\u001b[0m\u001b[1;33m.\u001b[0m\u001b[0margmax\u001b[0m\u001b[1;33m(\u001b[0m\u001b[0mnp\u001b[0m\u001b[1;33m.\u001b[0m\u001b[0mmatrix\u001b[0m\u001b[1;33m(\u001b[0m\u001b[0maccuracies_test_6\u001b[0m\u001b[1;33m)\u001b[0m\u001b[1;33m,\u001b[0m \u001b[0maxis\u001b[0m\u001b[1;33m=\u001b[0m\u001b[1;32mNone\u001b[0m\u001b[1;33m)\u001b[0m\u001b[1;33m,\u001b[0m \u001b[0mnp\u001b[0m\u001b[1;33m.\u001b[0m\u001b[0mmatrix\u001b[0m\u001b[1;33m(\u001b[0m\u001b[0maccuracies_test_6\u001b[0m\u001b[1;33m)\u001b[0m\u001b[1;33m.\u001b[0m\u001b[0mshape\u001b[0m\u001b[1;33m)\u001b[0m\u001b[1;33m\u001b[0m\u001b[1;33m\u001b[0m\u001b[0m\n\u001b[0;32m      2\u001b[0m \u001b[0mprint\u001b[0m\u001b[1;33m(\u001b[0m\u001b[0mnp\u001b[0m\u001b[1;33m.\u001b[0m\u001b[0margmax\u001b[0m\u001b[1;33m(\u001b[0m\u001b[0maccuracies_test_6\u001b[0m\u001b[1;33m)\u001b[0m\u001b[1;33m)\u001b[0m\u001b[1;33m\u001b[0m\u001b[1;33m\u001b[0m\u001b[0m\n\u001b[1;32m----> 3\u001b[1;33m \u001b[0mprint\u001b[0m\u001b[1;33m(\u001b[0m\u001b[1;34m\"Best performance: lambda \"\u001b[0m\u001b[1;33m,\u001b[0m \u001b[0mlambdas\u001b[0m\u001b[1;33m[\u001b[0m\u001b[0mbest_index\u001b[0m\u001b[1;33m[\u001b[0m\u001b[1;36m0\u001b[0m\u001b[1;33m]\u001b[0m\u001b[1;33m]\u001b[0m\u001b[1;33m,\u001b[0m \u001b[1;34m\", gamma: \"\u001b[0m\u001b[1;33m,\u001b[0m \u001b[0mgammas\u001b[0m\u001b[1;33m[\u001b[0m\u001b[0mbest_index\u001b[0m\u001b[1;33m[\u001b[0m\u001b[1;36m1\u001b[0m\u001b[1;33m]\u001b[0m\u001b[1;33m]\u001b[0m\u001b[1;33m,\u001b[0m \u001b[1;34m\", train accuracy: \"\u001b[0m\u001b[1;33m,\u001b[0m \u001b[0maccuracies_train_6\u001b[0m\u001b[1;33m[\u001b[0m\u001b[0mbest_index\u001b[0m\u001b[1;33m]\u001b[0m\u001b[1;33m,\u001b[0m \u001b[1;34m\", test accuracy: \"\u001b[0m\u001b[1;33m,\u001b[0m \u001b[0maccuracies_test_6\u001b[0m\u001b[1;33m[\u001b[0m\u001b[0mbest_index\u001b[0m\u001b[1;33m]\u001b[0m\u001b[1;33m)\u001b[0m\u001b[1;33m\u001b[0m\u001b[1;33m\u001b[0m\u001b[0m\n\u001b[0m",
      "\u001b[1;31mTypeError\u001b[0m: list indices must be integers or slices, not tuple"
     ]
    }
   ],
   "source": [
    "best_index = np.unravel_index(np.argmax(np.matrix(accuracies_test_6), axis=None), np.matrix(accuracies_test_6).shape)\n",
    "print(np.argmax(accuracies_test_6))\n",
    "print(\"Best performance: lambda \", lambdas[best_index[0]], \", gamma: \", gammas[best_index[1]], \", train accuracy: \", accuracies_train_6[best_index], \", test accuracy: \", accuracies_test_6[best_index])"
   ]
  },
  {
   "cell_type": "code",
   "execution_count": 103,
   "metadata": {},
   "outputs": [
    {
     "name": "stdout",
     "output_type": "stream",
     "text": [
      "Best performance: train accuracy:  0.7397349999999999 , test accuracy:  0.7401359999999999 , std:  0.0027695313683004366\n"
     ]
    }
   ],
   "source": [
    "print(\"Best performance: train accuracy: \", accuracies_train_mean7[np.argmax(accuracies_train_mean7)], \", test accuracy: \", accuracies_test_mean7[np.argmax(accuracies_train_mean7)], \", std: \", accuracies_test_std7[np.argmax(accuracies_train_mean7)])"
   ]
  },
  {
   "cell_type": "code",
   "execution_count": 60,
   "metadata": {},
   "outputs": [
    {
     "name": "stdout",
     "output_type": "stream",
     "text": [
      "The loss for step 0 is 137897.0621101196.\n",
      "The loss for step 1000 is 125609.45562772293.\n",
      "The loss for step 2000 is 124730.19686155011.\n",
      "The loss for step 3000 is 123550.60856625027.\n",
      "The loss for step 4000 is 123886.0378161571.\n",
      "The loss for step 5000 is 123615.80558740675.\n",
      "The loss for step 6000 is 125856.5924602007.\n",
      "The loss for step 7000 is 123543.49426173672.\n",
      "The loss for step 8000 is 121206.11214924582.\n",
      "The loss for step 9000 is 124525.76837883987.\n",
      "Wall time: 2min 37s\n",
      "[-0.11314409  0.01622702 -0.13391721 -0.01178004  0.02223444  0.06053401\n",
      "  0.04859322 -0.06130088  0.0235683  -0.01720906  0.04047576 -0.02854431\n",
      "  0.06744779  0.08116625  0.03234255  0.00225212 -0.04502771  0.00105355\n",
      " -0.01207135  0.06345276 -0.08170612 -0.01022218  0.00730209  0.05748577\n",
      "  0.00542862  0.01541223 -0.01201087  0.00792681 -0.01296452  0.04492941\n",
      "  0.040195  ]\n"
     ]
    }
   ],
   "source": [
    "%time weights_RLR = reg_logistic_regression(y_train_log[0], x_train[0], 1, np.zeros(31), 10000, 0.01)[0]\n",
    "print(weights_RLR)"
   ]
  },
  {
   "cell_type": "markdown",
   "metadata": {},
   "source": [
    "# Advanced models"
   ]
  },
  {
   "cell_type": "markdown",
   "metadata": {},
   "source": [
    "## Categorical splitting"
   ]
  },
  {
   "cell_type": "code",
   "execution_count": 94,
   "metadata": {},
   "outputs": [],
   "source": [
    "x_train_0 = []\n",
    "x_train_1 = []\n",
    "x_train_2 = []\n",
    "x_train_3 = []\n",
    "y_train_0 = []\n",
    "y_train_1 = []\n",
    "y_train_2 = []\n",
    "y_train_3 = []\n",
    "x_test_0 = []\n",
    "x_test_1 = []\n",
    "x_test_2 = []\n",
    "x_test_3 = []\n",
    "y_test_0 = []\n",
    "y_test_1 = []\n",
    "y_test_2 = []\n",
    "y_test_3 = []\n",
    "for i in range(num_folds):\n",
    "    # Split the rows base on categories of 22th column of features which is the number of jets       \n",
    "    rows0 = x_train_ns[i][:,23]==0\n",
    "    rows1 = x_train_ns[i][:,23]==1\n",
    "    rows2 = x_train_ns[i][:,23]==2\n",
    "    rows3 = x_train_ns[i][:,23]==3\n",
    "    y0, x0 = y_train[i][rows0], x_train[i][np.where(rows0)]\n",
    "    y1, x1 = y_train[i][rows1], x_train[i][np.where(rows1)]\n",
    "    y2, x2 = y_train[i][rows2], x_train[i][np.where(rows2)]\n",
    "    y3, x3 = y_train[i][rows3], x_train[i][np.where(rows3)]\n",
    "    x_train_0.append(x0)\n",
    "    x_train_1.append(x1)\n",
    "    x_train_2.append(x2)\n",
    "    x_train_3.append(x3)\n",
    "    y_train_0.append(y0)\n",
    "    y_train_1.append(y1)\n",
    "    y_train_2.append(y2)\n",
    "    y_train_3.append(y3)\n",
    "    \n",
    "     # Split the TESTrows base on categories of 22th column of features which is the number of jets       \n",
    "    rows0 = x_test_ns[i][:,22]==0\n",
    "    rows1 = x_test_ns[i][:,23]==1\n",
    "    rows2 = x_test_ns[i][:,23]==2\n",
    "    rows3 = x_test_ns[i][:,23]==3\n",
    "    y0, x0 = y_test[i][rows0], x_test[i][np.where(rows0)]\n",
    "    y1, x1 = y_test[i][rows1], x_test[i][np.where(rows1)]\n",
    "    y2, x2 = y_test[i][rows2], x_test[i][np.where(rows2)]\n",
    "    y3, x3 = y_test[i][rows3], x_test[i][np.where(rows3)]\n",
    "    x_test_0.append(x0)\n",
    "    x_test_1.append(x1)\n",
    "    x_test_2.append(x2)\n",
    "    x_test_3.append(x3)\n",
    "    y_test_0.append(y0)\n",
    "    y_test_1.append(y1)\n",
    "    y_test_2.append(y2)\n",
    "    y_test_3.append(y3)\n"
   ]
  },
  {
   "cell_type": "code",
   "execution_count": null,
   "metadata": {},
   "outputs": [],
   "source": []
  },
  {
   "cell_type": "code",
   "execution_count": 96,
   "metadata": {},
   "outputs": [
    {
     "ename": "ZeroDivisionError",
     "evalue": "division by zero",
     "output_type": "error",
     "traceback": [
      "\u001b[1;31m---------------------------------------------------------------------------\u001b[0m",
      "\u001b[1;31mZeroDivisionError\u001b[0m                         Traceback (most recent call last)",
      "\u001b[1;32m<ipython-input-96-c4402b81dc69>\u001b[0m in \u001b[0;36m<module>\u001b[1;34m\u001b[0m\n\u001b[0;32m     11\u001b[0m \u001b[1;33m\u001b[0m\u001b[0m\n\u001b[0;32m     12\u001b[0m \u001b[1;32mfor\u001b[0m \u001b[0mlambda_\u001b[0m \u001b[1;32min\u001b[0m \u001b[0mlambdas\u001b[0m\u001b[1;33m:\u001b[0m\u001b[1;33m\u001b[0m\u001b[1;33m\u001b[0m\u001b[0m\n\u001b[1;32m---> 13\u001b[1;33m     \u001b[0mcat_accuracies_train\u001b[0m\u001b[1;33m,\u001b[0m \u001b[0mcat_accuracies_test\u001b[0m \u001b[1;33m=\u001b[0m \u001b[0mridge_regression_cv\u001b[0m\u001b[1;33m(\u001b[0m\u001b[0my_train_0\u001b[0m\u001b[1;33m,\u001b[0m \u001b[0mx_train_0\u001b[0m\u001b[1;33m,\u001b[0m \u001b[0my_test_0\u001b[0m\u001b[1;33m,\u001b[0m \u001b[0mx_test_0\u001b[0m\u001b[1;33m,\u001b[0m \u001b[0mlambda_\u001b[0m\u001b[1;33m)\u001b[0m\u001b[1;33m\u001b[0m\u001b[1;33m\u001b[0m\u001b[0m\n\u001b[0m\u001b[0;32m     14\u001b[0m \u001b[1;33m\u001b[0m\u001b[0m\n\u001b[0;32m     15\u001b[0m     \u001b[0mprint\u001b[0m\u001b[1;33m(\u001b[0m\u001b[1;34m\"Lambda: \"\u001b[0m \u001b[1;33m+\u001b[0m \u001b[0mstr\u001b[0m\u001b[1;33m(\u001b[0m\u001b[0mlambda_\u001b[0m\u001b[1;33m)\u001b[0m \u001b[1;33m+\u001b[0m \u001b[1;34m\" || Categorical accuracy train : (\"\u001b[0m\u001b[1;33m,\u001b[0m\u001b[0mnp\u001b[0m\u001b[1;33m.\u001b[0m\u001b[0mmean\u001b[0m\u001b[1;33m(\u001b[0m\u001b[0mcat_accuracies_train\u001b[0m\u001b[1;33m)\u001b[0m\u001b[1;33m,\u001b[0m\u001b[1;34m\", \"\u001b[0m\u001b[1;33m,\u001b[0m \u001b[0mnp\u001b[0m\u001b[1;33m.\u001b[0m\u001b[0mstd\u001b[0m\u001b[1;33m(\u001b[0m\u001b[0mcat_accuracies_train\u001b[0m\u001b[1;33m)\u001b[0m\u001b[1;33m,\u001b[0m\u001b[1;34m\")\"\u001b[0m\u001b[1;33m)\u001b[0m\u001b[1;33m\u001b[0m\u001b[1;33m\u001b[0m\u001b[0m\n",
      "\u001b[1;32m<ipython-input-77-b90aec48aafd>\u001b[0m in \u001b[0;36mridge_regression_cv\u001b[1;34m(y_train, x_train, y_test, x_test, lambda_)\u001b[0m\n\u001b[0;32m      7\u001b[0m         \u001b[0mweights\u001b[0m \u001b[1;33m=\u001b[0m \u001b[0mridge_regression\u001b[0m\u001b[1;33m(\u001b[0m\u001b[0my_train\u001b[0m\u001b[1;33m[\u001b[0m\u001b[0mi\u001b[0m\u001b[1;33m]\u001b[0m\u001b[1;33m,\u001b[0m \u001b[0mx_train\u001b[0m\u001b[1;33m[\u001b[0m\u001b[0mi\u001b[0m\u001b[1;33m]\u001b[0m\u001b[1;33m,\u001b[0m \u001b[0mlambda_\u001b[0m\u001b[1;33m)\u001b[0m\u001b[1;33m[\u001b[0m\u001b[1;36m0\u001b[0m\u001b[1;33m]\u001b[0m\u001b[1;33m\u001b[0m\u001b[1;33m\u001b[0m\u001b[0m\n\u001b[0;32m      8\u001b[0m         \u001b[0mcat_accuracy_train\u001b[0m\u001b[1;33m,\u001b[0m \u001b[0mf1_score_train\u001b[0m \u001b[1;33m=\u001b[0m \u001b[0mmetrics\u001b[0m\u001b[1;33m(\u001b[0m\u001b[0my_train\u001b[0m\u001b[1;33m[\u001b[0m\u001b[0mi\u001b[0m\u001b[1;33m]\u001b[0m\u001b[1;33m,\u001b[0m \u001b[0mpredict_labels\u001b[0m\u001b[1;33m(\u001b[0m\u001b[0mweights\u001b[0m\u001b[1;33m,\u001b[0m \u001b[0mx_train\u001b[0m\u001b[1;33m[\u001b[0m\u001b[0mi\u001b[0m\u001b[1;33m]\u001b[0m\u001b[1;33m)\u001b[0m\u001b[1;33m)\u001b[0m\u001b[1;33m\u001b[0m\u001b[1;33m\u001b[0m\u001b[0m\n\u001b[1;32m----> 9\u001b[1;33m         \u001b[0mcat_accuracy_test\u001b[0m\u001b[1;33m,\u001b[0m \u001b[0mf1_score_test\u001b[0m \u001b[1;33m=\u001b[0m \u001b[0mmetrics\u001b[0m\u001b[1;33m(\u001b[0m\u001b[0my_test\u001b[0m\u001b[1;33m[\u001b[0m\u001b[0mi\u001b[0m\u001b[1;33m]\u001b[0m\u001b[1;33m,\u001b[0m \u001b[0mpredict_labels\u001b[0m\u001b[1;33m(\u001b[0m\u001b[0mweights\u001b[0m\u001b[1;33m,\u001b[0m \u001b[0mx_test\u001b[0m\u001b[1;33m[\u001b[0m\u001b[0mi\u001b[0m\u001b[1;33m]\u001b[0m\u001b[1;33m)\u001b[0m\u001b[1;33m)\u001b[0m\u001b[1;33m\u001b[0m\u001b[1;33m\u001b[0m\u001b[0m\n\u001b[0m\u001b[0;32m     10\u001b[0m         \u001b[0mcat_accuracies_train\u001b[0m\u001b[1;33m.\u001b[0m\u001b[0mappend\u001b[0m\u001b[1;33m(\u001b[0m\u001b[0mcat_accuracy_train\u001b[0m\u001b[1;33m)\u001b[0m\u001b[1;33m\u001b[0m\u001b[1;33m\u001b[0m\u001b[0m\n\u001b[0;32m     11\u001b[0m         \u001b[0mcat_accuracies_test\u001b[0m\u001b[1;33m.\u001b[0m\u001b[0mappend\u001b[0m\u001b[1;33m(\u001b[0m\u001b[0mcat_accuracy_test\u001b[0m\u001b[1;33m)\u001b[0m\u001b[1;33m\u001b[0m\u001b[1;33m\u001b[0m\u001b[0m\n",
      "\u001b[1;32m~\\git\\ML\\proj1_helpers.py\u001b[0m in \u001b[0;36mmetrics\u001b[1;34m(y_test, y_pred)\u001b[0m\n\u001b[0;32m    183\u001b[0m     \u001b[1;31m#precision = tp/(tp+fp)\u001b[0m\u001b[1;33m\u001b[0m\u001b[1;33m\u001b[0m\u001b[1;33m\u001b[0m\u001b[0m\n\u001b[0;32m    184\u001b[0m     \u001b[1;31m#recall = tp/(tp+fn)\u001b[0m\u001b[1;33m\u001b[0m\u001b[1;33m\u001b[0m\u001b[1;33m\u001b[0m\u001b[0m\n\u001b[1;32m--> 185\u001b[1;33m     \u001b[0maccuracy\u001b[0m \u001b[1;33m=\u001b[0m \u001b[1;33m(\u001b[0m\u001b[0mtp\u001b[0m\u001b[1;33m+\u001b[0m\u001b[0mtn\u001b[0m\u001b[1;33m)\u001b[0m\u001b[1;33m/\u001b[0m\u001b[1;33m(\u001b[0m\u001b[0mtp\u001b[0m\u001b[1;33m+\u001b[0m\u001b[0mtn\u001b[0m\u001b[1;33m+\u001b[0m\u001b[0mfp\u001b[0m\u001b[1;33m+\u001b[0m\u001b[0mfn\u001b[0m\u001b[1;33m)\u001b[0m\u001b[1;33m\u001b[0m\u001b[1;33m\u001b[0m\u001b[0m\n\u001b[0m\u001b[0;32m    186\u001b[0m     \u001b[0mf1_score\u001b[0m \u001b[1;33m=\u001b[0m \u001b[1;36m2\u001b[0m\u001b[1;33m*\u001b[0m\u001b[0mtp\u001b[0m\u001b[1;33m/\u001b[0m\u001b[1;33m(\u001b[0m\u001b[1;36m2\u001b[0m\u001b[1;33m*\u001b[0m\u001b[0mtp\u001b[0m\u001b[1;33m+\u001b[0m\u001b[0mtn\u001b[0m\u001b[1;33m+\u001b[0m\u001b[0mfp\u001b[0m\u001b[1;33m+\u001b[0m\u001b[0mfn\u001b[0m\u001b[1;33m)\u001b[0m\u001b[1;33m\u001b[0m\u001b[1;33m\u001b[0m\u001b[0m\n\u001b[0;32m    187\u001b[0m \u001b[1;33m\u001b[0m\u001b[0m\n",
      "\u001b[1;31mZeroDivisionError\u001b[0m: division by zero"
     ]
    }
   ],
   "source": [
    "cat0 = 99913.0 / 250000\n",
    "cat1 = 77544.0 / 250000\n",
    "cat2 = 50379.0 / 250000\n",
    "cat3 = 22164.0 / 250000\n",
    "lambdas =  np.logspace(-6, 12, 40)\n",
    "\n",
    "accuracies_train_mean8 = []\n",
    "accuracies_test_mean8 = []\n",
    "accuracies_train_std8 = []\n",
    "accuracies_test_std8 = []\n",
    "\n",
    "for lambda_ in lambdas:\n",
    "    cat_accuracies_train, cat_accuracies_test = ridge_regression_cv(y_train_0, x_train_0, y_test_0, x_test_0, lambda_)\n",
    "    \n",
    "    print(\"Lambda: \" + str(lambda_) + \" || Categorical accuracy train : (\",np.mean(cat_accuracies_train),\", \", np.std(cat_accuracies_train),\")\")\n",
    "    print(\"Lambda: \" + str(lambda_) + \" || Categorical accuracy test : (\",np.mean(cat_accuracies_test),\", \", np.std(cat_accuracies_test),\")\")\n",
    "    accuracies_train_mean8.append(np.mean(cat_accuracies_train))\n",
    "    accuracies_test_mean8.append(np.mean(cat_accuracies_test))\n",
    "    accuracies_train_std8.append(np.std(cat_accuracies_train))\n",
    "    accuracies_test_std8.append(np.std(cat_accuracies_test))\n",
    "    \n",
    "    print(\"Best performance: lambda \", lambdas[np.argmax(accuracies_test_mean8)], \", train accuracy: \", accuracies_train_mean8[np.argmax(accuracies_test_mean8)], \", test accuracy: \", accuracies_test_mean8[np.argmax(accuracies_test_mean8)], \", std: \", accuracies_test_std8[np.argmax(accuracies_test_mean8)])\n",
    "    cat_accuracies_test0 = accuracies_test_mean8[np.argmax(accuracies_test_mean8)]\n",
    "    cat_accuracies_test0_std = accuracies_test_std8[np.argmax(accuracies_test_mean8)]\n",
    "\n",
    "accuracies_train_mean8 = []\n",
    "accuracies_test_mean8 = []\n",
    "accuracies_train_std8 = []\n",
    "accuracies_test_std8 = []\n",
    "\n",
    "for lambda_ in lambdas:\n",
    "    cat_accuracies_train, cat_accuracies_test = ridge_regression_cv(y_train_1, x_train_1, y_test_1, x_test_1, lambda_)\n",
    "    \n",
    "    print(\"Lambda: \" + str(lambda_) + \" || Categorical accuracy train : (\",np.mean(cat_accuracies_train),\", \", np.std(cat_accuracies_train),\")\")\n",
    "    print(\"Lambda: \" + str(lambda_) + \" || Categorical accuracy test : (\",np.mean(cat_accuracies_test),\", \", np.std(cat_accuracies_test),\")\")\n",
    "    accuracies_train_mean8.append(np.mean(cat_accuracies_train))\n",
    "    accuracies_test_mean8.append(np.mean(cat_accuracies_test))\n",
    "    accuracies_train_std8.append(np.std(cat_accuracies_train))\n",
    "    accuracies_test_std8.append(np.std(cat_accuracies_test))\n",
    "    \n",
    "    print(\"Best performance: lambda \", lambdas[np.argmax(accuracies_test_mean8)], \", train accuracy: \", accuracies_train_mean8[np.argmax(accuracies_test_mean8)], \", test accuracy: \", accuracies_test_mean8[np.argmax(accuracies_test_mean8)], \", std: \", accuracies_test_std8[np.argmax(accuracies_test_mean8)])\n",
    "    cat_accuracies_test1 = accuracies_test_mean8[np.argmax(accuracies_test_mean8)]\n",
    "    cat_accuracies_test1_std = accuracies_test_std8[np.argmax(accuracies_test_mean8)]\n",
    "\n",
    "accuracies_train_mean8 = []\n",
    "accuracies_test_mean8 = []\n",
    "accuracies_train_std8 = []\n",
    "accuracies_test_std8 = []\n",
    "\n",
    "for lambda_ in lambdas:\n",
    "    cat_accuracies_train, cat_accuracies_test = ridge_regression_cv(y_train_2, x_train_2, y_test_2, x_test_2, lambda_)\n",
    "    \n",
    "    print(\"Lambda: \" + str(lambda_) + \" || Categorical accuracy train : (\",np.mean(cat_accuracies_train),\", \", np.std(cat_accuracies_train),\")\")\n",
    "    print(\"Lambda: \" + str(lambda_) + \" || Categorical accuracy test : (\",np.mean(cat_accuracies_test),\", \", np.std(cat_accuracies_test),\")\")\n",
    "    accuracies_train_mean8.append(np.mean(cat_accuracies_train))\n",
    "    accuracies_test_mean8.append(np.mean(cat_accuracies_test))\n",
    "    accuracies_train_std8.append(np.std(cat_accuracies_train))\n",
    "    accuracies_test_std8.append(np.std(cat_accuracies_test))\n",
    "    \n",
    "    print(\"Best performance: lambda \", lambdas[np.argmax(accuracies_test_mean8)], \", train accuracy: \", accuracies_train_mean8[np.argmax(accuracies_test_mean8)], \", test accuracy: \", accuracies_test_mean8[np.argmax(accuracies_test_mean8)], \", std: \", accuracies_test_std8[np.argmax(accuracies_test_mean8)])\n",
    "    cat_accuracies_test2 = accuracies_test_mean8[np.argmax(accuracies_test_mean8)]\n",
    "    cat_accuracies_test2_std = accuracies_test_std8[np.argmax(accuracies_test_mean8)]\n",
    "\n",
    "accuracies_train_mean8 = []\n",
    "accuracies_test_mean8 = []\n",
    "accuracies_train_std8 = []\n",
    "accuracies_test_std8 = []\n",
    "\n",
    "for lambda_ in lambdas:\n",
    "    cat_accuracies_train, cat_accuracies_test = ridge_regression_cv(y_train_3, x_train_3, y_test_3, x_test_3, lambda_)\n",
    "    \n",
    "    print(\"Lambda: \" + str(lambda_) + \" || Categorical accuracy train : (\",np.mean(cat_accuracies_train),\", \", np.std(cat_accuracies_train),\")\")\n",
    "    print(\"Lambda: \" + str(lambda_) + \" || Categorical accuracy test : (\",np.mean(cat_accuracies_test),\", \", np.std(cat_accuracies_test),\")\")\n",
    "    accuracies_train_mean8.append(np.mean(cat_accuracies_train))\n",
    "    accuracies_test_mean8.append(np.mean(cat_accuracies_test))\n",
    "    accuracies_train_std8.append(np.std(cat_accuracies_train))\n",
    "    accuracies_test_std8.append(np.std(cat_accuracies_test))\n",
    "    \n",
    "    print(\"Best performance: lambda \", lambdas[np.argmax(accuracies_test_mean8)], \", train accuracy: \", accuracies_train_mean8[np.argmax(accuracies_test_mean8)], \", test accuracy: \", accuracies_test_mean8[np.argmax(accuracies_test_mean8)], \", std: \", accuracies_test_std8[np.argmax(accuracies_test_mean8)])\n",
    "    cat_accuracies_test3 = accuracies_test_mean8[np.argmax(accuracies_test_mean8)]\n",
    "    cat_accuracies_test3_std = accuracies_test_std8[np.argmax(accuracies_test_mean8)]\n",
    "\n",
    "cat_accuracies_test = cat_accuracies_test0 * cat0 + cat_accuracies_test1 * cat1 + cat_accuracies_test2 * cat2 + cat_accuracies_test3 * cat3\n",
    "cat_accuracies_test_std = cat_accuracies_test0_std * cat0 + cat_accuracies_test1_std * cat1 + cat_accuracies_test2_std * cat2 + cat_accuracies_test3_std * cat3\n",
    "print(cat_accuracies_test, \" \", cat_accuracies_test_std)"
   ]
  },
  {
   "cell_type": "markdown",
   "metadata": {},
   "source": [
    "## Combining smaller categories"
   ]
  },
  {
   "cell_type": "code",
   "execution_count": null,
   "metadata": {},
   "outputs": [],
   "source": [
    "x_train_0 = []\n",
    "x_train_1 = []\n",
    "x_train_2 = []\n",
    "y_train_0 = []\n",
    "y_train_1 = []\n",
    "y_train_2 = []\n",
    "x_test_0 = []\n",
    "x_test_1 = []\n",
    "x_test_2 = []\n",
    "y_test_0 = []\n",
    "y_test_1 = []\n",
    "y_test_2 = []\n",
    "for i in range(num_folds):\n",
    "    # Split the rows base on categories of 22th column of features which is the number of jets       \n",
    "    rows0 = x_train[i][:,22]==0\n",
    "    rows1 = x_train[i][:,22]==1\n",
    "    rows2 = np.logical_or(tx[:,22]==2, tx[:,22]==3)\n",
    "    y0, x0 = y_train[rows0], x_train[np.where(rows0)]\n",
    "    y1, x1 = y_train[rows1], x_train[np.where(rows1)]\n",
    "    y2, x2 = y_train[rows2], x_train[np.where(rows2)]\n",
    "    x_train_0.append(x0)\n",
    "    x_train_1.append(x1)\n",
    "    x_train_2.append(x2)\n",
    "    y_train_0.append(y0)\n",
    "    y_train_1.append(y1)\n",
    "    y_train_2.append(y2)\n",
    "    \n",
    "    # Split the TESTrows base on categories of 22th column of features which is the number of jets       \n",
    "    rows0 = x_test[i][:,22]==0\n",
    "    rows1 = x_test[i][:,22]==1\n",
    "    rows2 = x_test[i][:,22]==0\n",
    "    y0, x0 = y_test[rows0], x_test[np.where(rows0)]\n",
    "    y1, x1 = y_test[rows1], x_test[np.where(rows1)]\n",
    "    y2, x2 = y_test[rows2], x_test[np.where(rows2)]\n",
    "    x_test_0.append(x0)\n",
    "    x_test_1.append(x1)\n",
    "    x_test_2.append(x2)\n",
    "    y_test_0.append(y0)\n",
    "    y_test_1.append(y1)\n",
    "    y_test_2.append(y2)\n"
   ]
  },
  {
   "cell_type": "code",
   "execution_count": null,
   "metadata": {},
   "outputs": [],
   "source": [
    "cat0 = 99913.0 / 250000\n",
    "cat1 = 77544.0 / 250000\n",
    "cat2 = 50379.0 / 250000\n",
    "cat3 = 22164.0 / 250000\n",
    "lambdas =  np.logspace(-6, 12, 40)\n",
    "\n",
    "accuracies_train_mean8 = []\n",
    "accuracies_test_mean8 = []\n",
    "accuracies_train_std8 = []\n",
    "accuracies_test_std8 = []\n",
    "\n",
    "for lambda_ in lambdas:\n",
    "    cat_accuracies_train, cat_accuracies_test = ridge_regression_cv(y_train_0, x_train_0, y_test_0, x_test_0, lambda_)\n",
    "    \n",
    "    print(\"Lambda: \" + str(lambda_) + \" || Categorical accuracy train : (\",np.mean(cat_accuracies_train),\", \", np.std(cat_accuracies_train),\")\")\n",
    "    print(\"Lambda: \" + str(lambda_) + \" || Categorical accuracy test : (\",np.mean(cat_accuracies_test),\", \", np.std(cat_accuracies_test),\")\")\n",
    "    accuracies_train_mean8.append(np.mean(cat_accuracies_train))\n",
    "    accuracies_test_mean8.append(np.mean(cat_accuracies_test))\n",
    "    accuracies_train_std8.append(np.std(cat_accuracies_train))\n",
    "    accuracies_test_std8.append(np.std(cat_accuracies_test))\n",
    "    \n",
    "    print(\"Best performance: lambda \", lambdas[np.argmax(accuracies_test_mean8)], \", train accuracy: \", accuracies_train_mean8[np.argmax(accuracies_test_mean8)], \", test accuracy: \", accuracies_test_mean8[np.argmax(accuracies_test_mean8)], \", std: \", accuracies_test_std8[np.argmax(accuracies_test_mean8)])\n",
    "    cat_accuracies_test0 = accuracies_test_mean8[np.argmax(accuracies_test_mean8)]\n",
    "    cat_accuracies_test0_std = accuracies_test_std8[np.argmax(accuracies_test_mean8)]\n",
    "\n",
    "accuracies_train_mean8 = []\n",
    "accuracies_test_mean8 = []\n",
    "accuracies_train_std8 = []\n",
    "accuracies_test_std8 = []\n",
    "\n",
    "for lambda_ in lambdas:\n",
    "    cat_accuracies_train, cat_accuracies_test = ridge_regression_cv(y_train_1, x_train_1, y_test_1, x_test_1, lambda_)\n",
    "    \n",
    "    print(\"Lambda: \" + str(lambda_) + \" || Categorical accuracy train : (\",np.mean(cat_accuracies_train),\", \", np.std(cat_accuracies_train),\")\")\n",
    "    print(\"Lambda: \" + str(lambda_) + \" || Categorical accuracy test : (\",np.mean(cat_accuracies_test),\", \", np.std(cat_accuracies_test),\")\")\n",
    "    accuracies_train_mean8.append(np.mean(cat_accuracies_train))\n",
    "    accuracies_test_mean8.append(np.mean(cat_accuracies_test))\n",
    "    accuracies_train_std8.append(np.std(cat_accuracies_train))\n",
    "    accuracies_test_std8.append(np.std(cat_accuracies_test))\n",
    "    \n",
    "    print(\"Best performance: lambda \", lambdas[np.argmax(accuracies_test_mean8)], \", train accuracy: \", accuracies_train_mean8[np.argmax(accuracies_test_mean8)], \", test accuracy: \", accuracies_test_mean8[np.argmax(accuracies_test_mean8)], \", std: \", accuracies_test_std8[np.argmax(accuracies_test_mean8)])\n",
    "    cat_accuracies_test1 = accuracies_test_mean8[np.argmax(accuracies_test_mean8)]\n",
    "    cat_accuracies_test1_std = accuracies_test_std8[np.argmax(accuracies_test_mean8)]\n",
    "\n",
    "accuracies_train_mean8 = []\n",
    "accuracies_test_mean8 = []\n",
    "accuracies_train_std8 = []\n",
    "accuracies_test_std8 = []\n",
    "\n",
    "for lambda_ in lambdas:\n",
    "    cat_accuracies_train, cat_accuracies_test = ridge_regression_cv(y_train_2, x_train_2, y_test_2, x_test_2, lambda_)\n",
    "    \n",
    "    print(\"Lambda: \" + str(lambda_) + \" || Categorical accuracy train : (\",np.mean(cat_accuracies_train),\", \", np.std(cat_accuracies_train),\")\")\n",
    "    print(\"Lambda: \" + str(lambda_) + \" || Categorical accuracy test : (\",np.mean(cat_accuracies_test),\", \", np.std(cat_accuracies_test),\")\")\n",
    "    accuracies_train_mean8.append(np.mean(cat_accuracies_train))\n",
    "    accuracies_test_mean8.append(np.mean(cat_accuracies_test))\n",
    "    accuracies_train_std8.append(np.std(cat_accuracies_train))\n",
    "    accuracies_test_std8.append(np.std(cat_accuracies_test))\n",
    "    \n",
    "    print(\"Best performance: lambda \", lambdas[np.argmax(accuracies_test_mean8)], \", train accuracy: \", accuracies_train_mean8[np.argmax(accuracies_test_mean8)], \", test accuracy: \", accuracies_test_mean8[np.argmax(accuracies_test_mean8)], \", std: \", accuracies_test_std8[np.argmax(accuracies_test_mean8)])\n",
    "    cat_accuracies_test2 = accuracies_test_mean8[np.argmax(accuracies_test_mean8)]\n",
    "    cat_accuracies_test2_std = accuracies_test_std8[np.argmax(accuracies_test_mean8)]\n",
    "\n",
    "cat_accuracies_test = cat_accuracies_test0 * cat0 + cat_accuracies_test1 * cat1 + cat_accuracies_test2 * cat2\n",
    "cat_accuracies_test_std = cat_accuracies_test0_std * cat0 + cat_accuracies_test1_std * cat1 + cat_accuracies_test2_std * cat2\n",
    "print(cat_accuracies_test, \" \", cat_accuracies_test_std)"
   ]
  },
  {
   "cell_type": "markdown",
   "metadata": {},
   "source": [
    "## Polynomial regression"
   ]
  },
  {
   "cell_type": "code",
   "execution_count": null,
   "metadata": {},
   "outputs": [],
   "source": [
    "def poly_ridge_regression_cv(y_train, x_train, y_test, x_test, lambda_, degree):\n",
    "    cat_accuracies_train = []\n",
    "    cat_accuracies_test = []\n",
    "    f1_scores_train = []\n",
    "    f1_scores_test = []\n",
    "    for i in range(num_folds):\n",
    "        x_train_poly = build_poly(copy.deepcopy(x_train[i]), degree)\n",
    "        weights = ridge_regression(y_train[i], x_train_poly, lambda_)[0]\n",
    "        cat_accuracy_train, f1_score_train = metrics(y_train[i], predict_labels(weights, x_train[i]))\n",
    "        cat_accuracy_test, f1_score_test = metrics(y_test[i], predict_labels(weights, x_test[i]))\n",
    "        cat_accuracies_train.append(cat_accuracy_train)\n",
    "        cat_accuracies_test.append(cat_accuracy_test)\n",
    "        f1_scores_train.append(f1_score_train)\n",
    "        f1_scores_test.append(f1_score_test)\n",
    "    return cat_accuracies_train, cat_accuracies_test"
   ]
  }
 ],
 "metadata": {
  "kernelspec": {
   "display_name": "Python 3",
   "language": "python",
   "name": "python3"
  },
  "language_info": {
   "codemirror_mode": {
    "name": "ipython",
    "version": 3
   },
   "file_extension": ".py",
   "mimetype": "text/x-python",
   "name": "python",
   "nbconvert_exporter": "python",
   "pygments_lexer": "ipython3",
   "version": "3.7.3"
  }
 },
 "nbformat": 4,
 "nbformat_minor": 4
}
