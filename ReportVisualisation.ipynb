{
 "cells": [
  {
   "cell_type": "markdown",
   "metadata": {},
   "source": [
    "# Basic models\n",
    "## Loading data"
   ]
  },
  {
   "cell_type": "code",
   "execution_count": 362,
   "metadata": {},
   "outputs": [
    {
     "name": "stdout",
     "output_type": "stream",
     "text": [
      "The autoreload extension is already loaded. To reload it, use:\n",
      "  %reload_ext autoreload\n"
     ]
    }
   ],
   "source": [
    "# Useful starting lines\n",
    "%matplotlib inline\n",
    "import numpy as np\n",
    "import matplotlib.pyplot as plt\n",
    "import datetime\n",
    "import copy\n",
    "%load_ext autoreload\n",
    "%autoreload 2"
   ]
  },
  {
   "cell_type": "code",
   "execution_count": 363,
   "metadata": {},
   "outputs": [],
   "source": [
    "%run proj1_helpers.py\n",
    "%run implementations.py"
   ]
  },
  {
   "cell_type": "code",
   "execution_count": 364,
   "metadata": {},
   "outputs": [],
   "source": [
    "DATA_TRAIN_PATH = 'train.csv' # TODO: download train data and supply path here \n",
    "y, tX, ids = load_csv_data(DATA_TRAIN_PATH)\n",
    "tx = copy.deepcopy(tX)"
   ]
  },
  {
   "cell_type": "markdown",
   "metadata": {},
   "source": [
    "## Cleaning data"
   ]
  },
  {
   "cell_type": "code",
   "execution_count": 365,
   "metadata": {},
   "outputs": [],
   "source": [
    "tx = np.where(tx==-999, np.nan, tx) # replace -999 value with nan"
   ]
  },
  {
   "cell_type": "code",
   "execution_count": 366,
   "metadata": {},
   "outputs": [],
   "source": [
    "col_mean = np.nanmean(tx, axis=0)\n",
    "inds_nan = np.where(np.isnan(tx))\n",
    "tx[inds_nan] = np.take(col_mean, inds_nan[1])"
   ]
  },
  {
   "cell_type": "code",
   "execution_count": 200,
   "metadata": {},
   "outputs": [],
   "source": [
    "#CELL NOT USED\n",
    "tx_stand,_,_ = standardize(tx)"
   ]
  },
  {
   "cell_type": "code",
   "execution_count": 201,
   "metadata": {},
   "outputs": [],
   "source": [
    "#CELL NOT USED\n",
    "tx = np.insert(tx, 0, 1, axis=1)\n",
    "tx_stand = np.insert(tx_stand, 0, 1, axis=1)"
   ]
  },
  {
   "cell_type": "markdown",
   "metadata": {},
   "source": [
    "## Split data"
   ]
  },
  {
   "cell_type": "code",
   "execution_count": 255,
   "metadata": {},
   "outputs": [],
   "source": [
    "#CELL NOT USED\n",
    "ratio_train_test = 0.8\n",
    "x_train, y_train, x_test, y_test = split_data(tx_stand, y, ratio_train_test, seed=1)\n",
    "x_train_ns, y_train_ns, x_test_ns, y_test_ns = split_data(tx, y, ratio_train_test, seed=1)"
   ]
  },
  {
   "cell_type": "code",
   "execution_count": 295,
   "metadata": {},
   "outputs": [],
   "source": [
    "##CELL NOT USED\n",
    "ratio_train_test = 0.8\n",
    "x_train, y_train, x_test, y_test = split_data(tx, y, ratio_train_test, seed=1234)\n",
    "x_train_ns, y_train_ns, x_test_ns, y_test_ns = split_data(tx, y, ratio_train_test, seed=1234)"
   ]
  },
  {
   "cell_type": "code",
   "execution_count": 296,
   "metadata": {},
   "outputs": [],
   "source": [
    "##CELL NOT USED\n",
    "x_train,_,_ = standardize(copy.deepcopy(x_train))\n",
    "x_train = np.insert(x_train, 0, 1, axis=1)\n",
    "x_test,_,_ = standardize(copy.deepcopy(x_test))\n",
    "x_test = np.insert(x_test, 0, 1, axis=1)\n",
    "x_train_ns = np.insert(x_train_ns, 0, 1, axis=1)\n",
    "x_test_ns = np.insert(x_test_ns, 0, 1, axis=1)"
   ]
  },
  {
   "cell_type": "markdown",
   "metadata": {},
   "source": [
    "## Cross-validation"
   ]
  },
  {
   "cell_type": "code",
   "execution_count": 367,
   "metadata": {},
   "outputs": [],
   "source": [
    "#Divide the data into 5 parts\n",
    "num_folds = 5\n",
    "shuffled_indices = np.arange(tx.shape[0])\n",
    "np.random.seed(1)\n",
    "np.random.shuffle(shuffled_indices)\n",
    "folds_indices = np.array_split(shuffled_indices, num_folds)\n",
    "x_folds = []\n",
    "y_folds = []\n",
    "for fold in folds_indices:\n",
    "    x_folds.append(tx[fold])\n",
    "    y_folds.append(y[fold])"
   ]
  },
  {
   "cell_type": "code",
   "execution_count": 369,
   "metadata": {},
   "outputs": [],
   "source": [
    "# Put those parts together to make 5 train/test splits\n",
    "x_train = []\n",
    "x_test = []\n",
    "x_train_ns = []\n",
    "x_test_ns = []\n",
    "y_train = []\n",
    "y_test = []\n",
    "for i in range(num_folds):\n",
    "    x_test_ns.append(x_folds[i])\n",
    "    y_test.append(y_folds[i])\n",
    "    indices = [j for j in range(num_folds) if j != i]\n",
    "    x_train_ns.append(np.concatenate([x_folds[j] for j in indices]))\n",
    "    y_train.append(np.concatenate([y_folds[j] for j in indices]))\n",
    "    #standardize\n",
    "    x_train.append(standardize(copy.deepcopy(x_train_ns[i]))[0])\n",
    "    x_test.append(standardize(copy.deepcopy(x_test_ns[i]))[0])\n",
    "    #insert column of ones\n",
    "    x_train_ns[i] = np.insert(x_train_ns[i], 0, 1, axis=1)\n",
    "    x_test_ns[i] = np.insert(x_test_ns[i], 0, 1, axis=1)\n",
    "    x_train[i] = np.insert(x_train[i], 0, 1, axis=1)\n",
    "    x_test[i] = np.insert(x_test[i], 0, 1, axis=1)"
   ]
  },
  {
   "cell_type": "markdown",
   "metadata": {},
   "source": [
    "## Linear Regression with Gradient Descent"
   ]
  },
  {
   "cell_type": "code",
   "execution_count": 437,
   "metadata": {},
   "outputs": [
    {
     "name": "stdout",
     "output_type": "stream",
     "text": [
      "Categorical accuracy train :  [0.70101, 0.70141, 0.70037, 0.70119, 0.70122]  || f1_score train:  [0.30688547350064127, 0.3068926400623064, 0.30511347265300587, 0.3058169774080694, 0.3063047804547572]\n",
      "Categorical accuracy test :  [0.70098, 0.69896, 0.70346, 0.70072, 0.7006]  || f1_score test:  [0.3048548955790616, 0.3047974232920834, 0.30732252276651206, 0.3068926400623064, 0.306577253945675]\n",
      "Categorical accuracy train mean:  0.7010400000000001  stdev:  0.00035821781083578065\n",
      "Categorical accuracy test mean:  0.700944  stdev:  0.0014447366542037871\n"
     ]
    }
   ],
   "source": [
    "cat_accuracies_train = []\n",
    "cat_accuracies_test = []\n",
    "f1_scores_train = []\n",
    "f1_scores_test = []\n",
    "for i in range(num_folds):\n",
    "    weights_LSGD1 = least_squares_GD(y_train[i], x_train[i], np.zeros(31), 100, 0.000001)[0]\n",
    "    cat_accuracy_train, f1_score_train = metrics(y_train[i], predict_labels(weights_LSGD1, x_train[i]))\n",
    "    cat_accuracy_test, f1_score_test = metrics(y_test[i], predict_labels(weights_LSGD1, x_test[i]))\n",
    "    cat_accuracies_train.append(cat_accuracy_train)\n",
    "    cat_accuracies_test.append(cat_accuracy_test)\n",
    "    f1_scores_train.append(f1_score_train)\n",
    "    f1_scores_test.append(f1_score_test)\n",
    "\n",
    "print(\"Categorical accuracy train : \",cat_accuracies_train,\" || f1_score train: \",f1_scores_train)\n",
    "print(\"Categorical accuracy test : \",cat_accuracies_test,\" || f1_score test: \",f1_scores_test)\n",
    "print(\"Categorical accuracy train mean: \",np.mean(cat_accuracies_train), \" stdev: \", np.std(cat_accuracies_train))\n",
    "print(\"Categorical accuracy test mean: \",np.mean(cat_accuracies_test), \" stdev: \", np.std(cat_accuracies_test))"
   ]
  },
  {
   "cell_type": "code",
   "execution_count": 438,
   "metadata": {},
   "outputs": [],
   "source": [
    "def least_squares_GD_cv(y, x, test_y, test_x, w_i, max_iter, gamma):\n",
    "    cat_accuracies_train = []\n",
    "    cat_accuracies_test = []\n",
    "    f1_scores_train = []\n",
    "    f1_scores_test = []\n",
    "    for i in range(num_folds):\n",
    "        weights_LSGD1 = least_squares_GD(y[i], x[i], w_i, max_iter, gamma)[0]\n",
    "        cat_accuracy_train, f1_score_train = metrics(y[i], predict_labels(weights_LSGD1, x[i]))\n",
    "        cat_accuracy_test, f1_score_test = metrics(test_y[i], predict_labels(weights_LSGD1, test_x[i]))\n",
    "        cat_accuracies_train.append(cat_accuracy_train)\n",
    "        cat_accuracies_test.append(cat_accuracy_test)\n",
    "        f1_scores_train.append(f1_score_train)\n",
    "        f1_scores_test.append(f1_score_test)\n",
    "    return cat_accuracies_train, cat_accuracies_test"
   ]
  },
  {
   "cell_type": "code",
   "execution_count": 439,
   "metadata": {},
   "outputs": [
    {
     "name": "stdout",
     "output_type": "stream",
     "text": [
      "Gamma: 1e-06 || Categorical accuracy train : ( 0.7010400000000001 ,  0.00035821781083578065 )\n",
      "Gamma: 1e-06 || Categorical accuracy test : ( 0.700944 ,  0.0014447366542037871 )\n",
      "Gamma: 1e-05 || Categorical accuracy train : ( 0.70108 ,  0.00036297382825763023 )\n",
      "Gamma: 1e-05 || Categorical accuracy test : ( 0.7009559999999999 ,  0.0014701510126514169 )\n",
      "Gamma: 0.0001 || Categorical accuracy train : ( 0.7015100000000001 ,  0.00044707941129065265 )\n",
      "Gamma: 0.0001 || Categorical accuracy test : ( 0.7015 ,  0.0015816447135814059 )\n",
      "Gamma: 0.001 || Categorical accuracy train : ( 0.705468 ,  0.00039593686365378835 )\n",
      "Gamma: 0.001 || Categorical accuracy test : ( 0.705444 ,  0.0012901100728232213 )\n",
      "Gamma: 0.01 || Categorical accuracy train : ( 0.7248060000000001 ,  0.000568545512690078 )\n",
      "Gamma: 0.01 || Categorical accuracy test : ( 0.7247679999999999 ,  0.0022847179256967293 )\n",
      "Gamma: 0.05 || Categorical accuracy train : ( 0.7369410000000001 ,  0.0006012769744468879 )\n",
      "Gamma: 0.05 || Categorical accuracy test : ( 0.7368119999999999 ,  0.001534697364303452 )\n",
      "Gamma: 0.1 || Categorical accuracy train : ( 0.741298 ,  0.000623158085881919 )\n",
      "Gamma: 0.1 || Categorical accuracy test : ( 0.7413000000000001 ,  0.0014985326155943159 )\n",
      "Gamma: 0.2 || Categorical accuracy train : ( 0.743668 ,  0.0005563775696413109 )\n",
      "Gamma: 0.2 || Categorical accuracy test : ( 0.74376 ,  0.0016420475023579525 )\n",
      "Gamma: 0.3 || Categorical accuracy train : ( 0.7442489999999999 ,  0.0005591726030484968 )\n",
      "Gamma: 0.3 || Categorical accuracy test : ( 0.744304 ,  0.0016676882202617937 )\n",
      "Gamma: 0.31 || Categorical accuracy train : ( 0.744391 ,  0.0005096802919478008 )\n",
      "Gamma: 0.31 || Categorical accuracy test : ( 0.7444879999999999 ,  0.001651985472091051 )\n",
      "Gamma: 0.32 || Categorical accuracy train : ( 0.408456 ,  0.012640530605951628 )\n",
      "Gamma: 0.32 || Categorical accuracy test : ( 0.40828800000000004 ,  0.012203983611919501 )\n",
      "Gamma: 0.33 || Categorical accuracy train : ( 0.370019 ,  0.00018268552214119994 )\n",
      "Gamma: 0.33 || Categorical accuracy test : ( 0.37006799999999995 ,  0.000614048857990957 )\n",
      "Gamma: 0.34 || Categorical accuracy train : ( 0.369943 ,  0.00018329211657896967 )\n",
      "Gamma: 0.34 || Categorical accuracy test : ( 0.369972 ,  0.000636817085197948 )\n",
      "Gamma: 0.4 || Categorical accuracy train : ( 0.36994399999999994 ,  0.0001840217378463761 )\n",
      "Gamma: 0.4 || Categorical accuracy test : ( 0.369972 ,  0.000636817085197948 )\n",
      "Gamma: 0.5 || Categorical accuracy train : ( 0.36994399999999994 ,  0.0001840217378463761 )\n",
      "Gamma: 0.5 || Categorical accuracy test : ( 0.369972 ,  0.000636817085197948 )\n",
      "[0.7010400000000001, 0.70108, 0.7015100000000001, 0.705468, 0.7248060000000001, 0.7369410000000001, 0.741298, 0.743668, 0.7442489999999999, 0.744391, 0.408456, 0.370019, 0.369943, 0.36994399999999994, 0.36994399999999994]\n",
      "[0.700944, 0.7009559999999999, 0.7015, 0.705444, 0.7247679999999999, 0.7368119999999999, 0.7413000000000001, 0.74376, 0.744304, 0.7444879999999999, 0.40828800000000004, 0.37006799999999995, 0.369972, 0.369972, 0.369972]\n",
      "[0.00035821781083578065, 0.00036297382825763023, 0.00044707941129065265, 0.00039593686365378835, 0.000568545512690078, 0.0006012769744468879, 0.000623158085881919, 0.0005563775696413109, 0.0005591726030484968, 0.0005096802919478008, 0.012640530605951628, 0.00018268552214119994, 0.00018329211657896967, 0.0001840217378463761, 0.0001840217378463761]\n",
      "[0.0014447366542037871, 0.0014701510126514169, 0.0015816447135814059, 0.0012901100728232213, 0.0022847179256967293, 0.001534697364303452, 0.0014985326155943159, 0.0016420475023579525, 0.0016676882202617937, 0.001651985472091051, 0.012203983611919501, 0.000614048857990957, 0.000636817085197948, 0.000636817085197948, 0.000636817085197948]\n"
     ]
    }
   ],
   "source": [
    "gammas = [0.000001, 0.00001, 0.0001, 0.001, 0.01, 0.05, 0.1, 0.2, 0.3, 0.31, 0.32, 0.33, 0.34, 0.4, 0.5]\n",
    "accuracies_train_mean1 = []\n",
    "accuracies_test_mean1 = []\n",
    "accuracies_train_std1 = []\n",
    "accuracies_test_std1 = []\n",
    "for gamma in gammas:\n",
    "    cat_accuracies_train, cat_accuracies_test = least_squares_GD_cv(y_train, x_train, y_test, x_test, np.zeros(31), 100, gamma)\n",
    "    \n",
    "    print(\"Gamma: \" + str(gamma) + \" || Categorical accuracy train : (\",np.mean(cat_accuracies_train),\", \", np.std(cat_accuracies_train),\")\")\n",
    "    print(\"Gamma: \" + str(gamma) + \" || Categorical accuracy test : (\",np.mean(cat_accuracies_test),\", \", np.std(cat_accuracies_test),\")\")\n",
    "    accuracies_train_mean1.append(np.mean(cat_accuracies_train))\n",
    "    accuracies_test_mean1.append(np.mean(cat_accuracies_test))\n",
    "    accuracies_train_std1.append(np.std(cat_accuracies_train))\n",
    "    accuracies_test_std1.append(np.std(cat_accuracies_test))\n",
    "    \n",
    "print(accuracies_train_mean1)\n",
    "print(accuracies_test_mean1)\n",
    "print(accuracies_train_std1)\n",
    "print(accuracies_test_std1)"
   ]
  },
  {
   "cell_type": "code",
   "execution_count": 440,
   "metadata": {},
   "outputs": [
    {
     "data": {
      "image/png": "[encoded data removed]",
      "text/plain": [
       "<Figure size 432x288 with 1 Axes>"
      ]
     },
     "metadata": {
      "needs_background": "light"
     },
     "output_type": "display_data"
    }
   ],
   "source": [
    "plt.errorbar(gammas[:], accuracies_train_mean1, yerr=accuracies_train_std1, label=\"train\")\n",
    "plt.errorbar(gammas[:], accuracies_test_mean1, yerr=accuracies_test_std1, label=\"test\")\n",
    "plt.xscale(\"log\")\n",
    "plt.xlabel(\"Gamma\")\n",
    "plt.ylabel(\"Categorical accuracy\")\n",
    "plt.title(\"Categorical accuracy for Linear Regression with Gradient Descent\")\n",
    "plt.legend()\n",
    "plt.show()"
   ]
  },
  {
   "cell_type": "code",
   "execution_count": 423,
   "metadata": {},
   "outputs": [
    {
     "data": {
      "text/plain": [
       "array([ 9.60e-05,  1.24e-04,  1.00e-05,  2.40e-05,  3.80e-05,  1.29e-04,\n",
       "       -2.00e-06, -9.20e-05, -5.50e-05, -9.70e-05,  1.68e-04, -4.90e-05,\n",
       "       -2.90e-05, -2.80e-05, -2.80e-05])"
      ]
     },
     "execution_count": 423,
     "metadata": {},
     "output_type": "execute_result"
    }
   ],
   "source": [
    "np.array(accuracies_train_mean1) - np.array(accuracies_test_mean1)"
   ]
  },
  {
   "cell_type": "code",
   "execution_count": 441,
   "metadata": {},
   "outputs": [
    {
     "data": {
      "image/png": "[encoded data removed]",
      "text/plain": [
       "<Figure size 432x288 with 1 Axes>"
      ]
     },
     "metadata": {
      "needs_background": "light"
     },
     "output_type": "display_data"
    }
   ],
   "source": [
    "plt.errorbar(gammas[:9], accuracies_train_mean1[:9], yerr=accuracies_train_std1[:9], label=\"train\")\n",
    "plt.errorbar(gammas[:9], accuracies_test_mean1[:9], yerr=accuracies_test_std1[:9], label=\"test\")\n",
    "plt.xscale(\"log\")\n",
    "plt.xlabel(\"Gamma\")\n",
    "plt.ylabel(\"Categorical accuracy\")\n",
    "plt.title(\"Categorical accuracy for Linear Regression with Gradient Descent\")\n",
    "plt.legend()\n",
    "plt.show()"
   ]
  },
  {
   "cell_type": "markdown",
   "metadata": {},
   "source": [
    "### Least Squares GD with non-standardized data"
   ]
  },
  {
   "cell_type": "code",
   "execution_count": 428,
   "metadata": {},
   "outputs": [
    {
     "name": "stdout",
     "output_type": "stream",
     "text": [
      "Gamma: 1e-07 || Categorical accuracy train : ( 0.657332 ,  0.0004281775332733195 )\n",
      "Gamma: 1e-07 || Categorical accuracy test : ( 0.657332 ,  0.001712710133093164 )\n",
      "Gamma: 1e-06 || Categorical accuracy train : ( 0.6655960000000001 ,  0.0002944554295644445 )\n",
      "Gamma: 1e-06 || Categorical accuracy test : ( 0.665576 ,  0.0016871941204259547 )\n",
      "Gamma: 1e-05 || Categorical accuracy train : ( 0.34266800000000003 ,  0.00042817753327328243 )\n",
      "Gamma: 1e-05 || Categorical accuracy test : ( 0.34266800000000003 ,  0.0017127101330931612 )\n",
      "Gamma: 0.0001 || Categorical accuracy train : ( 0.34266800000000003 ,  0.00042817753327328243 )\n",
      "Gamma: 0.0001 || Categorical accuracy test : ( 0.34266800000000003 ,  0.0017127101330931612 )\n",
      "Gamma: 0.001 || Categorical accuracy train : ( 0.34266800000000003 ,  0.00042817753327328243 )\n",
      "Gamma: 0.001 || Categorical accuracy test : ( 0.34266800000000003 ,  0.0017127101330931612 )\n",
      "Gamma: 0.01 || Categorical accuracy train : ( 0.657332 ,  0.0004281775332733195 )\n",
      "Gamma: 0.01 || Categorical accuracy test : ( 0.657332 ,  0.001712710133093164 )\n",
      "Gamma: 0.05 || Categorical accuracy train : ( 0.657332 ,  0.0004281775332733195 )\n",
      "Gamma: 0.05 || Categorical accuracy test : ( 0.657332 ,  0.001712710133093164 )\n",
      "Gamma: 0.1 || Categorical accuracy train : ( 0.657332 ,  0.0004281775332733195 )\n",
      "Gamma: 0.1 || Categorical accuracy test : ( 0.657332 ,  0.001712710133093164 )\n",
      "Gamma: 0.2 || Categorical accuracy train : ( 0.657332 ,  0.0004281775332733195 )\n",
      "Gamma: 0.2 || Categorical accuracy test : ( 0.657332 ,  0.001712710133093164 )\n",
      "Gamma: 0.3 || Categorical accuracy train : ( 0.657332 ,  0.0004281775332733195 )\n",
      "Gamma: 0.3 || Categorical accuracy test : ( 0.657332 ,  0.001712710133093164 )\n",
      "Gamma: 0.31 || Categorical accuracy train : ( 0.657332 ,  0.0004281775332733195 )\n",
      "Gamma: 0.31 || Categorical accuracy test : ( 0.657332 ,  0.001712710133093164 )\n",
      "Gamma: 0.32 || Categorical accuracy train : ( 0.657332 ,  0.0004281775332733195 )\n",
      "Gamma: 0.32 || Categorical accuracy test : ( 0.657332 ,  0.001712710133093164 )\n",
      "Gamma: 0.33 || Categorical accuracy train : ( 0.657332 ,  0.0004281775332733195 )\n",
      "Gamma: 0.33 || Categorical accuracy test : ( 0.657332 ,  0.001712710133093164 )\n",
      "Gamma: 0.34 || Categorical accuracy train : ( 0.657332 ,  0.0004281775332733195 )\n",
      "Gamma: 0.34 || Categorical accuracy test : ( 0.657332 ,  0.001712710133093164 )\n",
      "Gamma: 0.4 || Categorical accuracy train : ( 0.657332 ,  0.0004281775332733195 )\n",
      "Gamma: 0.4 || Categorical accuracy test : ( 0.657332 ,  0.001712710133093164 )\n",
      "Gamma: 0.5 || Categorical accuracy train : ( 0.657332 ,  0.0004281775332733195 )\n",
      "Gamma: 0.5 || Categorical accuracy test : ( 0.657332 ,  0.001712710133093164 )\n",
      "[0.657332, 0.6655960000000001, 0.34266800000000003, 0.34266800000000003, 0.34266800000000003, 0.657332, 0.657332, 0.657332, 0.657332, 0.657332, 0.657332, 0.657332, 0.657332, 0.657332, 0.657332, 0.657332]\n",
      "[0.657332, 0.665576, 0.34266800000000003, 0.34266800000000003, 0.34266800000000003, 0.657332, 0.657332, 0.657332, 0.657332, 0.657332, 0.657332, 0.657332, 0.657332, 0.657332, 0.657332, 0.657332]\n",
      "[0.0004281775332733195, 0.0002944554295644445, 0.00042817753327328243, 0.00042817753327328243, 0.00042817753327328243, 0.0004281775332733195, 0.0004281775332733195, 0.0004281775332733195, 0.0004281775332733195, 0.0004281775332733195, 0.0004281775332733195, 0.0004281775332733195, 0.0004281775332733195, 0.0004281775332733195, 0.0004281775332733195, 0.0004281775332733195]\n",
      "[0.001712710133093164, 0.0016871941204259547, 0.0017127101330931612, 0.0017127101330931612, 0.0017127101330931612, 0.001712710133093164, 0.001712710133093164, 0.001712710133093164, 0.001712710133093164, 0.001712710133093164, 0.001712710133093164, 0.001712710133093164, 0.001712710133093164, 0.001712710133093164, 0.001712710133093164, 0.001712710133093164]\n"
     ]
    }
   ],
   "source": [
    "gammas = [0.0000001, 0.000001, 0.00001, 0.0001, 0.001, 0.01, 0.05, 0.1, 0.2, 0.3, 0.31, 0.32, 0.33, 0.34, 0.4, 0.5]\n",
    "accuracies_train_mean2 = []\n",
    "accuracies_test_mean2 = []\n",
    "accuracies_train_std2 = []\n",
    "accuracies_test_std2 = []\n",
    "for gamma in gammas:\n",
    "    cat_accuracies_train, cat_accuracies_test = least_squares_GD_cv(y_train, x_train_ns, y_test, x_test_ns, np.zeros(31), 100, gamma)\n",
    "    \n",
    "    print(\"Gamma: \" + str(gamma) + \" || Categorical accuracy train : (\",np.mean(cat_accuracies_train),\", \", np.std(cat_accuracies_train),\")\")\n",
    "    print(\"Gamma: \" + str(gamma) + \" || Categorical accuracy test : (\",np.mean(cat_accuracies_test),\", \", np.std(cat_accuracies_test),\")\")\n",
    "    accuracies_train_mean2.append(np.mean(cat_accuracies_train))\n",
    "    accuracies_test_mean2.append(np.mean(cat_accuracies_test))\n",
    "    accuracies_train_std2.append(np.std(cat_accuracies_train))\n",
    "    accuracies_test_std2.append(np.std(cat_accuracies_test))\n",
    "    \n",
    "print(accuracies_train_mean2)\n",
    "print(accuracies_test_mean2)\n",
    "print(accuracies_train_std2)\n",
    "print(accuracies_test_std2)"
   ]
  },
  {
   "cell_type": "code",
   "execution_count": null,
   "metadata": {},
   "outputs": [],
   "source": []
  },
  {
   "cell_type": "code",
   "execution_count": 278,
   "metadata": {},
   "outputs": [
    {
     "data": {
      "image/png": "[encoded data removed]",
      "text/plain": [
       "<Figure size 432x288 with 1 Axes>"
      ]
     },
     "metadata": {
      "needs_background": "light"
     },
     "output_type": "display_data"
    }
   ],
   "source": [
    "plt.plot(gammas[:9], accuracies_train_2[:9], label=\"train\")\n",
    "plt.plot(gammas[:9], accuracies_test_2[:9], label=\"test\")\n",
    "plt.xscale(\"log\")\n",
    "plt.xlabel(\"Gamma\")\n",
    "plt.ylabel(\"Categorical accuracy\")\n",
    "plt.title(\"Categorical accuracy for Linear Regression with Gradient Descent, with non-standardized data\")\n",
    "plt.legend()\n",
    "plt.show()"
   ]
  },
  {
   "cell_type": "code",
   "execution_count": 426,
   "metadata": {},
   "outputs": [
    {
     "data": {
      "image/png": "[encoded data removed]",
      "text/plain": [
       "<Figure size 432x288 with 1 Axes>"
      ]
     },
     "metadata": {
      "needs_background": "light"
     },
     "output_type": "display_data"
    }
   ],
   "source": [
    "plt.errorbar(gammas[:], accuracies_train_mean2[:], yerr=accuracies_train_std2[:], label=\"train\")\n",
    "plt.errorbar(gammas[:], accuracies_test_mean2[:], yerr=accuracies_test_std2[:], label=\"test\")\n",
    "plt.xscale(\"log\")\n",
    "plt.xlabel(\"Gamma\")\n",
    "plt.ylabel(\"Categorical accuracy\")\n",
    "plt.title(\"Categorical accuracy for Linear Regression with Gradient Descent, with non-standardized data\")\n",
    "plt.legend()\n",
    "plt.show()"
   ]
  },
  {
   "cell_type": "markdown",
   "metadata": {},
   "source": [
    "## Linear Regression with Stochastic Gradient Descent"
   ]
  },
  {
   "cell_type": "code",
   "execution_count": 405,
   "metadata": {},
   "outputs": [],
   "source": [
    "def least_squares_SGD_cv(y_train, x_train, w_i, max_iter, gamma):\n",
    "    cat_accuracies_train = []\n",
    "    cat_accuracies_test = []\n",
    "    f1_scores_train = []\n",
    "    f1_scores_test = []\n",
    "    for i in range(num_folds):\n",
    "        weights = least_squares_SGD(y_train[i], x_train[i], w_i, max_iter, gamma)[0]\n",
    "        cat_accuracy_train, f1_score_train = metrics(y_train[i], predict_labels(weights, x_train[i]))\n",
    "        cat_accuracy_test, f1_score_test = metrics(y_test[i], predict_labels(weights, x_test[i]))\n",
    "        cat_accuracies_train.append(cat_accuracy_train)\n",
    "        cat_accuracies_test.append(cat_accuracy_test)\n",
    "        f1_scores_train.append(f1_score_train)\n",
    "        f1_scores_test.append(f1_score_test)\n",
    "    return cat_accuracies_train, cat_accuracies_test"
   ]
  },
  {
   "cell_type": "code",
   "execution_count": 406,
   "metadata": {},
   "outputs": [
    {
     "name": "stdout",
     "output_type": "stream",
     "text": [
      "Gamma: 1e-07 || Categorical accuracy train : ( 0.6761790000000001 ,  0.010638267434126646 )\n",
      "Gamma: 1e-07 || Categorical accuracy test : ( 0.6770919999999999 ,  0.011886150596387392 )\n",
      "Gamma: 1e-06 || Categorical accuracy train : ( 0.684217 ,  0.008137389384808853 )\n",
      "Gamma: 1e-06 || Categorical accuracy test : ( 0.6845000000000001 ,  0.008879486471637872 )\n",
      "Gamma: 1e-05 || Categorical accuracy train : ( 0.6783429999999999 ,  0.005997202347761817 )\n",
      "Gamma: 1e-05 || Categorical accuracy test : ( 0.678476 ,  0.0060583879043851025 )\n",
      "Gamma: 0.0001 || Categorical accuracy train : ( 0.685115 ,  0.01603992736891287 )\n",
      "Gamma: 0.0001 || Categorical accuracy test : ( 0.684556 ,  0.015705292865782528 )\n",
      "Gamma: 0.001 || Categorical accuracy train : ( 0.693164 ,  0.010848523125292197 )\n",
      "Gamma: 0.001 || Categorical accuracy test : ( 0.6928839999999999 ,  0.010629531692412417 )\n",
      "Gamma: 0.01 || Categorical accuracy train : ( 0.6835289999999999 ,  0.020502015852105874 )\n",
      "Gamma: 0.01 || Categorical accuracy test : ( 0.6844560000000001 ,  0.020237594323436768 )\n",
      "Gamma: 0.02 || Categorical accuracy train : ( 0.608446 ,  0.09182037058300299 )\n",
      "Gamma: 0.02 || Categorical accuracy test : ( 0.60946 ,  0.09029485832537752 )\n",
      "Gamma: 0.03 || Categorical accuracy train : ( 0.607946 ,  0.049188593027245674 )\n",
      "Gamma: 0.03 || Categorical accuracy test : ( 0.606304 ,  0.04897290254824603 )\n",
      "Gamma: 0.05 || Categorical accuracy train : ( 0.540609 ,  0.07523008676055078 )\n",
      "Gamma: 0.05 || Categorical accuracy test : ( 0.539836 ,  0.07384402849249222 )\n",
      "Gamma: 0.1 || Categorical accuracy train : ( 0.541335 ,  0.07512194652696376 )\n",
      "Gamma: 0.1 || Categorical accuracy test : ( 0.54204 ,  0.07420320855596475 )\n",
      "Gamma: 0.2 || Categorical accuracy train : ( 0.5062559999999999 ,  0.0753736244584271 )\n",
      "Gamma: 0.2 || Categorical accuracy test : ( 0.5059 ,  0.07543347585787094 )\n",
      "Gamma: 0.3 || Categorical accuracy train : ( 0.571454 ,  0.055150675190789825 )\n",
      "Gamma: 0.3 || Categorical accuracy test : ( 0.5707000000000001 ,  0.056264097255710036 )\n",
      "Gamma: 0.31 || Categorical accuracy train : ( 0.511005 ,  0.061257118361868784 )\n",
      "Gamma: 0.31 || Categorical accuracy test : ( 0.511136 ,  0.06136758284306137 )\n",
      "Gamma: 0.32 || Categorical accuracy train : ( 0.4874929999999999 ,  0.08047865565477594 )\n",
      "Gamma: 0.32 || Categorical accuracy test : ( 0.486996 ,  0.08023904027342302 )\n",
      "Gamma: 0.33 || Categorical accuracy train : ( 0.495767 ,  0.051127004273671256 )\n",
      "Gamma: 0.33 || Categorical accuracy test : ( 0.496644 ,  0.0519292463261311 )\n",
      "Gamma: 0.34 || Categorical accuracy train : ( 0.500219 ,  0.08460573919067195 )\n",
      "Gamma: 0.34 || Categorical accuracy test : ( 0.499376 ,  0.08481543859463324 )\n",
      "Gamma: 0.4 || Categorical accuracy train : ( 0.511281 ,  0.09700640022184105 )\n",
      "Gamma: 0.4 || Categorical accuracy test : ( 0.509804 ,  0.09827548821552606 )\n",
      "Gamma: 0.5 || Categorical accuracy train : ( 0.506076 ,  0.0764146944245673 )\n",
      "Gamma: 0.5 || Categorical accuracy test : ( 0.5069920000000001 ,  0.07494461592402756 )\n",
      "[0.6761790000000001, 0.684217, 0.6783429999999999, 0.685115, 0.693164, 0.6835289999999999, 0.608446, 0.607946, 0.540609, 0.541335, 0.5062559999999999, 0.571454, 0.511005, 0.4874929999999999, 0.495767, 0.500219, 0.511281, 0.506076]\n",
      "[0.6770919999999999, 0.6845000000000001, 0.678476, 0.684556, 0.6928839999999999, 0.6844560000000001, 0.60946, 0.606304, 0.539836, 0.54204, 0.5059, 0.5707000000000001, 0.511136, 0.486996, 0.496644, 0.499376, 0.509804, 0.5069920000000001]\n",
      "[0.010638267434126646, 0.008137389384808853, 0.005997202347761817, 0.01603992736891287, 0.010848523125292197, 0.020502015852105874, 0.09182037058300299, 0.049188593027245674, 0.07523008676055078, 0.07512194652696376, 0.0753736244584271, 0.055150675190789825, 0.061257118361868784, 0.08047865565477594, 0.051127004273671256, 0.08460573919067195, 0.09700640022184105, 0.0764146944245673]\n",
      "[0.011886150596387392, 0.008879486471637872, 0.0060583879043851025, 0.015705292865782528, 0.010629531692412417, 0.020237594323436768, 0.09029485832537752, 0.04897290254824603, 0.07384402849249222, 0.07420320855596475, 0.07543347585787094, 0.056264097255710036, 0.06136758284306137, 0.08023904027342302, 0.0519292463261311, 0.08481543859463324, 0.09827548821552606, 0.07494461592402756]\n"
     ]
    }
   ],
   "source": [
    "gammas = [0.0000001, 0.000001, 0.00001, 0.0001, 0.001, 0.01, 0.02, 0.03, 0.05, 0.1, 0.2, 0.3, 0.31, 0.32, 0.33, 0.34, 0.4, 0.5]\n",
    "accuracies_train_mean3 = []\n",
    "accuracies_test_mean3 = []\n",
    "accuracies_train_std3 = []\n",
    "accuracies_test_std3 = []\n",
    "for gamma in gammas:\n",
    "    cat_accuracies_train, cat_accuracies_test = least_squares_SGD_cv(y_train, x_train, np.zeros(31), 100, gamma)\n",
    "    \n",
    "    print(\"Gamma: \" + str(gamma) + \" || Categorical accuracy train : (\",np.mean(cat_accuracies_train),\", \", np.std(cat_accuracies_train),\")\")\n",
    "    print(\"Gamma: \" + str(gamma) + \" || Categorical accuracy test : (\",np.mean(cat_accuracies_test),\", \", np.std(cat_accuracies_test),\")\")\n",
    "    accuracies_train_mean3.append(np.mean(cat_accuracies_train))\n",
    "    accuracies_test_mean3.append(np.mean(cat_accuracies_test))\n",
    "    accuracies_train_std3.append(np.std(cat_accuracies_train))\n",
    "    accuracies_test_std3.append(np.std(cat_accuracies_test))\n",
    "    \n",
    "print(accuracies_train_mean3)\n",
    "print(accuracies_test_mean3)\n",
    "print(accuracies_train_std3)\n",
    "print(accuracies_test_std3)"
   ]
  },
  {
   "cell_type": "code",
   "execution_count": 407,
   "metadata": {},
   "outputs": [
    {
     "data": {
      "image/png": "[encoded data removed]",
      "text/plain": [
       "<Figure size 432x288 with 1 Axes>"
      ]
     },
     "metadata": {
      "needs_background": "light"
     },
     "output_type": "display_data"
    }
   ],
   "source": [
    "plt.plot(gammas[:], accuracies_train_3[:], label=\"train\")\n",
    "plt.plot(gammas[:], accuracies_test_3[:], label=\"test\")\n",
    "plt.xscale(\"log\")\n",
    "plt.xlabel(\"Gamma\")\n",
    "plt.ylabel(\"Categorical accuracy\")\n",
    "plt.title(\"Categorical accuracy for Linear Regression with Stochastic Gradient Descent\")\n",
    "plt.legend()\n",
    "plt.show()"
   ]
  },
  {
   "cell_type": "code",
   "execution_count": 408,
   "metadata": {},
   "outputs": [
    {
     "data": {
      "image/png": "[encoded data removed]",
      "text/plain": [
       "<Figure size 432x288 with 1 Axes>"
      ]
     },
     "metadata": {
      "needs_background": "light"
     },
     "output_type": "display_data"
    }
   ],
   "source": [
    "plt.errorbar(gammas[:], accuracies_train_mean3[:], yerr=accuracies_train_std3[:], label=\"train\")\n",
    "plt.errorbar(gammas[:], accuracies_test_mean3[:], yerr=accuracies_test_std3[:], label=\"test\")\n",
    "plt.xscale(\"log\")\n",
    "plt.xlabel(\"Gamma\")\n",
    "plt.ylabel(\"Categorical accuracy\")\n",
    "plt.title(\"Categorical accuracy for Linear Regression with Stochastic Gradient Descent\")\n",
    "plt.legend()\n",
    "plt.show()"
   ]
  },
  {
   "cell_type": "markdown",
   "metadata": {},
   "source": [
    "## Least Squares"
   ]
  },
  {
   "cell_type": "code",
   "execution_count": 424,
   "metadata": {},
   "outputs": [],
   "source": [
    "def least_squares_cv(y_train, x_train, y_test, x_test):\n",
    "    cat_accuracies_train = []\n",
    "    cat_accuracies_test = []\n",
    "    f1_scores_train = []\n",
    "    f1_scores_test = []\n",
    "    for i in range(num_folds):\n",
    "        weights = least_squares(y_train[i], x_train[i])[0]\n",
    "        cat_accuracy_train, f1_score_train = metrics(y_train[i], predict_labels(weights, x_train[i]))\n",
    "        cat_accuracy_test, f1_score_test = metrics(y_test[i], predict_labels(weights, x_test[i]))\n",
    "        cat_accuracies_train.append(cat_accuracy_train)\n",
    "        cat_accuracies_test.append(cat_accuracy_test)\n",
    "        f1_scores_train.append(f1_score_train)\n",
    "        f1_scores_test.append(f1_score_test)\n",
    "    return cat_accuracies_train, cat_accuracies_test"
   ]
  },
  {
   "cell_type": "code",
   "execution_count": 425,
   "metadata": {},
   "outputs": [
    {
     "name": "stdout",
     "output_type": "stream",
     "text": [
      "Categorical accuracy train : ( 0.744493 ,  0.0006400749956060015 )\n",
      "Categorical accuracy test : ( 0.706348 ,  0.021547419706312843 )\n"
     ]
    }
   ],
   "source": [
    "cat_accuracies_train4, cat_accuracies_test4 = least_squares_cv(y_train, x_train, y_test, x_test)\n",
    "\n",
    "print(\"Categorical accuracy train : (\",np.mean(cat_accuracies_train4),\", \", np.std(cat_accuracies_train4),\")\")\n",
    "print(\"Categorical accuracy test : (\",np.mean(cat_accuracies_test4),\", \", np.std(cat_accuracies_test4),\")\")"
   ]
  },
  {
   "cell_type": "markdown",
   "metadata": {},
   "source": [
    "## Ridge regression"
   ]
  },
  {
   "cell_type": "code",
   "execution_count": 413,
   "metadata": {},
   "outputs": [],
   "source": [
    "def ridge_regression_cv(y_train, x_train, lambda_):\n",
    "    cat_accuracies_train = []\n",
    "    cat_accuracies_test = []\n",
    "    f1_scores_train = []\n",
    "    f1_scores_test = []\n",
    "    for i in range(num_folds):\n",
    "        weights = ridge_regression(y_train[i], x_train[i], lambda_)[0]\n",
    "        cat_accuracy_train, f1_score_train = metrics(y_train[i], predict_labels(weights, x_train[i]))\n",
    "        cat_accuracy_test, f1_score_test = metrics(y_test[i], predict_labels(weights, x_test[i]))\n",
    "        cat_accuracies_train.append(cat_accuracy_train)\n",
    "        cat_accuracies_test.append(cat_accuracy_test)\n",
    "        f1_scores_train.append(f1_score_train)\n",
    "        f1_scores_test.append(f1_score_test)\n",
    "    return cat_accuracies_train, cat_accuracies_test"
   ]
  },
  {
   "cell_type": "code",
   "execution_count": 415,
   "metadata": {},
   "outputs": [
    {
     "name": "stdout",
     "output_type": "stream",
     "text": [
      "Lambda: 1e-06 || Categorical accuracy train : ( 0.7444919999999999 ,  0.0006442251159338472 )\n",
      "Lambda: 1e-06 || Categorical accuracy test : ( 0.706584 ,  0.021464603047808752 )\n",
      "Lambda: 2.894266124716752e-06 || Categorical accuracy train : ( 0.744494 ,  0.0006440139750036307 )\n",
      "Lambda: 2.894266124716752e-06 || Categorical accuracy test : ( 0.706924 ,  0.021380901384179286 )\n",
      "Lambda: 8.376776400682924e-06 || Categorical accuracy train : ( 0.744492 ,  0.0006401609172700525 )\n",
      "Lambda: 8.376776400682924e-06 || Categorical accuracy test : ( 0.708172 ,  0.021165748179547077 )\n",
      "Lambda: 2.424462017082331e-05 || Categorical accuracy train : ( 0.744499 ,  0.0006373021261536687 )\n",
      "Lambda: 2.424462017082331e-05 || Categorical accuracy test : ( 0.710884 ,  0.020403064083612532 )\n",
      "Lambda: 7.017038286703837e-05 || Categorical accuracy train : ( 0.744494 ,  0.0006333908745790631 )\n",
      "Lambda: 7.017038286703837e-05 || Categorical accuracy test : ( 0.71778 ,  0.018846287698111794 )\n",
      "Lambda: 0.00020309176209047368 || Categorical accuracy train : ( 0.7444939999999999 ,  0.0006414545969903012 )\n",
      "Lambda: 0.00020309176209047368 || Categorical accuracy test : ( 0.729336 ,  0.013634558445362282 )\n",
      "Lambda: 0.0005878016072274912 || Categorical accuracy train : ( 0.744474 ,  0.0006413064789942219 )\n",
      "Lambda: 0.0005878016072274912 || Categorical accuracy test : ( 0.73978 ,  0.007302481769919047 )\n",
      "Lambda: 0.0017012542798525892 || Categorical accuracy train : ( 0.7444879999999999 ,  0.0006426554286707508 )\n",
      "Lambda: 0.0017012542798525892 || Categorical accuracy test : ( 0.74402 ,  0.0035192499200824164 )\n",
      "Lambda: 0.004923882631706742 || Categorical accuracy train : ( 0.7444880000000001 ,  0.0006436349897263012 )\n",
      "Lambda: 0.004923882631706742 || Categorical accuracy test : ( 0.7445959999999999 ,  0.0022184463031590307 )\n",
      "Lambda: 0.014251026703029992 || Categorical accuracy train : ( 0.744486 ,  0.0006485784455253022 )\n",
      "Lambda: 0.014251026703029992 || Categorical accuracy test : ( 0.744552 ,  0.0018824069698128451 )\n",
      "Lambda: 0.041246263829013564 || Categorical accuracy train : ( 0.744488 ,  0.0006460386985312845 )\n",
      "Lambda: 0.041246263829013564 || Categorical accuracy test : ( 0.7446240000000001 ,  0.0017498525652179968 )\n",
      "Lambda: 0.11937766417144383 || Categorical accuracy train : ( 0.744487 ,  0.0006452100433192193 )\n",
      "Lambda: 0.11937766417144383 || Categorical accuracy test : ( 0.7446280000000001 ,  0.0016138203121785107 )\n",
      "Lambda: 0.34551072945922184 || Categorical accuracy train : ( 0.744487 ,  0.0006452100433192193 )\n",
      "Lambda: 0.34551072945922184 || Categorical accuracy test : ( 0.7445960000000001 ,  0.0015550897080233044 )\n",
      "Lambda: 1.0 || Categorical accuracy train : ( 0.744487 ,  0.0006452100433192193 )\n",
      "Lambda: 1.0 || Categorical accuracy test : ( 0.744568 ,  0.001527172550827164 )\n",
      "Lambda: 2.8942661247167516 || Categorical accuracy train : ( 0.744487 ,  0.0006452100433192193 )\n",
      "Lambda: 2.8942661247167516 || Categorical accuracy test : ( 0.7445640000000001 ,  0.0015397869982565723 )\n",
      "Lambda: 8.376776400682925 || Categorical accuracy train : ( 0.744487 ,  0.0006452100433192193 )\n",
      "Lambda: 8.376776400682925 || Categorical accuracy test : ( 0.744552 ,  0.0015302601086089763 )\n",
      "Lambda: 24.244620170823307 || Categorical accuracy train : ( 0.744486 ,  0.0006471043192561808 )\n",
      "Lambda: 24.244620170823307 || Categorical accuracy test : ( 0.744548 ,  0.001523658754446 )\n",
      "Lambda: 70.17038286703837 || Categorical accuracy train : ( 0.7444850000000001 ,  0.0006525565109628548 )\n",
      "Lambda: 70.17038286703837 || Categorical accuracy test : ( 0.744548 ,  0.0015185572099858575 )\n",
      "Lambda: 203.09176209047388 || Categorical accuracy train : ( 0.744487 ,  0.0006481249879459767 )\n",
      "Lambda: 203.09176209047388 || Categorical accuracy test : ( 0.744544 ,  0.0015240682399420469 )\n",
      "Lambda: 587.8016072274924 || Categorical accuracy train : ( 0.7444839999999999 ,  0.0006445184248723792 )\n",
      "Lambda: 587.8016072274924 || Categorical accuracy test : ( 0.744556 ,  0.0015266381365602185 )\n",
      "Lambda: 1701.2542798525926 || Categorical accuracy train : ( 0.744487 ,  0.0006380564238372591 )\n",
      "Lambda: 1701.2542798525926 || Categorical accuracy test : ( 0.74454 ,  0.0015055630176116816 )\n",
      "Lambda: 4923.882631706751 || Categorical accuracy train : ( 0.744467 ,  0.0006389491372558407 )\n",
      "Lambda: 4923.882631706751 || Categorical accuracy test : ( 0.7445320000000001 ,  0.0015072411883968846 )\n",
      "Lambda: 14251.026703030022 || Categorical accuracy train : ( 0.744437 ,  0.0006323416797902877 )\n",
      "Lambda: 14251.026703030022 || Categorical accuracy test : ( 0.744412 ,  0.0016048227316435737 )\n",
      "Lambda: 41246.263829013646 || Categorical accuracy train : ( 0.74424 ,  0.0005875542528141577 )\n",
      "Lambda: 41246.263829013646 || Categorical accuracy test : ( 0.7443799999999999 ,  0.0016111114176245041 )\n",
      "Lambda: 119377.66417144357 || Categorical accuracy train : ( 0.743874 ,  0.000642288097351948 )\n",
      "Lambda: 119377.66417144357 || Categorical accuracy test : ( 0.7439479999999999 ,  0.0017862407452524445 )\n",
      "Lambda: 345510.7294592218 || Categorical accuracy train : ( 0.7426389999999999 ,  0.0006178462591939798 )\n",
      "Lambda: 345510.7294592218 || Categorical accuracy test : ( 0.7428 ,  0.0018500162161451438 )\n",
      "Lambda: 1000000.0 || Categorical accuracy train : ( 0.740105 ,  0.0005580501769554483 )\n",
      "Lambda: 1000000.0 || Categorical accuracy test : ( 0.740104 ,  0.001449546135864585 )\n",
      "Lambda: 2894266.1247167517 || Categorical accuracy train : ( 0.734599 ,  0.0005017409690268506 )\n",
      "Lambda: 2894266.1247167517 || Categorical accuracy test : ( 0.734452 ,  0.0018882626935889863 )\n",
      "Lambda: 8376776.400682924 || Categorical accuracy train : ( 0.7274899999999999 ,  0.0005200192304136356 )\n",
      "Lambda: 8376776.400682924 || Categorical accuracy test : ( 0.7274679999999999 ,  0.0020670597475641547 )\n",
      "Lambda: 24244620.170823306 || Categorical accuracy train : ( 0.719189 ,  0.0004305043553786786 )\n",
      "Lambda: 24244620.170823306 || Categorical accuracy test : ( 0.719276 ,  0.0016238916219994586 )\n",
      "Lambda: 70170382.86703837 || Categorical accuracy train : ( 0.711344 ,  0.00043527462595470276 )\n",
      "Lambda: 70170382.86703837 || Categorical accuracy test : ( 0.7114240000000001 ,  0.0018506388086279592 )\n",
      "Lambda: 203091762.0904739 || Categorical accuracy train : ( 0.705748 ,  0.0003834136147817258 )\n",
      "Lambda: 203091762.0904739 || Categorical accuracy test : ( 0.7057079999999999 ,  0.0013001292243465688 )\n",
      "Lambda: 587801607.2274923 || Categorical accuracy train : ( 0.702905 ,  0.0003568753283711119 )\n",
      "Lambda: 587801607.2274923 || Categorical accuracy test : ( 0.70278 ,  0.0014576144894998555 )\n",
      "Lambda: 1701254279.8525927 || Categorical accuracy train : ( 0.701684 ,  0.000402621410260292 )\n",
      "Lambda: 1701254279.8525927 || Categorical accuracy test : ( 0.701692 ,  0.0015656615215301165 )\n",
      "Lambda: 4923882631.706752 || Categorical accuracy train : ( 0.7012379999999999 ,  0.0003945959959249307 )\n",
      "Lambda: 4923882631.706752 || Categorical accuracy test : ( 0.701192 ,  0.001414021216248166 )\n",
      "Lambda: 14251026703.029963 || Categorical accuracy train : ( 0.701092 ,  0.00037870304989530976 )\n",
      "Lambda: 14251026703.029963 || Categorical accuracy test : ( 0.7010159999999999 ,  0.0014654091578804884 )\n",
      "Lambda: 41246263829.01365 || Categorical accuracy train : ( 0.701068 ,  0.00035917405251495584 )\n",
      "Lambda: 41246263829.01365 || Categorical accuracy test : ( 0.700956 ,  0.001468463142200047 )\n",
      "Lambda: 119377664171.44357 || Categorical accuracy train : ( 0.7010479999999999 ,  0.00035720582302082844 )\n",
      "Lambda: 119377664171.44357 || Categorical accuracy test : ( 0.70094 ,  0.0014530519605299658 )\n",
      "Lambda: 345510729459.22327 || Categorical accuracy train : ( 0.7010379999999999 ,  0.0003620580064022851 )\n",
      "Lambda: 345510729459.22327 || Categorical accuracy test : ( 0.70094 ,  0.0014377760604488913 )\n",
      "Lambda: 1000000000000.0 || Categorical accuracy train : ( 0.7010310000000001 ,  0.0003613779185284939 )\n",
      "Lambda: 1000000000000.0 || Categorical accuracy test : ( 0.700948 ,  0.0014438060811618543 )\n",
      "[0.7444919999999999, 0.744494, 0.744492, 0.744499, 0.744494, 0.7444939999999999, 0.744474, 0.7444879999999999, 0.7444880000000001, 0.744486, 0.744488, 0.744487, 0.744487, 0.744487, 0.744487, 0.744487, 0.744486, 0.7444850000000001, 0.744487, 0.7444839999999999, 0.744487, 0.744467, 0.744437, 0.74424, 0.743874, 0.7426389999999999, 0.740105, 0.734599, 0.7274899999999999, 0.719189, 0.711344, 0.705748, 0.702905, 0.701684, 0.7012379999999999, 0.701092, 0.701068, 0.7010479999999999, 0.7010379999999999, 0.7010310000000001]\n",
      "[0.706584, 0.706924, 0.708172, 0.710884, 0.71778, 0.729336, 0.73978, 0.74402, 0.7445959999999999, 0.744552, 0.7446240000000001, 0.7446280000000001, 0.7445960000000001, 0.744568, 0.7445640000000001, 0.744552, 0.744548, 0.744548, 0.744544, 0.744556, 0.74454, 0.7445320000000001, 0.744412, 0.7443799999999999, 0.7439479999999999, 0.7428, 0.740104, 0.734452, 0.7274679999999999, 0.719276, 0.7114240000000001, 0.7057079999999999, 0.70278, 0.701692, 0.701192, 0.7010159999999999, 0.700956, 0.70094, 0.70094, 0.700948]\n",
      "[0.0006442251159338472, 0.0006440139750036307, 0.0006401609172700525, 0.0006373021261536687, 0.0006333908745790631, 0.0006414545969903012, 0.0006413064789942219, 0.0006426554286707508, 0.0006436349897263012, 0.0006485784455253022, 0.0006460386985312845, 0.0006452100433192193, 0.0006452100433192193, 0.0006452100433192193, 0.0006452100433192193, 0.0006452100433192193, 0.0006471043192561808, 0.0006525565109628548, 0.0006481249879459767, 0.0006445184248723792, 0.0006380564238372591, 0.0006389491372558407, 0.0006323416797902877, 0.0005875542528141577, 0.000642288097351948, 0.0006178462591939798, 0.0005580501769554483, 0.0005017409690268506, 0.0005200192304136356, 0.0004305043553786786, 0.00043527462595470276, 0.0003834136147817258, 0.0003568753283711119, 0.000402621410260292, 0.0003945959959249307, 0.00037870304989530976, 0.00035917405251495584, 0.00035720582302082844, 0.0003620580064022851, 0.0003613779185284939]\n",
      "[0.021464603047808752, 0.021380901384179286, 0.021165748179547077, 0.020403064083612532, 0.018846287698111794, 0.013634558445362282, 0.007302481769919047, 0.0035192499200824164, 0.0022184463031590307, 0.0018824069698128451, 0.0017498525652179968, 0.0016138203121785107, 0.0015550897080233044, 0.001527172550827164, 0.0015397869982565723, 0.0015302601086089763, 0.001523658754446, 0.0015185572099858575, 0.0015240682399420469, 0.0015266381365602185, 0.0015055630176116816, 0.0015072411883968846, 0.0016048227316435737, 0.0016111114176245041, 0.0017862407452524445, 0.0018500162161451438, 0.001449546135864585, 0.0018882626935889863, 0.0020670597475641547, 0.0016238916219994586, 0.0018506388086279592, 0.0013001292243465688, 0.0014576144894998555, 0.0015656615215301165, 0.001414021216248166, 0.0014654091578804884, 0.001468463142200047, 0.0014530519605299658, 0.0014377760604488913, 0.0014438060811618543]\n"
     ]
    }
   ],
   "source": [
    "lambdas =  np.logspace(-6, 12, 40)\n",
    "accuracies_train_mean5 = []\n",
    "accuracies_test_mean5 = []\n",
    "accuracies_train_std5 = []\n",
    "accuracies_test_std5 = []\n",
    "for lambda_ in lambdas:\n",
    "    cat_accuracies_train, cat_accuracies_test = ridge_regression_cv(y_train, x_train, lambda_)\n",
    "    \n",
    "    print(\"Lambda: \" + str(lambda_) + \" || Categorical accuracy train : (\",np.mean(cat_accuracies_train),\", \", np.std(cat_accuracies_train),\")\")\n",
    "    print(\"Lambda: \" + str(lambda_) + \" || Categorical accuracy test : (\",np.mean(cat_accuracies_test),\", \", np.std(cat_accuracies_test),\")\")\n",
    "    accuracies_train_mean5.append(np.mean(cat_accuracies_train))\n",
    "    accuracies_test_mean5.append(np.mean(cat_accuracies_test))\n",
    "    accuracies_train_std5.append(np.std(cat_accuracies_train))\n",
    "    accuracies_test_std5.append(np.std(cat_accuracies_test))\n",
    "    \n",
    "print(accuracies_train_mean5)\n",
    "print(accuracies_test_mean5)\n",
    "print(accuracies_train_std5)\n",
    "print(accuracies_test_std5)"
   ]
  },
  {
   "cell_type": "code",
   "execution_count": 287,
   "metadata": {},
   "outputs": [
    {
     "data": {
      "image/png": "[encoded data removed]",
      "text/plain": [
       "<Figure size 432x288 with 1 Axes>"
      ]
     },
     "metadata": {
      "needs_background": "light"
     },
     "output_type": "display_data"
    }
   ],
   "source": [
    "plt.plot(lambdas[:], accuracies_train_4[:], label=\"train\")\n",
    "plt.plot(lambdas[:], accuracies_test_4[:], label=\"test\")\n",
    "plt.xscale(\"log\")\n",
    "plt.xlabel(\"Lambda\")\n",
    "plt.ylabel(\"Categorical accuracy\")\n",
    "plt.title(\"Categorical accuracy for Ridge Regression\")\n",
    "plt.legend()\n",
    "plt.show()"
   ]
  },
  {
   "cell_type": "code",
   "execution_count": 416,
   "metadata": {},
   "outputs": [
    {
     "data": {
      "image/png": "[encoded data removed]",
      "text/plain": [
       "<Figure size 432x288 with 1 Axes>"
      ]
     },
     "metadata": {
      "needs_background": "light"
     },
     "output_type": "display_data"
    }
   ],
   "source": [
    "plt.errorbar(lambdas[:], accuracies_train_mean5[:], yerr=accuracies_train_std5[:], label=\"train\")\n",
    "plt.errorbar(lambdas[:], accuracies_test_mean5[:], yerr=accuracies_test_std5[:], label=\"test\")\n",
    "plt.xscale(\"log\")\n",
    "plt.xlabel(\"Lambda\")\n",
    "plt.ylabel(\"Categorical accuracy\")\n",
    "plt.title(\"Categorical accuracy for Ridge Regression\")\n",
    "plt.legend()\n",
    "plt.show()"
   ]
  },
  {
   "cell_type": "code",
   "execution_count": 288,
   "metadata": {},
   "outputs": [
    {
     "name": "stdout",
     "output_type": "stream",
     "text": [
      "Best performance: lambda  0.0017012542798525892 , train accuracy:  0.74494034938219 , test accuracy:  0.7433976020738821\n"
     ]
    }
   ],
   "source": [
    "print(\"Best performance: lambda \", lambdas[np.argmax(accuracies_test_4)], \", train accuracy: \", accuracies_train_4[np.argmax(accuracies_test_4)], \", test accuracy: \", accuracies_test_4[np.argmax(accuracies_test_4)])"
   ]
  },
  {
   "cell_type": "code",
   "execution_count": 417,
   "metadata": {},
   "outputs": [
    {
     "name": "stdout",
     "output_type": "stream",
     "text": [
      "Best performance: lambda  0.11937766417144383 , train accuracy:  0.744487 , test accuracy:  0.7446280000000001 , std:  0.0016138203121785107\n"
     ]
    }
   ],
   "source": [
    "print(\"Best performance: lambda \", lambdas[np.argmax(accuracies_test_mean5)], \", train accuracy: \", accuracies_train_mean5[np.argmax(accuracies_test_mean5)], \", test accuracy: \", accuracies_test_mean5[np.argmax(accuracies_test_mean5)], \", std: \", accuracies_test_std5[np.argmax(accuracies_test_mean5)])"
   ]
  },
  {
   "cell_type": "markdown",
   "metadata": {},
   "source": [
    "## Logistic regression"
   ]
  },
  {
   "cell_type": "code",
   "execution_count": 418,
   "metadata": {},
   "outputs": [],
   "source": [
    "def logsitic_regression_cv(y_train, x_train, w_i, max_iter, gamma):\n",
    "    cat_accuracies_train = []\n",
    "    cat_accuracies_test = []\n",
    "    f1_scores_train = []\n",
    "    f1_scores_test = []\n",
    "    for i in range(num_folds):\n",
    "        weights = logistic_regression(y_train[i], x_train[i], w_i, max_ited, gamma)[0]\n",
    "        cat_accuracy_train, f1_score_train = metrics(y_train[i], predict_labels(weights, x_train[i]))\n",
    "        cat_accuracy_test, f1_score_test = metrics(y_test[i], predict_labels(weights, x_test[i]))\n",
    "        cat_accuracies_train.append(cat_accuracy_train)\n",
    "        cat_accuracies_test.append(cat_accuracy_test)\n",
    "        f1_scores_train.append(f1_score_train)\n",
    "        f1_scores_test.append(f1_score_test)\n",
    "    return cat_accuracies_train, cat_accuracies_test"
   ]
  },
  {
   "cell_type": "code",
   "execution_count": 220,
   "metadata": {},
   "outputs": [
    {
     "name": "stdout",
     "output_type": "stream",
     "text": [
      "The loss for step 0 is 155989.9942229971.\n",
      "The loss for step 1000 is 155986.6570715598.\n",
      "The loss for step 2000 is 155982.98179237847.\n",
      "The loss for step 3000 is 155980.06425238322.\n",
      "The loss for step 4000 is 155976.5968732667.\n",
      "The loss for step 5000 is 155973.095968284.\n",
      "The loss for step 6000 is 155969.6429974646.\n",
      "The loss for step 7000 is 155966.12319732865.\n",
      "The loss for step 8000 is 155962.90345196048.\n",
      "The loss for step 9000 is 155959.52730909263.\n",
      "Gamma: 1e-07 || Categorical accuracy train :  0.7000702078686135  || f1_score train:  0.3066197633514551\n",
      "Gamma: 1e-07 || Categorical accuracy test :  0.7009297106676284  || f1_score test:  0.3029107725788901\n",
      "The loss for step 0 is 155989.96826378352.\n",
      "The loss for step 1000 is 155956.79188752055.\n",
      "The loss for step 2000 is 155923.7250396881.\n",
      "The loss for step 3000 is 155889.3155319965.\n",
      "The loss for step 4000 is 155858.36890505935.\n",
      "The loss for step 5000 is 155824.44251516537.\n",
      "The loss for step 6000 is 155791.68708996166.\n",
      "The loss for step 7000 is 155760.31542237665.\n",
      "The loss for step 8000 is 155724.4841626578.\n",
      "The loss for step 9000 is 155695.18323025096.\n",
      "Gamma: 1e-06 || Categorical accuracy train :  0.6995725318379353  || f1_score train:  0.31087760118589686\n",
      "Gamma: 1e-06 || Categorical accuracy test :  0.699647351126072  || f1_score test:  0.30688333276792074\n",
      "The loss for step 0 is 155989.31137530712.\n",
      "The loss for step 1000 is 155656.55537984386.\n",
      "The loss for step 2000 is 155315.66544951912.\n",
      "The loss for step 3000 is 155004.33586212376.\n",
      "The loss for step 4000 is 154674.34281532824.\n",
      "The loss for step 5000 is 154387.79259280802.\n",
      "The loss for step 6000 is 154101.83194901032.\n",
      "The loss for step 7000 is 153823.46406898653.\n",
      "The loss for step 8000 is 153513.88397693832.\n",
      "The loss for step 9000 is 153232.95163012337.\n",
      "Gamma: 1e-05 || Categorical accuracy train :  0.7034650693635968  || f1_score train:  0.3146472154301826\n",
      "Gamma: 1e-05 || Categorical accuracy test :  0.7032940610723731  || f1_score test:  0.3110659898477157\n",
      "The loss for step 0 is 155993.39660230803.\n",
      "The loss for step 1000 is 152864.0482729738.\n",
      "The loss for step 2000 is 150162.40909921366.\n",
      "The loss for step 3000 is 147905.65969628483.\n",
      "The loss for step 4000 is 145819.8379011215.\n",
      "The loss for step 5000 is 144032.4732804417.\n",
      "The loss for step 6000 is 142639.12949599867.\n",
      "The loss for step 7000 is 141343.77909098178.\n",
      "The loss for step 8000 is 139985.65797980234.\n",
      "The loss for step 9000 is 138830.10392258866.\n",
      "Gamma: 0.0001 || Categorical accuracy train :  0.7080419114314407  || f1_score train:  0.314110631667266\n",
      "Gamma: 0.0001 || Categorical accuracy test :  0.707421655846758  || f1_score test:  0.3111802923659989\n",
      "The loss for step 0 is 155935.4685136066.\n",
      "The loss for step 1000 is 137661.90657096024.\n",
      "The loss for step 2000 is 130534.71589012079.\n",
      "The loss for step 3000 is 126238.820753745.\n",
      "The loss for step 4000 is 124270.73442442194.\n",
      "The loss for step 5000 is 122087.49494514929.\n",
      "The loss for step 6000 is 120709.53072819975.\n",
      "The loss for step 7000 is 119859.21187045088.\n",
      "The loss for step 8000 is 119244.28889350362.\n",
      "The loss for step 9000 is 118728.15818590093.\n",
      "Gamma: 0.001 || Categorical accuracy train :  0.7367293797712468  || f1_score train:  0.29562899261968867\n",
      "Gamma: 0.001 || Categorical accuracy test :  0.7394004969143223  || f1_score test:  0.2933351571316212\n",
      "The loss for step 0 is 155722.24645860298.\n",
      "The loss for step 1000 is 121303.39889418696.\n",
      "The loss for step 2000 is 120381.89550804172.\n",
      "The loss for step 3000 is 118978.48885464437.\n",
      "The loss for step 4000 is 117825.58894663963.\n",
      "The loss for step 5000 is 116256.50994816743.\n",
      "The loss for step 6000 is 115620.12147817257.\n",
      "The loss for step 7000 is 117619.9490652083.\n",
      "The loss for step 8000 is 116107.1781794206.\n",
      "The loss for step 9000 is 114953.70679049409.\n",
      "Gamma: 0.01 || Categorical accuracy train :  0.7480070741092932  || f1_score train:  0.31382010264863447\n",
      "Gamma: 0.01 || Categorical accuracy test :  0.7530656407790334  || f1_score test:  0.31089450705655397\n",
      "The loss for step 0 is 154562.36871596056.\n",
      "The loss for step 1000 is 134994.98461790773.\n",
      "The loss for step 2000 is 140831.1291235079.\n",
      "The loss for step 3000 is 129157.54918262185.\n",
      "The loss for step 4000 is 130325.20260572275.\n",
      "The loss for step 5000 is 140178.83867709053.\n",
      "The loss for step 6000 is 126373.04253131394.\n",
      "The loss for step 7000 is 123641.61614761151.\n",
      "The loss for step 8000 is 132551.11340257974.\n",
      "The loss for step 9000 is 140683.36810782275.\n",
      "Gamma: 0.05 || Categorical accuracy train :  0.743310256569768  || f1_score train:  0.31666423567867574\n",
      "Gamma: 0.05 || Categorical accuracy test :  0.747335096577703  || f1_score test:  0.31437449338016754\n",
      "The loss for step 0 is 161235.8051448892.\n",
      "The loss for step 1000 is 204342.75920213803.\n",
      "The loss for step 2000 is 143213.19465851085.\n",
      "The loss for step 3000 is 147894.32631215837.\n",
      "The loss for step 4000 is 175084.1425861079.\n",
      "The loss for step 5000 is 151862.473793759.\n",
      "The loss for step 6000 is 178046.00300574582.\n",
      "The loss for step 7000 is 141518.41982845034.\n",
      "The loss for step 8000 is 167332.068234501.\n",
      "The loss for step 9000 is 182000.89389162493.\n",
      "Gamma: 0.1 || Categorical accuracy train :  0.7171689343511993  || f1_score train:  0.2874189068356068\n",
      "Gamma: 0.1 || Categorical accuracy test :  0.7160775827522642  || f1_score test:  0.2823513215859031\n",
      "The loss for step 0 is 161593.33797283916.\n",
      "The loss for step 1000 is 245168.18040392353.\n",
      "The loss for step 2000 is 194289.00618946555.\n",
      "The loss for step 3000 is 262136.6068545118.\n",
      "The loss for step 4000 is 203823.4541274118.\n",
      "The loss for step 5000 is 231676.7641631987.\n",
      "The loss for step 6000 is 258689.74524245365.\n",
      "The loss for step 7000 is 214458.373934009.\n",
      "The loss for step 8000 is 233681.9405880971.\n",
      "The loss for step 9000 is 227890.52450493534.\n",
      "Gamma: 0.2 || Categorical accuracy train :  0.704233801089555  || f1_score train:  0.3541388603461453\n",
      "Gamma: 0.2 || Categorical accuracy test :  0.7032940610723731  || f1_score test:  0.3472530383812962\n",
      "The loss for step 0 is 155289.73702898604.\n",
      "The loss for step 1000 is 262003.62553245053.\n",
      "The loss for step 2000 is 329878.12586854433.\n",
      "The loss for step 3000 is 281172.66380639566.\n",
      "The loss for step 4000 is 270490.91934335243.\n",
      "The loss for step 5000 is 269477.63808639394.\n",
      "The loss for step 6000 is 268968.00257088343.\n",
      "The loss for step 7000 is 254053.44906404684.\n",
      "The loss for step 8000 is 278487.95050324476.\n",
      "The loss for step 9000 is 411832.5714168564.\n",
      "Gamma: 0.3 || Categorical accuracy train :  0.656132524017312  || f1_score train:  0.23145172064220543\n",
      "Gamma: 0.3 || Categorical accuracy test :  0.6560872004488258  || f1_score test:  0.22549333333333332\n",
      "The loss for step 0 is 193752.13990083482.\n",
      "The loss for step 1000 is 288437.0167992633.\n",
      "The loss for step 2000 is 413375.92415315117.\n",
      "The loss for step 3000 is 292145.0246671829.\n",
      "The loss for step 4000 is 447691.1986323021.\n",
      "The loss for step 5000 is 277369.3446509552.\n",
      "The loss for step 6000 is 433102.3177428015.\n",
      "The loss for step 7000 is 524464.3267081528.\n",
      "The loss for step 8000 is 319725.84160686086.\n",
      "The loss for step 9000 is 416477.9910281388.\n",
      "Gamma: 0.31 || Categorical accuracy train :  0.6795943940349973  || f1_score train:  0.3091770380582802\n",
      "Gamma: 0.31 || Categorical accuracy test :  0.6806524004167669  || f1_score test:  0.3045250713412148\n",
      "The loss for step 0 is 153414.268108161.\n",
      "The loss for step 1000 is 365907.9099800825.\n",
      "The loss for step 2000 is 327345.8399117837.\n",
      "The loss for step 3000 is 299619.2611162249.\n",
      "The loss for step 4000 is 721838.2151644212.\n",
      "The loss for step 5000 is 297830.7014178617.\n",
      "The loss for step 6000 is 305185.40541198355.\n",
      "The loss for step 7000 is 312755.92816973967.\n",
      "The loss for step 8000 is 349229.09038879233.\n",
      "The loss for step 9000 is 341980.52314396825.\n",
      "Gamma: 0.32 || Categorical accuracy train :  0.6633754876780747  || f1_score train:  0.2720072484076922\n",
      "Gamma: 0.32 || Categorical accuracy test :  0.6628596617776709  || f1_score test:  0.26575856557092226\n",
      "The loss for step 0 is 210664.4743018263.\n",
      "The loss for step 1000 is 516321.9911956092.\n",
      "The loss for step 2000 is 515097.3044499312.\n",
      "The loss for step 3000 is 320061.11549983826.\n",
      "The loss for step 4000 is 373194.81200377527.\n",
      "The loss for step 5000 is 292713.3677391654.\n",
      "The loss for step 6000 is 346430.25639230857.\n",
      "The loss for step 7000 is 345327.0004135163.\n",
      "The loss for step 8000 is 421615.956314031.\n",
      "The loss for step 9000 is 397441.60080217384.\n",
      "Gamma: 0.33 || Categorical accuracy train :  0.6854731921473832  || f1_score train:  0.27575401188337284\n",
      "Gamma: 0.33 || Categorical accuracy test :  0.6882664101947583  || f1_score test:  0.27032647119983366\n",
      "The loss for step 0 is 158769.89969357412.\n",
      "The loss for step 1000 is 476171.6413273211.\n",
      "The loss for step 2000 is 405332.0194990497.\n",
      "The loss for step 3000 is 299428.3333928501.\n",
      "The loss for step 4000 is 463064.31944409467.\n",
      "The loss for step 5000 is 310387.3148660335.\n",
      "The loss for step 6000 is 424435.50791145244.\n",
      "The loss for step 7000 is 428947.3052761287.\n",
      "The loss for step 8000 is 408339.9328264131.\n",
      "The loss for step 9000 is 451236.6073169144.\n",
      "Gamma: 0.34 || Categorical accuracy train :  0.7254739031131413  || f1_score train:  0.35903530998778643\n",
      "Gamma: 0.34 || Categorical accuracy test :  0.7291816943175443  || f1_score test:  0.356180626461579\n",
      "The loss for step 0 is 156084.44585910294.\n",
      "The loss for step 1000 is 370385.69989892765.\n",
      "The loss for step 2000 is 404396.05676667014.\n",
      "The loss for step 3000 is 328234.50269902346.\n",
      "The loss for step 4000 is 399253.37883449683.\n",
      "The loss for step 5000 is 411526.17268812447.\n",
      "The loss for step 6000 is 556650.0113095283.\n",
      "The loss for step 7000 is 351069.2972066754.\n",
      "The loss for step 8000 is 346110.6118554935.\n",
      "The loss for step 9000 is 349152.4868530255.\n",
      "Gamma: 0.4 || Categorical accuracy train :  0.701674324360353  || f1_score train:  0.32413533750600393\n",
      "Gamma: 0.4 || Categorical accuracy test :  0.7037749459004569  || f1_score test:  0.32151745476558824\n",
      "The loss for step 0 is 211322.3219555252.\n",
      "The loss for step 1000 is 847746.8269653519.\n",
      "The loss for step 2000 is 514183.8923550586.\n",
      "The loss for step 3000 is 622062.5964538226.\n",
      "The loss for step 4000 is 562028.1905619658.\n",
      "The loss for step 5000 is 424027.5721843787.\n",
      "The loss for step 6000 is 512399.98637458944.\n",
      "The loss for step 7000 is 482605.1085536735.\n",
      "The loss for step 8000 is 789364.7034653944.\n",
      "The loss for step 9000 is 496282.6121929048.\n",
      "Gamma: 0.5 || Categorical accuracy train :  0.7100503896981062  || f1_score train:  0.3179601400665952\n",
      "Gamma: 0.5 || Categorical accuracy test :  0.70942534263044  || f1_score test:  0.3123224671987015\n",
      "[0.7000702078686135, 0.6995725318379353, 0.7034650693635968, 0.7080419114314407, 0.7367293797712468, 0.7480070741092932, 0.743310256569768, 0.7171689343511993, 0.704233801089555, 0.656132524017312, 0.6795943940349973, 0.6633754876780747, 0.6854731921473832, 0.7254739031131413, 0.701674324360353, 0.7100503896981062]\n",
      "[0.7009297106676284, 0.699647351126072, 0.7032940610723731, 0.707421655846758, 0.7394004969143223, 0.7530656407790334, 0.747335096577703, 0.7160775827522642, 0.7032940610723731, 0.6560872004488258, 0.6806524004167669, 0.6628596617776709, 0.6882664101947583, 0.7291816943175443, 0.7037749459004569, 0.70942534263044]\n"
     ]
    }
   ],
   "source": [
    "y_train_log = np.copy(y_train)\n",
    "y_train_log = np.where(y_train_log==-1, 0, y_train_log)\n",
    "\n",
    "y_test_log = np.copy(y_test)\n",
    "y_test_log = np.where(y_test_log==-1, 0, y_test_log)\n",
    "\n",
    "gammas = [0.0000001, 0.000001, 0.00001, 0.0001, 0.001, 0.01, 0.05, 0.1, 0.2, 0.3, 0.31, 0.32, 0.33, 0.34, 0.4, 0.5]\n",
    "weights_result_5 = []\n",
    "accuracies_train_5 = []\n",
    "accuracies_test_5 = []\n",
    "for gamma in gammas:\n",
    "    weights_LR = logistic_regression(y_train_log, x_train, np.zeros(31), 10000, gamma)[0]\n",
    "    cat_accuracy_train, f1_score_train = metrics(y_train_log, predict_labels(weights_LR, x_train))\n",
    "    cat_accuracy_test, f1_score_test = metrics(y_test_log, predict_labels(weights_LR, x_test))\n",
    "    \n",
    "    print(\"Gamma: \" + str(gamma) + \" || Categorical accuracy train : \",cat_accuracy_train,\" || f1_score train: \",f1_score_train)\n",
    "    print(\"Gamma: \" + str(gamma) + \" || Categorical accuracy test : \",cat_accuracy_test,\" || f1_score test: \",f1_score_test)\n",
    "    weights_result_5.append(weights_LR)\n",
    "    accuracies_train_5.append(cat_accuracy_train)\n",
    "    accuracies_test_5.append(cat_accuracy_test)\n",
    "    \n",
    "print(accuracies_train_5)\n",
    "print(accuracies_test_5)"
   ]
  },
  {
   "cell_type": "code",
   "execution_count": 221,
   "metadata": {},
   "outputs": [
    {
     "name": "stdout",
     "output_type": "stream",
     "text": [
      "Best performance: gamma  0.01 , train accuracy:  0.7480070741092932 , test accuracy:  0.7530656407790334\n"
     ]
    }
   ],
   "source": [
    "print(\"Best performance: gamma \", gammas[np.argmax(accuracies_test_5)], \", train accuracy: \", accuracies_train_5[np.argmax(accuracies_test_5)], \", test accuracy: \", accuracies_test_5[np.argmax(accuracies_test_5)])"
   ]
  },
  {
   "cell_type": "code",
   "execution_count": 222,
   "metadata": {},
   "outputs": [
    {
     "data": {
      "image/png": "[encoded data removed]",
      "text/plain": [
       "<Figure size 432x288 with 1 Axes>"
      ]
     },
     "metadata": {
      "needs_background": "light"
     },
     "output_type": "display_data"
    }
   ],
   "source": [
    "plt.plot(gammas[:8], accuracies_train_5[:8], label=\"train\")\n",
    "plt.plot(gammas[:8], accuracies_test_5[:8], label=\"test\")\n",
    "plt.xscale(\"log\")\n",
    "plt.xlabel(\"Gamma\")\n",
    "plt.ylabel(\"Categorical accuracy\")\n",
    "plt.title(\"Categorical accuracy for Logistic Regression\")\n",
    "plt.legend()\n",
    "plt.show()"
   ]
  },
  {
   "cell_type": "markdown",
   "metadata": {},
   "source": [
    "## Regularized logistic regression"
   ]
  },
  {
   "cell_type": "code",
   "execution_count": 193,
   "metadata": {},
   "outputs": [
    {
     "ename": "IndexError",
     "evalue": "list index out of range",
     "output_type": "error",
     "traceback": [
      "\u001b[1;31m---------------------------------------------------------------------------\u001b[0m",
      "\u001b[1;31mIndexError\u001b[0m                                Traceback (most recent call last)",
      "\u001b[1;32m<ipython-input-193-3502c9328dbb>\u001b[0m in \u001b[0;36m<module>\u001b[1;34m\u001b[0m\n\u001b[0;32m     12\u001b[0m     \u001b[1;32mfor\u001b[0m \u001b[0mgamma\u001b[0m \u001b[1;32min\u001b[0m \u001b[0mgammas\u001b[0m\u001b[1;33m:\u001b[0m\u001b[1;33m\u001b[0m\u001b[1;33m\u001b[0m\u001b[0m\n\u001b[0;32m     13\u001b[0m         \u001b[1;31m#weights_RLR = reg_logistic_regression(y_train_log, x_train, lambda_, np.zeros(31), 10000, gamma)[1]\u001b[0m\u001b[1;33m\u001b[0m\u001b[1;33m\u001b[0m\u001b[1;33m\u001b[0m\u001b[0m\n\u001b[1;32m---> 14\u001b[1;33m         \u001b[0mweights_RLR\u001b[0m \u001b[1;33m=\u001b[0m \u001b[0mweights_result_6\u001b[0m\u001b[1;33m[\u001b[0m\u001b[0mi\u001b[0m\u001b[1;33m]\u001b[0m\u001b[1;33m[\u001b[0m\u001b[0mj\u001b[0m\u001b[1;33m]\u001b[0m\u001b[1;33m\u001b[0m\u001b[1;33m\u001b[0m\u001b[0m\n\u001b[0m\u001b[0;32m     15\u001b[0m         \u001b[0mcat_accuracy_train\u001b[0m\u001b[1;33m,\u001b[0m \u001b[0mf1_score_train\u001b[0m \u001b[1;33m=\u001b[0m \u001b[0mmetrics\u001b[0m\u001b[1;33m(\u001b[0m\u001b[0my_train_log\u001b[0m\u001b[1;33m,\u001b[0m \u001b[0mpredict_labels\u001b[0m\u001b[1;33m(\u001b[0m\u001b[0mweights_RLR\u001b[0m\u001b[1;33m,\u001b[0m \u001b[0mx_train\u001b[0m\u001b[1;33m)\u001b[0m\u001b[1;33m)\u001b[0m\u001b[1;33m\u001b[0m\u001b[1;33m\u001b[0m\u001b[0m\n\u001b[0;32m     16\u001b[0m         \u001b[0mcat_accuracy_test\u001b[0m\u001b[1;33m,\u001b[0m \u001b[0mf1_score_test\u001b[0m \u001b[1;33m=\u001b[0m \u001b[0mmetrics\u001b[0m\u001b[1;33m(\u001b[0m\u001b[0my_test_log\u001b[0m\u001b[1;33m,\u001b[0m \u001b[0mpredict_labels\u001b[0m\u001b[1;33m(\u001b[0m\u001b[0mweights_RLR\u001b[0m\u001b[1;33m,\u001b[0m \u001b[0mx_test\u001b[0m\u001b[1;33m)\u001b[0m\u001b[1;33m)\u001b[0m\u001b[1;33m\u001b[0m\u001b[1;33m\u001b[0m\u001b[0m\n",
      "\u001b[1;31mIndexError\u001b[0m: list index out of range"
     ]
    }
   ],
   "source": [
    "gammas = [0.0001, 0.001, 0.01, 0.05, 0.1, 0.2]\n",
    "lambdas = lambdas =  np.logspace(-4, 4, 5)\n",
    "weights_result_6 = []\n",
    "accuracies_train_6 = []\n",
    "accuracies_test_6 = []\n",
    "for lambda_ in lambdas:\n",
    "    accuracy_train = []\n",
    "    accuracy_test = []\n",
    "    weights = []\n",
    "    for gamma in gammas:\n",
    "        weights_RLR = reg_logistic_regression(y_train_log, x_train, lambda_, np.zeros(31), 10000, gamma)[0]\n",
    "        cat_accuracy_train, f1_score_train = metrics(y_train_log, predict_labels(weights_RLR, x_train))\n",
    "        cat_accuracy_test, f1_score_test = metrics(y_test_log, predict_labels(weights_RLR, x_test))\n",
    "\n",
    "        print(\"Lambda: \" + str(lambda_) + \" Gamma: \" + str(gamma) + \" || Categorical accuracy train : \",cat_accuracy_train,\" || f1_score train: \",f1_score_train)\n",
    "        print(\"Lambda: \" + str(lambda_) + \" Gamma: \" + str(gamma) + \" || Categorical accuracy test : \",cat_accuracy_test,\" || f1_score test: \",f1_score_test)\n",
    "        weights.append(weights_RLR)\n",
    "        accuracy_train.append(cat_accuracy_train)\n",
    "        accuracy_test.append(cat_accuracy_test)\n",
    "    weights_result_6.append(weights)\n",
    "    accuracies_train_6.append(accuracy_train)\n",
    "    accuracies_test_6.append(accuracy_test)\n",
    "\n",
    "print(accuracies_train_6)\n",
    "print(accuracies_test_6)"
   ]
  },
  {
   "cell_type": "code",
   "execution_count": 191,
   "metadata": {},
   "outputs": [
    {
     "name": "stdout",
     "output_type": "stream",
     "text": [
      "0\n"
     ]
    },
    {
     "ename": "TypeError",
     "evalue": "list indices must be integers or slices, not tuple",
     "output_type": "error",
     "traceback": [
      "\u001b[1;31m---------------------------------------------------------------------------\u001b[0m",
      "\u001b[1;31mTypeError\u001b[0m                                 Traceback (most recent call last)",
      "\u001b[1;32m<ipython-input-191-a8c5b39db5cf>\u001b[0m in \u001b[0;36m<module>\u001b[1;34m\u001b[0m\n\u001b[0;32m      1\u001b[0m \u001b[0mbest_index\u001b[0m \u001b[1;33m=\u001b[0m \u001b[0mnp\u001b[0m\u001b[1;33m.\u001b[0m\u001b[0munravel_index\u001b[0m\u001b[1;33m(\u001b[0m\u001b[0mnp\u001b[0m\u001b[1;33m.\u001b[0m\u001b[0margmax\u001b[0m\u001b[1;33m(\u001b[0m\u001b[0mnp\u001b[0m\u001b[1;33m.\u001b[0m\u001b[0mmatrix\u001b[0m\u001b[1;33m(\u001b[0m\u001b[0maccuracies_test_6\u001b[0m\u001b[1;33m)\u001b[0m\u001b[1;33m,\u001b[0m \u001b[0maxis\u001b[0m\u001b[1;33m=\u001b[0m\u001b[1;32mNone\u001b[0m\u001b[1;33m)\u001b[0m\u001b[1;33m,\u001b[0m \u001b[0mnp\u001b[0m\u001b[1;33m.\u001b[0m\u001b[0mmatrix\u001b[0m\u001b[1;33m(\u001b[0m\u001b[0maccuracies_test_6\u001b[0m\u001b[1;33m)\u001b[0m\u001b[1;33m.\u001b[0m\u001b[0mshape\u001b[0m\u001b[1;33m)\u001b[0m\u001b[1;33m\u001b[0m\u001b[1;33m\u001b[0m\u001b[0m\n\u001b[0;32m      2\u001b[0m \u001b[0mprint\u001b[0m\u001b[1;33m(\u001b[0m\u001b[0mnp\u001b[0m\u001b[1;33m.\u001b[0m\u001b[0margmax\u001b[0m\u001b[1;33m(\u001b[0m\u001b[0maccuracies_test_6\u001b[0m\u001b[1;33m)\u001b[0m\u001b[1;33m)\u001b[0m\u001b[1;33m\u001b[0m\u001b[1;33m\u001b[0m\u001b[0m\n\u001b[1;32m----> 3\u001b[1;33m \u001b[0mprint\u001b[0m\u001b[1;33m(\u001b[0m\u001b[1;34m\"Best performance: lambda \"\u001b[0m\u001b[1;33m,\u001b[0m \u001b[0mlambdas\u001b[0m\u001b[1;33m[\u001b[0m\u001b[0mbest_index\u001b[0m\u001b[1;33m[\u001b[0m\u001b[1;36m0\u001b[0m\u001b[1;33m]\u001b[0m\u001b[1;33m]\u001b[0m\u001b[1;33m,\u001b[0m \u001b[1;34m\", gamma: \"\u001b[0m\u001b[1;33m,\u001b[0m \u001b[0mgammas\u001b[0m\u001b[1;33m[\u001b[0m\u001b[0mbest_index\u001b[0m\u001b[1;33m[\u001b[0m\u001b[1;36m1\u001b[0m\u001b[1;33m]\u001b[0m\u001b[1;33m]\u001b[0m\u001b[1;33m,\u001b[0m \u001b[1;34m\", train accuracy: \"\u001b[0m\u001b[1;33m,\u001b[0m \u001b[0maccuracies_train_6\u001b[0m\u001b[1;33m[\u001b[0m\u001b[0mbest_index\u001b[0m\u001b[1;33m]\u001b[0m\u001b[1;33m,\u001b[0m \u001b[1;34m\", test accuracy: \"\u001b[0m\u001b[1;33m,\u001b[0m \u001b[0maccuracies_test_6\u001b[0m\u001b[1;33m[\u001b[0m\u001b[0mbest_index\u001b[0m\u001b[1;33m]\u001b[0m\u001b[1;33m)\u001b[0m\u001b[1;33m\u001b[0m\u001b[1;33m\u001b[0m\u001b[0m\n\u001b[0m",
      "\u001b[1;31mTypeError\u001b[0m: list indices must be integers or slices, not tuple"
     ]
    }
   ],
   "source": [
    "best_index = np.unravel_index(np.argmax(np.matrix(accuracies_test_6), axis=None), np.matrix(accuracies_test_6).shape)\n",
    "print(np.argmax(accuracies_test_6))\n",
    "print(\"Best performance: lambda \", lambdas[best_index[0]], \", gamma: \", gammas[best_index[1]], \", train accuracy: \", accuracies_train_6[best_index], \", test accuracy: \", accuracies_test_6[best_index])"
   ]
  },
  {
   "cell_type": "code",
   "execution_count": 194,
   "metadata": {},
   "outputs": [
    {
     "data": {
      "text/plain": [
       "[]"
      ]
     },
     "execution_count": 194,
     "metadata": {},
     "output_type": "execute_result"
    }
   ],
   "source": [
    "weights_result_6"
   ]
  },
  {
   "cell_type": "markdown",
   "metadata": {},
   "source": [
    "# Advanced models"
   ]
  },
  {
   "cell_type": "markdown",
   "metadata": {},
   "source": [
    "## Categorical splitting"
   ]
  },
  {
   "cell_type": "code",
   "execution_count": 241,
   "metadata": {},
   "outputs": [
    {
     "data": {
      "text/plain": [
       "22164"
      ]
     },
     "execution_count": 241,
     "metadata": {},
     "output_type": "execute_result"
    }
   ],
   "source": [
    "len(tX[np.where(tX[:,22]==3)])"
   ]
  }
 ],
 "metadata": {
  "kernelspec": {
   "display_name": "Python 3",
   "language": "python",
   "name": "python3"
  },
  "language_info": {
   "codemirror_mode": {
    "name": "ipython",
    "version": 3
   },
   "file_extension": ".py",
   "mimetype": "text/x-python",
   "name": "python",
   "nbconvert_exporter": "python",
   "pygments_lexer": "ipython3",
   "version": "3.7.3"
  }
 },
 "nbformat": 4,
 "nbformat_minor": 4
}
