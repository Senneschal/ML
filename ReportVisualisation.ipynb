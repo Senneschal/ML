{
 "cells": [
  {
   "cell_type": "markdown",
   "metadata": {},
   "source": [
    "# Basic models\n",
    "## Loading data"
   ]
  },
  {
   "cell_type": "code",
   "execution_count": 243,
   "metadata": {},
   "outputs": [
    {
     "name": "stdout",
     "output_type": "stream",
     "text": [
      "The autoreload extension is already loaded. To reload it, use:\n",
      "  %reload_ext autoreload\n"
     ]
    }
   ],
   "source": [
    "# Useful starting lines\n",
    "%matplotlib inline\n",
    "import numpy as np\n",
    "import matplotlib.pyplot as plt\n",
    "import datetime\n",
    "import copy\n",
    "%load_ext autoreload\n",
    "%autoreload 2"
   ]
  },
  {
   "cell_type": "code",
   "execution_count": 244,
   "metadata": {},
   "outputs": [],
   "source": [
    "%run proj1_helpers.py\n",
    "%run implementations.py"
   ]
  },
  {
   "cell_type": "code",
   "execution_count": 245,
   "metadata": {},
   "outputs": [],
   "source": [
    "DATA_TRAIN_PATH = 'train.csv' # TODO: download train data and supply path here \n",
    "y, tX, ids = load_csv_data(DATA_TRAIN_PATH)\n",
    "tx = copy.deepcopy(tX)"
   ]
  },
  {
   "cell_type": "markdown",
   "metadata": {},
   "source": [
    "## Cleaning data"
   ]
  },
  {
   "cell_type": "code",
   "execution_count": 246,
   "metadata": {},
   "outputs": [],
   "source": [
    "tx = np.where(tx==-999, np.nan, tx) # replace -999 value with nan"
   ]
  },
  {
   "cell_type": "code",
   "execution_count": 247,
   "metadata": {},
   "outputs": [],
   "source": [
    "col_mean = np.nanmean(tx, axis=0)\n",
    "inds_nan = np.where(np.isnan(tx))\n",
    "tx[inds_nan] = np.take(col_mean, inds_nan[1])"
   ]
  },
  {
   "cell_type": "code",
   "execution_count": 200,
   "metadata": {},
   "outputs": [],
   "source": [
    "#CELL NOT USED\n",
    "tx_stand,_,_ = standardize(tx)"
   ]
  },
  {
   "cell_type": "code",
   "execution_count": 201,
   "metadata": {},
   "outputs": [],
   "source": [
    "#CELL NOT USED\n",
    "tx = np.insert(tx, 0, 1, axis=1)\n",
    "tx_stand = np.insert(tx_stand, 0, 1, axis=1)"
   ]
  },
  {
   "cell_type": "markdown",
   "metadata": {},
   "source": [
    "## Split data"
   ]
  },
  {
   "cell_type": "code",
   "execution_count": 255,
   "metadata": {},
   "outputs": [],
   "source": [
    "#CELL NOT USED\n",
    "ratio_train_test = 0.8\n",
    "x_train, y_train, x_test, y_test = split_data(tx_stand, y, ratio_train_test, seed=1)\n",
    "x_train_ns, y_train_ns, x_test_ns, y_test_ns = split_data(tx, y, ratio_train_test, seed=1)"
   ]
  },
  {
   "cell_type": "code",
   "execution_count": 272,
   "metadata": {},
   "outputs": [],
   "source": [
    "ratio_train_test = 0.8\n",
    "x_train, y_train, x_test, y_test = split_data(tx, y, ratio_train_test, seed=1234)\n",
    "x_train_ns, y_train_ns, x_test_ns, y_test_ns = split_data(tx, y, ratio_train_test, seed=1234)"
   ]
  },
  {
   "cell_type": "code",
   "execution_count": 273,
   "metadata": {},
   "outputs": [],
   "source": [
    "x_train,_,_ = standardize(copy.deepcopy(x_train))\n",
    "x_train = np.insert(x_train, 0, 1, axis=1)\n",
    "x_test,_,_ = standardize(copy.deepcopy(x_test))\n",
    "x_test = np.insert(x_test, 0, 1, axis=1)\n",
    "x_train_ns = np.insert(x_train_ns, 0, 1, axis=1)\n",
    "x_test_ns = np.insert(x_test_ns, 0, 1, axis=1)"
   ]
  },
  {
   "cell_type": "markdown",
   "metadata": {},
   "source": [
    "## Linear Regression with Gradient Descent"
   ]
  },
  {
   "cell_type": "code",
   "execution_count": 266,
   "metadata": {},
   "outputs": [
    {
     "name": "stdout",
     "output_type": "stream",
     "text": [
      "Categorical accuracy train :  0.7010101548075558  || f1_score train:  0.30623682103672634\n",
      "Categorical accuracy test :  0.7017579390797148  || f1_score test:  0.30701182924738557\n"
     ]
    }
   ],
   "source": [
    "weights_LSGD1 = least_squares_GD(y_train, x_train, np.zeros(31), 100, 0.000001)[1]\n",
    "cat_accuracy_train, f1_score_train = metrics(y_train, predict_labels(weights_LSGD1, x_train))\n",
    "cat_accuracy_test, f1_score_test = metrics(y_test, predict_labels(weights_LSGD1, x_test))\n",
    "\n",
    "\n",
    "print(\"Categorical accuracy train : \",cat_accuracy_train,\" || f1_score train: \",f1_score_train)\n",
    "print(\"Categorical accuracy test : \",cat_accuracy_test,\" || f1_score test: \",f1_score_test)"
   ]
  },
  {
   "cell_type": "code",
   "execution_count": 205,
   "metadata": {},
   "outputs": [
    {
     "data": {
      "text/plain": [
       "array([-3.13555942e-05,  1.03258226e-06, -3.33830175e-05, -1.34723653e-06,\n",
       "        1.83515123e-05,  1.75818016e-05,  1.69936926e-05, -1.57962055e-05,\n",
       "        1.15171684e-06, -1.28776195e-06,  1.45452610e-05, -1.85412502e-05,\n",
       "        2.58789644e-05,  1.63563627e-05,  2.22844893e-05, -8.68497416e-08,\n",
       "       -4.21125419e-07, -3.07848564e-06,  1.15137937e-07,  2.87341544e-07,\n",
       "        2.17343257e-06,  6.84685489e-07,  1.28828828e-05,  1.27088824e-05,\n",
       "        8.28798568e-06, -3.57808512e-08, -2.03768035e-09, -1.23385840e-06,\n",
       "        4.28436345e-08, -3.19839962e-07,  1.27679650e-05])"
      ]
     },
     "execution_count": 205,
     "metadata": {},
     "output_type": "execute_result"
    }
   ],
   "source": [
    "weights_LSGD1"
   ]
  },
  {
   "cell_type": "code",
   "execution_count": 274,
   "metadata": {},
   "outputs": [
    {
     "name": "stdout",
     "output_type": "stream",
     "text": [
      "Gamma: 1e-06 || Categorical accuracy train :  0.7010101548075558  || f1_score train:  0.30623682103672634\n",
      "Gamma: 1e-06 || Categorical accuracy test :  0.7017579390797148  || f1_score test:  0.30701182924738557\n",
      "Gamma: 1e-05 || Categorical accuracy train :  0.701019031387587  || f1_score train:  0.30622408822501285\n",
      "Gamma: 1e-05 || Categorical accuracy test :  0.7017984445884641  || f1_score test:  0.30701182924738557\n",
      "Gamma: 0.0001 || Categorical accuracy train :  0.701596009089618  || f1_score train:  0.30645324954995246\n",
      "Gamma: 0.0001 || Categorical accuracy test :  0.7023250162022034  || f1_score test:  0.30718595721338454\n",
      "Gamma: 0.001 || Categorical accuracy train :  0.705501704303366  || f1_score train:  0.3075727017678276\n",
      "Gamma: 0.001 || Categorical accuracy test :  0.7063755670771225  || f1_score test:  0.30788211103495544\n",
      "Gamma: 0.01 || Categorical accuracy train :  0.725092316432325  || f1_score train:  0.2932460685392237\n",
      "Gamma: 0.01 || Categorical accuracy test :  0.7241574854180168  || f1_score test:  0.29355451874891997\n",
      "Gamma: 0.05 || Categorical accuracy train :  0.7371999715949439  || f1_score train:  0.2737490518767095\n",
      "Gamma: 0.05 || Categorical accuracy test :  0.7367952041477641  || f1_score test:  0.2742905074793793\n",
      "Gamma: 0.1 || Categorical accuracy train :  0.7415894404203949  || f1_score train:  0.28195616285852626\n",
      "Gamma: 0.1 || Categorical accuracy test :  0.7400356448476992  || f1_score test:  0.28209588755131865\n",
      "Gamma: 0.2 || Categorical accuracy train :  0.744092635989206  || f1_score train:  0.2880458320353162\n",
      "Gamma: 0.2 || Categorical accuracy test :  0.7410887880751782  || f1_score test:  0.2865074958356469\n",
      "Gamma: 0.3 || Categorical accuracy train :  0.7445719713108934  || f1_score train:  0.2896767410702425\n",
      "Gamma: 0.3 || Categorical accuracy test :  0.7416558651976669  || f1_score test:  0.28817085009014004\n",
      "Gamma: 0.31 || Categorical accuracy train :  0.7447317497514557  || f1_score train:  0.28961182405119507\n",
      "Gamma: 0.31 || Categorical accuracy test :  0.741696370706416  || f1_score test:  0.28817085009014004\n",
      "Gamma: 0.32 || Categorical accuracy train :  0.41394155659707427  || f1_score train:  0.3057592095467978\n",
      "Gamma: 0.32 || Categorical accuracy test :  0.4118600129617628  || f1_score test:  0.3041626597060036\n",
      "Gamma: 0.33 || Categorical accuracy train :  0.37026878284334613  || f1_score train:  0.3054087898946672\n",
      "Gamma: 0.33 || Categorical accuracy test :  0.3688836681788723  || f1_score test:  0.3041626597060036\n",
      "Gamma: 0.34 || Categorical accuracy train :  0.37015782559295557  || f1_score train:  0.30538967192647304\n",
      "Gamma: 0.34 || Categorical accuracy test :  0.36880265716137395  || f1_score test:  0.3041626597060036\n",
      "Gamma: 0.4 || Categorical accuracy train :  0.37015782559295557  || f1_score train:  0.30538967192647304\n",
      "Gamma: 0.4 || Categorical accuracy test :  0.36880265716137395  || f1_score test:  0.3041626597060036\n",
      "Gamma: 0.5 || Categorical accuracy train :  0.37015782559295557  || f1_score train:  0.30538967192647304\n",
      "Gamma: 0.5 || Categorical accuracy test :  0.36880265716137395  || f1_score test:  0.3041626597060036\n",
      "[0.7010101548075558, 0.701019031387587, 0.701596009089618, 0.705501704303366, 0.725092316432325, 0.7371999715949439, 0.7415894404203949, 0.744092635989206, 0.7445719713108934, 0.7447317497514557, 0.41394155659707427, 0.37026878284334613, 0.37015782559295557, 0.37015782559295557, 0.37015782559295557]\n",
      "[0.7017579390797148, 0.7017984445884641, 0.7023250162022034, 0.7063755670771225, 0.7241574854180168, 0.7367952041477641, 0.7400356448476992, 0.7410887880751782, 0.7416558651976669, 0.741696370706416, 0.4118600129617628, 0.3688836681788723, 0.36880265716137395, 0.36880265716137395, 0.36880265716137395]\n"
     ]
    }
   ],
   "source": [
    "gammas = [0.000001, 0.00001, 0.0001, 0.001, 0.01, 0.05, 0.1, 0.2, 0.3, 0.31, 0.32, 0.33, 0.34, 0.4, 0.5]\n",
    "weights_result = []\n",
    "accuracies_train = []\n",
    "accuracies_test = []\n",
    "for gamma in gammas:\n",
    "    weights_LSGD1 = least_squares_GD(y_train, x_train, np.zeros(31), 100, gamma)[1]\n",
    "    cat_accuracy_train, f1_score_train = metrics(y_train, predict_labels(weights_LSGD1, x_train))\n",
    "    cat_accuracy_test, f1_score_test = metrics(y_test, predict_labels(weights_LSGD1, x_test))\n",
    "    \n",
    "    print(\"Gamma: \" + str(gamma) + \" || Categorical accuracy train : \",cat_accuracy_train,\" || f1_score train: \",f1_score_train)\n",
    "    print(\"Gamma: \" + str(gamma) + \" || Categorical accuracy test : \",cat_accuracy_test,\" || f1_score test: \",f1_score_test)\n",
    "    weights_result.append(weights_LSGD1)\n",
    "    accuracies_train.append(cat_accuracy_train)\n",
    "    accuracies_test.append(cat_accuracy_test)\n",
    "    \n",
    "print(accuracies_train)\n",
    "print(accuracies_test)"
   ]
  },
  {
   "cell_type": "code",
   "execution_count": 275,
   "metadata": {},
   "outputs": [
    {
     "data": {
      "image/png": "[encoded data removed]",
      "text/plain": [
       "<Figure size 432x288 with 1 Axes>"
      ]
     },
     "metadata": {
      "needs_background": "light"
     },
     "output_type": "display_data"
    }
   ],
   "source": [
    "plt.plot(gammas[:], accuracies_train[:], label=\"train\")\n",
    "plt.plot(gammas[:], accuracies_test[:], label=\"test\")\n",
    "plt.xscale(\"log\")\n",
    "plt.xlabel(\"Gamma\")\n",
    "plt.ylabel(\"Categorical accuracy\")\n",
    "plt.title(\"Categorical accuracy for Linear Regression with Gradient Descent\")\n",
    "plt.legend()\n",
    "plt.show()"
   ]
  },
  {
   "cell_type": "code",
   "execution_count": 276,
   "metadata": {},
   "outputs": [
    {
     "data": {
      "image/png": "[encoded data removed]",
      "text/plain": [
       "<Figure size 432x288 with 1 Axes>"
      ]
     },
     "metadata": {
      "needs_background": "light"
     },
     "output_type": "display_data"
    }
   ],
   "source": [
    "plt.plot(gammas[:9], accuracies_train[:9], label=\"train\")\n",
    "plt.plot(gammas[:9], accuracies_test[:9], label=\"test\")\n",
    "plt.xscale(\"log\")\n",
    "plt.xlabel(\"Gamma\")\n",
    "plt.ylabel(\"Categorical accuracy\")\n",
    "plt.title(\"Categorical accuracy for Linear Regression with Gradient Descent\")\n",
    "plt.legend()\n",
    "plt.show()"
   ]
  },
  {
   "cell_type": "markdown",
   "metadata": {},
   "source": [
    "### Least Squares GD with non-standardized data"
   ]
  },
  {
   "cell_type": "code",
   "execution_count": 277,
   "metadata": {},
   "outputs": [
    {
     "name": "stdout",
     "output_type": "stream",
     "text": [
      "Gamma: 1e-07 || Categorical accuracy train :  0.6573595725039056  || f1_score train:  0.0\n",
      "Gamma: 1e-07 || Categorical accuracy test :  0.6570803629293583  || f1_score test:  0.0\n",
      "Gamma: 1e-06 || Categorical accuracy train :  0.6654416986223548  || f1_score train:  0.021400752582887303\n",
      "Gamma: 1e-06 || Categorical accuracy test :  0.665951069345431  || f1_score test:  0.022270287591123927\n",
      "Gamma: 1e-05 || Categorical accuracy train :  0.3426404274960943  || f1_score train:  0.5103979002555262\n",
      "Gamma: 1e-05 || Categorical accuracy test :  0.3429196370706416  || f1_score test:  0.5107076069252579\n",
      "Gamma: 0.0001 || Categorical accuracy train :  0.3426404274960943  || f1_score train:  0.5103979002555262\n",
      "Gamma: 0.0001 || Categorical accuracy test :  0.3429196370706416  || f1_score test:  0.5107076069252579\n",
      "Gamma: 0.001 || Categorical accuracy train :  0.3426404274960943  || f1_score train:  0.5103979002555262\n",
      "Gamma: 0.001 || Categorical accuracy test :  0.3429196370706416  || f1_score test:  0.5107076069252579\n",
      "Gamma: 0.01 || Categorical accuracy train :  0.6573595725039056  || f1_score train:  0.0\n",
      "Gamma: 0.01 || Categorical accuracy test :  0.6570803629293583  || f1_score test:  0.0\n",
      "Gamma: 0.05 || Categorical accuracy train :  0.6573595725039056  || f1_score train:  0.0\n",
      "Gamma: 0.05 || Categorical accuracy test :  0.6570803629293583  || f1_score test:  0.0\n",
      "Gamma: 0.1 || Categorical accuracy train :  0.6573595725039056  || f1_score train:  0.0\n",
      "Gamma: 0.1 || Categorical accuracy test :  0.6570803629293583  || f1_score test:  0.0\n"
     ]
    },
    {
     "name": "stderr",
     "output_type": "stream",
     "text": [
      "C:\\Users\\ruben\\git\\ML\\implementations.py:212: RuntimeWarning: invalid value encountered in subtract\n",
      "  ws = ws - gamma*grad\n"
     ]
    },
    {
     "name": "stdout",
     "output_type": "stream",
     "text": [
      "Gamma: 0.2 || Categorical accuracy train :  0.6573595725039056  || f1_score train:  0.0\n",
      "Gamma: 0.2 || Categorical accuracy test :  0.6570803629293583  || f1_score test:  0.0\n",
      "Gamma: 0.3 || Categorical accuracy train :  0.6573595725039056  || f1_score train:  0.0\n",
      "Gamma: 0.3 || Categorical accuracy test :  0.6570803629293583  || f1_score test:  0.0\n",
      "Gamma: 0.31 || Categorical accuracy train :  0.6573595725039056  || f1_score train:  0.0\n",
      "Gamma: 0.31 || Categorical accuracy test :  0.6570803629293583  || f1_score test:  0.0\n",
      "Gamma: 0.32 || Categorical accuracy train :  0.6573595725039056  || f1_score train:  0.0\n",
      "Gamma: 0.32 || Categorical accuracy test :  0.6570803629293583  || f1_score test:  0.0\n",
      "Gamma: 0.33 || Categorical accuracy train :  0.6573595725039056  || f1_score train:  0.0\n",
      "Gamma: 0.33 || Categorical accuracy test :  0.6570803629293583  || f1_score test:  0.0\n",
      "Gamma: 0.34 || Categorical accuracy train :  0.6573595725039056  || f1_score train:  0.0\n",
      "Gamma: 0.34 || Categorical accuracy test :  0.6570803629293583  || f1_score test:  0.0\n",
      "Gamma: 0.4 || Categorical accuracy train :  0.6573595725039056  || f1_score train:  0.0\n",
      "Gamma: 0.4 || Categorical accuracy test :  0.6570803629293583  || f1_score test:  0.0\n",
      "Gamma: 0.5 || Categorical accuracy train :  0.6573595725039056  || f1_score train:  0.0\n",
      "Gamma: 0.5 || Categorical accuracy test :  0.6570803629293583  || f1_score test:  0.0\n",
      "[0.6573595725039056, 0.6654416986223548, 0.3426404274960943, 0.3426404274960943, 0.3426404274960943, 0.6573595725039056, 0.6573595725039056, 0.6573595725039056, 0.6573595725039056, 0.6573595725039056, 0.6573595725039056, 0.6573595725039056, 0.6573595725039056, 0.6573595725039056, 0.6573595725039056, 0.6573595725039056]\n",
      "[0.6570803629293583, 0.665951069345431, 0.3429196370706416, 0.3429196370706416, 0.3429196370706416, 0.6570803629293583, 0.6570803629293583, 0.6570803629293583, 0.6570803629293583, 0.6570803629293583, 0.6570803629293583, 0.6570803629293583, 0.6570803629293583, 0.6570803629293583, 0.6570803629293583, 0.6570803629293583]\n"
     ]
    }
   ],
   "source": [
    "gammas = [0.0000001, 0.000001, 0.00001, 0.0001, 0.001, 0.01, 0.05, 0.1, 0.2, 0.3, 0.31, 0.32, 0.33, 0.34, 0.4, 0.5]\n",
    "weights_result_2 = []\n",
    "accuracies_train_2 = []\n",
    "accuracies_test_2 = []\n",
    "for gamma in gammas:\n",
    "    weights_LSGD1 = least_squares_GD(y_train_ns, x_train_ns, np.zeros(31), 100, gamma)[1]\n",
    "    cat_accuracy_train, f1_score_train = metrics(y_train_ns, predict_labels(weights_LSGD1, x_train_ns))\n",
    "    cat_accuracy_test, f1_score_test = metrics(y_test_ns, predict_labels(weights_LSGD1, x_test_ns))\n",
    "    \n",
    "    print(\"Gamma: \" + str(gamma) + \" || Categorical accuracy train : \",cat_accuracy_train,\" || f1_score train: \",f1_score_train)\n",
    "    print(\"Gamma: \" + str(gamma) + \" || Categorical accuracy test : \",cat_accuracy_test,\" || f1_score test: \",f1_score_test)\n",
    "    weights_result_2.append(weights_LSGD1)\n",
    "    accuracies_train_2.append(cat_accuracy_train)\n",
    "    accuracies_test_2.append(cat_accuracy_test)\n",
    "    \n",
    "print(accuracies_train_2)\n",
    "print(accuracies_test_2)"
   ]
  },
  {
   "cell_type": "code",
   "execution_count": null,
   "metadata": {},
   "outputs": [],
   "source": []
  },
  {
   "cell_type": "code",
   "execution_count": 278,
   "metadata": {},
   "outputs": [
    {
     "data": {
      "image/png": "[encoded data removed]",
      "text/plain": [
       "<Figure size 432x288 with 1 Axes>"
      ]
     },
     "metadata": {
      "needs_background": "light"
     },
     "output_type": "display_data"
    }
   ],
   "source": [
    "plt.plot(gammas[:9], accuracies_train_2[:9], label=\"train\")\n",
    "plt.plot(gammas[:9], accuracies_test_2[:9], label=\"test\")\n",
    "plt.xscale(\"log\")\n",
    "plt.xlabel(\"Gamma\")\n",
    "plt.ylabel(\"Categorical accuracy\")\n",
    "plt.title(\"Categorical accuracy for Linear Regression with Gradient Descent, with non-standardized data\")\n",
    "plt.legend()\n",
    "plt.show()"
   ]
  },
  {
   "cell_type": "markdown",
   "metadata": {},
   "source": [
    "## Linear Regression with Stochastic Gradient Descent"
   ]
  },
  {
   "cell_type": "code",
   "execution_count": 279,
   "metadata": {},
   "outputs": [
    {
     "name": "stdout",
     "output_type": "stream",
     "text": [
      "Gamma: 1e-07 || Categorical accuracy train :  0.6571864791932964  || f1_score train:  0.30203097328460005\n",
      "Gamma: 1e-07 || Categorical accuracy test :  0.6591866493843163  || f1_score test:  0.3043373742230159\n",
      "Gamma: 1e-06 || Categorical accuracy train :  0.6779221701462861  || f1_score train:  0.26937345899486137\n",
      "Gamma: 1e-06 || Categorical accuracy test :  0.6823152948801037  || f1_score test:  0.2725396214533114\n",
      "Gamma: 1e-05 || Categorical accuracy train :  0.6899810041187331  || f1_score train:  0.338866463920376\n",
      "Gamma: 1e-05 || Categorical accuracy test :  0.6925631885936487  || f1_score test:  0.3400235333669524\n",
      "Gamma: 0.0001 || Categorical accuracy train :  0.677087771623349  || f1_score train:  0.32546524763660145\n",
      "Gamma: 0.0001 || Categorical accuracy test :  0.6795609202851588  || f1_score test:  0.3260670576668814\n",
      "Gamma: 0.001 || Categorical accuracy train :  0.6532763456895327  || f1_score train:  0.31078923101144823\n",
      "Gamma: 0.001 || Categorical accuracy test :  0.6511665586519767  || f1_score test:  0.3099092931713161\n",
      "Gamma: 0.01 || Categorical accuracy train :  0.6269040264167022  || f1_score train:  0.292418225361506\n",
      "Gamma: 0.01 || Categorical accuracy test :  0.6284834737524303  || f1_score test:  0.29543963820899644\n",
      "Gamma: 0.02 || Categorical accuracy train :  0.6389628603891493  || f1_score train:  0.23988063385920577\n",
      "Gamma: 0.02 || Categorical accuracy test :  0.6382858068697342  || f1_score test:  0.23871013768994792\n",
      "Gamma: 0.03 || Categorical accuracy train :  0.6058532168726033  || f1_score train:  0.21023993263933846\n",
      "Gamma: 0.03 || Categorical accuracy test :  0.6023979261179521  || f1_score test:  0.21017145757059486\n",
      "Gamma: 0.05 || Categorical accuracy train :  0.44072663684135777  || f1_score train:  0.304005660540687\n",
      "Gamma: 0.05 || Categorical accuracy test :  0.4398088139987038  || f1_score test:  0.3048613018401538\n",
      "Gamma: 0.1 || Categorical accuracy train :  0.4015764806135492  || f1_score train:  0.18997429305912597\n",
      "Gamma: 0.1 || Categorical accuracy test :  0.404650032404407  || f1_score test:  0.1908251502271728\n",
      "Gamma: 0.2 || Categorical accuracy train :  0.43584895611418834  || f1_score train:  0.3607354107401398\n",
      "Gamma: 0.2 || Categorical accuracy test :  0.4379860661049903  || f1_score test:  0.36085383261959303\n",
      "Gamma: 0.3 || Categorical accuracy train :  0.4476991904559012  || f1_score train:  0.32948782585485925\n",
      "Gamma: 0.3 || Categorical accuracy test :  0.44600615683732986  || f1_score test:  0.32544258292070816\n",
      "Gamma: 0.31 || Categorical accuracy train :  0.6136379775600057  || f1_score train:  0.2707614614472488\n",
      "Gamma: 0.31 || Categorical accuracy test :  0.6096484121840571  || f1_score test:  0.26811645036829185\n",
      "Gamma: 0.32 || Categorical accuracy train :  0.5447379633574776  || f1_score train:  0.2014536078771019\n",
      "Gamma: 0.32 || Categorical accuracy test :  0.5459737524303305  || f1_score test:  0.20333309075030928\n",
      "Gamma: 0.33 || Categorical accuracy train :  0.6356341428774321  || f1_score train:  0.35381276987484384\n",
      "Gamma: 0.33 || Categorical accuracy test :  0.6363820479585224  || f1_score test:  0.3523758675920982\n",
      "Gamma: 0.34 || Categorical accuracy train :  0.5058185982104815  || f1_score train:  0.31371595148730114\n",
      "Gamma: 0.34 || Categorical accuracy test :  0.5075340246273493  || f1_score test:  0.3132003279584586\n",
      "Gamma: 0.4 || Categorical accuracy train :  0.5811363797756001  || f1_score train:  0.3119851660392201\n",
      "Gamma: 0.4 || Categorical accuracy test :  0.5827122488658457  || f1_score test:  0.3132003279584586\n",
      "Gamma: 0.5 || Categorical accuracy train :  0.6451986578610993  || f1_score train:  0.3375856802402367\n",
      "Gamma: 0.5 || Categorical accuracy test :  0.6482906675307842  || f1_score test:  0.3366683510190332\n",
      "[0.6571864791932964, 0.6779221701462861, 0.6899810041187331, 0.677087771623349, 0.6532763456895327, 0.6269040264167022, 0.6389628603891493, 0.6058532168726033, 0.44072663684135777, 0.4015764806135492, 0.43584895611418834, 0.4476991904559012, 0.6136379775600057, 0.5447379633574776, 0.6356341428774321, 0.5058185982104815, 0.5811363797756001, 0.6451986578610993]\n",
      "[0.6591866493843163, 0.6823152948801037, 0.6925631885936487, 0.6795609202851588, 0.6511665586519767, 0.6284834737524303, 0.6382858068697342, 0.6023979261179521, 0.4398088139987038, 0.404650032404407, 0.4379860661049903, 0.44600615683732986, 0.6096484121840571, 0.5459737524303305, 0.6363820479585224, 0.5075340246273493, 0.5827122488658457, 0.6482906675307842]\n"
     ]
    }
   ],
   "source": [
    "gammas = [0.0000001, 0.000001, 0.00001, 0.0001, 0.001, 0.01, 0.02, 0.03, 0.05, 0.1, 0.2, 0.3, 0.31, 0.32, 0.33, 0.34, 0.4, 0.5]\n",
    "weights_result_3 = []\n",
    "accuracies_train_3 = []\n",
    "accuracies_test_3 = []\n",
    "for gamma in gammas:\n",
    "    weights_LSGD1 = least_squares_SGD(y_train, x_train, np.zeros(31), 100, gamma)[1]\n",
    "    cat_accuracy_train, f1_score_train = metrics(y_train, predict_labels(weights_LSGD1, x_train))\n",
    "    cat_accuracy_test, f1_score_test = metrics(y_test, predict_labels(weights_LSGD1, x_test))\n",
    "    \n",
    "    print(\"Gamma: \" + str(gamma) + \" || Categorical accuracy train : \",cat_accuracy_train,\" || f1_score train: \",f1_score_train)\n",
    "    print(\"Gamma: \" + str(gamma) + \" || Categorical accuracy test : \",cat_accuracy_test,\" || f1_score test: \",f1_score_test)\n",
    "    weights_result_3.append(weights_LSGD1)\n",
    "    accuracies_train_3.append(cat_accuracy_train)\n",
    "    accuracies_test_3.append(cat_accuracy_test)\n",
    "    \n",
    "print(accuracies_train_3)\n",
    "print(accuracies_test_3)"
   ]
  },
  {
   "cell_type": "code",
   "execution_count": 280,
   "metadata": {},
   "outputs": [
    {
     "data": {
      "image/png": "[encoded data removed]",
      "text/plain": [
       "<Figure size 432x288 with 1 Axes>"
      ]
     },
     "metadata": {
      "needs_background": "light"
     },
     "output_type": "display_data"
    }
   ],
   "source": [
    "plt.plot(gammas[:], accuracies_train_3[:], label=\"train\")\n",
    "plt.plot(gammas[:], accuracies_test_3[:], label=\"test\")\n",
    "plt.xscale(\"log\")\n",
    "plt.xlabel(\"Gamma\")\n",
    "plt.ylabel(\"Categorical accuracy\")\n",
    "plt.title(\"Categorical accuracy for Linear Regression with Stochastic Gradient Descent\")\n",
    "plt.legend()\n",
    "plt.show()"
   ]
  },
  {
   "cell_type": "markdown",
   "metadata": {},
   "source": [
    "## Least Squares"
   ]
  },
  {
   "cell_type": "code",
   "execution_count": 285,
   "metadata": {},
   "outputs": [
    {
     "name": "stdout",
     "output_type": "stream",
     "text": [
      "Categorical accuracy train :  0.7449270345121431  || f1_score train:  0.2906434212622619\n",
      "Categorical accuracy test :  0.697950421257291  || f1_score test:  0.30410441353254336\n"
     ]
    }
   ],
   "source": [
    "weights_LS = least_squares(y_train, x_train)[1]\n",
    "cat_accuracy_train, f1_score_train = metrics(y_train, predict_labels(weights_LS, x_train))\n",
    "cat_accuracy_test, f1_score_test = metrics(y_test, predict_labels(weights_LS, x_test))\n",
    "\n",
    "\n",
    "print(\"Categorical accuracy train : \",cat_accuracy_train,\" || f1_score train: \",f1_score_train)\n",
    "print(\"Categorical accuracy test : \",cat_accuracy_test,\" || f1_score test: \",f1_score_test)"
   ]
  },
  {
   "cell_type": "markdown",
   "metadata": {},
   "source": [
    "## Ridge regression"
   ]
  },
  {
   "cell_type": "code",
   "execution_count": 286,
   "metadata": {},
   "outputs": [
    {
     "name": "stdout",
     "output_type": "stream",
     "text": [
      "Lambda: 1e-06 || Categorical accuracy train :  0.7449270345121431  || f1_score train:  0.2906434212622619\n",
      "Lambda: 1e-06 || Categorical accuracy test :  0.6981934543097861  || f1_score test:  0.3042791400508277\n",
      "Lambda: 2.894266124716752e-06 || Categorical accuracy train :  0.7449314728021588  || f1_score train:  0.29064990535727153\n",
      "Lambda: 2.894266124716752e-06 || Categorical accuracy test :  0.6985580038885288  || f1_score test:  0.30439560439560437\n",
      "Lambda: 8.376776400682924e-06 || Categorical accuracy train :  0.7449314728021588  || f1_score train:  0.29064990535727153\n",
      "Lambda: 8.376776400682924e-06 || Categorical accuracy test :  0.6996921581335062  || f1_score test:  0.30474490146261074\n",
      "Lambda: 2.424462017082331e-05 || Categorical accuracy train :  0.7449181579321119  || f1_score train:  0.29063693711805966\n",
      "Lambda: 2.424462017082331e-05 || Categorical accuracy test :  0.7023250162022034  || f1_score test:  0.30491949603487933\n",
      "Lambda: 7.017038286703837e-05 || Categorical accuracy train :  0.7449359110921744  || f1_score train:  0.2906628733997155\n",
      "Lambda: 7.017038286703837e-05 || Categorical accuracy test :  0.7092919637070642  || f1_score test:  0.3062568605927552\n",
      "Lambda: 0.00020309176209047368 || Categorical accuracy train :  0.7449447876722056  || f1_score train:  0.2906693573471509\n",
      "Lambda: 0.00020309176209047368 || Categorical accuracy test :  0.7214436163318211  || f1_score test:  0.3073020226259856\n",
      "Lambda: 0.0005878016072274912 || Categorical accuracy train :  0.7449536642522369  || f1_score train:  0.29065638940308924\n",
      "Lambda: 0.0005878016072274912 || Categorical accuracy test :  0.7369977316915101  || f1_score test:  0.3052104070845061\n",
      "Lambda: 0.0017012542798525892 || Categorical accuracy train :  0.74494034938219  || f1_score train:  0.29065638940308924\n",
      "Lambda: 0.0017012542798525892 || Categorical accuracy test :  0.7433976020738821  || f1_score test:  0.29902163428413947\n",
      "Lambda: 0.004923882631706742 || Categorical accuracy train :  0.74494034938219  || f1_score train:  0.29064990535727153\n",
      "Lambda: 0.004923882631706742 || Categorical accuracy test :  0.7432760855476345  || f1_score test:  0.2939672448344966\n",
      "Lambda: 0.014251026703029992 || Categorical accuracy train :  0.7449314728021588  || f1_score train:  0.2906434212622619\n",
      "Lambda: 0.014251026703029992 || Categorical accuracy test :  0.7429925469863902  || f1_score test:  0.2907190085505591\n",
      "Lambda: 0.041246263829013564 || Categorical accuracy train :  0.7449359110921744  || f1_score train:  0.29064990535727153\n",
      "Lambda: 0.041246263829013564 || Categorical accuracy test :  0.7423444588464031  || f1_score test:  0.2895940141332964\n",
      "Lambda: 0.11937766417144383 || Categorical accuracy train :  0.7449359110921744  || f1_score train:  0.29064990535727153\n",
      "Lambda: 0.11937766417144383 || Categorical accuracy test :  0.7422634478289047  || f1_score test:  0.2891791691209591\n",
      "Lambda: 0.34551072945922184 || Categorical accuracy train :  0.7449359110921744  || f1_score train:  0.29064990535727153\n",
      "Lambda: 0.34551072945922184 || Categorical accuracy test :  0.7422229423201555  || f1_score test:  0.28894202446546763\n",
      "Lambda: 1.0 || Categorical accuracy train :  0.7449359110921744  || f1_score train:  0.29064990535727153\n",
      "Lambda: 1.0 || Categorical accuracy test :  0.7422634478289047  || f1_score test:  0.28882342748223877\n",
      "Lambda: 2.8942661247167516 || Categorical accuracy train :  0.7449359110921744  || f1_score train:  0.29064990535727153\n",
      "Lambda: 2.8942661247167516 || Categorical accuracy test :  0.7422634478289047  || f1_score test:  0.28882342748223877\n",
      "Lambda: 8.376776400682925 || Categorical accuracy train :  0.7449359110921744  || f1_score train:  0.29064990535727153\n",
      "Lambda: 8.376776400682925 || Categorical accuracy test :  0.7422634478289047  || f1_score test:  0.28882342748223877\n",
      "Lambda: 24.244620170823307 || Categorical accuracy train :  0.7449359110921744  || f1_score train:  0.29064990535727153\n",
      "Lambda: 24.244620170823307 || Categorical accuracy test :  0.7422634478289047  || f1_score test:  0.28882342748223877\n",
      "Lambda: 70.17038286703837 || Categorical accuracy train :  0.7449359110921744  || f1_score train:  0.29064990535727153\n",
      "Lambda: 70.17038286703837 || Categorical accuracy test :  0.7422634478289047  || f1_score test:  0.28882342748223877\n",
      "Lambda: 203.09176209047388 || Categorical accuracy train :  0.7449314728021588  || f1_score train:  0.29064990535727153\n",
      "Lambda: 203.09176209047388 || Categorical accuracy test :  0.7422634478289047  || f1_score test:  0.28882342748223877\n",
      "Lambda: 587.8016072274924 || Categorical accuracy train :  0.7449359110921744  || f1_score train:  0.29064990535727153\n",
      "Lambda: 587.8016072274924 || Categorical accuracy test :  0.7422634478289047  || f1_score test:  0.28882342748223877\n",
      "Lambda: 1701.2542798525926 || Categorical accuracy train :  0.7449492259622212  || f1_score train:  0.29065638940308924\n",
      "Lambda: 1701.2542798525926 || Categorical accuracy test :  0.7421419313026572  || f1_score test:  0.2887048140574637\n",
      "Lambda: 4923.882631706751 || Categorical accuracy train :  0.74494034938219  || f1_score train:  0.29063693711805966\n",
      "Lambda: 4923.882631706751 || Categorical accuracy test :  0.7421014257939079  || f1_score test:  0.2887641228252582\n",
      "Lambda: 14251.026703030022 || Categorical accuracy train :  0.7448471452918619  || f1_score train:  0.2905526387666535\n",
      "Lambda: 14251.026703030022 || Categorical accuracy test :  0.7422634478289047  || f1_score test:  0.2888827280288328\n",
      "Lambda: 41246.263829013646 || Categorical accuracy train :  0.7446829285612839  || f1_score train:  0.29014399817867914\n",
      "Lambda: 41246.263829013646 || Categorical accuracy test :  0.7420609202851588  || f1_score test:  0.2887048140574637\n",
      "Lambda: 119377.66417144357 || Categorical accuracy train :  0.7443678099701747  || f1_score train:  0.28931963647131176\n",
      "Lambda: 119377.66417144357 || Categorical accuracy test :  0.7413318211276734  || f1_score test:  0.28799278804479733\n",
      "Lambda: 345510.7294592218 || Categorical accuracy train :  0.7432848672063628  || f1_score train:  0.28740170946667526\n",
      "Lambda: 345510.7294592218 || Categorical accuracy test :  0.7413318211276734  || f1_score test:  0.28609115207053354\n",
      "Lambda: 1000000.0 || Categorical accuracy train :  0.7408793140178952  || f1_score train:  0.2839973952879083\n",
      "Lambda: 1000000.0 || Categorical accuracy test :  0.7401166558651977  || f1_score test:  0.28454295938574853\n",
      "Lambda: 2894266.1247167517 || Categorical accuracy train :  0.7355444894191167  || f1_score train:  0.2819954631235822\n",
      "Lambda: 2894266.1247167517 || Categorical accuracy test :  0.7362281270252754  || f1_score test:  0.2831710709318498\n",
      "Lambda: 8376776.400682924 || Categorical accuracy train :  0.7284077190739952  || f1_score train:  0.28697202507441355\n",
      "Lambda: 8376776.400682924 || Categorical accuracy test :  0.7287346079066753  || f1_score test:  0.28805214617571595\n",
      "Lambda: 24244620.170823306 || Categorical accuracy train :  0.7202945249254368  || f1_score train:  0.29850475758948797\n",
      "Lambda: 24244620.170823306 || Categorical accuracy test :  0.7199044069993519  || f1_score test:  0.30013426515647057\n",
      "Lambda: 70170382.86703837 || Categorical accuracy train :  0.7122656582871751  || f1_score train:  0.3061986220272663\n",
      "Lambda: 70170382.86703837 || Categorical accuracy test :  0.712046338302009  || f1_score test:  0.3061406518010292\n",
      "Lambda: 203091762.0904739 || Categorical accuracy train :  0.706171886095725  || f1_score train:  0.307324768988055\n",
      "Lambda: 203091762.0904739 || Categorical accuracy test :  0.7077122488658457  || f1_score test:  0.30846180198698187\n",
      "Lambda: 587801607.2274923 || Categorical accuracy train :  0.7031538488851016  || f1_score train:  0.30714036162003977\n",
      "Lambda: 587801607.2274923 || Categorical accuracy test :  0.7038237200259235  || f1_score test:  0.3075341057105642\n",
      "Lambda: 1701254279.8525927 || Categorical accuracy train :  0.7018356767504615  || f1_score train:  0.30661235287928207\n",
      "Lambda: 1701254279.8525927 || Categorical accuracy test :  0.702649060272197  || f1_score test:  0.3073600493640945\n",
      "Lambda: 4923882631.706752 || Categorical accuracy train :  0.7014007243289305  || f1_score train:  0.3063959650322843\n",
      "Lambda: 4923882631.706752 || Categorical accuracy test :  0.7019199611147116  || f1_score test:  0.30689572403387855\n",
      "Lambda: 14251026703.029963 || Categorical accuracy train :  0.7010589759977276  || f1_score train:  0.306217721747367\n",
      "Lambda: 14251026703.029963 || Categorical accuracy test :  0.7018389500972132  || f1_score test:  0.30701182924738557\n",
      "Lambda: 41246263829.01365 || Categorical accuracy train :  0.701054537707712  || f1_score train:  0.3062622860858551\n",
      "Lambda: 41246263829.01365 || Categorical accuracy test :  0.7017174335709656  || f1_score test:  0.30689572403387855\n",
      "Lambda: 119377664171.44357 || Categorical accuracy train :  0.701019031387587  || f1_score train:  0.30623682103672634\n",
      "Lambda: 119377664171.44357 || Categorical accuracy test :  0.7016769280622165  || f1_score test:  0.3069537786311891\n",
      "Lambda: 345510729459.22327 || Categorical accuracy train :  0.7010145930975714  || f1_score train:  0.30623682103672634\n",
      "Lambda: 345510729459.22327 || Categorical accuracy test :  0.7017579390797148  || f1_score test:  0.30701182924738557\n",
      "Lambda: 1000000000000.0 || Categorical accuracy train :  0.7010145930975714  || f1_score train:  0.306243187370795\n",
      "Lambda: 1000000000000.0 || Categorical accuracy test :  0.7017579390797148  || f1_score test:  0.30701182924738557\n",
      "[0.7449270345121431, 0.7449314728021588, 0.7449314728021588, 0.7449181579321119, 0.7449359110921744, 0.7449447876722056, 0.7449536642522369, 0.74494034938219, 0.74494034938219, 0.7449314728021588, 0.7449359110921744, 0.7449359110921744, 0.7449359110921744, 0.7449359110921744, 0.7449359110921744, 0.7449359110921744, 0.7449359110921744, 0.7449359110921744, 0.7449314728021588, 0.7449359110921744, 0.7449492259622212, 0.74494034938219, 0.7448471452918619, 0.7446829285612839, 0.7443678099701747, 0.7432848672063628, 0.7408793140178952, 0.7355444894191167, 0.7284077190739952, 0.7202945249254368, 0.7122656582871751, 0.706171886095725, 0.7031538488851016, 0.7018356767504615, 0.7014007243289305, 0.7010589759977276, 0.701054537707712, 0.701019031387587, 0.7010145930975714, 0.7010145930975714]\n",
      "[0.6981934543097861, 0.6985580038885288, 0.6996921581335062, 0.7023250162022034, 0.7092919637070642, 0.7214436163318211, 0.7369977316915101, 0.7433976020738821, 0.7432760855476345, 0.7429925469863902, 0.7423444588464031, 0.7422634478289047, 0.7422229423201555, 0.7422634478289047, 0.7422634478289047, 0.7422634478289047, 0.7422634478289047, 0.7422634478289047, 0.7422634478289047, 0.7422634478289047, 0.7421419313026572, 0.7421014257939079, 0.7422634478289047, 0.7420609202851588, 0.7413318211276734, 0.7413318211276734, 0.7401166558651977, 0.7362281270252754, 0.7287346079066753, 0.7199044069993519, 0.712046338302009, 0.7077122488658457, 0.7038237200259235, 0.702649060272197, 0.7019199611147116, 0.7018389500972132, 0.7017174335709656, 0.7016769280622165, 0.7017579390797148, 0.7017579390797148]\n"
     ]
    }
   ],
   "source": [
    "lambdas = [0.00001, 0.0001, 0.0005, 0.001, 0.005, 0.01, 0.05, 0.1, 0.5, 1]\n",
    "lambdas =  np.logspace(-6, 12, 40)\n",
    "weights_result_4 = []\n",
    "accuracies_train_4 = []\n",
    "accuracies_test_4 = []\n",
    "for lambda_ in lambdas:\n",
    "    weights_RR = ridge_regression(y_train, x_train, lambda_)[1]\n",
    "    cat_accuracy_train, f1_score_train = metrics(y_train, predict_labels(weights_RR, x_train))\n",
    "    cat_accuracy_test, f1_score_test = metrics(y_test, predict_labels(weights_RR, x_test))\n",
    "    \n",
    "    print(\"Lambda: \" + str(lambda_) + \" || Categorical accuracy train : \",cat_accuracy_train,\" || f1_score train: \",f1_score_train)\n",
    "    print(\"Lambda: \" + str(lambda_) + \" || Categorical accuracy test : \",cat_accuracy_test,\" || f1_score test: \",f1_score_test)\n",
    "    weights_result_4.append(weights_RR)\n",
    "    accuracies_train_4.append(cat_accuracy_train)\n",
    "    accuracies_test_4.append(cat_accuracy_test)\n",
    "    \n",
    "print(accuracies_train_4)\n",
    "print(accuracies_test_4)"
   ]
  },
  {
   "cell_type": "code",
   "execution_count": 287,
   "metadata": {},
   "outputs": [
    {
     "data": {
      "image/png": "[encoded data removed]",
      "text/plain": [
       "<Figure size 432x288 with 1 Axes>"
      ]
     },
     "metadata": {
      "needs_background": "light"
     },
     "output_type": "display_data"
    }
   ],
   "source": [
    "plt.plot(lambdas[:], accuracies_train_4[:], label=\"train\")\n",
    "plt.plot(lambdas[:], accuracies_test_4[:], label=\"test\")\n",
    "plt.xscale(\"log\")\n",
    "plt.xlabel(\"Lambda\")\n",
    "plt.ylabel(\"Categorical accuracy\")\n",
    "plt.title(\"Categorical accuracy for Ridge Regression\")\n",
    "plt.legend()\n",
    "plt.show()"
   ]
  },
  {
   "cell_type": "code",
   "execution_count": 288,
   "metadata": {},
   "outputs": [
    {
     "name": "stdout",
     "output_type": "stream",
     "text": [
      "Best performance: lambda  0.0017012542798525892 , train accuracy:  0.74494034938219 , test accuracy:  0.7433976020738821\n"
     ]
    }
   ],
   "source": [
    "print(\"Best performance: lambda \", lambdas[np.argmax(accuracies_test_4)], \", train accuracy: \", accuracies_train_4[np.argmax(accuracies_test_4)], \", test accuracy: \", accuracies_test_4[np.argmax(accuracies_test_4)])"
   ]
  },
  {
   "cell_type": "markdown",
   "metadata": {},
   "source": [
    "## Logistic regression"
   ]
  },
  {
   "cell_type": "code",
   "execution_count": 220,
   "metadata": {},
   "outputs": [
    {
     "name": "stdout",
     "output_type": "stream",
     "text": [
      "The loss for step 0 is 155989.9942229971.\n",
      "The loss for step 1000 is 155986.6570715598.\n",
      "The loss for step 2000 is 155982.98179237847.\n",
      "The loss for step 3000 is 155980.06425238322.\n",
      "The loss for step 4000 is 155976.5968732667.\n",
      "The loss for step 5000 is 155973.095968284.\n",
      "The loss for step 6000 is 155969.6429974646.\n",
      "The loss for step 7000 is 155966.12319732865.\n",
      "The loss for step 8000 is 155962.90345196048.\n",
      "The loss for step 9000 is 155959.52730909263.\n",
      "Gamma: 1e-07 || Categorical accuracy train :  0.7000702078686135  || f1_score train:  0.3066197633514551\n",
      "Gamma: 1e-07 || Categorical accuracy test :  0.7009297106676284  || f1_score test:  0.3029107725788901\n",
      "The loss for step 0 is 155989.96826378352.\n",
      "The loss for step 1000 is 155956.79188752055.\n",
      "The loss for step 2000 is 155923.7250396881.\n",
      "The loss for step 3000 is 155889.3155319965.\n",
      "The loss for step 4000 is 155858.36890505935.\n",
      "The loss for step 5000 is 155824.44251516537.\n",
      "The loss for step 6000 is 155791.68708996166.\n",
      "The loss for step 7000 is 155760.31542237665.\n",
      "The loss for step 8000 is 155724.4841626578.\n",
      "The loss for step 9000 is 155695.18323025096.\n",
      "Gamma: 1e-06 || Categorical accuracy train :  0.6995725318379353  || f1_score train:  0.31087760118589686\n",
      "Gamma: 1e-06 || Categorical accuracy test :  0.699647351126072  || f1_score test:  0.30688333276792074\n",
      "The loss for step 0 is 155989.31137530712.\n",
      "The loss for step 1000 is 155656.55537984386.\n",
      "The loss for step 2000 is 155315.66544951912.\n",
      "The loss for step 3000 is 155004.33586212376.\n",
      "The loss for step 4000 is 154674.34281532824.\n",
      "The loss for step 5000 is 154387.79259280802.\n",
      "The loss for step 6000 is 154101.83194901032.\n",
      "The loss for step 7000 is 153823.46406898653.\n",
      "The loss for step 8000 is 153513.88397693832.\n",
      "The loss for step 9000 is 153232.95163012337.\n",
      "Gamma: 1e-05 || Categorical accuracy train :  0.7034650693635968  || f1_score train:  0.3146472154301826\n",
      "Gamma: 1e-05 || Categorical accuracy test :  0.7032940610723731  || f1_score test:  0.3110659898477157\n",
      "The loss for step 0 is 155993.39660230803.\n",
      "The loss for step 1000 is 152864.0482729738.\n",
      "The loss for step 2000 is 150162.40909921366.\n",
      "The loss for step 3000 is 147905.65969628483.\n",
      "The loss for step 4000 is 145819.8379011215.\n",
      "The loss for step 5000 is 144032.4732804417.\n",
      "The loss for step 6000 is 142639.12949599867.\n",
      "The loss for step 7000 is 141343.77909098178.\n",
      "The loss for step 8000 is 139985.65797980234.\n",
      "The loss for step 9000 is 138830.10392258866.\n",
      "Gamma: 0.0001 || Categorical accuracy train :  0.7080419114314407  || f1_score train:  0.314110631667266\n",
      "Gamma: 0.0001 || Categorical accuracy test :  0.707421655846758  || f1_score test:  0.3111802923659989\n",
      "The loss for step 0 is 155935.4685136066.\n",
      "The loss for step 1000 is 137661.90657096024.\n",
      "The loss for step 2000 is 130534.71589012079.\n",
      "The loss for step 3000 is 126238.820753745.\n",
      "The loss for step 4000 is 124270.73442442194.\n",
      "The loss for step 5000 is 122087.49494514929.\n",
      "The loss for step 6000 is 120709.53072819975.\n",
      "The loss for step 7000 is 119859.21187045088.\n",
      "The loss for step 8000 is 119244.28889350362.\n",
      "The loss for step 9000 is 118728.15818590093.\n",
      "Gamma: 0.001 || Categorical accuracy train :  0.7367293797712468  || f1_score train:  0.29562899261968867\n",
      "Gamma: 0.001 || Categorical accuracy test :  0.7394004969143223  || f1_score test:  0.2933351571316212\n",
      "The loss for step 0 is 155722.24645860298.\n",
      "The loss for step 1000 is 121303.39889418696.\n",
      "The loss for step 2000 is 120381.89550804172.\n",
      "The loss for step 3000 is 118978.48885464437.\n",
      "The loss for step 4000 is 117825.58894663963.\n",
      "The loss for step 5000 is 116256.50994816743.\n",
      "The loss for step 6000 is 115620.12147817257.\n",
      "The loss for step 7000 is 117619.9490652083.\n",
      "The loss for step 8000 is 116107.1781794206.\n",
      "The loss for step 9000 is 114953.70679049409.\n",
      "Gamma: 0.01 || Categorical accuracy train :  0.7480070741092932  || f1_score train:  0.31382010264863447\n",
      "Gamma: 0.01 || Categorical accuracy test :  0.7530656407790334  || f1_score test:  0.31089450705655397\n",
      "The loss for step 0 is 154562.36871596056.\n",
      "The loss for step 1000 is 134994.98461790773.\n",
      "The loss for step 2000 is 140831.1291235079.\n",
      "The loss for step 3000 is 129157.54918262185.\n",
      "The loss for step 4000 is 130325.20260572275.\n",
      "The loss for step 5000 is 140178.83867709053.\n",
      "The loss for step 6000 is 126373.04253131394.\n",
      "The loss for step 7000 is 123641.61614761151.\n",
      "The loss for step 8000 is 132551.11340257974.\n",
      "The loss for step 9000 is 140683.36810782275.\n",
      "Gamma: 0.05 || Categorical accuracy train :  0.743310256569768  || f1_score train:  0.31666423567867574\n",
      "Gamma: 0.05 || Categorical accuracy test :  0.747335096577703  || f1_score test:  0.31437449338016754\n",
      "The loss for step 0 is 161235.8051448892.\n",
      "The loss for step 1000 is 204342.75920213803.\n",
      "The loss for step 2000 is 143213.19465851085.\n",
      "The loss for step 3000 is 147894.32631215837.\n",
      "The loss for step 4000 is 175084.1425861079.\n",
      "The loss for step 5000 is 151862.473793759.\n",
      "The loss for step 6000 is 178046.00300574582.\n",
      "The loss for step 7000 is 141518.41982845034.\n",
      "The loss for step 8000 is 167332.068234501.\n",
      "The loss for step 9000 is 182000.89389162493.\n",
      "Gamma: 0.1 || Categorical accuracy train :  0.7171689343511993  || f1_score train:  0.2874189068356068\n",
      "Gamma: 0.1 || Categorical accuracy test :  0.7160775827522642  || f1_score test:  0.2823513215859031\n",
      "The loss for step 0 is 161593.33797283916.\n",
      "The loss for step 1000 is 245168.18040392353.\n",
      "The loss for step 2000 is 194289.00618946555.\n",
      "The loss for step 3000 is 262136.6068545118.\n",
      "The loss for step 4000 is 203823.4541274118.\n",
      "The loss for step 5000 is 231676.7641631987.\n",
      "The loss for step 6000 is 258689.74524245365.\n",
      "The loss for step 7000 is 214458.373934009.\n",
      "The loss for step 8000 is 233681.9405880971.\n",
      "The loss for step 9000 is 227890.52450493534.\n",
      "Gamma: 0.2 || Categorical accuracy train :  0.704233801089555  || f1_score train:  0.3541388603461453\n",
      "Gamma: 0.2 || Categorical accuracy test :  0.7032940610723731  || f1_score test:  0.3472530383812962\n",
      "The loss for step 0 is 155289.73702898604.\n",
      "The loss for step 1000 is 262003.62553245053.\n",
      "The loss for step 2000 is 329878.12586854433.\n",
      "The loss for step 3000 is 281172.66380639566.\n",
      "The loss for step 4000 is 270490.91934335243.\n",
      "The loss for step 5000 is 269477.63808639394.\n",
      "The loss for step 6000 is 268968.00257088343.\n",
      "The loss for step 7000 is 254053.44906404684.\n",
      "The loss for step 8000 is 278487.95050324476.\n",
      "The loss for step 9000 is 411832.5714168564.\n",
      "Gamma: 0.3 || Categorical accuracy train :  0.656132524017312  || f1_score train:  0.23145172064220543\n",
      "Gamma: 0.3 || Categorical accuracy test :  0.6560872004488258  || f1_score test:  0.22549333333333332\n",
      "The loss for step 0 is 193752.13990083482.\n",
      "The loss for step 1000 is 288437.0167992633.\n",
      "The loss for step 2000 is 413375.92415315117.\n",
      "The loss for step 3000 is 292145.0246671829.\n",
      "The loss for step 4000 is 447691.1986323021.\n",
      "The loss for step 5000 is 277369.3446509552.\n",
      "The loss for step 6000 is 433102.3177428015.\n",
      "The loss for step 7000 is 524464.3267081528.\n",
      "The loss for step 8000 is 319725.84160686086.\n",
      "The loss for step 9000 is 416477.9910281388.\n",
      "Gamma: 0.31 || Categorical accuracy train :  0.6795943940349973  || f1_score train:  0.3091770380582802\n",
      "Gamma: 0.31 || Categorical accuracy test :  0.6806524004167669  || f1_score test:  0.3045250713412148\n",
      "The loss for step 0 is 153414.268108161.\n",
      "The loss for step 1000 is 365907.9099800825.\n",
      "The loss for step 2000 is 327345.8399117837.\n",
      "The loss for step 3000 is 299619.2611162249.\n",
      "The loss for step 4000 is 721838.2151644212.\n",
      "The loss for step 5000 is 297830.7014178617.\n",
      "The loss for step 6000 is 305185.40541198355.\n",
      "The loss for step 7000 is 312755.92816973967.\n",
      "The loss for step 8000 is 349229.09038879233.\n",
      "The loss for step 9000 is 341980.52314396825.\n",
      "Gamma: 0.32 || Categorical accuracy train :  0.6633754876780747  || f1_score train:  0.2720072484076922\n",
      "Gamma: 0.32 || Categorical accuracy test :  0.6628596617776709  || f1_score test:  0.26575856557092226\n",
      "The loss for step 0 is 210664.4743018263.\n",
      "The loss for step 1000 is 516321.9911956092.\n",
      "The loss for step 2000 is 515097.3044499312.\n",
      "The loss for step 3000 is 320061.11549983826.\n",
      "The loss for step 4000 is 373194.81200377527.\n",
      "The loss for step 5000 is 292713.3677391654.\n",
      "The loss for step 6000 is 346430.25639230857.\n",
      "The loss for step 7000 is 345327.0004135163.\n",
      "The loss for step 8000 is 421615.956314031.\n",
      "The loss for step 9000 is 397441.60080217384.\n",
      "Gamma: 0.33 || Categorical accuracy train :  0.6854731921473832  || f1_score train:  0.27575401188337284\n",
      "Gamma: 0.33 || Categorical accuracy test :  0.6882664101947583  || f1_score test:  0.27032647119983366\n",
      "The loss for step 0 is 158769.89969357412.\n",
      "The loss for step 1000 is 476171.6413273211.\n",
      "The loss for step 2000 is 405332.0194990497.\n",
      "The loss for step 3000 is 299428.3333928501.\n",
      "The loss for step 4000 is 463064.31944409467.\n",
      "The loss for step 5000 is 310387.3148660335.\n",
      "The loss for step 6000 is 424435.50791145244.\n",
      "The loss for step 7000 is 428947.3052761287.\n",
      "The loss for step 8000 is 408339.9328264131.\n",
      "The loss for step 9000 is 451236.6073169144.\n",
      "Gamma: 0.34 || Categorical accuracy train :  0.7254739031131413  || f1_score train:  0.35903530998778643\n",
      "Gamma: 0.34 || Categorical accuracy test :  0.7291816943175443  || f1_score test:  0.356180626461579\n",
      "The loss for step 0 is 156084.44585910294.\n",
      "The loss for step 1000 is 370385.69989892765.\n",
      "The loss for step 2000 is 404396.05676667014.\n",
      "The loss for step 3000 is 328234.50269902346.\n",
      "The loss for step 4000 is 399253.37883449683.\n",
      "The loss for step 5000 is 411526.17268812447.\n",
      "The loss for step 6000 is 556650.0113095283.\n",
      "The loss for step 7000 is 351069.2972066754.\n",
      "The loss for step 8000 is 346110.6118554935.\n",
      "The loss for step 9000 is 349152.4868530255.\n",
      "Gamma: 0.4 || Categorical accuracy train :  0.701674324360353  || f1_score train:  0.32413533750600393\n",
      "Gamma: 0.4 || Categorical accuracy test :  0.7037749459004569  || f1_score test:  0.32151745476558824\n",
      "The loss for step 0 is 211322.3219555252.\n",
      "The loss for step 1000 is 847746.8269653519.\n",
      "The loss for step 2000 is 514183.8923550586.\n",
      "The loss for step 3000 is 622062.5964538226.\n",
      "The loss for step 4000 is 562028.1905619658.\n",
      "The loss for step 5000 is 424027.5721843787.\n",
      "The loss for step 6000 is 512399.98637458944.\n",
      "The loss for step 7000 is 482605.1085536735.\n",
      "The loss for step 8000 is 789364.7034653944.\n",
      "The loss for step 9000 is 496282.6121929048.\n",
      "Gamma: 0.5 || Categorical accuracy train :  0.7100503896981062  || f1_score train:  0.3179601400665952\n",
      "Gamma: 0.5 || Categorical accuracy test :  0.70942534263044  || f1_score test:  0.3123224671987015\n",
      "[0.7000702078686135, 0.6995725318379353, 0.7034650693635968, 0.7080419114314407, 0.7367293797712468, 0.7480070741092932, 0.743310256569768, 0.7171689343511993, 0.704233801089555, 0.656132524017312, 0.6795943940349973, 0.6633754876780747, 0.6854731921473832, 0.7254739031131413, 0.701674324360353, 0.7100503896981062]\n",
      "[0.7009297106676284, 0.699647351126072, 0.7032940610723731, 0.707421655846758, 0.7394004969143223, 0.7530656407790334, 0.747335096577703, 0.7160775827522642, 0.7032940610723731, 0.6560872004488258, 0.6806524004167669, 0.6628596617776709, 0.6882664101947583, 0.7291816943175443, 0.7037749459004569, 0.70942534263044]\n"
     ]
    }
   ],
   "source": [
    "y_train_log = np.copy(y_train)\n",
    "y_train_log = np.where(y_train_log==-1, 0, y_train_log)\n",
    "\n",
    "y_test_log = np.copy(y_test)\n",
    "y_test_log = np.where(y_test_log==-1, 0, y_test_log)\n",
    "\n",
    "gammas = [0.0000001, 0.000001, 0.00001, 0.0001, 0.001, 0.01, 0.05, 0.1, 0.2, 0.3, 0.31, 0.32, 0.33, 0.34, 0.4, 0.5]\n",
    "weights_result_5 = []\n",
    "accuracies_train_5 = []\n",
    "accuracies_test_5 = []\n",
    "for gamma in gammas:\n",
    "    weights_LR = logistic_regression(y_train_log, x_train, np.zeros(31), 10000, gamma)[1]\n",
    "    cat_accuracy_train, f1_score_train = metrics(y_train_log, predict_labels(weights_LR, x_train))\n",
    "    cat_accuracy_test, f1_score_test = metrics(y_test_log, predict_labels(weights_LR, x_test))\n",
    "    \n",
    "    print(\"Gamma: \" + str(gamma) + \" || Categorical accuracy train : \",cat_accuracy_train,\" || f1_score train: \",f1_score_train)\n",
    "    print(\"Gamma: \" + str(gamma) + \" || Categorical accuracy test : \",cat_accuracy_test,\" || f1_score test: \",f1_score_test)\n",
    "    weights_result_5.append(weights_LR)\n",
    "    accuracies_train_5.append(cat_accuracy_train)\n",
    "    accuracies_test_5.append(cat_accuracy_test)\n",
    "    \n",
    "print(accuracies_train_5)\n",
    "print(accuracies_test_5)"
   ]
  },
  {
   "cell_type": "code",
   "execution_count": 221,
   "metadata": {},
   "outputs": [
    {
     "name": "stdout",
     "output_type": "stream",
     "text": [
      "Best performance: gamma  0.01 , train accuracy:  0.7480070741092932 , test accuracy:  0.7530656407790334\n"
     ]
    }
   ],
   "source": [
    "print(\"Best performance: gamma \", gammas[np.argmax(accuracies_test_5)], \", train accuracy: \", accuracies_train_5[np.argmax(accuracies_test_5)], \", test accuracy: \", accuracies_test_5[np.argmax(accuracies_test_5)])"
   ]
  },
  {
   "cell_type": "code",
   "execution_count": 222,
   "metadata": {},
   "outputs": [
    {
     "data": {
      "image/png": "[encoded data removed]",
      "text/plain": [
       "<Figure size 432x288 with 1 Axes>"
      ]
     },
     "metadata": {
      "needs_background": "light"
     },
     "output_type": "display_data"
    }
   ],
   "source": [
    "plt.plot(gammas[:8], accuracies_train_5[:8], label=\"train\")\n",
    "plt.plot(gammas[:8], accuracies_test_5[:8], label=\"test\")\n",
    "plt.xscale(\"log\")\n",
    "plt.xlabel(\"Gamma\")\n",
    "plt.ylabel(\"Categorical accuracy\")\n",
    "plt.title(\"Categorical accuracy for Logistic Regression\")\n",
    "plt.legend()\n",
    "plt.show()"
   ]
  },
  {
   "cell_type": "markdown",
   "metadata": {},
   "source": [
    "## Regularized logistic regression"
   ]
  },
  {
   "cell_type": "code",
   "execution_count": 193,
   "metadata": {},
   "outputs": [
    {
     "ename": "IndexError",
     "evalue": "list index out of range",
     "output_type": "error",
     "traceback": [
      "\u001b[1;31m---------------------------------------------------------------------------\u001b[0m",
      "\u001b[1;31mIndexError\u001b[0m                                Traceback (most recent call last)",
      "\u001b[1;32m<ipython-input-193-3502c9328dbb>\u001b[0m in \u001b[0;36m<module>\u001b[1;34m\u001b[0m\n\u001b[0;32m     12\u001b[0m     \u001b[1;32mfor\u001b[0m \u001b[0mgamma\u001b[0m \u001b[1;32min\u001b[0m \u001b[0mgammas\u001b[0m\u001b[1;33m:\u001b[0m\u001b[1;33m\u001b[0m\u001b[1;33m\u001b[0m\u001b[0m\n\u001b[0;32m     13\u001b[0m         \u001b[1;31m#weights_RLR = reg_logistic_regression(y_train_log, x_train, lambda_, np.zeros(31), 10000, gamma)[1]\u001b[0m\u001b[1;33m\u001b[0m\u001b[1;33m\u001b[0m\u001b[1;33m\u001b[0m\u001b[0m\n\u001b[1;32m---> 14\u001b[1;33m         \u001b[0mweights_RLR\u001b[0m \u001b[1;33m=\u001b[0m \u001b[0mweights_result_6\u001b[0m\u001b[1;33m[\u001b[0m\u001b[0mi\u001b[0m\u001b[1;33m]\u001b[0m\u001b[1;33m[\u001b[0m\u001b[0mj\u001b[0m\u001b[1;33m]\u001b[0m\u001b[1;33m\u001b[0m\u001b[1;33m\u001b[0m\u001b[0m\n\u001b[0m\u001b[0;32m     15\u001b[0m         \u001b[0mcat_accuracy_train\u001b[0m\u001b[1;33m,\u001b[0m \u001b[0mf1_score_train\u001b[0m \u001b[1;33m=\u001b[0m \u001b[0mmetrics\u001b[0m\u001b[1;33m(\u001b[0m\u001b[0my_train_log\u001b[0m\u001b[1;33m,\u001b[0m \u001b[0mpredict_labels\u001b[0m\u001b[1;33m(\u001b[0m\u001b[0mweights_RLR\u001b[0m\u001b[1;33m,\u001b[0m \u001b[0mx_train\u001b[0m\u001b[1;33m)\u001b[0m\u001b[1;33m)\u001b[0m\u001b[1;33m\u001b[0m\u001b[1;33m\u001b[0m\u001b[0m\n\u001b[0;32m     16\u001b[0m         \u001b[0mcat_accuracy_test\u001b[0m\u001b[1;33m,\u001b[0m \u001b[0mf1_score_test\u001b[0m \u001b[1;33m=\u001b[0m \u001b[0mmetrics\u001b[0m\u001b[1;33m(\u001b[0m\u001b[0my_test_log\u001b[0m\u001b[1;33m,\u001b[0m \u001b[0mpredict_labels\u001b[0m\u001b[1;33m(\u001b[0m\u001b[0mweights_RLR\u001b[0m\u001b[1;33m,\u001b[0m \u001b[0mx_test\u001b[0m\u001b[1;33m)\u001b[0m\u001b[1;33m)\u001b[0m\u001b[1;33m\u001b[0m\u001b[1;33m\u001b[0m\u001b[0m\n",
      "\u001b[1;31mIndexError\u001b[0m: list index out of range"
     ]
    }
   ],
   "source": [
    "gammas = [0.0001, 0.001, 0.01, 0.05, 0.1, 0.2]\n",
    "lambdas = lambdas =  np.logspace(-4, 4, 5)\n",
    "weights_result_6 = []\n",
    "accuracies_train_6 = []\n",
    "accuracies_test_6 = []\n",
    "for lambda_ in lambdas:\n",
    "    accuracy_train = []\n",
    "    accuracy_test = []\n",
    "    weights = []\n",
    "    for gamma in gammas:\n",
    "        weights_RLR = reg_logistic_regression(y_train_log, x_train, lambda_, np.zeros(31), 10000, gamma)[1]\n",
    "        cat_accuracy_train, f1_score_train = metrics(y_train_log, predict_labels(weights_RLR, x_train))\n",
    "        cat_accuracy_test, f1_score_test = metrics(y_test_log, predict_labels(weights_RLR, x_test))\n",
    "\n",
    "        print(\"Lambda: \" + str(lambda_) + \" Gamma: \" + str(gamma) + \" || Categorical accuracy train : \",cat_accuracy_train,\" || f1_score train: \",f1_score_train)\n",
    "        print(\"Lambda: \" + str(lambda_) + \" Gamma: \" + str(gamma) + \" || Categorical accuracy test : \",cat_accuracy_test,\" || f1_score test: \",f1_score_test)\n",
    "        weights.append(weights_RLR)\n",
    "        accuracy_train.append(cat_accuracy_train)\n",
    "        accuracy_test.append(cat_accuracy_test)\n",
    "    weights_result_6.append(weights)\n",
    "    accuracies_train_6.append(accuracy_train)\n",
    "    accuracies_test_6.append(accuracy_test)\n",
    "\n",
    "print(accuracies_train_6)\n",
    "print(accuracies_test_6)"
   ]
  },
  {
   "cell_type": "code",
   "execution_count": 191,
   "metadata": {},
   "outputs": [
    {
     "name": "stdout",
     "output_type": "stream",
     "text": [
      "0\n"
     ]
    },
    {
     "ename": "TypeError",
     "evalue": "list indices must be integers or slices, not tuple",
     "output_type": "error",
     "traceback": [
      "\u001b[1;31m---------------------------------------------------------------------------\u001b[0m",
      "\u001b[1;31mTypeError\u001b[0m                                 Traceback (most recent call last)",
      "\u001b[1;32m<ipython-input-191-a8c5b39db5cf>\u001b[0m in \u001b[0;36m<module>\u001b[1;34m\u001b[0m\n\u001b[0;32m      1\u001b[0m \u001b[0mbest_index\u001b[0m \u001b[1;33m=\u001b[0m \u001b[0mnp\u001b[0m\u001b[1;33m.\u001b[0m\u001b[0munravel_index\u001b[0m\u001b[1;33m(\u001b[0m\u001b[0mnp\u001b[0m\u001b[1;33m.\u001b[0m\u001b[0margmax\u001b[0m\u001b[1;33m(\u001b[0m\u001b[0mnp\u001b[0m\u001b[1;33m.\u001b[0m\u001b[0mmatrix\u001b[0m\u001b[1;33m(\u001b[0m\u001b[0maccuracies_test_6\u001b[0m\u001b[1;33m)\u001b[0m\u001b[1;33m,\u001b[0m \u001b[0maxis\u001b[0m\u001b[1;33m=\u001b[0m\u001b[1;32mNone\u001b[0m\u001b[1;33m)\u001b[0m\u001b[1;33m,\u001b[0m \u001b[0mnp\u001b[0m\u001b[1;33m.\u001b[0m\u001b[0mmatrix\u001b[0m\u001b[1;33m(\u001b[0m\u001b[0maccuracies_test_6\u001b[0m\u001b[1;33m)\u001b[0m\u001b[1;33m.\u001b[0m\u001b[0mshape\u001b[0m\u001b[1;33m)\u001b[0m\u001b[1;33m\u001b[0m\u001b[1;33m\u001b[0m\u001b[0m\n\u001b[0;32m      2\u001b[0m \u001b[0mprint\u001b[0m\u001b[1;33m(\u001b[0m\u001b[0mnp\u001b[0m\u001b[1;33m.\u001b[0m\u001b[0margmax\u001b[0m\u001b[1;33m(\u001b[0m\u001b[0maccuracies_test_6\u001b[0m\u001b[1;33m)\u001b[0m\u001b[1;33m)\u001b[0m\u001b[1;33m\u001b[0m\u001b[1;33m\u001b[0m\u001b[0m\n\u001b[1;32m----> 3\u001b[1;33m \u001b[0mprint\u001b[0m\u001b[1;33m(\u001b[0m\u001b[1;34m\"Best performance: lambda \"\u001b[0m\u001b[1;33m,\u001b[0m \u001b[0mlambdas\u001b[0m\u001b[1;33m[\u001b[0m\u001b[0mbest_index\u001b[0m\u001b[1;33m[\u001b[0m\u001b[1;36m0\u001b[0m\u001b[1;33m]\u001b[0m\u001b[1;33m]\u001b[0m\u001b[1;33m,\u001b[0m \u001b[1;34m\", gamma: \"\u001b[0m\u001b[1;33m,\u001b[0m \u001b[0mgammas\u001b[0m\u001b[1;33m[\u001b[0m\u001b[0mbest_index\u001b[0m\u001b[1;33m[\u001b[0m\u001b[1;36m1\u001b[0m\u001b[1;33m]\u001b[0m\u001b[1;33m]\u001b[0m\u001b[1;33m,\u001b[0m \u001b[1;34m\", train accuracy: \"\u001b[0m\u001b[1;33m,\u001b[0m \u001b[0maccuracies_train_6\u001b[0m\u001b[1;33m[\u001b[0m\u001b[0mbest_index\u001b[0m\u001b[1;33m]\u001b[0m\u001b[1;33m,\u001b[0m \u001b[1;34m\", test accuracy: \"\u001b[0m\u001b[1;33m,\u001b[0m \u001b[0maccuracies_test_6\u001b[0m\u001b[1;33m[\u001b[0m\u001b[0mbest_index\u001b[0m\u001b[1;33m]\u001b[0m\u001b[1;33m)\u001b[0m\u001b[1;33m\u001b[0m\u001b[1;33m\u001b[0m\u001b[0m\n\u001b[0m",
      "\u001b[1;31mTypeError\u001b[0m: list indices must be integers or slices, not tuple"
     ]
    }
   ],
   "source": [
    "best_index = np.unravel_index(np.argmax(np.matrix(accuracies_test_6), axis=None), np.matrix(accuracies_test_6).shape)\n",
    "print(np.argmax(accuracies_test_6))\n",
    "print(\"Best performance: lambda \", lambdas[best_index[0]], \", gamma: \", gammas[best_index[1]], \", train accuracy: \", accuracies_train_6[best_index], \", test accuracy: \", accuracies_test_6[best_index])"
   ]
  },
  {
   "cell_type": "code",
   "execution_count": 194,
   "metadata": {},
   "outputs": [
    {
     "data": {
      "text/plain": [
       "[]"
      ]
     },
     "execution_count": 194,
     "metadata": {},
     "output_type": "execute_result"
    }
   ],
   "source": [
    "weights_result_6"
   ]
  },
  {
   "cell_type": "markdown",
   "metadata": {},
   "source": [
    "# Advanced models"
   ]
  },
  {
   "cell_type": "markdown",
   "metadata": {},
   "source": [
    "## Categorical splitting"
   ]
  },
  {
   "cell_type": "code",
   "execution_count": 241,
   "metadata": {},
   "outputs": [
    {
     "data": {
      "text/plain": [
       "22164"
      ]
     },
     "execution_count": 241,
     "metadata": {},
     "output_type": "execute_result"
    }
   ],
   "source": [
    "len(tX[np.where(tX[:,22]==3)])"
   ]
  }
 ],
 "metadata": {
  "kernelspec": {
   "display_name": "Python 3",
   "language": "python",
   "name": "python3"
  },
  "language_info": {
   "codemirror_mode": {
    "name": "ipython",
    "version": 3
   },
   "file_extension": ".py",
   "mimetype": "text/x-python",
   "name": "python",
   "nbconvert_exporter": "python",
   "pygments_lexer": "ipython3",
   "version": "3.7.3"
  }
 },
 "nbformat": 4,
 "nbformat_minor": 4
}
