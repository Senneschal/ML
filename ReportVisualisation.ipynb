{
 "cells": [
  {
   "cell_type": "markdown",
   "metadata": {},
   "source": [
    "# Basic models\n",
    "## Loading data"
   ]
  },
  {
   "cell_type": "code",
   "execution_count": 92,
   "metadata": {},
   "outputs": [
    {
     "name": "stdout",
     "output_type": "stream",
     "text": [
      "The autoreload extension is already loaded. To reload it, use:\n",
      "  %reload_ext autoreload\n"
     ]
    }
   ],
   "source": [
    "# Useful starting lines\n",
    "%matplotlib inline\n",
    "import numpy as np\n",
    "import matplotlib.pyplot as plt\n",
    "import datetime\n",
    "import copy\n",
    "%load_ext autoreload\n",
    "%autoreload 2"
   ]
  },
  {
   "cell_type": "code",
   "execution_count": 179,
   "metadata": {},
   "outputs": [
    {
     "data": {
      "text/plain": [
       "<Figure size 432x288 with 0 Axes>"
      ]
     },
     "metadata": {},
     "output_type": "display_data"
    }
   ],
   "source": [
    "%run proj1_helpers.py\n",
    "%run implementations.py"
   ]
  },
  {
   "cell_type": "code",
   "execution_count": 94,
   "metadata": {},
   "outputs": [],
   "source": [
    "DATA_TRAIN_PATH = 'train.csv' # TODO: download train data and supply path here \n",
    "y, tX, ids = load_csv_data(DATA_TRAIN_PATH)\n",
    "tx = copy.deepcopy(tX)"
   ]
  },
  {
   "cell_type": "markdown",
   "metadata": {},
   "source": [
    "## Cleaning data"
   ]
  },
  {
   "cell_type": "code",
   "execution_count": 95,
   "metadata": {},
   "outputs": [],
   "source": [
    "tx = np.where(tx==-999, np.nan, tx) # replace -999 value with nan"
   ]
  },
  {
   "cell_type": "code",
   "execution_count": 96,
   "metadata": {},
   "outputs": [],
   "source": [
    "col_mean = np.nanmean(tx, axis=0)\n",
    "inds_nan = np.where(np.isnan(tx))\n",
    "tx[inds_nan] = np.take(col_mean, inds_nan[1])"
   ]
  },
  {
   "cell_type": "code",
   "execution_count": 97,
   "metadata": {},
   "outputs": [],
   "source": [
    "tx_stand,_,_ = standardize(tx)"
   ]
  },
  {
   "cell_type": "code",
   "execution_count": 98,
   "metadata": {},
   "outputs": [],
   "source": [
    "tx = np.insert(tx, 0, 1, axis=1)\n",
    "tx_stand = np.insert(tx_stand, 0, 1, axis=1)"
   ]
  },
  {
   "cell_type": "markdown",
   "metadata": {},
   "source": [
    "## Split data"
   ]
  },
  {
   "cell_type": "code",
   "execution_count": 106,
   "metadata": {},
   "outputs": [],
   "source": [
    "ratio_train_test = 0.8\n",
    "x_train, y_train, x_test, y_test = split_data(tx_stand, y, ratio_train_test, seed=1)\n",
    "x_train_ns, y_train_ns, x_test_ns, y_test_ns = split_data(tx, y, ratio_train_test, seed=1)"
   ]
  },
  {
   "cell_type": "code",
   "execution_count": 100,
   "metadata": {},
   "outputs": [
    {
     "data": {
      "text/plain": [
       "array([[ 1.00000000e+00,  1.38470000e+02,  5.16550000e+01, ...,\n",
       "         1.24000000e+00, -2.47500000e+00,  1.13497000e+02],\n",
       "       [ 1.00000000e+00,  1.60937000e+02,  6.87680000e+01, ...,\n",
       "        -1.18452642e-02, -1.58228913e-03,  4.62260000e+01],\n",
       "       [ 1.00000000e+00,  1.21858528e+02,  1.62172000e+02, ...,\n",
       "        -1.18452642e-02, -1.58228913e-03,  4.42510000e+01],\n",
       "       ...,\n",
       "       [ 1.00000000e+00,  1.05457000e+02,  6.05260000e+01, ...,\n",
       "        -1.18452642e-02, -1.58228913e-03,  4.19920000e+01],\n",
       "       [ 1.00000000e+00,  9.49510000e+01,  1.93620000e+01, ...,\n",
       "        -1.18452642e-02, -1.58228913e-03,  0.00000000e+00],\n",
       "       [ 1.00000000e+00,  1.21858528e+02,  7.27560000e+01, ...,\n",
       "        -1.18452642e-02, -1.58228913e-03,  0.00000000e+00]])"
      ]
     },
     "execution_count": 100,
     "metadata": {},
     "output_type": "execute_result"
    }
   ],
   "source": [
    "tx"
   ]
  },
  {
   "cell_type": "markdown",
   "metadata": {},
   "source": [
    "## Linear Regression with Gradient Descent"
   ]
  },
  {
   "cell_type": "code",
   "execution_count": 101,
   "metadata": {},
   "outputs": [
    {
     "name": "stdout",
     "output_type": "stream",
     "text": [
      "Categorical accuracy train :  0.700905  || f1_score train:  0.3058815557089674\n",
      "Categorical accuracy test :  0.700696365204863  || f1_score test:  0.30417241665347\n"
     ]
    }
   ],
   "source": [
    "weights_LSGD1 = least_squares_GD(y_train, x_train, np.zeros(31), 100, 0.000001)[1]\n",
    "cat_accuracy_train, f1_score_train = metrics(y_train, predict_labels(weights_LSGD1, x_train))\n",
    "cat_accuracy_test, f1_score_test = metrics(y_test, predict_labels(weights_LSGD1, x_test))\n",
    "\n",
    "\n",
    "print(\"Categorical accuracy train : \",cat_accuracy_train,\" || f1_score train: \",f1_score_train)\n",
    "print(\"Categorical accuracy test : \",cat_accuracy_test,\" || f1_score test: \",f1_score_test)"
   ]
  },
  {
   "cell_type": "code",
   "execution_count": 102,
   "metadata": {},
   "outputs": [
    {
     "data": {
      "text/plain": [
       "array([-3.13344517e-05,  8.71792313e-07, -3.34154078e-05, -1.48832958e-06,\n",
       "        1.81912129e-05,  1.77836530e-05,  1.72348993e-05, -1.59757095e-05,\n",
       "        1.07978254e-06, -1.52600541e-06,  1.45495755e-05, -1.85641304e-05,\n",
       "        2.55379694e-05,  1.64950218e-05,  2.22506437e-05, -6.28645316e-07,\n",
       "       -5.13564292e-07, -3.09172507e-06, -3.91932290e-07,  2.47780838e-07,\n",
       "        2.06630226e-06,  4.90920815e-07,  1.28406586e-05,  1.25250535e-05,\n",
       "        8.47693349e-06, -1.82045018e-07, -9.74464432e-08, -1.08510078e-06,\n",
       "        2.84496874e-07,  4.83990581e-08,  1.27837775e-05])"
      ]
     },
     "execution_count": 102,
     "metadata": {},
     "output_type": "execute_result"
    }
   ],
   "source": [
    "weights_LSGD1"
   ]
  },
  {
   "cell_type": "code",
   "execution_count": 114,
   "metadata": {},
   "outputs": [
    {
     "name": "stdout",
     "output_type": "stream",
     "text": [
      "Gamma: 1e-06 || Categorical accuracy train :  0.700905  || f1_score train:  0.3058815557089674\n",
      "Gamma: 1e-06 || Categorical accuracy test :  0.700696365204863  || f1_score test:  0.30417241665347\n",
      "Gamma: 1e-05 || Categorical accuracy train :  0.70088  || f1_score train:  0.30580980173739203\n",
      "Gamma: 1e-05 || Categorical accuracy test :  0.7008030878416236  || f1_score test:  0.3042235678251755\n",
      "Gamma: 0.0001 || Categorical accuracy train :  0.70127  || f1_score train:  0.30598917527082997\n",
      "Gamma: 0.0001 || Categorical accuracy test :  0.700998746009018  || f1_score test:  0.3042235678251755\n",
      "Gamma: 0.001 || Categorical accuracy train :  0.70508  || f1_score train:  0.3075588652182191\n",
      "Gamma: 0.001 || Categorical accuracy test :  0.7053121192447595  || f1_score test:  0.30546303971064726\n",
      "Gamma: 0.01 || Categorical accuracy train :  0.72545  || f1_score train:  0.2950210351779785\n",
      "Gamma: 0.01 || Categorical accuracy test :  0.7239530064656131  || f1_score test:  0.29033876657340957\n",
      "Gamma: 0.05 || Categorical accuracy train :  0.73795  || f1_score train:  0.2762112847828242\n",
      "Gamma: 0.05 || Categorical accuracy test :  0.736261683905337  || f1_score test:  0.2704045531456699\n",
      "Gamma: 0.1 || Categorical accuracy train :  0.74255  || f1_score train:  0.2845723009889441\n",
      "Gamma: 0.1 || Categorical accuracy test :  0.7405750571410784  || f1_score test:  0.27894233344813074\n",
      "Gamma: 0.2 || Categorical accuracy train :  0.74441  || f1_score train:  0.28951644629936885\n",
      "Gamma: 0.2 || Categorical accuracy test :  0.7430830391049528  || f1_score test:  0.2850584529973843\n",
      "Gamma: 0.3 || Categorical accuracy train :  0.745215  || f1_score train:  0.29137958284032517\n",
      "Gamma: 0.3 || Categorical accuracy test :  0.7433765263560445  || f1_score test:  0.28682217786784087\n",
      "Gamma: 0.31 || Categorical accuracy train :  0.74538  || f1_score train:  0.2912700989354613\n",
      "Gamma: 0.31 || Categorical accuracy test :  0.7438389911153405  || f1_score test:  0.2868352289608203\n",
      "Gamma: 0.32 || Categorical accuracy train :  0.390585  || f1_score train:  0.3069929655557719\n",
      "Gamma: 0.32 || Categorical accuracy test :  0.3887105237413399  || f1_score test:  0.3051437615404906\n",
      "Gamma: 0.33 || Categorical accuracy train :  0.37062  || f1_score train:  0.30648404919663835\n",
      "Gamma: 0.33 || Categorical accuracy test :  0.36908245213045066  || f1_score test:  0.305016016581873\n",
      "Gamma: 0.34 || Categorical accuracy train :  0.37059  || f1_score train:  0.3064625389513616\n",
      "Gamma: 0.34 || Categorical accuracy test :  0.3690290908120703  || f1_score test:  0.3049904652792957\n",
      "Gamma: 0.4 || Categorical accuracy train :  0.37059  || f1_score train:  0.3064625389513616\n",
      "Gamma: 0.4 || Categorical accuracy test :  0.3690290908120703  || f1_score test:  0.3049904652792957\n",
      "Gamma: 0.5 || Categorical accuracy train :  0.37059  || f1_score train:  0.3064625389513616\n",
      "Gamma: 0.5 || Categorical accuracy test :  0.3690290908120703  || f1_score test:  0.3049904652792957\n",
      "[0.700905, 0.70088, 0.70127, 0.70508, 0.72545, 0.73795, 0.74255, 0.74441, 0.745215, 0.74538, 0.390585, 0.37062, 0.37059, 0.37059, 0.37059]\n",
      "[0.700696365204863, 0.7008030878416236, 0.700998746009018, 0.7053121192447595, 0.7239530064656131, 0.736261683905337, 0.7405750571410784, 0.7430830391049528, 0.7433765263560445, 0.7438389911153405, 0.3887105237413399, 0.36908245213045066, 0.3690290908120703, 0.3690290908120703, 0.3690290908120703]\n"
     ]
    }
   ],
   "source": [
    "gammas = [0.000001, 0.00001, 0.0001, 0.001, 0.01, 0.05, 0.1, 0.2, 0.3, 0.31, 0.32, 0.33, 0.34, 0.4, 0.5]\n",
    "weights_result = []\n",
    "accuracies_train = []\n",
    "accuracies_test = []\n",
    "for gamma in gammas:\n",
    "    weights_LSGD1 = least_squares_GD(y_train, x_train, np.zeros(31), 100, gamma)[1]\n",
    "    cat_accuracy_train, f1_score_train = metrics(y_train, predict_labels(weights_LSGD1, x_train))\n",
    "    cat_accuracy_test, f1_score_test = metrics(y_test, predict_labels(weights_LSGD1, x_test))\n",
    "    \n",
    "    print(\"Gamma: \" + str(gamma) + \" || Categorical accuracy train : \",cat_accuracy_train,\" || f1_score train: \",f1_score_train)\n",
    "    print(\"Gamma: \" + str(gamma) + \" || Categorical accuracy test : \",cat_accuracy_test,\" || f1_score test: \",f1_score_test)\n",
    "    weights_result.append(weights_LSGD1)\n",
    "    accuracies_train.append(cat_accuracy_train)\n",
    "    accuracies_test.append(cat_accuracy_test)\n",
    "    \n",
    "print(accuracies_train)\n",
    "print(accuracies_test)"
   ]
  },
  {
   "cell_type": "code",
   "execution_count": 115,
   "metadata": {},
   "outputs": [
    {
     "data": {
      "image/png": "[encoded data removed]",
      "text/plain": [
       "<Figure size 432x288 with 1 Axes>"
      ]
     },
     "metadata": {
      "needs_background": "light"
     },
     "output_type": "display_data"
    }
   ],
   "source": [
    "plt.plot(gammas[:], accuracies_train[:], label=\"train\")\n",
    "plt.plot(gammas[:], accuracies_test[:], label=\"test\")\n",
    "plt.xscale(\"log\")\n",
    "plt.xlabel(\"Gamma\")\n",
    "plt.ylabel(\"Categorical accuracy\")\n",
    "plt.title(\"Categorical accuracy for Linear Regression with Gradient Descent\")\n",
    "plt.legend()\n",
    "plt.show()"
   ]
  },
  {
   "cell_type": "code",
   "execution_count": 116,
   "metadata": {},
   "outputs": [
    {
     "data": {
      "image/png": "[encoded data removed]",
      "text/plain": [
       "<Figure size 432x288 with 1 Axes>"
      ]
     },
     "metadata": {
      "needs_background": "light"
     },
     "output_type": "display_data"
    }
   ],
   "source": [
    "plt.plot(gammas[:9], accuracies_train[:9], label=\"train\")\n",
    "plt.plot(gammas[:9], accuracies_test[:9], label=\"test\")\n",
    "plt.xscale(\"log\")\n",
    "plt.xlabel(\"Gamma\")\n",
    "plt.ylabel(\"Categorical accuracy\")\n",
    "plt.title(\"Categorical accuracy for Linear Regression with Gradient Descent\")\n",
    "plt.legend()\n",
    "plt.show()"
   ]
  },
  {
   "cell_type": "markdown",
   "metadata": {},
   "source": [
    "### Least Squares GD with non-standardized data"
   ]
  },
  {
   "cell_type": "code",
   "execution_count": 133,
   "metadata": {},
   "outputs": [
    {
     "name": "stdout",
     "output_type": "stream",
     "text": [
      "Gamma: 1e-07 || Categorical accuracy train :  0.65668  || f1_score train:  0.0\n",
      "Gamma: 1e-07 || Categorical accuracy test :  0.6582741170925196  || f1_score test:  0.0\n",
      "Gamma: 1e-06 || Categorical accuracy train :  0.66599  || f1_score train:  0.02449624654286843\n",
      "Gamma: 1e-06 || Categorical accuracy test :  0.6669453313293193  || f1_score test:  0.023779812643900382\n",
      "Gamma: 1e-05 || Categorical accuracy train :  0.34332  || f1_score train:  0.5111514754488878\n",
      "Gamma: 1e-05 || Categorical accuracy test :  0.34172588290748035  || f1_score test:  0.5093825605673947\n",
      "Gamma: 0.0001 || Categorical accuracy train :  0.34332  || f1_score train:  0.5111514754488878\n",
      "Gamma: 0.0001 || Categorical accuracy test :  0.34172588290748035  || f1_score test:  0.5093825605673947\n",
      "Gamma: 0.001 || Categorical accuracy train :  0.34332  || f1_score train:  0.5111514754488878\n",
      "Gamma: 0.001 || Categorical accuracy test :  0.34172588290748035  || f1_score test:  0.5093825605673947\n",
      "Gamma: 0.01 || Categorical accuracy train :  0.65668  || f1_score train:  0.0\n",
      "Gamma: 0.01 || Categorical accuracy test :  0.6582741170925196  || f1_score test:  0.0\n",
      "Gamma: 0.05 || Categorical accuracy train :  0.65668  || f1_score train:  0.0\n",
      "Gamma: 0.05 || Categorical accuracy test :  0.6582741170925196  || f1_score test:  0.0\n",
      "Gamma: 0.1 || Categorical accuracy train :  0.65668  || f1_score train:  0.0\n",
      "Gamma: 0.1 || Categorical accuracy test :  0.6582741170925196  || f1_score test:  0.0\n",
      "Gamma: 0.2 || Categorical accuracy train :  0.65668  || f1_score train:  0.0\n",
      "Gamma: 0.2 || Categorical accuracy test :  0.6582741170925196  || f1_score test:  0.0\n",
      "Gamma: 0.3 || Categorical accuracy train :  0.65668  || f1_score train:  0.0\n",
      "Gamma: 0.3 || Categorical accuracy test :  0.6582741170925196  || f1_score test:  0.0\n",
      "Gamma: 0.31 || Categorical accuracy train :  0.65668  || f1_score train:  0.0\n",
      "Gamma: 0.31 || Categorical accuracy test :  0.6582741170925196  || f1_score test:  0.0\n",
      "Gamma: 0.32 || Categorical accuracy train :  0.65668  || f1_score train:  0.0\n",
      "Gamma: 0.32 || Categorical accuracy test :  0.6582741170925196  || f1_score test:  0.0\n",
      "Gamma: 0.33 || Categorical accuracy train :  0.65668  || f1_score train:  0.0\n",
      "Gamma: 0.33 || Categorical accuracy test :  0.6582741170925196  || f1_score test:  0.0\n",
      "Gamma: 0.34 || Categorical accuracy train :  0.65668  || f1_score train:  0.0\n",
      "Gamma: 0.34 || Categorical accuracy test :  0.6582741170925196  || f1_score test:  0.0\n",
      "Gamma: 0.4 || Categorical accuracy train :  0.65668  || f1_score train:  0.0\n",
      "Gamma: 0.4 || Categorical accuracy test :  0.6582741170925196  || f1_score test:  0.0\n",
      "Gamma: 0.5 || Categorical accuracy train :  0.65668  || f1_score train:  0.0\n",
      "Gamma: 0.5 || Categorical accuracy test :  0.6582741170925196  || f1_score test:  0.0\n",
      "[0.65668, 0.66599, 0.34332, 0.34332, 0.34332, 0.65668, 0.65668, 0.65668, 0.65668, 0.65668, 0.65668, 0.65668, 0.65668, 0.65668, 0.65668, 0.65668]\n",
      "[0.6582741170925196, 0.6669453313293193, 0.34172588290748035, 0.34172588290748035, 0.34172588290748035, 0.6582741170925196, 0.6582741170925196, 0.6582741170925196, 0.6582741170925196, 0.6582741170925196, 0.6582741170925196, 0.6582741170925196, 0.6582741170925196, 0.6582741170925196, 0.6582741170925196, 0.6582741170925196]\n"
     ]
    }
   ],
   "source": [
    "gammas = [0.0000001, 0.000001, 0.00001, 0.0001, 0.001, 0.01, 0.05, 0.1, 0.2, 0.3, 0.31, 0.32, 0.33, 0.34, 0.4, 0.5]\n",
    "weights_result_2 = []\n",
    "accuracies_train_2 = []\n",
    "accuracies_test_2 = []\n",
    "for gamma in gammas:\n",
    "    weights_LSGD1 = least_squares_GD(y_train_ns, x_train_ns, np.zeros(31), 100, gamma)[1]\n",
    "    cat_accuracy_train, f1_score_train = metrics(y_train_ns, predict_labels(weights_LSGD1, x_train_ns))\n",
    "    cat_accuracy_test, f1_score_test = metrics(y_test_ns, predict_labels(weights_LSGD1, x_test_ns))\n",
    "    \n",
    "    print(\"Gamma: \" + str(gamma) + \" || Categorical accuracy train : \",cat_accuracy_train,\" || f1_score train: \",f1_score_train)\n",
    "    print(\"Gamma: \" + str(gamma) + \" || Categorical accuracy test : \",cat_accuracy_test,\" || f1_score test: \",f1_score_test)\n",
    "    weights_result_2.append(weights_LSGD1)\n",
    "    accuracies_train_2.append(cat_accuracy_train)\n",
    "    accuracies_test_2.append(cat_accuracy_test)\n",
    "    \n",
    "print(accuracies_train_2)\n",
    "print(accuracies_test_2)"
   ]
  },
  {
   "cell_type": "code",
   "execution_count": null,
   "metadata": {},
   "outputs": [],
   "source": []
  },
  {
   "cell_type": "code",
   "execution_count": 113,
   "metadata": {},
   "outputs": [
    {
     "data": {
      "image/png": "[encoded data removed]",
      "text/plain": [
       "<Figure size 432x288 with 1 Axes>"
      ]
     },
     "metadata": {
      "needs_background": "light"
     },
     "output_type": "display_data"
    }
   ],
   "source": [
    "plt.plot(gammas[:9], accuracies_train_2[:9], label=\"train\")\n",
    "plt.plot(gammas[:9], accuracies_test_2[:9], label=\"test\")\n",
    "plt.xscale(\"log\")\n",
    "plt.xlabel(\"Gamma\")\n",
    "plt.ylabel(\"Categorical accuracy\")\n",
    "plt.title(\"Categorical accuracy for Linear Regression with Gradient Descent, with non-standardized data\")\n",
    "plt.legend()\n",
    "plt.show()"
   ]
  },
  {
   "cell_type": "markdown",
   "metadata": {},
   "source": [
    "## Linear Regression with Stochastic Gradient Descent"
   ]
  },
  {
   "cell_type": "code",
   "execution_count": 122,
   "metadata": {},
   "outputs": [
    {
     "name": "stdout",
     "output_type": "stream",
     "text": [
      "Gamma: 1e-06 || Categorical accuracy train :  0.667395  || f1_score train:  0.3312195447566918\n",
      "Gamma: 1e-06 || Categorical accuracy test :  0.6672566056865378  || f1_score test:  0.3301006920723557\n",
      "Gamma: 1e-05 || Categorical accuracy train :  0.665605  || f1_score train:  0.2997534642523166\n",
      "Gamma: 1e-05 || Categorical accuracy test :  0.6650865787390721  || f1_score test:  0.29775412727369066\n",
      "Gamma: 0.0001 || Categorical accuracy train :  0.690805  || f1_score train:  0.34997793095482654\n",
      "Gamma: 0.0001 || Categorical accuracy test :  0.6927455287661974  || f1_score test:  0.3486415038919078\n",
      "Gamma: 0.001 || Categorical accuracy train :  0.704125  || f1_score train:  0.30049030854598446\n",
      "Gamma: 0.001 || Categorical accuracy test :  0.7033555375708149  || f1_score test:  0.2986427393363495\n",
      "Gamma: 0.01 || Categorical accuracy train :  0.70771  || f1_score train:  0.27863702479623365\n",
      "Gamma: 0.01 || Categorical accuracy test :  0.7055166709652173  || f1_score test:  0.2740550289727158\n",
      "Gamma: 0.02 || Categorical accuracy train :  0.69628  || f1_score train:  0.2503871018537149\n",
      "Gamma: 0.02 || Categorical accuracy test :  0.69669426632634  || f1_score test:  0.24956410735413165\n",
      "Gamma: 0.03 || Categorical accuracy train :  0.58211  || f1_score train:  0.24642929164511235\n",
      "Gamma: 0.03 || Categorical accuracy test :  0.5844487331133661  || f1_score test:  0.24723112056803923\n",
      "Gamma: 0.05 || Categorical accuracy train :  0.393415  || f1_score train:  0.29876277522828476\n",
      "Gamma: 0.05 || Categorical accuracy test :  0.3931039389546518  || f1_score test:  0.2971869912543066\n",
      "Gamma: 0.1 || Categorical accuracy train :  0.5774  || f1_score train:  0.2518552186492085\n",
      "Gamma: 0.1 || Categorical accuracy test :  0.5770848711768839  || f1_score test:  0.24949597951224828\n",
      "Gamma: 0.2 || Categorical accuracy train :  0.42269  || f1_score train:  0.24941464802293267\n",
      "Gamma: 0.2 || Categorical accuracy test :  0.4249606460276945  || f1_score test:  0.2499591442868149\n",
      "Gamma: 0.3 || Categorical accuracy train :  0.42179  || f1_score train:  0.32930975432499937\n",
      "Gamma: 0.3 || Categorical accuracy test :  0.4223548349801229  || f1_score test:  0.3277289053146635\n",
      "Gamma: 0.31 || Categorical accuracy train :  0.47018  || f1_score train:  0.4349751747937102\n",
      "Gamma: 0.31 || Categorical accuracy test :  0.47156286407982856  || f1_score test:  0.4334020676010812\n",
      "Gamma: 0.32 || Categorical accuracy train :  0.575255  || f1_score train:  0.27371164942536175\n",
      "Gamma: 0.32 || Categorical accuracy test :  0.57873017849361  || f1_score test:  0.27529929671981535\n",
      "Gamma: 0.33 || Categorical accuracy train :  0.39962  || f1_score train:  0.292145577510973\n",
      "Gamma: 0.33 || Categorical accuracy test :  0.39766633167616794  || f1_score test:  0.28974066468932996\n",
      "Gamma: 0.34 || Categorical accuracy train :  0.43186  || f1_score train:  0.32877227433203116\n",
      "Gamma: 0.34 || Categorical accuracy test :  0.4298165260003024  || f1_score test:  0.3254501318003783\n",
      "Gamma: 0.4 || Categorical accuracy train :  0.46457  || f1_score train:  0.27896290304537513\n",
      "Gamma: 0.4 || Categorical accuracy test :  0.46330964683700787  || f1_score test:  0.27799346059896013\n",
      "Gamma: 0.5 || Categorical accuracy train :  0.408925  || f1_score train:  0.28742197066353836\n",
      "Gamma: 0.5 || Categorical accuracy test :  0.41091772574061064  || f1_score test:  0.2892332504127013\n",
      "[0.667395, 0.665605, 0.690805, 0.704125, 0.70771, 0.69628, 0.58211, 0.393415, 0.5774, 0.42269, 0.42179, 0.47018, 0.575255, 0.39962, 0.43186, 0.46457, 0.408925]\n",
      "[0.6672566056865378, 0.6650865787390721, 0.6927455287661974, 0.7033555375708149, 0.7055166709652173, 0.69669426632634, 0.5844487331133661, 0.3931039389546518, 0.5770848711768839, 0.4249606460276945, 0.4223548349801229, 0.47156286407982856, 0.57873017849361, 0.39766633167616794, 0.4298165260003024, 0.46330964683700787, 0.41091772574061064]\n"
     ]
    }
   ],
   "source": [
    "gammas = [0.000001, 0.00001, 0.0001, 0.001, 0.01, 0.02, 0.03, 0.05, 0.1, 0.2, 0.3, 0.31, 0.32, 0.33, 0.34, 0.4, 0.5]\n",
    "weights_result_3 = []\n",
    "accuracies_train_3 = []\n",
    "accuracies_test_3 = []\n",
    "for gamma in gammas:\n",
    "    weights_LSGD1 = least_squares_SGD(y_train, x_train, np.zeros(31), 100, gamma)[1]\n",
    "    cat_accuracy_train, f1_score_train = metrics(y_train, predict_labels(weights_LSGD1, x_train))\n",
    "    cat_accuracy_test, f1_score_test = metrics(y_test, predict_labels(weights_LSGD1, x_test))\n",
    "    \n",
    "    print(\"Gamma: \" + str(gamma) + \" || Categorical accuracy train : \",cat_accuracy_train,\" || f1_score train: \",f1_score_train)\n",
    "    print(\"Gamma: \" + str(gamma) + \" || Categorical accuracy test : \",cat_accuracy_test,\" || f1_score test: \",f1_score_test)\n",
    "    weights_result_3.append(weights_LSGD1)\n",
    "    accuracies_train_3.append(cat_accuracy_train)\n",
    "    accuracies_test_3.append(cat_accuracy_test)\n",
    "    \n",
    "print(accuracies_train_3)\n",
    "print(accuracies_test_3)"
   ]
  },
  {
   "cell_type": "code",
   "execution_count": 123,
   "metadata": {},
   "outputs": [
    {
     "data": {
      "image/png": "[encoded data removed]",
      "text/plain": [
       "<Figure size 432x288 with 1 Axes>"
      ]
     },
     "metadata": {
      "needs_background": "light"
     },
     "output_type": "display_data"
    }
   ],
   "source": [
    "plt.plot(gammas[:], accuracies_train_3[:], label=\"train\")\n",
    "plt.plot(gammas[:], accuracies_test_3[:], label=\"test\")\n",
    "plt.xscale(\"log\")\n",
    "plt.xlabel(\"Gamma\")\n",
    "plt.ylabel(\"Categorical accuracy\")\n",
    "plt.title(\"Categorical accuracy for Linear Regression with Stochastic Gradient Descent\")\n",
    "plt.legend()\n",
    "plt.show()"
   ]
  },
  {
   "cell_type": "markdown",
   "metadata": {},
   "source": [
    "## Least Squares"
   ]
  },
  {
   "cell_type": "code",
   "execution_count": 125,
   "metadata": {},
   "outputs": [
    {
     "name": "stdout",
     "output_type": "stream",
     "text": [
      "Categorical accuracy train :  0.745255  || f1_score train:  0.29218932789111\n",
      "Categorical accuracy test :  0.7438212040092137  || f1_score test:  0.2880090136041475\n"
     ]
    }
   ],
   "source": [
    "weights_LS = least_squares(y_train, x_train)[1]\n",
    "cat_accuracy_train, f1_score_train = metrics(y_train, predict_labels(weights_LS, x_train))\n",
    "cat_accuracy_test, f1_score_test = metrics(y_test, predict_labels(weights_LS, x_test))\n",
    "\n",
    "\n",
    "print(\"Categorical accuracy train : \",cat_accuracy_train,\" || f1_score train: \",f1_score_train)\n",
    "print(\"Categorical accuracy test : \",cat_accuracy_test,\" || f1_score test: \",f1_score_test)"
   ]
  },
  {
   "cell_type": "markdown",
   "metadata": {},
   "source": [
    "## Ridge regression"
   ]
  },
  {
   "cell_type": "code",
   "execution_count": 161,
   "metadata": {},
   "outputs": [
    {
     "name": "stdout",
     "output_type": "stream",
     "text": [
      "Lambda: 1e-06 || Categorical accuracy train :  0.745275  || f1_score train:  0.29221849356593316\n",
      "Lambda: 1e-06 || Categorical accuracy test :  0.7438212040092137  || f1_score test:  0.2880090136041475\n",
      "Lambda: 2.894266124716752e-06 || Categorical accuracy train :  0.745275  || f1_score train:  0.29221849356593316\n",
      "Lambda: 2.894266124716752e-06 || Categorical accuracy test :  0.7438300975622771  || f1_score test:  0.2880220466206855\n",
      "Lambda: 8.376776400682924e-06 || Categorical accuracy train :  0.74529  || f1_score train:  0.29221849356593316\n",
      "Lambda: 8.376776400682924e-06 || Categorical accuracy test :  0.7438389911153405  || f1_score test:  0.2880220466206855\n",
      "Lambda: 2.424462017082331e-05 || Categorical accuracy train :  0.74528  || f1_score train:  0.29221849356593316\n",
      "Lambda: 2.424462017082331e-05 || Categorical accuracy test :  0.7438300975622771  || f1_score test:  0.28803507943878986\n",
      "Lambda: 7.017038286703837e-05 || Categorical accuracy train :  0.745235  || f1_score train:  0.29222578482898776\n",
      "Lambda: 7.017038286703837e-05 || Categorical accuracy test :  0.7438212040092137  || f1_score test:  0.2880220466206855\n",
      "Lambda: 0.00020309176209047368 || Categorical accuracy train :  0.745195  || f1_score train:  0.2921674529812352\n",
      "Lambda: 0.00020309176209047368 || Categorical accuracy test :  0.7437589491377701  || f1_score test:  0.2879568795535694\n",
      "Lambda: 0.0005878016072274912 || Categorical accuracy train :  0.7452  || f1_score train:  0.29218932789111\n",
      "Lambda: 0.0005878016072274912 || Categorical accuracy test :  0.7437767362438968  || f1_score test:  0.2879829469757527\n",
      "Lambda: 0.0017012542798525892 || Categorical accuracy train :  0.74522  || f1_score train:  0.29221849356593316\n",
      "Lambda: 0.0017012542798525892 || Categorical accuracy test :  0.7437856297969602  || f1_score test:  0.2879959803891714\n",
      "Lambda: 0.004923882631706742 || Categorical accuracy train :  0.74522  || f1_score train:  0.29221849356593316\n",
      "Lambda: 0.004923882631706742 || Categorical accuracy test :  0.7437856297969602  || f1_score test:  0.2879959803891714\n",
      "Lambda: 0.014251026703029992 || Categorical accuracy train :  0.74522  || f1_score train:  0.29221849356593316\n",
      "Lambda: 0.014251026703029992 || Categorical accuracy test :  0.7437856297969602  || f1_score test:  0.2879959803891714\n",
      "Lambda: 0.041246263829013564 || Categorical accuracy train :  0.74522  || f1_score train:  0.29221849356593316\n",
      "Lambda: 0.041246263829013564 || Categorical accuracy test :  0.7437945233500236  || f1_score test:  0.2879959803891714\n",
      "Lambda: 0.11937766417144383 || Categorical accuracy train :  0.74522  || f1_score train:  0.29221849356593316\n",
      "Lambda: 0.11937766417144383 || Categorical accuracy test :  0.7437945233500236  || f1_score test:  0.2879959803891714\n",
      "Lambda: 0.34551072945922184 || Categorical accuracy train :  0.74522  || f1_score train:  0.29221849356593316\n",
      "Lambda: 0.34551072945922184 || Categorical accuracy test :  0.7437945233500236  || f1_score test:  0.2879959803891714\n",
      "Lambda: 1.0 || Categorical accuracy train :  0.74522  || f1_score train:  0.29221849356593316\n",
      "Lambda: 1.0 || Categorical accuracy test :  0.7437945233500236  || f1_score test:  0.2879959803891714\n",
      "Lambda: 2.8942661247167516 || Categorical accuracy train :  0.74522  || f1_score train:  0.29221849356593316\n",
      "Lambda: 2.8942661247167516 || Categorical accuracy test :  0.7437945233500236  || f1_score test:  0.2879959803891714\n",
      "Lambda: 8.376776400682925 || Categorical accuracy train :  0.74522  || f1_score train:  0.29221849356593316\n",
      "Lambda: 8.376776400682925 || Categorical accuracy test :  0.7437945233500236  || f1_score test:  0.2879959803891714\n",
      "Lambda: 24.244620170823307 || Categorical accuracy train :  0.74522  || f1_score train:  0.29221849356593316\n",
      "Lambda: 24.244620170823307 || Categorical accuracy test :  0.7437945233500236  || f1_score test:  0.2879959803891714\n",
      "Lambda: 70.17038286703837 || Categorical accuracy train :  0.74522  || f1_score train:  0.29221849356593316\n",
      "Lambda: 70.17038286703837 || Categorical accuracy test :  0.7437945233500236  || f1_score test:  0.2879959803891714\n",
      "Lambda: 203.09176209047388 || Categorical accuracy train :  0.74522  || f1_score train:  0.29221849356593316\n",
      "Lambda: 203.09176209047388 || Categorical accuracy test :  0.7437945233500236  || f1_score test:  0.2879959803891714\n",
      "Lambda: 587.8016072274924 || Categorical accuracy train :  0.74523  || f1_score train:  0.29221849356593316\n",
      "Lambda: 587.8016072274924 || Categorical accuracy test :  0.7437856297969602  || f1_score test:  0.2879959803891714\n",
      "Lambda: 1701.2542798525926 || Categorical accuracy train :  0.74522  || f1_score train:  0.2921966194032081\n",
      "Lambda: 1701.2542798525926 || Categorical accuracy test :  0.7437589491377701  || f1_score test:  0.2879438455447957\n",
      "Lambda: 4923.882631706751 || Categorical accuracy train :  0.74521  || f1_score train:  0.292145577510973\n",
      "Lambda: 4923.882631706751 || Categorical accuracy test :  0.7437322684785799  || f1_score test:  0.28786563732431897\n",
      "Lambda: 14251.026703030022 || Categorical accuracy train :  0.74524  || f1_score train:  0.2920872401837714\n",
      "Lambda: 14251.026703030022 || Categorical accuracy test :  0.7436255458418193  || f1_score test:  0.28765704713317597\n",
      "Lambda: 41246.263829013646 || Categorical accuracy train :  0.74514  || f1_score train:  0.2917079503911989\n",
      "Lambda: 41246.263829013646 || Categorical accuracy test :  0.7434298876744249  || f1_score test:  0.2873179796502772\n",
      "Lambda: 119377.66417144357 || Categorical accuracy train :  0.74436  || f1_score train:  0.29052523612120174\n",
      "Lambda: 119377.66417144357 || Categorical accuracy test :  0.7430830391049528  || f1_score test:  0.2862738523440834\n",
      "Lambda: 345510.7294592218 || Categorical accuracy train :  0.743555  || f1_score train:  0.2888139769674361\n",
      "Lambda: 345510.7294592218 || Categorical accuracy test :  0.7422381515639314  || f1_score test:  0.2841686822367869\n",
      "Lambda: 1000000.0 || Categorical accuracy train :  0.740795  || f1_score train:  0.2858220340435744\n",
      "Lambda: 1000000.0 || Categorical accuracy test :  0.7397746373653739  || f1_score test:  0.2809289383561644\n",
      "Lambda: 2894266.1247167517 || Categorical accuracy train :  0.73548  || f1_score train:  0.2843147767679064\n",
      "Lambda: 2894266.1247167517 || Categorical accuracy test :  0.7341716989354417  || f1_score test:  0.279271558650241\n",
      "Lambda: 8376776.400682924 || Categorical accuracy train :  0.72805  || f1_score train:  0.28971391189461215\n",
      "Lambda: 8376776.400682924 || Categorical accuracy test :  0.7265588175131847  || f1_score test:  0.2855160636140463\n",
      "Lambda: 24244620.170823306 || Categorical accuracy train :  0.71971  || f1_score train:  0.30087292653399317\n",
      "Lambda: 24244620.170823306 || Categorical accuracy test :  0.7181010485499062  || f1_score test:  0.29691617945533305\n",
      "Lambda: 70170382.86703837 || Categorical accuracy train :  0.711005  || f1_score train:  0.3071004439629086\n",
      "Lambda: 70170382.86703837 || Categorical accuracy test :  0.7108172285909944  || f1_score test:  0.30369912198654314\n",
      "Lambda: 203091762.0904739 || Categorical accuracy train :  0.70543  || f1_score train:  0.30752305999830754\n",
      "Lambda: 203091762.0904739 || Categorical accuracy test :  0.7056233936019779  || f1_score test:  0.305245943644352\n",
      "Lambda: 587801607.2274923 || Categorical accuracy train :  0.70265  || f1_score train:  0.30676363266930246\n",
      "Lambda: 587801607.2274923 || Categorical accuracy test :  0.7023594596277158  || f1_score test:  0.304671008986189\n",
      "Lambda: 1701254279.8525927 || Categorical accuracy train :  0.701355  || f1_score train:  0.30610395440031846\n",
      "Lambda: 1701254279.8525927 || Categorical accuracy test :  0.7012833397070464  || f1_score test:  0.304338646680038\n",
      "Lambda: 4923882631.706752 || Categorical accuracy train :  0.701095  || f1_score train:  0.30586003015569146\n",
      "Lambda: 4923882631.706752 || Categorical accuracy test :  0.7009098104783842  || f1_score test:  0.3042491422538928\n",
      "Lambda: 14251026703.029963 || Categorical accuracy train :  0.70088  || f1_score train:  0.30580980173739203\n",
      "Lambda: 14251026703.029963 || Categorical accuracy test :  0.7008386620538771  || f1_score test:  0.3042363551359585\n",
      "Lambda: 41246263829.01365 || Categorical accuracy train :  0.70088  || f1_score train:  0.3058456794829441\n",
      "Lambda: 41246263829.01365 || Categorical accuracy test :  0.7007675136293701  || f1_score test:  0.3042235678251755\n",
      "Lambda: 119377664171.44357 || Categorical accuracy train :  0.70089  || f1_score train:  0.30586003015569146\n",
      "Lambda: 119377664171.44357 || Categorical accuracy test :  0.7007052587579263  || f1_score test:  0.3041852047356911\n",
      "Lambda: 345510729459.22327 || Categorical accuracy train :  0.7009  || f1_score train:  0.3058743805853204\n",
      "Lambda: 345510729459.22327 || Categorical accuracy test :  0.700696365204863  || f1_score test:  0.30417241665347\n",
      "Lambda: 1000000000000.0 || Categorical accuracy train :  0.700885  || f1_score train:  0.3058743805853204\n",
      "Lambda: 1000000000000.0 || Categorical accuracy test :  0.7006874716517996  || f1_score test:  0.30417241665347\n",
      "[0.745275, 0.745275, 0.74529, 0.74528, 0.745235, 0.745195, 0.7452, 0.74522, 0.74522, 0.74522, 0.74522, 0.74522, 0.74522, 0.74522, 0.74522, 0.74522, 0.74522, 0.74522, 0.74522, 0.74523, 0.74522, 0.74521, 0.74524, 0.74514, 0.74436, 0.743555, 0.740795, 0.73548, 0.72805, 0.71971, 0.711005, 0.70543, 0.70265, 0.701355, 0.701095, 0.70088, 0.70088, 0.70089, 0.7009, 0.700885]\n",
      "[0.7438212040092137, 0.7438300975622771, 0.7438389911153405, 0.7438300975622771, 0.7438212040092137, 0.7437589491377701, 0.7437767362438968, 0.7437856297969602, 0.7437856297969602, 0.7437856297969602, 0.7437945233500236, 0.7437945233500236, 0.7437945233500236, 0.7437945233500236, 0.7437945233500236, 0.7437945233500236, 0.7437945233500236, 0.7437945233500236, 0.7437945233500236, 0.7437856297969602, 0.7437589491377701, 0.7437322684785799, 0.7436255458418193, 0.7434298876744249, 0.7430830391049528, 0.7422381515639314, 0.7397746373653739, 0.7341716989354417, 0.7265588175131847, 0.7181010485499062, 0.7108172285909944, 0.7056233936019779, 0.7023594596277158, 0.7012833397070464, 0.7009098104783842, 0.7008386620538771, 0.7007675136293701, 0.7007052587579263, 0.700696365204863, 0.7006874716517996]\n"
     ]
    }
   ],
   "source": [
    "lambdas = [0.00001, 0.0001, 0.0005, 0.001, 0.005, 0.01, 0.05, 0.1, 0.5, 1]\n",
    "lambdas =  np.logspace(-6, 12, 40)\n",
    "weights_result_4 = []\n",
    "accuracies_train_4 = []\n",
    "accuracies_test_4 = []\n",
    "for lambda_ in lambdas:\n",
    "    weights_RR = ridge_regression(y_train, x_train, lambda_)[1]\n",
    "    cat_accuracy_train, f1_score_train = metrics(y_train, predict_labels(weights_RR, x_train))\n",
    "    cat_accuracy_test, f1_score_test = metrics(y_test, predict_labels(weights_RR, x_test))\n",
    "    \n",
    "    print(\"Lambda: \" + str(lambda_) + \" || Categorical accuracy train : \",cat_accuracy_train,\" || f1_score train: \",f1_score_train)\n",
    "    print(\"Lambda: \" + str(lambda_) + \" || Categorical accuracy test : \",cat_accuracy_test,\" || f1_score test: \",f1_score_test)\n",
    "    weights_result_4.append(weights_RR)\n",
    "    accuracies_train_4.append(cat_accuracy_train)\n",
    "    accuracies_test_4.append(cat_accuracy_test)\n",
    "    \n",
    "print(accuracies_train_4)\n",
    "print(accuracies_test_4)"
   ]
  },
  {
   "cell_type": "code",
   "execution_count": 162,
   "metadata": {},
   "outputs": [
    {
     "data": {
      "image/png": "[encoded data removed]",
      "text/plain": [
       "<Figure size 432x288 with 1 Axes>"
      ]
     },
     "metadata": {
      "needs_background": "light"
     },
     "output_type": "display_data"
    }
   ],
   "source": [
    "plt.plot(lambdas[:], accuracies_train_4[:], label=\"train\")\n",
    "plt.plot(lambdas[:], accuracies_test_4[:], label=\"test\")\n",
    "plt.xscale(\"log\")\n",
    "plt.xlabel(\"Lambda\")\n",
    "plt.ylabel(\"Categorical accuracy\")\n",
    "plt.title(\"Categorical accuracy for Ridge Regression\")\n",
    "plt.legend()\n",
    "plt.show()"
   ]
  },
  {
   "cell_type": "code",
   "execution_count": 163,
   "metadata": {},
   "outputs": [
    {
     "name": "stdout",
     "output_type": "stream",
     "text": [
      "Best performance: lambda  8.376776400682924e-06 , train accuracy:  0.74529 , test accuracy:  0.7438389911153405\n"
     ]
    }
   ],
   "source": [
    "print(\"Best performance: lambda \", lambdas[np.argmax(accuracies_test_4)], \", train accuracy: \", accuracies_train_4[np.argmax(accuracies_test_4)], \", test accuracy: \", accuracies_test_4[np.argmax(accuracies_test_4)])"
   ]
  },
  {
   "cell_type": "markdown",
   "metadata": {},
   "source": [
    "## Logistic regression"
   ]
  },
  {
   "cell_type": "code",
   "execution_count": 171,
   "metadata": {},
   "outputs": [
    {
     "name": "stdout",
     "output_type": "stream",
     "text": [
      "The loss for step 0 is 138629.4166448951.\n",
      "The loss for step 1000 is 138626.5698187715.\n",
      "The loss for step 2000 is 138623.75577457578.\n",
      "The loss for step 3000 is 138621.16402937652.\n",
      "The loss for step 4000 is 138618.06076069808.\n",
      "The loss for step 5000 is 138615.1905828241.\n",
      "The loss for step 6000 is 138612.0306967711.\n",
      "The loss for step 7000 is 138609.09684004454.\n",
      "The loss for step 8000 is 138605.99468280113.\n",
      "The loss for step 9000 is 138602.97128586506.\n",
      "Gamma: 1e-07 || Categorical accuracy train :  0.698965  || f1_score train:  0.30476150113369077\n",
      "Gamma: 1e-07 || Categorical accuracy test :  0.6986953157656015  || f1_score test:  0.30304630964149076\n",
      "The loss for step 0 is 138629.38954032148.\n",
      "The loss for step 1000 is 138603.7133370153.\n",
      "The loss for step 2000 is 138573.01321217854.\n",
      "The loss for step 3000 is 138544.8058712829.\n",
      "The loss for step 4000 is 138514.3802728582.\n",
      "The loss for step 5000 is 138483.5559480535.\n",
      "The loss for step 6000 is 138453.44656117546.\n",
      "The loss for step 7000 is 138425.09992080912.\n",
      "The loss for step 8000 is 138398.92603616143.\n",
      "The loss for step 9000 is 138367.1699500417.\n",
      "Gamma: 1e-06 || Categorical accuracy train :  0.700325  || f1_score train:  0.30297064987738964\n",
      "Gamma: 1e-06 || Categorical accuracy test :  0.7004918134844051  || f1_score test:  0.30167504946606855\n",
      "The loss for step 0 is 138630.48379596928.\n",
      "The loss for step 1000 is 138331.9318257737.\n",
      "The loss for step 2000 is 138038.0921184342.\n",
      "The loss for step 3000 is 137763.03227751577.\n",
      "The loss for step 4000 is 137469.7553065651.\n",
      "The loss for step 5000 is 137218.49407241298.\n",
      "The loss for step 6000 is 136921.5968638181.\n",
      "The loss for step 7000 is 136666.81669208885.\n",
      "The loss for step 8000 is 136410.6090542787.\n",
      "The loss for step 9000 is 136158.55308681875.\n",
      "Gamma: 1e-05 || Categorical accuracy train :  0.702265  || f1_score train:  0.31460437444434614\n",
      "Gamma: 1e-05 || Categorical accuracy test :  0.7023327789685258  || f1_score test:  0.31255815349521265\n",
      "The loss for step 0 is 138631.91279140147.\n",
      "The loss for step 1000 is 135860.0360990982.\n",
      "The loss for step 2000 is 133647.36855036017.\n",
      "The loss for step 3000 is 131631.76528110818.\n",
      "The loss for step 4000 is 129865.90698463637.\n",
      "The loss for step 5000 is 128337.16355584809.\n",
      "The loss for step 6000 is 126918.14222371388.\n",
      "The loss for step 7000 is 125569.41486808506.\n",
      "The loss for step 8000 is 124418.41240394629.\n",
      "The loss for step 9000 is 123281.88852154477.\n",
      "Gamma: 0.0001 || Categorical accuracy train :  0.712755  || f1_score train:  0.3070001312074898\n",
      "Gamma: 0.0001 || Categorical accuracy test :  0.7119911775953611  || f1_score test:  0.303327976581185\n",
      "The loss for step 0 is 138541.94572795817.\n",
      "The loss for step 1000 is 121191.84837158833.\n",
      "The loss for step 2000 is 115669.11803695228.\n",
      "The loss for step 3000 is 111987.84924194512.\n",
      "The loss for step 4000 is 110139.02557445092.\n",
      "The loss for step 5000 is 108819.40778095223.\n",
      "The loss for step 6000 is 107743.07462739243.\n",
      "The loss for step 7000 is 107014.82626618682.\n",
      "The loss for step 8000 is 106513.9365671759.\n",
      "The loss for step 9000 is 106062.99797445064.\n",
      "Gamma: 0.001 || Categorical accuracy train :  0.73494  || f1_score train:  0.28222966589367\n",
      "Gamma: 0.001 || Categorical accuracy test :  0.7331578338862159  || f1_score test:  0.2770435408861409\n",
      "The loss for step 0 is 136900.65447829547.\n",
      "The loss for step 1000 is 106085.4098664899.\n",
      "The loss for step 2000 is 104715.05638312547.\n",
      "The loss for step 3000 is 104024.49399880464.\n",
      "The loss for step 4000 is 104047.3912592276.\n",
      "The loss for step 5000 is 103308.0964720037.\n",
      "The loss for step 6000 is 104945.60245264298.\n",
      "The loss for step 7000 is 103642.13059384757.\n",
      "The loss for step 8000 is 103359.81049989688.\n",
      "The loss for step 9000 is 102254.14456791314.\n",
      "Gamma: 0.01 || Categorical accuracy train :  0.7457  || f1_score train:  0.3083247339840644\n",
      "Gamma: 0.01 || Categorical accuracy test :  0.7446127302318549  || f1_score test:  0.3050415671141192\n",
      "The loss for step 0 is 136118.58990321727.\n",
      "The loss for step 1000 is 112998.33411485479.\n",
      "The loss for step 2000 is 119947.14667118073.\n",
      "The loss for step 3000 is 127207.03173968164.\n",
      "The loss for step 4000 is 108298.67840683457.\n",
      "The loss for step 5000 is 116312.55747963619.\n",
      "The loss for step 6000 is 120886.48712703923.\n",
      "The loss for step 7000 is 111490.13744164098.\n",
      "The loss for step 8000 is 116627.30592929764.\n",
      "The loss for step 9000 is 117790.35032428784.\n",
      "Gamma: 0.05 || Categorical accuracy train :  0.72336  || f1_score train:  0.33608572486345506\n",
      "Gamma: 0.05 || Categorical accuracy test :  0.7249579779617755  || f1_score test:  0.3374708904742542\n",
      "The loss for step 0 is 136611.08095039547.\n",
      "The loss for step 1000 is 139979.94631982612.\n",
      "The loss for step 2000 is 147848.66974550282.\n",
      "The loss for step 3000 is 140420.74337933102.\n",
      "The loss for step 4000 is 141761.4414970118.\n",
      "The loss for step 5000 is 131748.0945584927.\n",
      "The loss for step 6000 is 169821.45805081964.\n",
      "The loss for step 7000 is 146883.9531342954.\n",
      "The loss for step 8000 is 152419.93801472842.\n",
      "The loss for step 9000 is 152211.64395941893.\n",
      "Gamma: 0.1 || Categorical accuracy train :  0.70458  || f1_score train:  0.2592196081503338\n",
      "Gamma: 0.1 || Categorical accuracy test :  0.7078378883147606  || f1_score test:  0.26070613712827256\n",
      "The loss for step 0 is 136642.81128386245.\n",
      "The loss for step 1000 is 199088.80928817493.\n",
      "The loss for step 2000 is 216327.96918835997.\n",
      "The loss for step 3000 is 210241.93255651917.\n",
      "The loss for step 4000 is 176991.09632482228.\n",
      "The loss for step 5000 is 184198.7972583135.\n",
      "The loss for step 6000 is 219605.267668681.\n",
      "The loss for step 7000 is 195901.96449801864.\n",
      "The loss for step 8000 is 188642.49556175148.\n",
      "The loss for step 9000 is 174739.75890045724.\n",
      "Gamma: 0.2 || Categorical accuracy train :  0.63109  || f1_score train:  0.2519163367158752\n",
      "Gamma: 0.2 || Categorical accuracy test :  0.6341903753968748  || f1_score test:  0.2529773233998586\n",
      "The loss for step 0 is 135956.14958159963.\n",
      "The loss for step 1000 is 281011.8860120485.\n",
      "The loss for step 2000 is 318350.56685470534.\n",
      "The loss for step 3000 is 408957.63050810527.\n",
      "The loss for step 4000 is 301037.4080740166.\n",
      "The loss for step 5000 is 260611.86398798443.\n",
      "The loss for step 6000 is 270934.5440876544.\n",
      "The loss for step 7000 is 255307.6557076876.\n",
      "The loss for step 8000 is 354219.2562292988.\n",
      "The loss for step 9000 is 257574.5857316681.\n",
      "Gamma: 0.3 || Categorical accuracy train :  0.6851  || f1_score train:  0.31190151633446295\n",
      "Gamma: 0.3 || Categorical accuracy test :  0.6888323654183083  || f1_score test:  0.31413942260838273\n",
      "The loss for step 0 is 169134.33315746428.\n",
      "The loss for step 1000 is 338238.14790261484.\n",
      "The loss for step 2000 is 260219.6938257112.\n",
      "The loss for step 3000 is 256519.95789303642.\n",
      "The loss for step 4000 is 356811.37993768253.\n",
      "The loss for step 5000 is 295862.17922161147.\n",
      "The loss for step 6000 is 445575.89573176845.\n",
      "The loss for step 7000 is 259962.70198613207.\n",
      "The loss for step 8000 is 223359.10589937086.\n",
      "The loss for step 9000 is 342471.7407246452.\n",
      "Gamma: 0.31 || Categorical accuracy train :  0.633325  || f1_score train:  0.3660197466513617\n",
      "Gamma: 0.31 || Categorical accuracy test :  0.630748570361345  || f1_score test:  0.362696488507379\n",
      "The loss for step 0 is 144647.81563788018.\n",
      "The loss for step 1000 is 374568.6740414947.\n",
      "The loss for step 2000 is 306077.27583245.\n",
      "The loss for step 3000 is 272592.0960245587.\n",
      "The loss for step 4000 is 237089.05454660574.\n",
      "The loss for step 5000 is 233875.84548509002.\n",
      "The loss for step 6000 is 321373.3970798886.\n",
      "The loss for step 7000 is 403580.5490437727.\n",
      "The loss for step 8000 is 234437.09929450566.\n",
      "The loss for step 9000 is 266094.2308990428.\n",
      "Gamma: 0.32 || Categorical accuracy train :  0.714115  || f1_score train:  0.2579155960106267\n",
      "Gamma: 0.32 || Categorical accuracy test :  0.7142768207326509  || f1_score test:  0.25524090309566294\n",
      "The loss for step 0 is 203386.36638505987.\n",
      "The loss for step 1000 is 243960.61254129923.\n",
      "The loss for step 2000 is 309872.610784484.\n",
      "The loss for step 3000 is 325360.79181142274.\n",
      "The loss for step 4000 is 394953.1352258459.\n",
      "The loss for step 5000 is 268048.2510467305.\n",
      "The loss for step 6000 is 343600.13460256974.\n",
      "The loss for step 7000 is 320016.2602556938.\n",
      "The loss for step 8000 is 313727.1557974273.\n",
      "The loss for step 9000 is 293302.1587376556.\n",
      "Gamma: 0.33 || Categorical accuracy train :  0.657225  || f1_score train:  0.2517711743290079\n",
      "Gamma: 0.33 || Categorical accuracy test :  0.6581496073496322  || f1_score test:  0.25069425537707596\n",
      "The loss for step 0 is 243865.97192530966.\n",
      "The loss for step 1000 is 312672.2473940616.\n",
      "The loss for step 2000 is 410873.52398808947.\n",
      "The loss for step 3000 is 310032.00172265904.\n",
      "The loss for step 4000 is 316463.2407935954.\n",
      "The loss for step 5000 is 268262.39314087114.\n",
      "The loss for step 6000 is 381512.9625801602.\n",
      "The loss for step 7000 is 288798.2550689242.\n",
      "The loss for step 8000 is 351396.3035831522.\n",
      "The loss for step 9000 is 281239.4716588105.\n",
      "Gamma: 0.34 || Categorical accuracy train :  0.678145  || f1_score train:  0.3643961759582594\n",
      "Gamma: 0.34 || Categorical accuracy test :  0.67751087236862  || f1_score test:  0.36381627292768637\n",
      "The loss for step 0 is 192593.86850277084.\n",
      "The loss for step 1000 is 414434.3608819437.\n",
      "The loss for step 2000 is 327305.8193397531.\n",
      "The loss for step 3000 is 361105.58687314036.\n",
      "The loss for step 4000 is 907389.4317271011.\n",
      "The loss for step 5000 is 282191.66197580344.\n",
      "The loss for step 6000 is 416072.086116879.\n",
      "The loss for step 7000 is 239044.7254625739.\n",
      "The loss for step 8000 is 358268.2219891818.\n",
      "The loss for step 9000 is 343275.0999040627.\n",
      "Gamma: 0.4 || Categorical accuracy train :  0.56922  || f1_score train:  0.329253928341701\n",
      "Gamma: 0.4 || Categorical accuracy test :  0.571650910255156  || f1_score test:  0.33111688311688314\n",
      "The loss for step 0 is 184202.75363835972.\n",
      "The loss for step 1000 is 480767.75822756335.\n",
      "The loss for step 2000 is 419232.3407765132.\n",
      "The loss for step 3000 is 534899.9462148594.\n",
      "The loss for step 4000 is 641507.2649177043.\n",
      "The loss for step 5000 is 383562.9576597223.\n",
      "The loss for step 6000 is 471530.2932671974.\n",
      "The loss for step 7000 is 393799.7980325136.\n",
      "The loss for step 8000 is 513011.79447835515.\n",
      "The loss for step 9000 is 360925.94452432584.\n",
      "Gamma: 0.5 || Categorical accuracy train :  0.651435  || f1_score train:  0.2538165023071449\n",
      "Gamma: 0.5 || Categorical accuracy test :  0.6530269207851228  || f1_score test:  0.25469926270857585\n",
      "[0.698965, 0.700325, 0.702265, 0.712755, 0.73494, 0.7457, 0.72336, 0.70458, 0.63109, 0.6851, 0.633325, 0.714115, 0.657225, 0.678145, 0.56922, 0.651435]\n",
      "[0.6986953157656015, 0.7004918134844051, 0.7023327789685258, 0.7119911775953611, 0.7331578338862159, 0.7446127302318549, 0.7249579779617755, 0.7078378883147606, 0.6341903753968748, 0.6888323654183083, 0.630748570361345, 0.7142768207326509, 0.6581496073496322, 0.67751087236862, 0.571650910255156, 0.6530269207851228]\n"
     ]
    }
   ],
   "source": [
    "y_train_log = np.copy(y_train)\n",
    "y_train_log = np.where(y_train_log==-1, 0, y_train_log)\n",
    "\n",
    "y_test_log = np.copy(y_test)\n",
    "y_test_log = np.where(y_test_log==-1, 0, y_test_log)\n",
    "\n",
    "gammas = [0.0000001, 0.000001, 0.00001, 0.0001, 0.001, 0.01, 0.05, 0.1, 0.2, 0.3, 0.31, 0.32, 0.33, 0.34, 0.4, 0.5]\n",
    "weights_result_5 = []Las\n",
    "accuracies_train_5 = []\n",
    "accuracies_test_5 = []\n",
    "for gamma in gammas:\n",
    "    weights_LR = logistic_regression(y_train_log, x_train, np.zeros(31), 10000, gamma)[1]\n",
    "    cat_accuracy_train, f1_score_train = metrics(y_train_log, predict_labels(weights_LR, x_train))\n",
    "    cat_accuracy_test, f1_score_test = metrics(y_test_log, predict_labels(weights_LR, x_test))\n",
    "    \n",
    "    print(\"Gamma: \" + str(gamma) + \" || Categorical accuracy train : \",cat_accuracy_train,\" || f1_score train: \",f1_score_train)\n",
    "    print(\"Gamma: \" + str(gamma) + \" || Categorical accuracy test : \",cat_accuracy_test,\" || f1_score test: \",f1_score_test)\n",
    "    weights_result_5.append(weights_LR)\n",
    "    accuracies_train_5.append(cat_accuracy_train)\n",
    "    accuracies_test_5.append(cat_accuracy_test)\n",
    "    \n",
    "print(accuracies_train_5)\n",
    "print(accuracies_test_5)"
   ]
  },
  {
   "cell_type": "code",
   "execution_count": 174,
   "metadata": {},
   "outputs": [
    {
     "name": "stdout",
     "output_type": "stream",
     "text": [
      "Best performance: gamma  0.01 , train accuracy:  0.7457 , test accuracy:  0.7446127302318549\n"
     ]
    }
   ],
   "source": [
    "print(\"Best performance: gamma \", gammas[np.argmax(accuracies_test_5)], \", train accuracy: \", accuracies_train_5[np.argmax(accuracies_test_5)], \", test accuracy: \", accuracies_test_5[np.argmax(accuracies_test_5)])"
   ]
  },
  {
   "cell_type": "code",
   "execution_count": 173,
   "metadata": {},
   "outputs": [
    {
     "data": {
      "image/png": "[encoded data removed]",
      "text/plain": [
       "<Figure size 432x288 with 1 Axes>"
      ]
     },
     "metadata": {
      "needs_background": "light"
     },
     "output_type": "display_data"
    }
   ],
   "source": [
    "plt.plot(gammas[:8], accuracies_train_5[:8], label=\"train\")\n",
    "plt.plot(gammas[:8], accuracies_test_5[:8], label=\"test\")\n",
    "plt.xscale(\"log\")\n",
    "plt.xlabel(\"Gamma\")\n",
    "plt.ylabel(\"Categorical accuracy\")\n",
    "plt.title(\"Categorical accuracy for Logistic Regression\")\n",
    "plt.legend()\n",
    "plt.show()"
   ]
  },
  {
   "cell_type": "markdown",
   "metadata": {},
   "source": [
    "## Regularized logistic regression"
   ]
  },
  {
   "cell_type": "code",
   "execution_count": 193,
   "metadata": {},
   "outputs": [
    {
     "ename": "IndexError",
     "evalue": "list index out of range",
     "output_type": "error",
     "traceback": [
      "\u001b[1;31m---------------------------------------------------------------------------\u001b[0m",
      "\u001b[1;31mIndexError\u001b[0m                                Traceback (most recent call last)",
      "\u001b[1;32m<ipython-input-193-3502c9328dbb>\u001b[0m in \u001b[0;36m<module>\u001b[1;34m\u001b[0m\n\u001b[0;32m     12\u001b[0m     \u001b[1;32mfor\u001b[0m \u001b[0mgamma\u001b[0m \u001b[1;32min\u001b[0m \u001b[0mgammas\u001b[0m\u001b[1;33m:\u001b[0m\u001b[1;33m\u001b[0m\u001b[1;33m\u001b[0m\u001b[0m\n\u001b[0;32m     13\u001b[0m         \u001b[1;31m#weights_RLR = reg_logistic_regression(y_train_log, x_train, lambda_, np.zeros(31), 10000, gamma)[1]\u001b[0m\u001b[1;33m\u001b[0m\u001b[1;33m\u001b[0m\u001b[1;33m\u001b[0m\u001b[0m\n\u001b[1;32m---> 14\u001b[1;33m         \u001b[0mweights_RLR\u001b[0m \u001b[1;33m=\u001b[0m \u001b[0mweights_result_6\u001b[0m\u001b[1;33m[\u001b[0m\u001b[0mi\u001b[0m\u001b[1;33m]\u001b[0m\u001b[1;33m[\u001b[0m\u001b[0mj\u001b[0m\u001b[1;33m]\u001b[0m\u001b[1;33m\u001b[0m\u001b[1;33m\u001b[0m\u001b[0m\n\u001b[0m\u001b[0;32m     15\u001b[0m         \u001b[0mcat_accuracy_train\u001b[0m\u001b[1;33m,\u001b[0m \u001b[0mf1_score_train\u001b[0m \u001b[1;33m=\u001b[0m \u001b[0mmetrics\u001b[0m\u001b[1;33m(\u001b[0m\u001b[0my_train_log\u001b[0m\u001b[1;33m,\u001b[0m \u001b[0mpredict_labels\u001b[0m\u001b[1;33m(\u001b[0m\u001b[0mweights_RLR\u001b[0m\u001b[1;33m,\u001b[0m \u001b[0mx_train\u001b[0m\u001b[1;33m)\u001b[0m\u001b[1;33m)\u001b[0m\u001b[1;33m\u001b[0m\u001b[1;33m\u001b[0m\u001b[0m\n\u001b[0;32m     16\u001b[0m         \u001b[0mcat_accuracy_test\u001b[0m\u001b[1;33m,\u001b[0m \u001b[0mf1_score_test\u001b[0m \u001b[1;33m=\u001b[0m \u001b[0mmetrics\u001b[0m\u001b[1;33m(\u001b[0m\u001b[0my_test_log\u001b[0m\u001b[1;33m,\u001b[0m \u001b[0mpredict_labels\u001b[0m\u001b[1;33m(\u001b[0m\u001b[0mweights_RLR\u001b[0m\u001b[1;33m,\u001b[0m \u001b[0mx_test\u001b[0m\u001b[1;33m)\u001b[0m\u001b[1;33m)\u001b[0m\u001b[1;33m\u001b[0m\u001b[1;33m\u001b[0m\u001b[0m\n",
      "\u001b[1;31mIndexError\u001b[0m: list index out of range"
     ]
    }
   ],
   "source": [
    "gammas = [0.0001, 0.001, 0.01, 0.05, 0.1, 0.2]\n",
    "lambdas = lambdas =  np.logspace(-4, 4, 5)\n",
    "weights_result_6 = []\n",
    "accuracies_train_6 = []\n",
    "accuracies_test_6 = []\n",
    "for lambda_ in lambdas:\n",
    "    accuracy_train = []\n",
    "    accuracy_test = []\n",
    "    weights = []\n",
    "    for gamma in gammas:\n",
    "        weights_RLR = reg_logistic_regression(y_train_log, x_train, lambda_, np.zeros(31), 10000, gamma)[1]\n",
    "        cat_accuracy_train, f1_score_train = metrics(y_train_log, predict_labels(weights_RLR, x_train))\n",
    "        cat_accuracy_test, f1_score_test = metrics(y_test_log, predict_labels(weights_RLR, x_test))\n",
    "\n",
    "        print(\"Lambda: \" + str(lambda_) + \" Gamma: \" + str(gamma) + \" || Categorical accuracy train : \",cat_accuracy_train,\" || f1_score train: \",f1_score_train)\n",
    "        print(\"Lambda: \" + str(lambda_) + \" Gamma: \" + str(gamma) + \" || Categorical accuracy test : \",cat_accuracy_test,\" || f1_score test: \",f1_score_test)\n",
    "        weights.append(weights_RLR)\n",
    "        accuracy_train.append(cat_accuracy_train)\n",
    "        accuracy_test.append(cat_accuracy_test)\n",
    "    weights_result_6.append(weights)\n",
    "    accuracies_train_6.append(accuracy_train)\n",
    "    accuracies_test_6.append(accuracy_test)\n",
    "\n",
    "print(accuracies_train_6)\n",
    "print(accuracies_test_6)"
   ]
  },
  {
   "cell_type": "code",
   "execution_count": 191,
   "metadata": {},
   "outputs": [
    {
     "name": "stdout",
     "output_type": "stream",
     "text": [
      "0\n"
     ]
    },
    {
     "ename": "TypeError",
     "evalue": "list indices must be integers or slices, not tuple",
     "output_type": "error",
     "traceback": [
      "\u001b[1;31m---------------------------------------------------------------------------\u001b[0m",
      "\u001b[1;31mTypeError\u001b[0m                                 Traceback (most recent call last)",
      "\u001b[1;32m<ipython-input-191-a8c5b39db5cf>\u001b[0m in \u001b[0;36m<module>\u001b[1;34m\u001b[0m\n\u001b[0;32m      1\u001b[0m \u001b[0mbest_index\u001b[0m \u001b[1;33m=\u001b[0m \u001b[0mnp\u001b[0m\u001b[1;33m.\u001b[0m\u001b[0munravel_index\u001b[0m\u001b[1;33m(\u001b[0m\u001b[0mnp\u001b[0m\u001b[1;33m.\u001b[0m\u001b[0margmax\u001b[0m\u001b[1;33m(\u001b[0m\u001b[0mnp\u001b[0m\u001b[1;33m.\u001b[0m\u001b[0mmatrix\u001b[0m\u001b[1;33m(\u001b[0m\u001b[0maccuracies_test_6\u001b[0m\u001b[1;33m)\u001b[0m\u001b[1;33m,\u001b[0m \u001b[0maxis\u001b[0m\u001b[1;33m=\u001b[0m\u001b[1;32mNone\u001b[0m\u001b[1;33m)\u001b[0m\u001b[1;33m,\u001b[0m \u001b[0mnp\u001b[0m\u001b[1;33m.\u001b[0m\u001b[0mmatrix\u001b[0m\u001b[1;33m(\u001b[0m\u001b[0maccuracies_test_6\u001b[0m\u001b[1;33m)\u001b[0m\u001b[1;33m.\u001b[0m\u001b[0mshape\u001b[0m\u001b[1;33m)\u001b[0m\u001b[1;33m\u001b[0m\u001b[1;33m\u001b[0m\u001b[0m\n\u001b[0;32m      2\u001b[0m \u001b[0mprint\u001b[0m\u001b[1;33m(\u001b[0m\u001b[0mnp\u001b[0m\u001b[1;33m.\u001b[0m\u001b[0margmax\u001b[0m\u001b[1;33m(\u001b[0m\u001b[0maccuracies_test_6\u001b[0m\u001b[1;33m)\u001b[0m\u001b[1;33m)\u001b[0m\u001b[1;33m\u001b[0m\u001b[1;33m\u001b[0m\u001b[0m\n\u001b[1;32m----> 3\u001b[1;33m \u001b[0mprint\u001b[0m\u001b[1;33m(\u001b[0m\u001b[1;34m\"Best performance: lambda \"\u001b[0m\u001b[1;33m,\u001b[0m \u001b[0mlambdas\u001b[0m\u001b[1;33m[\u001b[0m\u001b[0mbest_index\u001b[0m\u001b[1;33m[\u001b[0m\u001b[1;36m0\u001b[0m\u001b[1;33m]\u001b[0m\u001b[1;33m]\u001b[0m\u001b[1;33m,\u001b[0m \u001b[1;34m\", gamma: \"\u001b[0m\u001b[1;33m,\u001b[0m \u001b[0mgammas\u001b[0m\u001b[1;33m[\u001b[0m\u001b[0mbest_index\u001b[0m\u001b[1;33m[\u001b[0m\u001b[1;36m1\u001b[0m\u001b[1;33m]\u001b[0m\u001b[1;33m]\u001b[0m\u001b[1;33m,\u001b[0m \u001b[1;34m\", train accuracy: \"\u001b[0m\u001b[1;33m,\u001b[0m \u001b[0maccuracies_train_6\u001b[0m\u001b[1;33m[\u001b[0m\u001b[0mbest_index\u001b[0m\u001b[1;33m]\u001b[0m\u001b[1;33m,\u001b[0m \u001b[1;34m\", test accuracy: \"\u001b[0m\u001b[1;33m,\u001b[0m \u001b[0maccuracies_test_6\u001b[0m\u001b[1;33m[\u001b[0m\u001b[0mbest_index\u001b[0m\u001b[1;33m]\u001b[0m\u001b[1;33m)\u001b[0m\u001b[1;33m\u001b[0m\u001b[1;33m\u001b[0m\u001b[0m\n\u001b[0m",
      "\u001b[1;31mTypeError\u001b[0m: list indices must be integers or slices, not tuple"
     ]
    }
   ],
   "source": [
    "best_index = np.unravel_index(np.argmax(np.matrix(accuracies_test_6), axis=None), np.matrix(accuracies_test_6).shape)\n",
    "print(np.argmax(accuracies_test_6))\n",
    "print(\"Best performance: lambda \", lambdas[best_index[0]], \", gamma: \", gammas[best_index[1]], \", train accuracy: \", accuracies_train_6[best_index], \", test accuracy: \", accuracies_test_6[best_index])"
   ]
  },
  {
   "cell_type": "code",
   "execution_count": 194,
   "metadata": {},
   "outputs": [
    {
     "data": {
      "text/plain": [
       "[]"
      ]
     },
     "execution_count": 194,
     "metadata": {},
     "output_type": "execute_result"
    }
   ],
   "source": [
    "weights_result_6"
   ]
  }
 ],
 "metadata": {
  "kernelspec": {
   "display_name": "Python 3",
   "language": "python",
   "name": "python3"
  },
  "language_info": {
   "codemirror_mode": {
    "name": "ipython",
    "version": 3
   },
   "file_extension": ".py",
   "mimetype": "text/x-python",
   "name": "python",
   "nbconvert_exporter": "python",
   "pygments_lexer": "ipython3",
   "version": "3.7.3"
  }
 },
 "nbformat": 4,
 "nbformat_minor": 4
}
