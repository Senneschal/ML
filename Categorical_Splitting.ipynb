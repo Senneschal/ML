{
 "cells": [
  {
   "cell_type": "code",
   "execution_count": 1,
   "metadata": {},
   "outputs": [],
   "source": [
    "# Useful starting lines\n",
    "%matplotlib inline\n",
    "import numpy as np\n",
    "import matplotlib.pyplot as plt\n",
    "import datetime\n",
    "%load_ext autoreload\n",
    "%autoreload 2"
   ]
  },
  {
   "cell_type": "code",
   "execution_count": 2,
   "metadata": {},
   "outputs": [],
   "source": [
    "%run proj1_helpers.py\n",
    "DATA_TRAIN_PATH = 'train.csv' # TODO: download train data and supply path here \n",
    "y, tX, ids = load_csv_data(DATA_TRAIN_PATH)"
   ]
  },
  {
   "cell_type": "code",
   "execution_count": 3,
   "metadata": {},
   "outputs": [
    {
     "data": {
      "image/png": "[encoded data removed]",
      "text/plain": [
       "<Figure size 432x288 with 1 Axes>"
      ]
     },
     "metadata": {
      "needs_background": "light"
     },
     "output_type": "display_data"
    }
   ],
   "source": [
    "# categorical column\n",
    "\n",
    "plt.plot(np.sort(tX[:,22]))\n",
    "tx = tX"
   ]
  },
  {
   "cell_type": "code",
   "execution_count": 4,
   "metadata": {},
   "outputs": [],
   "source": [
    "# split data into 4 different catagories\n",
    "\n",
    "Indices0 = tx[:,22]==0\n",
    "x0 = tx[np.where(tx[:,22]==0)]\n",
    "\n",
    "Indices1 = tx[:,22]==1\n",
    "x1 = tx[np.where(tx[:,22]==1)]\n",
    "\n",
    "Indices2 = tx[:,22]==2\n",
    "x2 = tx[np.where(tx[:,22]==2)]\n",
    "\n",
    "Indices3 = tx[:,22]==3\n",
    "x3 = tx[np.where(tx[:,22]==3)]"
   ]
  },
  {
   "cell_type": "code",
   "execution_count": 5,
   "metadata": {},
   "outputs": [
    {
     "name": "stderr",
     "output_type": "stream",
     "text": [
      "D:\\programs\\lib\\site-packages\\numpy\\lib\\nanfunctions.py:959: RuntimeWarning: All-NaN slice encountered\n",
      "  result = np.apply_along_axis(_nanmedian1d, axis, a, overwrite_input)\n"
     ]
    }
   ],
   "source": [
    "# set the -999 to the median of the column\n",
    "\n",
    "x = x0\n",
    "x = np.where(x==-999, np.nan, x)\n",
    "col_median = np.nanmedian(x, axis=0)\n",
    "inds_nan = np.where(np.isnan(x))\n",
    "x[inds_nan] = np.take(col_median, inds_nan[1])\n",
    "x0 = x\n",
    "\n",
    "x = x1\n",
    "x = np.where(x==-999, np.nan, x)\n",
    "col_median = np.nanmedian(x, axis=0)\n",
    "inds_nan = np.where(np.isnan(x))\n",
    "x[inds_nan] = np.take(col_median, inds_nan[1])\n",
    "x1 = x\n",
    "\n",
    "x = x2\n",
    "x = np.where(x==-999, np.nan, x)\n",
    "col_median = np.nanmedian(x, axis=0)\n",
    "inds_nan = np.where(np.isnan(x))\n",
    "x[inds_nan] = np.take(col_median, inds_nan[1])\n",
    "x2 = x\n",
    "\n",
    "x = x3\n",
    "x = np.where(x==-999, np.nan, x)\n",
    "col_median = np.nanmedian(x, axis=0)\n",
    "inds_nan = np.where(np.isnan(x))\n",
    "x[inds_nan] = np.take(col_median, inds_nan[1])\n",
    "x3 = x"
   ]
  },
  {
   "cell_type": "code",
   "execution_count": 6,
   "metadata": {},
   "outputs": [],
   "source": [
    "# remove the nan collumns\n",
    "\n",
    "x0 = x0[:,~np.all(np.isnan(x0), axis=0)]\n",
    "x1 = x1[:,~np.all(np.isnan(x1), axis=0)]\n",
    "x2 = x2[:,~np.all(np.isnan(x2), axis=0)]\n",
    "x3 = x3[:,~np.all(np.isnan(x3), axis=0)]"
   ]
  },
  {
   "cell_type": "code",
   "execution_count": 7,
   "metadata": {},
   "outputs": [
    {
     "name": "stdout",
     "output_type": "stream",
     "text": [
      "(99913, 20)\n",
      "(77544, 23)\n",
      "(50379, 30)\n",
      "(22164, 30)\n"
     ]
    }
   ],
   "source": [
    "print(x0.shape)\n",
    "print(x1.shape)\n",
    "print(x2.shape)\n",
    "print(x3.shape)"
   ]
  },
  {
   "cell_type": "code",
   "execution_count": 8,
   "metadata": {},
   "outputs": [],
   "source": [
    "# normalize the datasets\n",
    "\n",
    "x = x0\n",
    "minmax = dataset_minmax(x)\n",
    "x_normalized = np.copy(x)\n",
    "normalize_dataset(x_normalized, minmax)\n",
    "x0 = x_normalized\n",
    "\n",
    "x = x1\n",
    "minmax = dataset_minmax(x)\n",
    "x_normalized = np.copy(x)\n",
    "normalize_dataset(x_normalized, minmax)\n",
    "x1 = x_normalized\n",
    "\n",
    "x = x2\n",
    "minmax = dataset_minmax(x)\n",
    "x_normalized = np.copy(x)\n",
    "normalize_dataset(x_normalized, minmax)\n",
    "x2 = x_normalized\n",
    "\n",
    "x = x3\n",
    "minmax = dataset_minmax(x)\n",
    "x_normalized = np.copy(x)\n",
    "normalize_dataset(x_normalized, minmax)\n",
    "x3 = x_normalized"
   ]
  },
  {
   "cell_type": "code",
   "execution_count": 9,
   "metadata": {},
   "outputs": [],
   "source": [
    "# split the labels\n",
    "y0 = y[Indices0==1]\n",
    "y1 = y[Indices1==1]\n",
    "y2 = y[Indices2==1]\n",
    "y3 = y[Indices3==1]"
   ]
  },
  {
   "cell_type": "code",
   "execution_count": 10,
   "metadata": {},
   "outputs": [],
   "source": [
    "x0 = x0[:,:-2]"
   ]
  },
  {
   "cell_type": "code",
   "execution_count": 11,
   "metadata": {},
   "outputs": [],
   "source": [
    "def least_square(y, tx):\n",
    "\n",
    "    Gram = np.dot(np.transpose(tx), tx)\n",
    "\n",
    "    ws = np.dot(np.linalg.inv(Gram), np.dot(np.transpose(tx), y))\n",
    "\n",
    "    loss = compute_loss(y, tx, ws)\n",
    "\n",
    "    return loss, ws"
   ]
  },
  {
   "cell_type": "code",
   "execution_count": 14,
   "metadata": {},
   "outputs": [
    {
     "name": "stdout",
     "output_type": "stream",
     "text": [
      "Categorical accuracy train :  0.816940738442445  || f1_score train:  0.20832063122029948\n"
     ]
    }
   ],
   "source": [
    "weights_LS = least_square(y0, x0)[1]\n",
    "cat_accuracy_train, f1_score_train = metrics(weights_LS,y0,x0)\n",
    "print(\"Categorical accuracy train : \",cat_accuracy_train,\" || f1_score train: \",f1_score_train)\n",
    "\n",
    "y_pred0 = predict_labels(weights_LS, x0)"
   ]
  },
  {
   "cell_type": "code",
   "execution_count": 15,
   "metadata": {},
   "outputs": [
    {
     "name": "stdout",
     "output_type": "stream",
     "text": [
      "Categorical accuracy train :  0.710886722376973  || f1_score train:  0.28063990421392226\n"
     ]
    }
   ],
   "source": [
    "weights_LS = least_square(y1, x1)[1]\n",
    "cat_accuracy_train, f1_score_train = metrics(weights_LS,y1,x1)\n",
    "print(\"Categorical accuracy train : \",cat_accuracy_train,\" || f1_score train: \",f1_score_train)\n",
    "\n",
    "y_pred1 = predict_labels(weights_LS, x1)"
   ]
  },
  {
   "cell_type": "code",
   "execution_count": 16,
   "metadata": {},
   "outputs": [
    {
     "name": "stdout",
     "output_type": "stream",
     "text": [
      "Categorical accuracy train :  0.7343337501736835  || f1_score train:  0.5466687821835019\n"
     ]
    }
   ],
   "source": [
    "weights_LS = least_square(y2, x2)[1]\n",
    "cat_accuracy_train, f1_score_train = metrics(weights_LS,y2,x2)\n",
    "print(\"Categorical accuracy train : \",cat_accuracy_train,\" || f1_score train: \",f1_score_train)\n",
    "\n",
    "y_pred2 = predict_labels(weights_LS, x2)"
   ]
  },
  {
   "cell_type": "code",
   "execution_count": 17,
   "metadata": {},
   "outputs": [
    {
     "name": "stdout",
     "output_type": "stream",
     "text": [
      "Categorical accuracy train :  0.723154665222884  || f1_score train:  0.12121725862507417\n"
     ]
    }
   ],
   "source": [
    "weights_LS = least_square(y3, x3)[1]\n",
    "cat_accuracy_train, f1_score_train = metrics(weights_LS,y3,x3)\n",
    "print(\"Categorical accuracy train : \",cat_accuracy_train,\" || f1_score train: \",f1_score_train)\n",
    "\n",
    "y_pred3 = predict_labels(weights_LS, x3)"
   ]
  },
  {
   "cell_type": "code",
   "execution_count": null,
   "metadata": {},
   "outputs": [],
   "source": []
  },
  {
   "cell_type": "code",
   "execution_count": 37,
   "metadata": {},
   "outputs": [],
   "source": [
    "#TO DO: Add y_pred0,1,2,3 up into one array with the correct indices\n",
    "# apply this to the test data to make a submission\n",
    "# use better algorithm than simple Least Squares"
   ]
  },
  {
   "cell_type": "code",
   "execution_count": null,
   "metadata": {},
   "outputs": [],
   "source": []
  }
 ],
 "metadata": {
  "kernelspec": {
   "display_name": "Python 3",
   "language": "python",
   "name": "python3"
  },
  "language_info": {
   "codemirror_mode": {
    "name": "ipython",
    "version": 3
   },
   "file_extension": ".py",
   "mimetype": "text/x-python",
   "name": "python",
   "nbconvert_exporter": "python",
   "pygments_lexer": "ipython3",
   "version": "3.7.3"
  }
 },
 "nbformat": 4,
 "nbformat_minor": 2
}
