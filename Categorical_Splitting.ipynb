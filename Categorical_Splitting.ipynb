{
 "cells": [
  {
   "cell_type": "code",
   "execution_count": 1,
   "metadata": {},
   "outputs": [],
   "source": [
    "# Useful starting lines\n",
    "%matplotlib inline\n",
    "import numpy as np\n",
    "import matplotlib.pyplot as plt\n",
    "import datetime\n",
    "import copy\n",
    "%load_ext autoreload\n",
    "%autoreload 2"
   ]
  },
  {
   "cell_type": "code",
   "execution_count": 99,
   "metadata": {},
   "outputs": [
    {
     "data": {
      "text/plain": [
       "<Figure size 432x288 with 0 Axes>"
      ]
     },
     "metadata": {},
     "output_type": "display_data"
    }
   ],
   "source": [
    "%run proj1_helpers.py\n",
    "%run implementations.py"
   ]
  },
  {
   "cell_type": "code",
   "execution_count": 3,
   "metadata": {},
   "outputs": [],
   "source": [
    "DATA_TRAIN_PATH = 'train.csv' # TODO: download train data and supply path here \n",
    "y, tX, ids = load_csv_data(DATA_TRAIN_PATH)"
   ]
  },
  {
   "cell_type": "markdown",
   "metadata": {},
   "source": [
    "## Spliting the data"
   ]
  },
  {
   "cell_type": "code",
   "execution_count": 4,
   "metadata": {},
   "outputs": [],
   "source": [
    "ratio_train_test = 0.9\n",
    "x_train, y_train, x_test, y_test = split_data(tX, y, ratio_train_test, seed=1)"
   ]
  },
  {
   "cell_type": "markdown",
   "metadata": {},
   "source": [
    "## Cleaning the data\n",
    "We see that the column 22 can be used to make categories, since the values of some other columns seems to be proportional to the value of this column."
   ]
  },
  {
   "cell_type": "code",
   "execution_count": 5,
   "metadata": {
    "scrolled": false
   },
   "outputs": [
    {
     "data": {
      "text/plain": [
       "[<matplotlib.lines.Line2D at 0x1315ccf3390>]"
      ]
     },
     "execution_count": 5,
     "metadata": {},
     "output_type": "execute_result"
    },
    {
     "data": {
      "image/png": "[encoded data removed]",
      "text/plain": [
       "<Figure size 432x288 with 1 Axes>"
      ]
     },
     "metadata": {
      "needs_background": "light"
     },
     "output_type": "display_data"
    }
   ],
   "source": [
    "# categorical column\n",
    "plt.plot(np.sort(y_train))"
   ]
  },
  {
   "cell_type": "code",
   "execution_count": 58,
   "metadata": {},
   "outputs": [],
   "source": [
    "# preprocessing training dataset\n",
    "categorical_datasets = preprocessing(copy.deepcopy(y_train),copy.deepcopy(x_train))\n",
    "y0, x0 = categorical_datasets[0]\n",
    "y1, x1 = categorical_datasets[1]\n",
    "y2, x2 = categorical_datasets[2]\n",
    "columns_to_keep = categorical_datasets[3]\n",
    "\n",
    "# clean high correlation areas\n",
    "#x0\n",
    "x0 = np.delete(x0, 6, 1)\n",
    "x0 = np.delete(x0, 6, 1)\n",
    "#x1\n",
    "x1 = np.delete(x1, 4, 1)\n",
    "x1 = np.delete(x1, 18, 1)\n",
    "x1 = np.delete(x1, 6, 1)\n",
    "x1 = np.delete(x1, 3, 1)\n",
    "#x2\n",
    "x2 = np.delete(x2, 10, 1)\n",
    "x2 = np.delete(x2, 21, 1)\n",
    "x2 = np.delete(x2, 4, 1)\n",
    "x2 = np.delete(x2, 6, 1)\n",
    "x2 = np.delete(x2, 3, 1)\n",
    "x2 = np.delete(x2, 4, 1)\n",
    "x2 = np.delete(x2, 18, 1)\n",
    "\n",
    "# preprocessing\n",
    "categorical_datasets_test = preprocessing(_,copy.deepcopy(x_test), train = False, columns_to_keep = columns_to_keep)\n",
    "x0_test = categorical_datasets_test[0]\n",
    "x1_test = categorical_datasets_test[1]\n",
    "x2_test = categorical_datasets_test[2]\n",
    "\n",
    "rows_to_keep0 = categorical_datasets_test[3]\n",
    "rows_to_keep1 = categorical_datasets_test[4]\n",
    "rows_to_keep2 = categorical_datasets_test[5]\n",
    "\n",
    "\n",
    "y0_test = y_test[np.where(rows_to_keep0)]\n",
    "y1_test = y_test[np.where(rows_to_keep1)]\n",
    "y2_test = y_test[np.where(rows_to_keep2)]\n",
    "\n",
    "# clean high correlation areas\n",
    "#x0\n",
    "x0_test = np.delete(x0_test, 6, 1)\n",
    "x0_test = np.delete(x0_test, 6, 1)\n",
    "#x1\n",
    "x1_test = np.delete(x1_test, 4, 1)\n",
    "x1_test = np.delete(x1_test, 18, 1)\n",
    "x1_test = np.delete(x1_test, 6, 1)\n",
    "x1_test = np.delete(x1_test, 3, 1)\n",
    "#x2\n",
    "x2_test = np.delete(x2_test, 10, 1)\n",
    "x2_test = np.delete(x2_test, 21, 1)\n",
    "x2_test = np.delete(x2_test, 4, 1)\n",
    "x2_test = np.delete(x2_test, 6, 1)\n",
    "x2_test = np.delete(x2_test, 3, 1)\n",
    "x2_test = np.delete(x2_test, 4, 1)\n",
    "x2_test = np.delete(x2_test, 18, 1)\n"
   ]
  },
  {
   "cell_type": "code",
   "execution_count": 59,
   "metadata": {},
   "outputs": [],
   "source": [
    "import pandas as pd\n",
    "x0_df=pd.DataFrame(data=x0[0:,0:], index=[i for i in range(x0.shape[0])], columns=['f'+str(i) for i in range(x0.shape[1])])\n",
    "x1_df=pd.DataFrame(data=x1[0:,0:], index=[i for i in range(x1.shape[0])], columns=['f'+str(i) for i in range(x1.shape[1])])\n",
    "x2_df=pd.DataFrame(data=x2[0:,0:], index=[i for i in range(x2.shape[0])], columns=['f'+str(i) for i in range(x2.shape[1])])"
   ]
  },
  {
   "cell_type": "code",
   "execution_count": 60,
   "metadata": {},
   "outputs": [
    {
     "data": {
      "text/plain": [
       "<matplotlib.axes._subplots.AxesSubplot at 0x1313fdd5438>"
      ]
     },
     "execution_count": 60,
     "metadata": {},
     "output_type": "execute_result"
    },
    {
     "data": {
      "image/png": "[encoded data removed]",
      "text/plain": [
       "<Figure size 432x288 with 2 Axes>"
      ]
     },
     "metadata": {
      "needs_background": "light"
     },
     "output_type": "display_data"
    }
   ],
   "source": [
    "import seaborn as sns\n",
    "# calculate the correlation matrix\n",
    "corr = x2_df.corr()\n",
    "\n",
    "# plot the heatmap\n",
    "sns.heatmap(corr, \n",
    "        xticklabels=corr.columns,\n",
    "        yticklabels=corr.columns)"
   ]
  },
  {
   "cell_type": "code",
   "execution_count": 61,
   "metadata": {},
   "outputs": [
    {
     "data": {
      "text/plain": [
       "[<matplotlib.lines.Line2D at 0x1313c71ef28>]"
      ]
     },
     "execution_count": 61,
     "metadata": {},
     "output_type": "execute_result"
    },
    {
     "data": {
      "image/png": "[encoded data removed]",
      "text/plain": [
       "<Figure size 432x288 with 1 Axes>"
      ]
     },
     "metadata": {
      "needs_background": "light"
     },
     "output_type": "display_data"
    }
   ],
   "source": [
    "plt.plot(np.sort(y0))"
   ]
  },
  {
   "cell_type": "code",
   "execution_count": 62,
   "metadata": {},
   "outputs": [
    {
     "data": {
      "text/plain": [
       "[<matplotlib.lines.Line2D at 0x1313ed11ba8>]"
      ]
     },
     "execution_count": 62,
     "metadata": {},
     "output_type": "execute_result"
    },
    {
     "data": {
      "image/png": "[encoded data removed]",
      "text/plain": [
       "<Figure size 432x288 with 1 Axes>"
      ]
     },
     "metadata": {
      "needs_background": "light"
     },
     "output_type": "display_data"
    }
   ],
   "source": [
    "plt.plot(np.sort(y1))"
   ]
  },
  {
   "cell_type": "code",
   "execution_count": 63,
   "metadata": {},
   "outputs": [
    {
     "data": {
      "text/plain": [
       "[<matplotlib.lines.Line2D at 0x1313fe81828>]"
      ]
     },
     "execution_count": 63,
     "metadata": {},
     "output_type": "execute_result"
    },
    {
     "data": {
      "image/png": "[encoded data removed]",
      "text/plain": [
       "<Figure size 432x288 with 1 Axes>"
      ]
     },
     "metadata": {
      "needs_background": "light"
     },
     "output_type": "display_data"
    }
   ],
   "source": [
    "plt.plot(np.sort(y2))"
   ]
  },
  {
   "cell_type": "code",
   "execution_count": 64,
   "metadata": {},
   "outputs": [
    {
     "name": "stdout",
     "output_type": "stream",
     "text": [
      "(89647, 17)\n",
      "(69837, 19)\n",
      "(65516, 24)\n"
     ]
    }
   ],
   "source": [
    "print(x0.shape)\n",
    "print(x1.shape)\n",
    "print(x2.shape)"
   ]
  },
  {
   "cell_type": "markdown",
   "metadata": {},
   "source": [
    "## Grid search on poly degrees and lambdas"
   ]
  },
  {
   "cell_type": "code",
   "execution_count": 65,
   "metadata": {},
   "outputs": [
    {
     "data": {
      "text/plain": [
       "<Figure size 432x288 with 0 Axes>"
      ]
     },
     "metadata": {},
     "output_type": "display_data"
    }
   ],
   "source": [
    "%run implementations.py"
   ]
  },
  {
   "cell_type": "code",
   "execution_count": 78,
   "metadata": {},
   "outputs": [],
   "source": [
    "## Set hyperparameters\n",
    "lambdas0 = np.logspace(-4, 3, 40)\n",
    "lambdas1 = np.logspace(-8, 2, 40)\n",
    "lambdas2 = np.logspace(-8, 2, 40)\n",
    "\n",
    "degrees0 = [i for i in range(2,7)]\n",
    "degrees1 = [i for i in range(15)]\n",
    "degrees2 = [i for i in range(8,15)]"
   ]
  },
  {
   "cell_type": "code",
   "execution_count": 69,
   "metadata": {
    "scrolled": true
   },
   "outputs": [],
   "source": [
    "def grid_search_ridge_regression(y_train,x_train,y_test,x_test,lambdas,degrees):\n",
    "    # define lists to store the loss of training data and test data\n",
    "    data = []\n",
    "    for degree in degrees:\n",
    "        data_nested = []        \n",
    "        phi_x_train = build_poly(x_train, degree)\n",
    "        phi_x_test = build_poly(x_test, degree)\n",
    "        for lambda_ in lambdas:\n",
    "            w = ridge_regression(y_train,phi_x_train,lambda_)[1]\n",
    "            y_pred_train = predict_labels(w, phi_x_train)\n",
    "            acc_train,_ = metrics(y_train,y_pred_train)\n",
    "            y_pred_test = predict_labels(w, phi_x_test)\n",
    "            acc_test,_ = metrics(y_test,y_pred_test)\n",
    "            data_nested.append([acc_train, acc_test, degree, lambda_, w])\n",
    "        data_nested = np.array(data_nested)\n",
    "        index_best_value = np.where(data_nested[:,1] == np.amax(data_nested[:,1]))\n",
    "        best_value = data_nested[index_best_value][0]\n",
    "        print(\"Running :: Training accuracy: \",best_value[0],\" ,testing accuracy: \",best_value[1],\" ,degree: \",best_value[2],\" , lambda : \",best_value[3])\n",
    "        data.append(best_value)\n",
    "    data = np.array(data)\n",
    "    index_best_value = np.where(data[:,1] == np.amax(data[:,1]))\n",
    "    best_value = data[index_best_value][0]\n",
    "    acc_train, acc_test, degree, lambda_, w = best_value[0], best_value[1], best_value[2], best_value[3], best_value[4]\n",
    "    print(\"Final :: Training accuracy: \",acc_train,\" ,testing accuracy: \",acc_test,\" ,degree: \",degree,\" , lambda : \",lambda_)\n",
    "    \n",
    "    return degree, lambda_, w"
   ]
  },
  {
   "cell_type": "code",
   "execution_count": 79,
   "metadata": {},
   "outputs": [
    {
     "name": "stdout",
     "output_type": "stream",
     "text": [
      "Running :: Training accuracy:  0.8404185304583534  ,testing accuracy:  0.8425760723451057  ,degree:  2  , lambda :  289.4266124716752\n",
      "Running :: Training accuracy:  0.841266300043504  ,testing accuracy:  0.843798118049615  ,degree:  3  , lambda :  661.4740641230146\n",
      "Running :: Training accuracy:  0.8415563264805291  ,testing accuracy:  0.8437247953073445  ,degree:  4  , lambda :  289.4266124716752\n",
      "Running :: Training accuracy:  0.8423706314767923  ,testing accuracy:  0.8444824636441403  ,degree:  5  , lambda :  191.44819761699577\n",
      "Running :: Training accuracy:  0.8177853135074236  ,testing accuracy:  0.8176218990590248  ,degree:  6  , lambda :  0.17012542798525893\n",
      "Final :: Training accuracy:  0.8423706314767923  ,testing accuracy:  0.8444824636441403  ,degree:  5  , lambda :  191.44819761699577\n"
     ]
    }
   ],
   "source": [
    "degree0, lambda0, w0 = grid_search_ridge_regression(y0, x0, y0_test, x0_test, lambdas0, degrees0)"
   ]
  },
  {
   "cell_type": "code",
   "execution_count": 71,
   "metadata": {},
   "outputs": [
    {
     "name": "stdout",
     "output_type": "stream",
     "text": [
      "Running :: Training accuracy:  0.7925168606898921  ,testing accuracy:  0.7938538310908976  ,degree:  0  , lambda :  5.878016072274912e-08\n",
      "Running :: Training accuracy:  0.7909560834514655  ,testing accuracy:  0.7933800770639884  ,degree:  1  , lambda :  3.4551072945922185e-07\n",
      "Running :: Training accuracy:  0.7973423829775048  ,testing accuracy:  0.7967595224559408  ,degree:  2  , lambda :  3.888155180308085e-05\n",
      "Running :: Training accuracy:  0.7991322651316637  ,testing accuracy:  0.797264860084644  ,degree:  3  , lambda :  2.1544346900318823e-05\n",
      "Running :: Training accuracy:  0.7987742887008319  ,testing accuracy:  0.7972332764828501  ,degree:  4  , lambda :  1.6037187437513276\n",
      "Running :: Training accuracy:  0.8009364663430559  ,testing accuracy:  0.7986229549617838  ,degree:  5  , lambda :  5.223345074266833\n",
      "Running :: Training accuracy:  0.8041152970488423  ,testing accuracy:  0.8015602299286211  ,degree:  6  , lambda :  2.89426612471674\n",
      "Running :: Training accuracy:  0.8082821427037243  ,testing accuracy:  0.8059187669761859  ,degree:  7  , lambda :  5.223345074266833\n",
      "Running :: Training accuracy:  0.8090124146226213  ,testing accuracy:  0.8068031078264165  ,degree:  8  , lambda :  3.888155180308085e-05\n",
      "Running :: Training accuracy:  0.8093990291679196  ,testing accuracy:  0.8063293537995073  ,degree:  9  , lambda :  17.012542798525857\n",
      "Running :: Training accuracy:  0.810472958460415  ,testing accuracy:  0.8060135177815678  ,degree:  10  , lambda :  0.00012663801734674022\n",
      "Running :: Training accuracy:  0.811532568695677  ,testing accuracy:  0.8063293537995073  ,degree:  11  , lambda :  3.888155180308085e-05\n",
      "Running :: Training accuracy:  0.6094763520769793  ,testing accuracy:  0.6581075105805066  ,degree:  12  , lambda :  100.0\n",
      "Running :: Training accuracy:  0.6412073829059095  ,testing accuracy:  0.6452214010485756  ,degree:  13  , lambda :  3.4551072945922185e-07\n",
      "Running :: Training accuracy:  0.6408350874178445  ,testing accuracy:  0.6444949782073147  ,degree:  14  , lambda :  1e-08\n",
      "Final :: Training accuracy:  0.8090124146226213  ,testing accuracy:  0.8068031078264165  ,degree:  8  , lambda :  3.888155180308085e-05\n"
     ]
    }
   ],
   "source": [
    "degree1, lambda1, w1 = grid_search_ridge_regression(y1, x1, y1_test, x1_test, lambdas1, degrees1)"
   ]
  },
  {
   "cell_type": "code",
   "execution_count": null,
   "metadata": {},
   "outputs": [],
   "source": [
    "_,w1_log = reg_logistic_regression_newton(y1, x1, lambda1, np.zeros(x1.shape[1]), 1000, 0.0001)"
   ]
  },
  {
   "cell_type": "code",
   "execution_count": 74,
   "metadata": {},
   "outputs": [
    {
     "name": "stdout",
     "output_type": "stream",
     "text": [
      "Running :: Training accuracy:  0.8429086024787839  ,testing accuracy:  0.8360711492024623  ,degree:  8  , lambda :  55.41020330009481\n",
      "Running :: Training accuracy:  0.8428170217962024  ,testing accuracy:  0.8363772404176445  ,degree:  9  , lambda :  55.41020330009481\n",
      "Running :: Training accuracy:  0.8429849197142683  ,testing accuracy:  0.8367173417678468  ,degree:  10  , lambda :  100.0\n",
      "Running :: Training accuracy:  0.740780877953477  ,testing accuracy:  0.5677992041628406  ,degree:  11  , lambda :  0.151177507061566\n",
      "Running :: Training accuracy:  0.5299316197570059  ,testing accuracy:  0.5677651940278203  ,degree:  12  , lambda :  1.9144819761699575e-07\n",
      "Running :: Training accuracy:  0.5692502594786006  ,testing accuracy:  0.5677651940278203  ,degree:  13  , lambda :  5.878016072274912e-08\n",
      "Running :: Training accuracy:  0.44728005372733376  ,testing accuracy:  0.5677992041628406  ,degree:  14  , lambda :  1.8047217668271702e-08\n",
      "Final :: Training accuracy:  0.8429849197142683  ,testing accuracy:  0.8367173417678468  ,degree:  10  , lambda :  100.0\n"
     ]
    }
   ],
   "source": [
    "degree2, lambda2, w2 = grid_search_ridge_regression(y2, x2, y2_test, x2_test, lambdas2, degrees2)"
   ]
  },
  {
   "cell_type": "markdown",
   "metadata": {},
   "source": [
    "## Test on the validate dataset"
   ]
  },
  {
   "cell_type": "code",
   "execution_count": 80,
   "metadata": {},
   "outputs": [],
   "source": [
    "# Build poly features\n",
    "phi_x0_test = build_poly(copy.deepcopy(x0_test), degree0)\n",
    "phi_x1_test = build_poly(copy.deepcopy(x1_test), degree1)\n",
    "phi_x2_test = build_poly(copy.deepcopy(x2_test), degree2)\n",
    "\n",
    "# Predict outcomes\n",
    "y_pred0 = predict_labels(w0, phi_x0_test)\n",
    "y_pred1 = predict_labels(w1, phi_x1_test)\n",
    "y_pred2 = predict_labels(w2, phi_x2_test)\n",
    "\n",
    "total_length = y_pred0.shape[0] + y_pred1.shape[0] + y_pred2.shape[0]\n",
    "y_pred = np.zeros((total_length,))\n",
    "y_pred[np.where(rows_to_keep0)] = y_pred0\n",
    "y_pred[np.where(rows_to_keep1)] = y_pred1\n",
    "y_pred[np.where(rows_to_keep2)] = y_pred2\n"
   ]
  },
  {
   "cell_type": "code",
   "execution_count": 81,
   "metadata": {},
   "outputs": [
    {
     "name": "stdout",
     "output_type": "stream",
     "text": [
      "Categorical accuracy test :  0.8305452049421456  || f1_score test:  0.3958598776210026\n"
     ]
    }
   ],
   "source": [
    "cat_accuracy_test, f1_score_test = metrics(y_test,y_pred)\n",
    "print(\"Categorical accuracy test : \",cat_accuracy_test,\" || f1_score test: \",f1_score_test)"
   ]
  },
  {
   "cell_type": "markdown",
   "metadata": {},
   "source": [
    "## Gradient descent with the preheated weights"
   ]
  },
  {
   "cell_type": "code",
   "execution_count": 215,
   "metadata": {},
   "outputs": [],
   "source": [
    "max_iters = 1000\n",
    "learning_rate0 = 0.0001\n",
    "learning_rate1 = 0.0000000001\n",
    "learning_rate2 = 0.0001"
   ]
  },
  {
   "cell_type": "code",
   "execution_count": 210,
   "metadata": {},
   "outputs": [],
   "source": [
    "def ridge_regression_GD(y_train, x_train, y_test, x_test, initial_w, max_iters, gamma, lambda_, degree):\n",
    "    ws = copy.deepcopy(initial_w)\n",
    "    N = y_train.shape[0]\n",
    "    phi_x_train = build_poly(x_train, degree)\n",
    "    phi_x_test = build_poly(x_test, degree)\n",
    "    for i in range(max_iters):\n",
    "\n",
    "        grad = compute_gradient(y_train, phi_x_train, ws) + 2*lambda_*ws\n",
    "        ws = ws - gamma*grad\n",
    "        y_pred_train = predict_labels(ws, phi_x_train)\n",
    "        acc_train,_ = metrics_check(y_train,y_pred_train)\n",
    "        y_pred_test = predict_labels(ws, phi_x_test)\n",
    "        acc_test,_ = metrics_check(y_test,y_pred_test)\n",
    "        if (i%10 ==0):\n",
    "            print(\"Step {} :: acc_train: {}, acc_test: {}\".format(i,acc_train,acc_test))\n",
    "        \n",
    "\n",
    "    loss = compute_loss(y_train, phi_x_train, ws)+ lambda_*np.dot(ws.T,ws)\n",
    "\n",
    "    return loss, ws"
   ]
  },
  {
   "cell_type": "code",
   "execution_count": 208,
   "metadata": {},
   "outputs": [
    {
     "name": "stdout",
     "output_type": "stream",
     "text": [
      "Step 0 :: acc_train: 0.8400950394324406, acc_test: 0.8260540144201393\n",
      "Step 10 :: acc_train: 0.8400950394324406, acc_test: 0.8260295735060491\n",
      "Step 20 :: acc_train: 0.8400950394324406, acc_test: 0.8260540144201393\n",
      "Step 30 :: acc_train: 0.8401173491583656, acc_test: 0.826005132591959\n",
      "Step 40 :: acc_train: 0.8400727297065156, acc_test: 0.826005132591959\n",
      "Step 50 :: acc_train: 0.8400950394324406, acc_test: 0.8260295735060491\n",
      "Step 60 :: acc_train: 0.8400950394324406, acc_test: 0.8260540144201393\n",
      "Step 70 :: acc_train: 0.8401173491583656, acc_test: 0.8260295735060491\n",
      "Step 80 :: acc_train: 0.840083884569478, acc_test: 0.8260295735060491\n",
      "Step 90 :: acc_train: 0.8401396588842907, acc_test: 0.8259806916778688\n",
      "Step 100 :: acc_train: 0.8401619686102156, acc_test: 0.8259806916778688\n",
      "Step 110 :: acc_train: 0.8401731234731782, acc_test: 0.8259806916778688\n",
      "Step 120 :: acc_train: 0.8401842783361406, acc_test: 0.8259318098496884\n",
      "Step 130 :: acc_train: 0.8401619686102156, acc_test: 0.825882928021508\n",
      "Step 140 :: acc_train: 0.8401619686102156, acc_test: 0.825882928021508\n",
      "Step 150 :: acc_train: 0.8401731234731782, acc_test: 0.8258584871074178\n",
      "Step 160 :: acc_train: 0.8402065880620656, acc_test: 0.8258584871074178\n",
      "Step 170 :: acc_train: 0.8402288977879907, acc_test: 0.8259073689355982\n",
      "Step 180 :: acc_train: 0.8402177429250282, acc_test: 0.8259562507637785\n",
      "Step 190 :: acc_train: 0.8402288977879907, acc_test: 0.8259318098496884\n",
      "Step 200 :: acc_train: 0.8401285040213281, acc_test: 0.8259073689355982\n",
      "Step 210 :: acc_train: 0.8401061942954031, acc_test: 0.826005132591959\n",
      "Step 220 :: acc_train: 0.840083884569478, acc_test: 0.826005132591959\n",
      "Step 230 :: acc_train: 0.8400950394324406, acc_test: 0.8259562507637785\n",
      "Step 240 :: acc_train: 0.8401061942954031, acc_test: 0.8259318098496884\n",
      "Step 250 :: acc_train: 0.840061574843553, acc_test: 0.825882928021508\n",
      "Step 260 :: acc_train: 0.8400950394324406, acc_test: 0.8259318098496884\n"
     ]
    },
    {
     "ename": "KeyboardInterrupt",
     "evalue": "",
     "output_type": "error",
     "traceback": [
      "\u001b[1;31m---------------------------------------------------------------------------\u001b[0m",
      "\u001b[1;31mKeyboardInterrupt\u001b[0m                         Traceback (most recent call last)",
      "\u001b[1;32m<ipython-input-208-80a0dcd192b9>\u001b[0m in \u001b[0;36m<module>\u001b[1;34m\u001b[0m\n\u001b[1;32m----> 1\u001b[1;33m \u001b[0mw0_GD\u001b[0m \u001b[1;33m=\u001b[0m \u001b[0mridge_regression_GD\u001b[0m\u001b[1;33m(\u001b[0m\u001b[0my0\u001b[0m\u001b[1;33m,\u001b[0m \u001b[0mx0\u001b[0m\u001b[1;33m,\u001b[0m \u001b[0my0_test\u001b[0m\u001b[1;33m,\u001b[0m \u001b[0mx0_test\u001b[0m\u001b[1;33m,\u001b[0m \u001b[0mw0\u001b[0m\u001b[1;33m,\u001b[0m \u001b[0mmax_iters\u001b[0m\u001b[1;33m,\u001b[0m \u001b[0mlearning_rate0\u001b[0m\u001b[1;33m,\u001b[0m \u001b[0mlambda0\u001b[0m\u001b[1;33m,\u001b[0m \u001b[0mdegree0\u001b[0m\u001b[1;33m)\u001b[0m\u001b[1;33m[\u001b[0m\u001b[1;36m1\u001b[0m\u001b[1;33m]\u001b[0m\u001b[1;33m\u001b[0m\u001b[1;33m\u001b[0m\u001b[0m\n\u001b[0m",
      "\u001b[1;32m<ipython-input-207-3e8d54b07e9f>\u001b[0m in \u001b[0;36mridge_regression_GD\u001b[1;34m(y_train, x_train, y_test, x_test, initial_w, max_iters, gamma, lambda_, degree)\u001b[0m\n\u001b[0;32m     11\u001b[0m         \u001b[0macc_train\u001b[0m\u001b[1;33m,\u001b[0m\u001b[0m_\u001b[0m \u001b[1;33m=\u001b[0m \u001b[0mmetrics_check\u001b[0m\u001b[1;33m(\u001b[0m\u001b[0my_train\u001b[0m\u001b[1;33m,\u001b[0m\u001b[0my_pred_train\u001b[0m\u001b[1;33m)\u001b[0m\u001b[1;33m\u001b[0m\u001b[1;33m\u001b[0m\u001b[0m\n\u001b[0;32m     12\u001b[0m         \u001b[0my_pred_test\u001b[0m \u001b[1;33m=\u001b[0m \u001b[0mpredict_labels\u001b[0m\u001b[1;33m(\u001b[0m\u001b[0mws\u001b[0m\u001b[1;33m,\u001b[0m \u001b[0mphi_x_test\u001b[0m\u001b[1;33m)\u001b[0m\u001b[1;33m\u001b[0m\u001b[1;33m\u001b[0m\u001b[0m\n\u001b[1;32m---> 13\u001b[1;33m         \u001b[0macc_test\u001b[0m\u001b[1;33m,\u001b[0m\u001b[0m_\u001b[0m \u001b[1;33m=\u001b[0m \u001b[0mmetrics_check\u001b[0m\u001b[1;33m(\u001b[0m\u001b[0my_test\u001b[0m\u001b[1;33m,\u001b[0m\u001b[0my_pred_test\u001b[0m\u001b[1;33m)\u001b[0m\u001b[1;33m\u001b[0m\u001b[1;33m\u001b[0m\u001b[0m\n\u001b[0m\u001b[0;32m     14\u001b[0m         \u001b[1;32mif\u001b[0m \u001b[1;33m(\u001b[0m\u001b[0mi\u001b[0m\u001b[1;33m%\u001b[0m\u001b[1;36m10\u001b[0m \u001b[1;33m==\u001b[0m\u001b[1;36m0\u001b[0m\u001b[1;33m)\u001b[0m\u001b[1;33m:\u001b[0m\u001b[1;33m\u001b[0m\u001b[1;33m\u001b[0m\u001b[0m\n\u001b[0;32m     15\u001b[0m             \u001b[0mprint\u001b[0m\u001b[1;33m(\u001b[0m\u001b[1;34m\"Step {} :: acc_train: {}, acc_test: {}\"\u001b[0m\u001b[1;33m.\u001b[0m\u001b[0mformat\u001b[0m\u001b[1;33m(\u001b[0m\u001b[0mi\u001b[0m\u001b[1;33m,\u001b[0m\u001b[0macc_train\u001b[0m\u001b[1;33m,\u001b[0m\u001b[0macc_test\u001b[0m\u001b[1;33m)\u001b[0m\u001b[1;33m)\u001b[0m\u001b[1;33m\u001b[0m\u001b[1;33m\u001b[0m\u001b[0m\n",
      "\u001b[1;32m~\\Documents\\GitHub\\ML\\implementations.py\u001b[0m in \u001b[0;36mmetrics_check\u001b[1;34m(y_test, y_pred)\u001b[0m\n\u001b[0;32m    330\u001b[0m                 \u001b[0mfn\u001b[0m \u001b[1;33m+=\u001b[0m \u001b[1;36m1\u001b[0m\u001b[1;33m\u001b[0m\u001b[1;33m\u001b[0m\u001b[0m\n\u001b[0;32m    331\u001b[0m             \u001b[1;32melse\u001b[0m\u001b[1;33m:\u001b[0m\u001b[1;33m\u001b[0m\u001b[1;33m\u001b[0m\u001b[0m\n\u001b[1;32m--> 332\u001b[1;33m                 \u001b[0mtn\u001b[0m \u001b[1;33m+=\u001b[0m \u001b[1;36m1\u001b[0m\u001b[1;33m\u001b[0m\u001b[1;33m\u001b[0m\u001b[0m\n\u001b[0m\u001b[0;32m    333\u001b[0m     \u001b[1;31m#precision = tp/(tp+fp)\u001b[0m\u001b[1;33m\u001b[0m\u001b[1;33m\u001b[0m\u001b[1;33m\u001b[0m\u001b[0m\n\u001b[0;32m    334\u001b[0m     \u001b[1;31m#recall = tp/(tp+fn)\u001b[0m\u001b[1;33m\u001b[0m\u001b[1;33m\u001b[0m\u001b[1;33m\u001b[0m\u001b[0m\n",
      "\u001b[1;31mKeyboardInterrupt\u001b[0m: "
     ]
    }
   ],
   "source": [
    "w0_GD = ridge_regression_GD(y0, x0, y0_test, x0_test, w0, max_iters, learning_rate0, lambda0, degree0)[1]"
   ]
  },
  {
   "cell_type": "code",
   "execution_count": 216,
   "metadata": {},
   "outputs": [
    {
     "name": "stdout",
     "output_type": "stream",
     "text": [
      "Step 0 :: acc_train: 0.8104586394031817, acc_test: 0.7870949403069926\n",
      "Step 10 :: acc_train: 0.6409496398757106, acc_test: 0.6446844798180784\n",
      "Step 20 :: acc_train: 0.6409496398757106, acc_test: 0.6446844798180784\n",
      "Step 30 :: acc_train: 0.6409496398757106, acc_test: 0.6446844798180784\n",
      "Step 40 :: acc_train: 0.6409496398757106, acc_test: 0.6446844798180784\n"
     ]
    },
    {
     "ename": "KeyboardInterrupt",
     "evalue": "",
     "output_type": "error",
     "traceback": [
      "\u001b[1;31m---------------------------------------------------------------------------\u001b[0m",
      "\u001b[1;31mKeyboardInterrupt\u001b[0m                         Traceback (most recent call last)",
      "\u001b[1;32m<ipython-input-216-5bb5bc60ad87>\u001b[0m in \u001b[0;36m<module>\u001b[1;34m\u001b[0m\n\u001b[1;32m----> 1\u001b[1;33m \u001b[0mw1_GD\u001b[0m \u001b[1;33m=\u001b[0m \u001b[0mridge_regression_GD\u001b[0m\u001b[1;33m(\u001b[0m\u001b[0my1\u001b[0m\u001b[1;33m,\u001b[0m \u001b[0mx1\u001b[0m\u001b[1;33m,\u001b[0m \u001b[0my1_test\u001b[0m\u001b[1;33m,\u001b[0m \u001b[0mx1_test\u001b[0m\u001b[1;33m,\u001b[0m \u001b[0mw1\u001b[0m\u001b[1;33m,\u001b[0m \u001b[0mmax_iters\u001b[0m\u001b[1;33m,\u001b[0m \u001b[0mlearning_rate1\u001b[0m\u001b[1;33m,\u001b[0m \u001b[0mlambda1\u001b[0m\u001b[1;33m,\u001b[0m \u001b[0mdegree1\u001b[0m\u001b[1;33m)\u001b[0m\u001b[1;33m[\u001b[0m\u001b[1;36m1\u001b[0m\u001b[1;33m]\u001b[0m\u001b[1;33m\u001b[0m\u001b[1;33m\u001b[0m\u001b[0m\n\u001b[0m",
      "\u001b[1;32m<ipython-input-210-3e8d54b07e9f>\u001b[0m in \u001b[0;36mridge_regression_GD\u001b[1;34m(y_train, x_train, y_test, x_test, initial_w, max_iters, gamma, lambda_, degree)\u001b[0m\n\u001b[0;32m      8\u001b[0m         \u001b[0mgrad\u001b[0m \u001b[1;33m=\u001b[0m \u001b[0mcompute_gradient\u001b[0m\u001b[1;33m(\u001b[0m\u001b[0my_train\u001b[0m\u001b[1;33m,\u001b[0m \u001b[0mphi_x_train\u001b[0m\u001b[1;33m,\u001b[0m \u001b[0mws\u001b[0m\u001b[1;33m)\u001b[0m \u001b[1;33m+\u001b[0m \u001b[1;36m2\u001b[0m\u001b[1;33m*\u001b[0m\u001b[0mlambda_\u001b[0m\u001b[1;33m*\u001b[0m\u001b[0mws\u001b[0m\u001b[1;33m\u001b[0m\u001b[1;33m\u001b[0m\u001b[0m\n\u001b[0;32m      9\u001b[0m         \u001b[0mws\u001b[0m \u001b[1;33m=\u001b[0m \u001b[0mws\u001b[0m \u001b[1;33m-\u001b[0m \u001b[0mgamma\u001b[0m\u001b[1;33m*\u001b[0m\u001b[0mgrad\u001b[0m\u001b[1;33m\u001b[0m\u001b[1;33m\u001b[0m\u001b[0m\n\u001b[1;32m---> 10\u001b[1;33m         \u001b[0my_pred_train\u001b[0m \u001b[1;33m=\u001b[0m \u001b[0mpredict_labels\u001b[0m\u001b[1;33m(\u001b[0m\u001b[0mws\u001b[0m\u001b[1;33m,\u001b[0m \u001b[0mphi_x_train\u001b[0m\u001b[1;33m)\u001b[0m\u001b[1;33m\u001b[0m\u001b[1;33m\u001b[0m\u001b[0m\n\u001b[0m\u001b[0;32m     11\u001b[0m         \u001b[0macc_train\u001b[0m\u001b[1;33m,\u001b[0m\u001b[0m_\u001b[0m \u001b[1;33m=\u001b[0m \u001b[0mmetrics_check\u001b[0m\u001b[1;33m(\u001b[0m\u001b[0my_train\u001b[0m\u001b[1;33m,\u001b[0m\u001b[0my_pred_train\u001b[0m\u001b[1;33m)\u001b[0m\u001b[1;33m\u001b[0m\u001b[1;33m\u001b[0m\u001b[0m\n\u001b[0;32m     12\u001b[0m         \u001b[0my_pred_test\u001b[0m \u001b[1;33m=\u001b[0m \u001b[0mpredict_labels\u001b[0m\u001b[1;33m(\u001b[0m\u001b[0mws\u001b[0m\u001b[1;33m,\u001b[0m \u001b[0mphi_x_test\u001b[0m\u001b[1;33m)\u001b[0m\u001b[1;33m\u001b[0m\u001b[1;33m\u001b[0m\u001b[0m\n",
      "\u001b[1;32m~\\Documents\\GitHub\\ML\\proj1_helpers.py\u001b[0m in \u001b[0;36mpredict_labels\u001b[1;34m(weights, data)\u001b[0m\n\u001b[0;32m     28\u001b[0m \u001b[1;32mdef\u001b[0m \u001b[0mpredict_labels\u001b[0m\u001b[1;33m(\u001b[0m\u001b[0mweights\u001b[0m\u001b[1;33m,\u001b[0m \u001b[0mdata\u001b[0m\u001b[1;33m)\u001b[0m\u001b[1;33m:\u001b[0m\u001b[1;33m\u001b[0m\u001b[1;33m\u001b[0m\u001b[0m\n\u001b[0;32m     29\u001b[0m     \u001b[1;34m\"\"\"Generates class predictions given weights, and a test data matrix\"\"\"\u001b[0m\u001b[1;33m\u001b[0m\u001b[1;33m\u001b[0m\u001b[0m\n\u001b[1;32m---> 30\u001b[1;33m     \u001b[0my_pred\u001b[0m \u001b[1;33m=\u001b[0m \u001b[0mnp\u001b[0m\u001b[1;33m.\u001b[0m\u001b[0mdot\u001b[0m\u001b[1;33m(\u001b[0m\u001b[0mdata\u001b[0m\u001b[1;33m,\u001b[0m \u001b[0mweights\u001b[0m\u001b[1;33m)\u001b[0m\u001b[1;33m\u001b[0m\u001b[1;33m\u001b[0m\u001b[0m\n\u001b[0m\u001b[0;32m     31\u001b[0m     \u001b[0my_pred\u001b[0m\u001b[1;33m[\u001b[0m\u001b[0mnp\u001b[0m\u001b[1;33m.\u001b[0m\u001b[0mwhere\u001b[0m\u001b[1;33m(\u001b[0m\u001b[0my_pred\u001b[0m \u001b[1;33m<=\u001b[0m \u001b[1;36m0\u001b[0m\u001b[1;33m)\u001b[0m\u001b[1;33m]\u001b[0m \u001b[1;33m=\u001b[0m \u001b[1;33m-\u001b[0m\u001b[1;36m1\u001b[0m\u001b[1;33m\u001b[0m\u001b[1;33m\u001b[0m\u001b[0m\n\u001b[0;32m     32\u001b[0m     \u001b[0my_pred\u001b[0m\u001b[1;33m[\u001b[0m\u001b[0mnp\u001b[0m\u001b[1;33m.\u001b[0m\u001b[0mwhere\u001b[0m\u001b[1;33m(\u001b[0m\u001b[0my_pred\u001b[0m \u001b[1;33m>\u001b[0m \u001b[1;36m0\u001b[0m\u001b[1;33m)\u001b[0m\u001b[1;33m]\u001b[0m \u001b[1;33m=\u001b[0m \u001b[1;36m1\u001b[0m\u001b[1;33m\u001b[0m\u001b[1;33m\u001b[0m\u001b[0m\n",
      "\u001b[1;31mKeyboardInterrupt\u001b[0m: "
     ]
    }
   ],
   "source": [
    "w1_GD = ridge_regression_GD(y1, x1, y1_test, x1_test, w1, max_iters, learning_rate1, lambda1, degree1)[1]"
   ]
  },
  {
   "cell_type": "code",
   "execution_count": 217,
   "metadata": {},
   "outputs": [
    {
     "name": "stdout",
     "output_type": "stream",
     "text": [
      "Step 0 :: acc_train: 0.7860827889370535, acc_test: 0.7769615345372921\n",
      "Step 10 :: acc_train: 0.44561633799377254, acc_test: 0.4487977417270347\n",
      "Step 20 :: acc_train: 0.44561633799377254, acc_test: 0.4487977417270347\n"
     ]
    },
    {
     "name": "stderr",
     "output_type": "stream",
     "text": [
      "C:\\ProgramData\\Anaconda3\\lib\\site-packages\\ipykernel_launcher.py:9: RuntimeWarning: invalid value encountered in subtract\n",
      "  if __name__ == '__main__':\n"
     ]
    },
    {
     "ename": "KeyboardInterrupt",
     "evalue": "",
     "output_type": "error",
     "traceback": [
      "\u001b[1;31m---------------------------------------------------------------------------\u001b[0m",
      "\u001b[1;31mKeyboardInterrupt\u001b[0m                         Traceback (most recent call last)",
      "\u001b[1;32m<ipython-input-217-0abece1ac978>\u001b[0m in \u001b[0;36m<module>\u001b[1;34m\u001b[0m\n\u001b[1;32m----> 1\u001b[1;33m \u001b[0mw2_GD\u001b[0m \u001b[1;33m=\u001b[0m \u001b[0mridge_regression_GD\u001b[0m\u001b[1;33m(\u001b[0m\u001b[0my2\u001b[0m\u001b[1;33m,\u001b[0m \u001b[0mx2\u001b[0m\u001b[1;33m,\u001b[0m \u001b[0my2_test\u001b[0m\u001b[1;33m,\u001b[0m \u001b[0mx2_test\u001b[0m\u001b[1;33m,\u001b[0m \u001b[0mw2\u001b[0m\u001b[1;33m,\u001b[0m \u001b[0mmax_iters\u001b[0m\u001b[1;33m,\u001b[0m \u001b[0mlearning_rate2\u001b[0m\u001b[1;33m,\u001b[0m \u001b[0mlambda2\u001b[0m\u001b[1;33m,\u001b[0m \u001b[0mdegree2\u001b[0m\u001b[1;33m)\u001b[0m\u001b[1;33m[\u001b[0m\u001b[1;36m1\u001b[0m\u001b[1;33m]\u001b[0m\u001b[1;33m\u001b[0m\u001b[1;33m\u001b[0m\u001b[0m\n\u001b[0m",
      "\u001b[1;32m<ipython-input-210-3e8d54b07e9f>\u001b[0m in \u001b[0;36mridge_regression_GD\u001b[1;34m(y_train, x_train, y_test, x_test, initial_w, max_iters, gamma, lambda_, degree)\u001b[0m\n\u001b[0;32m      8\u001b[0m         \u001b[0mgrad\u001b[0m \u001b[1;33m=\u001b[0m \u001b[0mcompute_gradient\u001b[0m\u001b[1;33m(\u001b[0m\u001b[0my_train\u001b[0m\u001b[1;33m,\u001b[0m \u001b[0mphi_x_train\u001b[0m\u001b[1;33m,\u001b[0m \u001b[0mws\u001b[0m\u001b[1;33m)\u001b[0m \u001b[1;33m+\u001b[0m \u001b[1;36m2\u001b[0m\u001b[1;33m*\u001b[0m\u001b[0mlambda_\u001b[0m\u001b[1;33m*\u001b[0m\u001b[0mws\u001b[0m\u001b[1;33m\u001b[0m\u001b[1;33m\u001b[0m\u001b[0m\n\u001b[0;32m      9\u001b[0m         \u001b[0mws\u001b[0m \u001b[1;33m=\u001b[0m \u001b[0mws\u001b[0m \u001b[1;33m-\u001b[0m \u001b[0mgamma\u001b[0m\u001b[1;33m*\u001b[0m\u001b[0mgrad\u001b[0m\u001b[1;33m\u001b[0m\u001b[1;33m\u001b[0m\u001b[0m\n\u001b[1;32m---> 10\u001b[1;33m         \u001b[0my_pred_train\u001b[0m \u001b[1;33m=\u001b[0m \u001b[0mpredict_labels\u001b[0m\u001b[1;33m(\u001b[0m\u001b[0mws\u001b[0m\u001b[1;33m,\u001b[0m \u001b[0mphi_x_train\u001b[0m\u001b[1;33m)\u001b[0m\u001b[1;33m\u001b[0m\u001b[1;33m\u001b[0m\u001b[0m\n\u001b[0m\u001b[0;32m     11\u001b[0m         \u001b[0macc_train\u001b[0m\u001b[1;33m,\u001b[0m\u001b[0m_\u001b[0m \u001b[1;33m=\u001b[0m \u001b[0mmetrics_check\u001b[0m\u001b[1;33m(\u001b[0m\u001b[0my_train\u001b[0m\u001b[1;33m,\u001b[0m\u001b[0my_pred_train\u001b[0m\u001b[1;33m)\u001b[0m\u001b[1;33m\u001b[0m\u001b[1;33m\u001b[0m\u001b[0m\n\u001b[0;32m     12\u001b[0m         \u001b[0my_pred_test\u001b[0m \u001b[1;33m=\u001b[0m \u001b[0mpredict_labels\u001b[0m\u001b[1;33m(\u001b[0m\u001b[0mws\u001b[0m\u001b[1;33m,\u001b[0m \u001b[0mphi_x_test\u001b[0m\u001b[1;33m)\u001b[0m\u001b[1;33m\u001b[0m\u001b[1;33m\u001b[0m\u001b[0m\n",
      "\u001b[1;32m~\\Documents\\GitHub\\ML\\proj1_helpers.py\u001b[0m in \u001b[0;36mpredict_labels\u001b[1;34m(weights, data)\u001b[0m\n\u001b[0;32m     28\u001b[0m \u001b[1;32mdef\u001b[0m \u001b[0mpredict_labels\u001b[0m\u001b[1;33m(\u001b[0m\u001b[0mweights\u001b[0m\u001b[1;33m,\u001b[0m \u001b[0mdata\u001b[0m\u001b[1;33m)\u001b[0m\u001b[1;33m:\u001b[0m\u001b[1;33m\u001b[0m\u001b[1;33m\u001b[0m\u001b[0m\n\u001b[0;32m     29\u001b[0m     \u001b[1;34m\"\"\"Generates class predictions given weights, and a test data matrix\"\"\"\u001b[0m\u001b[1;33m\u001b[0m\u001b[1;33m\u001b[0m\u001b[0m\n\u001b[1;32m---> 30\u001b[1;33m     \u001b[0my_pred\u001b[0m \u001b[1;33m=\u001b[0m \u001b[0mnp\u001b[0m\u001b[1;33m.\u001b[0m\u001b[0mdot\u001b[0m\u001b[1;33m(\u001b[0m\u001b[0mdata\u001b[0m\u001b[1;33m,\u001b[0m \u001b[0mweights\u001b[0m\u001b[1;33m)\u001b[0m\u001b[1;33m\u001b[0m\u001b[1;33m\u001b[0m\u001b[0m\n\u001b[0m\u001b[0;32m     31\u001b[0m     \u001b[0my_pred\u001b[0m\u001b[1;33m[\u001b[0m\u001b[0mnp\u001b[0m\u001b[1;33m.\u001b[0m\u001b[0mwhere\u001b[0m\u001b[1;33m(\u001b[0m\u001b[0my_pred\u001b[0m \u001b[1;33m<=\u001b[0m \u001b[1;36m0\u001b[0m\u001b[1;33m)\u001b[0m\u001b[1;33m]\u001b[0m \u001b[1;33m=\u001b[0m \u001b[1;33m-\u001b[0m\u001b[1;36m1\u001b[0m\u001b[1;33m\u001b[0m\u001b[1;33m\u001b[0m\u001b[0m\n\u001b[0;32m     32\u001b[0m     \u001b[0my_pred\u001b[0m\u001b[1;33m[\u001b[0m\u001b[0mnp\u001b[0m\u001b[1;33m.\u001b[0m\u001b[0mwhere\u001b[0m\u001b[1;33m(\u001b[0m\u001b[0my_pred\u001b[0m \u001b[1;33m>\u001b[0m \u001b[1;36m0\u001b[0m\u001b[1;33m)\u001b[0m\u001b[1;33m]\u001b[0m \u001b[1;33m=\u001b[0m \u001b[1;36m1\u001b[0m\u001b[1;33m\u001b[0m\u001b[1;33m\u001b[0m\u001b[0m\n",
      "\u001b[1;31mKeyboardInterrupt\u001b[0m: "
     ]
    }
   ],
   "source": [
    "w2_GD = ridge_regression_GD(y2, x2, y2_test, x2_test, w2, max_iters, learning_rate2, lambda2, degree2)[1]"
   ]
  },
  {
   "cell_type": "markdown",
   "metadata": {},
   "source": [
    "## Test the GD version"
   ]
  },
  {
   "cell_type": "code",
   "execution_count": 155,
   "metadata": {},
   "outputs": [],
   "source": [
    "# Predict outcomes\n",
    "y_pred0_GD = predict_labels(w0, phi_x0_test)\n",
    "y_pred1_GD = predict_labels(w1, phi_x1_test)\n",
    "y_pred2_GD = predict_labels(w2, phi_x2_test)\n",
    "\n",
    "total_length = y_pred0_GD.shape[0] + y_pred1_GD.shape[0] + y_pred2_GD.shape[0]\n",
    "y_pred_GD = np.zeros((total_length,))\n",
    "y_pred_GD[np.where(rows_to_keep0)] = y_pred0_GD\n",
    "y_pred_GD[np.where(rows_to_keep1)] = y_pred1_GD\n",
    "y_pred_GD[np.where(rows_to_keep2)] = y_pred2_GD"
   ]
  },
  {
   "cell_type": "code",
   "execution_count": 156,
   "metadata": {},
   "outputs": [
    {
     "name": "stdout",
     "output_type": "stream",
     "text": [
      "Categorical accuracy test :  0.8135614826436556  || f1_score test:  0.36176706827309235\n"
     ]
    }
   ],
   "source": [
    "cat_accuracy_test, f1_score_test = metrics_check(y_test,y_pred_GD)\n",
    "print(\"Categorical accuracy test : \",cat_accuracy_test,\" || f1_score test: \",f1_score_test)"
   ]
  },
  {
   "cell_type": "markdown",
   "metadata": {},
   "source": [
    "## Neural Network"
   ]
  },
  {
   "cell_type": "code",
   "execution_count": 23,
   "metadata": {},
   "outputs": [],
   "source": [
    "def Poly_Neural_Net(y_train, x_train,y_test, x_test, degree, eps):\n",
    "    # define lists to store the loss of training data and test data\n",
    "    \n",
    "    phi_x_train = build_poly(x_train, degree)\n",
    "    phi_x_test = build_poly(x_test, degree)\n",
    "    y_train = np.where(y_train==-1, 0, y_train)\n",
    "    y_test = np.where(y_test==-1, 0, y_test)\n",
    "        \n",
    "    labels = [0, 1]\n",
    "    layer_array = [[len(labels), 'sigmoid']]\n",
    "    input_dims = phi_x_train.shape[1]\n",
    "    neural_net = create_neural_network(layer_array, input_dims)\n",
    "    neural_net = train_network(phi_x_train, y_train, labels, neural_net, epochs=eps)\n",
    "    \n",
    "    y_pred_train = []\n",
    "    for i in range(len(y_train)):\n",
    "        y_pred_train.append((predict(phi_x_train[i], neural_net))[0])\n",
    "    \n",
    "    y_pred_test = []\n",
    "    for i in range(len(y_test)):\n",
    "        y_pred_test.append((predict(phi_x_test[i], neural_net))[0])\n",
    "        \n",
    "    y_pred_train = np.where(y_pred_train==0, -1, y_pred_train)\n",
    "    y_pred_test = np.where(y_pred_test==0, -1, y_pred_test)\n",
    "    \n",
    "    acc_train,_ = metrics_check(y_train,y_pred_train)\n",
    "    acc_test,_ = metrics_check(y_test,y_pred_test)\n",
    "    \n",
    "    data = []\n",
    "    data_nested = []        \n",
    "        \n",
    "    data_nested.append([acc_train, acc_test, degree])\n",
    "    data_nested = np.array(data_nested)\n",
    "    index_best_value = np.where(data_nested[:,1] == np.amax(data_nested[:,1]))\n",
    "    best_value = data_nested[index_best_value][0]\n",
    "    print(\"Running :: Training accuracy: \",best_value[0],\" ,testing accuracy: \",best_value[1])\n",
    "    data.append(best_value)\n",
    "        \n",
    "    data = np.array(data)\n",
    "    index_best_value = np.where(data[:,1] == np.amax(data[:,1]))\n",
    "    best_value = data[index_best_value][0]\n",
    "    acc_train, acc_test = best_value[0], best_value[1]\n",
    "    print(\"Final :: Training accuracy: \",acc_train,\" ,testing accuracy: \",acc_test)\n",
    "    \n",
    "    return degree\n"
   ]
  },
  {
   "cell_type": "code",
   "execution_count": 26,
   "metadata": {},
   "outputs": [
    {
     "name": "stdout",
     "output_type": "stream",
     "text": [
      "Running :: Training accuracy:  0.845215121532232  ,testing accuracy:  0.845362336551387\n",
      "Final :: Training accuracy:  0.845215121532232  ,testing accuracy:  0.845362336551387\n"
     ]
    }
   ],
   "source": [
    "degree = 3\n",
    "epochs=50\n",
    "\n",
    "degree0 = Poly_Neural_Net(y0, x0, y0_test, x0_test, degree, epochs)"
   ]
  },
  {
   "cell_type": "code",
   "execution_count": 34,
   "metadata": {},
   "outputs": [
    {
     "name": "stdout",
     "output_type": "stream",
     "text": [
      "Running :: Training accuracy:  0.8116471211535432  ,testing accuracy:  0.8025393215842335\n",
      "Final :: Training accuracy:  0.8116471211535432  ,testing accuracy:  0.8025393215842335\n"
     ]
    }
   ],
   "source": [
    "degree = 3\n",
    "epochs= 200\n",
    "\n",
    "degree0 = Poly_Neural_Net(y1, x1, y1_test, x1_test, degree, epochs)"
   ]
  },
  {
   "cell_type": "code",
   "execution_count": 33,
   "metadata": {},
   "outputs": [
    {
     "ename": "KeyboardInterrupt",
     "evalue": "",
     "output_type": "error",
     "traceback": [
      "\u001b[1;31m---------------------------------------------------------------------------\u001b[0m",
      "\u001b[1;31mKeyboardInterrupt\u001b[0m                         Traceback (most recent call last)",
      "\u001b[1;32m<ipython-input-33-264f63b48fde>\u001b[0m in \u001b[0;36m<module>\u001b[1;34m\u001b[0m\n\u001b[0;32m      2\u001b[0m \u001b[0mepochs\u001b[0m\u001b[1;33m=\u001b[0m\u001b[1;36m150\u001b[0m\u001b[1;33m\u001b[0m\u001b[1;33m\u001b[0m\u001b[0m\n\u001b[0;32m      3\u001b[0m \u001b[1;33m\u001b[0m\u001b[0m\n\u001b[1;32m----> 4\u001b[1;33m \u001b[0mdegree0\u001b[0m \u001b[1;33m=\u001b[0m \u001b[0mPoly_Neural_Net\u001b[0m\u001b[1;33m(\u001b[0m\u001b[0my2\u001b[0m\u001b[1;33m,\u001b[0m \u001b[0mx2\u001b[0m\u001b[1;33m,\u001b[0m \u001b[0my2_test\u001b[0m\u001b[1;33m,\u001b[0m \u001b[0mx2_test\u001b[0m\u001b[1;33m,\u001b[0m \u001b[0mdegree\u001b[0m\u001b[1;33m,\u001b[0m \u001b[0mepochs\u001b[0m\u001b[1;33m)\u001b[0m\u001b[1;33m\u001b[0m\u001b[1;33m\u001b[0m\u001b[0m\n\u001b[0m",
      "\u001b[1;32m<ipython-input-23-cf3c3a26f35c>\u001b[0m in \u001b[0;36mPoly_Neural_Net\u001b[1;34m(y_train, x_train, y_test, x_test, degree, eps)\u001b[0m\n\u001b[0;32m     11\u001b[0m     \u001b[0minput_dims\u001b[0m \u001b[1;33m=\u001b[0m \u001b[0mphi_x_train\u001b[0m\u001b[1;33m.\u001b[0m\u001b[0mshape\u001b[0m\u001b[1;33m[\u001b[0m\u001b[1;36m1\u001b[0m\u001b[1;33m]\u001b[0m\u001b[1;33m\u001b[0m\u001b[1;33m\u001b[0m\u001b[0m\n\u001b[0;32m     12\u001b[0m     \u001b[0mneural_net\u001b[0m \u001b[1;33m=\u001b[0m \u001b[0mcreate_neural_network\u001b[0m\u001b[1;33m(\u001b[0m\u001b[0mlayer_array\u001b[0m\u001b[1;33m,\u001b[0m \u001b[0minput_dims\u001b[0m\u001b[1;33m)\u001b[0m\u001b[1;33m\u001b[0m\u001b[1;33m\u001b[0m\u001b[0m\n\u001b[1;32m---> 13\u001b[1;33m     \u001b[0mneural_net\u001b[0m \u001b[1;33m=\u001b[0m \u001b[0mtrain_network\u001b[0m\u001b[1;33m(\u001b[0m\u001b[0mphi_x_train\u001b[0m\u001b[1;33m,\u001b[0m \u001b[0my_train\u001b[0m\u001b[1;33m,\u001b[0m \u001b[0mlabels\u001b[0m\u001b[1;33m,\u001b[0m \u001b[0mneural_net\u001b[0m\u001b[1;33m,\u001b[0m \u001b[0mepochs\u001b[0m\u001b[1;33m=\u001b[0m\u001b[0meps\u001b[0m\u001b[1;33m)\u001b[0m\u001b[1;33m\u001b[0m\u001b[1;33m\u001b[0m\u001b[0m\n\u001b[0m\u001b[0;32m     14\u001b[0m \u001b[1;33m\u001b[0m\u001b[0m\n\u001b[0;32m     15\u001b[0m     \u001b[0my_pred_train\u001b[0m \u001b[1;33m=\u001b[0m \u001b[1;33m[\u001b[0m\u001b[1;33m]\u001b[0m\u001b[1;33m\u001b[0m\u001b[1;33m\u001b[0m\u001b[0m\n",
      "\u001b[1;32m~\\Desktop\\yey\\implementations.py\u001b[0m in \u001b[0;36mtrain_network\u001b[1;34m(X, Y, labels, neural_net, epochs)\u001b[0m\n\u001b[0;32m    440\u001b[0m     \u001b[1;32mfor\u001b[0m \u001b[0mepoch\u001b[0m \u001b[1;32min\u001b[0m \u001b[0mrange\u001b[0m\u001b[1;33m(\u001b[0m\u001b[1;36m0\u001b[0m\u001b[1;33m,\u001b[0m \u001b[0mepochs\u001b[0m\u001b[1;33m)\u001b[0m\u001b[1;33m:\u001b[0m\u001b[1;33m\u001b[0m\u001b[1;33m\u001b[0m\u001b[0m\n\u001b[0;32m    441\u001b[0m         \u001b[1;32mfor\u001b[0m \u001b[0md\u001b[0m \u001b[1;32min\u001b[0m \u001b[0mrange\u001b[0m\u001b[1;33m(\u001b[0m\u001b[1;36m0\u001b[0m\u001b[1;33m,\u001b[0m \u001b[0mlen\u001b[0m\u001b[1;33m(\u001b[0m\u001b[0mX\u001b[0m\u001b[1;33m)\u001b[0m\u001b[1;33m)\u001b[0m\u001b[1;33m:\u001b[0m\u001b[1;33m\u001b[0m\u001b[1;33m\u001b[0m\u001b[0m\n\u001b[1;32m--> 442\u001b[1;33m             \u001b[0mprediction\u001b[0m \u001b[1;33m=\u001b[0m \u001b[0mpredict_ratio\u001b[0m\u001b[1;33m(\u001b[0m\u001b[0mX\u001b[0m\u001b[1;33m[\u001b[0m\u001b[0md\u001b[0m\u001b[1;33m]\u001b[0m\u001b[1;33m,\u001b[0m \u001b[0mneural_net\u001b[0m\u001b[1;33m)\u001b[0m\u001b[1;33m\u001b[0m\u001b[1;33m\u001b[0m\u001b[0m\n\u001b[0m\u001b[0;32m    443\u001b[0m \u001b[1;33m\u001b[0m\u001b[0m\n\u001b[0;32m    444\u001b[0m             \u001b[1;31m# Calculate total error per label\u001b[0m\u001b[1;33m\u001b[0m\u001b[1;33m\u001b[0m\u001b[1;33m\u001b[0m\u001b[0m\n",
      "\u001b[1;32m~\\Desktop\\yey\\implementations.py\u001b[0m in \u001b[0;36mpredict_ratio\u001b[1;34m(data, neural_net)\u001b[0m\n\u001b[0;32m    404\u001b[0m \u001b[1;33m\u001b[0m\u001b[0m\n\u001b[0;32m    405\u001b[0m     \u001b[1;32mfor\u001b[0m \u001b[0ml\u001b[0m \u001b[1;32min\u001b[0m \u001b[0mrange\u001b[0m\u001b[1;33m(\u001b[0m\u001b[1;36m0\u001b[0m\u001b[1;33m,\u001b[0m \u001b[0mlayer_num\u001b[0m\u001b[1;33m)\u001b[0m\u001b[1;33m:\u001b[0m\u001b[1;33m\u001b[0m\u001b[1;33m\u001b[0m\u001b[0m\n\u001b[1;32m--> 406\u001b[1;33m         \u001b[0mdata\u001b[0m \u001b[1;33m=\u001b[0m \u001b[0mnp\u001b[0m\u001b[1;33m.\u001b[0m\u001b[0mdot\u001b[0m\u001b[1;33m(\u001b[0m\u001b[0mweights\u001b[0m\u001b[1;33m[\u001b[0m\u001b[0ml\u001b[0m\u001b[1;33m]\u001b[0m\u001b[1;33m,\u001b[0m \u001b[0mdata\u001b[0m\u001b[1;33m)\u001b[0m\u001b[1;33m\u001b[0m\u001b[1;33m\u001b[0m\u001b[0m\n\u001b[0m\u001b[0;32m    407\u001b[0m         \u001b[1;32mfor\u001b[0m \u001b[0mt\u001b[0m \u001b[1;32min\u001b[0m \u001b[0mrange\u001b[0m\u001b[1;33m(\u001b[0m\u001b[0mlen\u001b[0m\u001b[1;33m(\u001b[0m\u001b[0mdata\u001b[0m\u001b[1;33m)\u001b[0m\u001b[1;33m)\u001b[0m\u001b[1;33m:\u001b[0m\u001b[1;33m\u001b[0m\u001b[1;33m\u001b[0m\u001b[0m\n\u001b[0;32m    408\u001b[0m             \u001b[0mdata\u001b[0m\u001b[1;33m[\u001b[0m\u001b[0mt\u001b[0m\u001b[1;33m]\u001b[0m \u001b[1;33m+=\u001b[0m \u001b[0mbiases\u001b[0m\u001b[1;33m[\u001b[0m\u001b[0ml\u001b[0m\u001b[1;33m]\u001b[0m\u001b[1;33m[\u001b[0m\u001b[0mt\u001b[0m\u001b[1;33m]\u001b[0m\u001b[1;33m\u001b[0m\u001b[1;33m\u001b[0m\u001b[0m\n",
      "\u001b[1;31mKeyboardInterrupt\u001b[0m: "
     ]
    }
   ],
   "source": [
    "degree = 8\n",
    "epochs=150\n",
    "\n",
    "degree0 = Poly_Neural_Net(y2, x2, y2_test, x2_test, degree, epochs)"
   ]
  },
  {
   "cell_type": "code",
   "execution_count": null,
   "metadata": {},
   "outputs": [],
   "source": []
  },
  {
   "cell_type": "code",
   "execution_count": null,
   "metadata": {},
   "outputs": [],
   "source": []
  },
  {
   "cell_type": "markdown",
   "metadata": {},
   "source": [
    "## Generate predictions and save ouput in csv format for submission:"
   ]
  },
  {
   "cell_type": "code",
   "execution_count": 82,
   "metadata": {},
   "outputs": [],
   "source": [
    "DATA_TEST_PATH = 'test.csv'\n",
    "_, tX_test, ids_test = load_csv_data(DATA_TEST_PATH)"
   ]
  },
  {
   "cell_type": "code",
   "execution_count": 87,
   "metadata": {},
   "outputs": [],
   "source": [
    "# preprocessing\n",
    "categorical_datasets_test = preprocessing(_,copy.deepcopy(tX_test), train = False, columns_to_keep = columns_to_keep)\n",
    "x0_validate = categorical_datasets_test[0]\n",
    "x1_validate = categorical_datasets_test[1]\n",
    "x2_validate = categorical_datasets_test[2]\n",
    "rows_to_keep_validate0 = categorical_datasets_test[3]\n",
    "rows_to_keep_validate1 = categorical_datasets_test[4]\n",
    "rows_to_keep_validate2 = categorical_datasets_test[5]\n",
    "\n",
    "# clean high correlation areas\n",
    "#x0\n",
    "x0_validate = np.delete(x0_validate, 6, 1)\n",
    "x0_validate = np.delete(x0_validate, 6, 1)\n",
    "#x1\n",
    "x1_validate = np.delete(x1_validate, 4, 1)\n",
    "x1_validate = np.delete(x1_validate, 18, 1)\n",
    "x1_validate = np.delete(x1_validate, 6, 1)\n",
    "x1_validate = np.delete(x1_validate, 3, 1)\n",
    "#x2\n",
    "x2_validate = np.delete(x2_validate, 10, 1)\n",
    "x2_validate = np.delete(x2_validate, 21, 1)\n",
    "x2_validate = np.delete(x2_validate, 4, 1)\n",
    "x2_validate = np.delete(x2_validate, 6, 1)\n",
    "x2_validate = np.delete(x2_validate, 3, 1)\n",
    "x2_validate = np.delete(x2_validate, 4, 1)\n",
    "x2_validate = np.delete(x2_validate, 18, 1)"
   ]
  },
  {
   "cell_type": "code",
   "execution_count": 88,
   "metadata": {},
   "outputs": [
    {
     "name": "stdout",
     "output_type": "stream",
     "text": [
      "(227458, 17)\n",
      "(175338, 19)\n",
      "(165442, 24)\n"
     ]
    }
   ],
   "source": [
    "print(x0_validate.shape)\n",
    "print(x1_validate.shape)\n",
    "print(x2_validate.shape)"
   ]
  },
  {
   "cell_type": "code",
   "execution_count": 89,
   "metadata": {},
   "outputs": [],
   "source": [
    "# Build poly features\n",
    "phi_x0_validate = build_poly(copy.deepcopy(x0_validate), degree0)\n",
    "phi_x1_validate = build_poly(copy.deepcopy(x1_validate), degree1)\n",
    "phi_x2_validate = build_poly(copy.deepcopy(x2_validate), degree2)"
   ]
  },
  {
   "cell_type": "code",
   "execution_count": 90,
   "metadata": {},
   "outputs": [],
   "source": [
    "# Predict outcomes\n",
    "y_pred0 = predict_labels(w0, phi_x0_validate)\n",
    "y_pred1 = predict_labels(w1, phi_x1_validate)\n",
    "y_pred2 = predict_labels(w2, phi_x2_validate)"
   ]
  },
  {
   "cell_type": "code",
   "execution_count": 91,
   "metadata": {},
   "outputs": [
    {
     "data": {
      "image/png": "[encoded data removed]",
      "text/plain": [
       "<Figure size 1080x720 with 6 Axes>"
      ]
     },
     "metadata": {
      "needs_background": "light"
     },
     "output_type": "display_data"
    }
   ],
   "source": [
    "fig = plt.figure(figsize=(15, 10))\n",
    "ax1 = fig.add_subplot(321)\n",
    "ax2 = fig.add_subplot(322)\n",
    "ax3 = fig.add_subplot(323)\n",
    "ax4 = fig.add_subplot(324)\n",
    "ax5 = fig.add_subplot(325)\n",
    "ax6 = fig.add_subplot(326)\n",
    "\n",
    "# Cat 0\n",
    "ax1.plot(np.sort(y0))\n",
    "ax1.title.set_text(\"Train dataset cat0\")\n",
    "ax2.plot(np.sort(y_pred0))\n",
    "ax2.title.set_text(\"Test dataset cat0\")\n",
    "\n",
    "# Cat 1\n",
    "ax3.plot(np.sort(y1))\n",
    "ax3.title.set_text(\"Train dataset cat1\")\n",
    "ax4.plot(np.sort(y_pred1))\n",
    "ax4.title.set_text(\"Test dataset cat23\")\n",
    "\n",
    "# Cat 2 and 3\n",
    "ax5.plot(np.sort(y1))\n",
    "ax5.title.set_text(\"Train dataset cat23\")\n",
    "ax6.plot(np.sort(y_pred1))\n",
    "ax6.title.set_text(\"Test dataset cat23\")\n",
    "\n",
    "plt.tight_layout()  # Optional ... often improves the layout "
   ]
  },
  {
   "cell_type": "code",
   "execution_count": 92,
   "metadata": {},
   "outputs": [],
   "source": [
    "total_length = y_pred0.shape[0] + y_pred1.shape[0] + y_pred2.shape[0]\n",
    "y_pred = np.zeros((total_length,))\n",
    "y_pred[np.where(rows_to_keep_validate0)] = y_pred0\n",
    "y_pred[np.where(rows_to_keep_validate1)] = y_pred1\n",
    "y_pred[np.where(rows_to_keep_validate2)] = y_pred2"
   ]
  },
  {
   "cell_type": "code",
   "execution_count": 93,
   "metadata": {},
   "outputs": [
    {
     "data": {
      "text/plain": [
       "568238"
      ]
     },
     "execution_count": 93,
     "metadata": {},
     "output_type": "execute_result"
    }
   ],
   "source": [
    "total_length"
   ]
  },
  {
   "cell_type": "code",
   "execution_count": 94,
   "metadata": {},
   "outputs": [
    {
     "data": {
      "text/plain": [
       "[<matplotlib.lines.Line2D at 0x131a0d107f0>]"
      ]
     },
     "execution_count": 94,
     "metadata": {},
     "output_type": "execute_result"
    },
    {
     "data": {
      "image/png": "[encoded data removed]",
      "text/plain": [
       "<Figure size 432x288 with 1 Axes>"
      ]
     },
     "metadata": {
      "needs_background": "light"
     },
     "output_type": "display_data"
    }
   ],
   "source": [
    "plt.plot(np.sort(y_pred))"
   ]
  },
  {
   "cell_type": "code",
   "execution_count": 95,
   "metadata": {},
   "outputs": [],
   "source": [
    "time_day = datetime.datetime.now().day\n",
    "time_hour = datetime.datetime.now().hour\n",
    "time_min = datetime.datetime.now().minute\n",
    "time_second = datetime.datetime.now().second\n",
    "\n",
    "time = str(time_day)+\"-\"+str(time_hour)+\"-\"+str(time_min)+\"-\"+str(time_second)\n",
    "\n",
    "OUTPUT_PATH = 'submission'+\"_\"+str(time)+\".csv\"\n",
    "#print(weights_LS.shape)\n",
    "create_csv_submission(ids_test, y_pred, OUTPUT_PATH)"
   ]
  },
  {
   "cell_type": "code",
   "execution_count": null,
   "metadata": {},
   "outputs": [],
   "source": []
  }
 ],
 "metadata": {
  "kernelspec": {
   "display_name": "Python 3",
   "language": "python",
   "name": "python3"
  },
  "language_info": {
   "codemirror_mode": {
    "name": "ipython",
    "version": 3
   },
   "file_extension": ".py",
   "mimetype": "text/x-python",
   "name": "python",
   "nbconvert_exporter": "python",
   "pygments_lexer": "ipython3",
   "version": "3.7.3"
  }
 },
 "nbformat": 4,
 "nbformat_minor": 2
}
