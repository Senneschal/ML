{
 "cells": [
  {
   "cell_type": "code",
   "execution_count": 1,
   "metadata": {},
   "outputs": [],
   "source": [
    "# Useful starting lines\n",
    "%matplotlib inline\n",
    "import numpy as np\n",
    "import matplotlib.pyplot as plt\n",
    "import datetime\n",
    "import copy\n",
    "%load_ext autoreload\n",
    "%autoreload 2"
   ]
  },
  {
   "cell_type": "code",
   "execution_count": 28,
   "metadata": {},
   "outputs": [],
   "source": [
    "%run proj1_helpers.py\n",
    "%run implementations.py"
   ]
  },
  {
   "cell_type": "code",
   "execution_count": 5,
   "metadata": {},
   "outputs": [],
   "source": [
    "DATA_TRAIN_PATH = 'train.csv' # TODO: download train data and supply path here \n",
    "y, tX, ids = load_csv_data(DATA_TRAIN_PATH)"
   ]
  },
  {
   "cell_type": "markdown",
   "metadata": {},
   "source": [
    "## Cleaning the data\n",
    "We see that the column 22 can be used to make categories, since the values of some other columns seems to be proportional to the value of this column."
   ]
  },
  {
   "cell_type": "code",
   "execution_count": 6,
   "metadata": {
    "scrolled": false
   },
   "outputs": [
    {
     "data": {
      "text/plain": [
       "[<matplotlib.lines.Line2D at 0x218810ea550>]"
      ]
     },
     "execution_count": 6,
     "metadata": {},
     "output_type": "execute_result"
    },
    {
     "data": {
      "image/png": "[encoded data removed]",
      "text/plain": [
       "<Figure size 432x288 with 1 Axes>"
      ]
     },
     "metadata": {
      "needs_background": "light"
     },
     "output_type": "display_data"
    }
   ],
   "source": [
    "# categorical column\n",
    "plt.plot(np.sort(tX[:,22]))"
   ]
  },
  {
   "cell_type": "code",
   "execution_count": 12,
   "metadata": {},
   "outputs": [
    {
     "name": "stderr",
     "output_type": "stream",
     "text": [
      "C:\\ProgramData\\Anaconda3\\lib\\site-packages\\numpy\\lib\\nanfunctions.py:959: RuntimeWarning: All-NaN slice encountered\n",
      "  result = np.apply_along_axis(_nanmedian1d, axis, a, overwrite_input)\n"
     ]
    }
   ],
   "source": [
    "# preprocessing\n",
    "categorical_datasets = preprocessing(y,copy.deepcopy(tX))\n",
    "y0, x0 = categorical_datasets[0]\n",
    "y1, x1 = categorical_datasets[1]\n",
    "y2, x2 = categorical_datasets[2]\n",
    "columns_to_keep = categorical_datasets[3]"
   ]
  },
  {
   "cell_type": "code",
   "execution_count": 13,
   "metadata": {},
   "outputs": [
    {
     "name": "stdout",
     "output_type": "stream",
     "text": [
      "(99913, 19)\n",
      "(77544, 23)\n",
      "(72543, 31)\n"
     ]
    }
   ],
   "source": [
    "print(x0.shape)\n",
    "print(x1.shape)\n",
    "print(x2.shape)"
   ]
  },
  {
   "cell_type": "markdown",
   "metadata": {},
   "source": [
    "## Grid search on poly degrees and lambdas"
   ]
  },
  {
   "cell_type": "code",
   "execution_count": 14,
   "metadata": {},
   "outputs": [
    {
     "data": {
      "text/plain": [
       "<Figure size 432x288 with 0 Axes>"
      ]
     },
     "metadata": {},
     "output_type": "display_data"
    }
   ],
   "source": [
    "%run implementations.py"
   ]
  },
  {
   "cell_type": "code",
   "execution_count": 15,
   "metadata": {},
   "outputs": [],
   "source": [
    "## Set hyperparameters\n",
    "lambdas0 = np.logspace(-6, 0, 20)\n",
    "lambdas1 = np.logspace(-6, 0, 20)\n",
    "lambdas2 = np.logspace(-6, 0, 20)\n",
    "\n",
    "degrees0 = [i for i in range(1,10)]\n",
    "degrees1 = [i for i in range(1,10)]\n",
    "degrees2 = [i for i in range(1,10)]"
   ]
  },
  {
   "cell_type": "code",
   "execution_count": 18,
   "metadata": {
    "scrolled": true
   },
   "outputs": [],
   "source": [
    "def grid_search_ridge_regression(y,x,lambdas,degrees):\n",
    "    seed = 1\n",
    "    k_fold = 4\n",
    "    # split data in k fold\n",
    "    k_indices = build_k_indices(y, k_fold, seed)\n",
    "    # define lists to store the loss of training data and test data\n",
    "    data = []\n",
    "    for degree in degrees:\n",
    "        data_nested = []\n",
    "        for lambda_ in lambdas:\n",
    "            train_acc, test_acc, w = cross_validation(y, x, k_indices, 1, lambda_, degree)\n",
    "            data_nested.append([train_acc, test_acc, degree, lambda_])\n",
    "        data_nested = np.array(data_nested)\n",
    "        index_best_value = np.where(data_nested[:,1] == np.amax(data_nested[:,1]))\n",
    "        best_value = data_nested[index_best_value][0]\n",
    "        print(\"Running :: Training accuracy: \",best_value[0],\" ,testing accuracy: \",best_value[1],\" ,degree: \",best_value[2],\" , lambda : \",best_value[3])\n",
    "        data.append(best_value)\n",
    "    data = np.array(data)\n",
    "    index_best_value = np.where(data[:,1] == np.amax(data[:,1]))\n",
    "    best_value = data[index_best_value][0]\n",
    "    print(\"Final :: Training accuracy: \",best_value[0],\" ,testing accuracy: \",best_value[1],\" ,degree: \",best_value[2],\" , lambda : \",best_value[3])\n",
    "    \n",
    "    return best_value[2],best_value[3]"
   ]
  },
  {
   "cell_type": "code",
   "execution_count": 19,
   "metadata": {},
   "outputs": [
    {
     "name": "stdout",
     "output_type": "stream",
     "text": [
      "Running :: Training accuracy:  0.8438625990871967  ,testing accuracy:  0.8334534390263432  ,degree:  1.0  , lambda :  0.0006951927961775605\n",
      "Running :: Training accuracy:  0.844182880935223  ,testing accuracy:  0.8330530867163104  ,degree:  2.0  , lambda :  0.05455594781168514\n",
      "Running :: Training accuracy:  0.8439827047802065  ,testing accuracy:  0.8334134037953399  ,degree:  3.0  , lambda :  0.0006951927961775605\n",
      "Running :: Training accuracy:  0.8452638321723116  ,testing accuracy:  0.8336135799503563  ,degree:  4.0  , lambda :  0.0014384498882876629\n",
      "Running :: Training accuracy:  0.8483065097285611  ,testing accuracy:  0.8366962927376091  ,degree:  5.0  , lambda :  1e-06\n",
      "Running :: Training accuracy:  0.8491872848106333  ,testing accuracy:  0.8371767155096485  ,degree:  6.0  , lambda :  1e-06\n",
      "Running :: Training accuracy:  0.8507486588197614  ,testing accuracy:  0.838377772439747  ,degree:  7.0  , lambda :  1e-06\n",
      "Running :: Training accuracy:  0.8498678837376892  ,testing accuracy:  0.8389382656737929  ,degree:  8.0  , lambda :  1e-06\n",
      "Running :: Training accuracy:  0.8510289054367843  ,testing accuracy:  0.8390583713668028  ,degree:  9.0  , lambda :  1e-06\n",
      "Final :: Training accuracy:  0.8510289054367843  ,testing accuracy:  0.8390583713668028  ,degree:  9.0  , lambda :  1e-06\n"
     ]
    }
   ],
   "source": [
    "degree0, lambda0 = grid_search_ridge_regression(y0,x0,lambdas0,degrees0)"
   ]
  },
  {
   "cell_type": "code",
   "execution_count": 20,
   "metadata": {},
   "outputs": [
    {
     "name": "stdout",
     "output_type": "stream",
     "text": [
      "Running :: Training accuracy:  0.7802022077788094  ,testing accuracy:  0.7733415867120602  ,degree:  1.0  , lambda :  0.026366508987303555\n",
      "Running :: Training accuracy:  0.7815433818219334  ,testing accuracy:  0.7780356958629939  ,degree:  2.0  , lambda :  1e-06\n",
      "Running :: Training accuracy:  0.7877334158671206  ,testing accuracy:  0.7841225626740947  ,degree:  3.0  , lambda :  1e-06\n",
      "Running :: Training accuracy:  0.7944908696997833  ,testing accuracy:  0.7880945011864232  ,degree:  4.0  , lambda :  2.06913808111479e-06\n",
      "Running :: Training accuracy:  0.80258949757557  ,testing accuracy:  0.7953677911895182  ,degree:  5.0  , lambda :  8.858667904100832e-06\n",
      "Running :: Training accuracy:  0.8051686784277313  ,testing accuracy:  0.7978438048075931  ,degree:  6.0  , lambda :  2.06913808111479e-06\n",
      "Running :: Training accuracy:  0.805994016300423  ,testing accuracy:  0.7972763850201177  ,degree:  7.0  , lambda :  4.281332398719396e-06\n",
      "Running :: Training accuracy:  0.805323429278861  ,testing accuracy:  0.7971732177860311  ,degree:  8.0  , lambda :  3.792690190732254e-05\n",
      "Running :: Training accuracy:  0.8072320231094604  ,testing accuracy:  0.7978953884246364  ,degree:  9.0  , lambda :  2.06913808111479e-06\n",
      "Final :: Training accuracy:  0.8072320231094604  ,testing accuracy:  0.7978953884246364  ,degree:  9.0  , lambda :  2.06913808111479e-06\n"
     ]
    }
   ],
   "source": [
    "degree1, lambda1 = grid_search_ridge_regression(y1,x1,lambdas1,degrees1)"
   ]
  },
  {
   "cell_type": "code",
   "execution_count": 21,
   "metadata": {},
   "outputs": [
    {
     "name": "stdout",
     "output_type": "stream",
     "text": [
      "Running :: Training accuracy:  0.8141163496002206  ,testing accuracy:  0.8009925558312655  ,degree:  1.0  , lambda :  1e-06\n",
      "Running :: Training accuracy:  0.8161566032533775  ,testing accuracy:  0.8019299696719051  ,degree:  2.0  , lambda :  0.4832930238571752\n",
      "Running :: Training accuracy:  0.8205128205128205  ,testing accuracy:  0.8052384891094568  ,degree:  3.0  , lambda :  0.4832930238571752\n",
      "Running :: Training accuracy:  0.8290046870692032  ,testing accuracy:  0.8154397573752412  ,degree:  4.0  , lambda :  0.00615848211066026\n",
      "Running :: Training accuracy:  0.8399228012131238  ,testing accuracy:  0.8246484698097601  ,degree:  5.0  , lambda :  1e-06\n",
      "Running :: Training accuracy:  0.8420181968569065  ,testing accuracy:  0.8279018472566859  ,degree:  6.0  , lambda :  8.858667904100832e-06\n",
      "Running :: Training accuracy:  0.8429004687069204  ,testing accuracy:  0.8280121312379377  ,degree:  7.0  , lambda :  1.8329807108324375e-05\n",
      "Running :: Training accuracy:  0.8452715743038324  ,testing accuracy:  0.828673835125448  ,degree:  8.0  , lambda :  1e-06\n",
      "Running :: Training accuracy:  0.8453267162944582  ,testing accuracy:  0.8280672732285635  ,degree:  9.0  , lambda :  2.06913808111479e-06\n",
      "Final :: Training accuracy:  0.8452715743038324  ,testing accuracy:  0.828673835125448  ,degree:  8.0  , lambda :  1e-06\n"
     ]
    }
   ],
   "source": [
    "degree2, lambda2 = grid_search_ridge_regression(y2,x2,lambdas2,degrees2)"
   ]
  },
  {
   "cell_type": "markdown",
   "metadata": {},
   "source": [
    "## Computing the weights with the results from the grid search"
   ]
  },
  {
   "cell_type": "code",
   "execution_count": 22,
   "metadata": {},
   "outputs": [
    {
     "name": "stdout",
     "output_type": "stream",
     "text": [
      "Categorical accuracy train :  0.7581095553131224  || f1_score train:  0.26469132371714155\n"
     ]
    }
   ],
   "source": [
    "degree0 = 9.0\n",
    "lambda0 = 1e-06\n",
    "\n",
    "degree0 = int(degree0)\n",
    "phi_x0 = build_poly(x0, degree0)\n",
    "\n",
    "w0 = ridge_regression(y0, phi_x0, lambda0)[1]\n",
    "\n",
    "cat_accuracy_train, f1_score_train = metrics(w0,y0,phi_x0)\n",
    "print(\"Categorical accuracy train : \",cat_accuracy_train,\" || f1_score train: \",f1_score_train)"
   ]
  },
  {
   "cell_type": "code",
   "execution_count": 23,
   "metadata": {},
   "outputs": [
    {
     "name": "stdout",
     "output_type": "stream",
     "text": [
      "Categorical accuracy train :  0.7892293407613742  || f1_score train:  0.40262027624138674\n"
     ]
    }
   ],
   "source": [
    "degree1 = 9.0\n",
    "lambda1 = 2.06913808111479e-06\n",
    "\n",
    "degree1 = int(degree1)\n",
    "phi_x1 = build_poly(x1, degree1)\n",
    "\n",
    "w1 = ridge_regression(y1, phi_x1, lambda1)[1]\n",
    "\n",
    "cat_accuracy_train, f1_score_train = metrics(w1,y1,phi_x1)\n",
    "print(\"Categorical accuracy train : \",cat_accuracy_train,\" || f1_score train: \",f1_score_train)"
   ]
  },
  {
   "cell_type": "code",
   "execution_count": 24,
   "metadata": {},
   "outputs": [
    {
     "name": "stdout",
     "output_type": "stream",
     "text": [
      "Categorical accuracy train :  0.838206305225866  || f1_score train:  0.5277780596454555\n"
     ]
    }
   ],
   "source": [
    "degree2 = 8.0\n",
    "lambda2 = 1e-06\n",
    "\n",
    "degree2 = int(degree2)\n",
    "phi_x2 = build_poly(x2, degree2)\n",
    "\n",
    "w2 = ridge_regression(y2, phi_x2, lambda2)[1]\n",
    "\n",
    "cat_accuracy_train, f1_score_train = metrics(w2,y2,phi_x2)\n",
    "print(\"Categorical accuracy train : \",cat_accuracy_train,\" || f1_score train: \",f1_score_train)"
   ]
  },
  {
   "cell_type": "markdown",
   "metadata": {},
   "source": [
    "## Generate predictions and save ouput in csv format for submission:"
   ]
  },
  {
   "cell_type": "code",
   "execution_count": 25,
   "metadata": {},
   "outputs": [],
   "source": [
    "DATA_TEST_PATH = 'test.csv'\n",
    "_, tX_test, ids_test = load_csv_data(DATA_TEST_PATH)"
   ]
  },
  {
   "cell_type": "code",
   "execution_count": 29,
   "metadata": {},
   "outputs": [],
   "source": [
    "# preprocessing\n",
    "categorical_datasets_test = preprocessing(_,copy.deepcopy(tX_test), train = False, columns_to_keep = columns_to_keep)\n",
    "x0_test = categorical_datasets_test[0]\n",
    "x1_test = categorical_datasets_test[1]\n",
    "x2_test = categorical_datasets_test[2]\n",
    "rows_to_keep0 = categorical_datasets_test[3]\n",
    "rows_to_keep1 = categorical_datasets_test[4]\n",
    "rows_to_keep2 = categorical_datasets_test[5]"
   ]
  },
  {
   "cell_type": "code",
   "execution_count": 30,
   "metadata": {},
   "outputs": [
    {
     "name": "stdout",
     "output_type": "stream",
     "text": [
      "(227458, 19)\n",
      "(175338, 23)\n",
      "(165442, 31)\n"
     ]
    }
   ],
   "source": [
    "print(x0_test.shape)\n",
    "print(x1_test.shape)\n",
    "print(x2_test.shape)"
   ]
  },
  {
   "cell_type": "code",
   "execution_count": 31,
   "metadata": {},
   "outputs": [],
   "source": [
    "# Build poly features\n",
    "phi_x0_test = build_poly(x0_test, degree0)\n",
    "phi_x1_test = build_poly(x1_test, degree1)\n",
    "phi_x2_test = build_poly(x2_test, degree2)"
   ]
  },
  {
   "cell_type": "code",
   "execution_count": 32,
   "metadata": {},
   "outputs": [],
   "source": [
    "# Predict outcomes\n",
    "y_pred0 = predict_labels(w0, phi_x0_test)\n",
    "y_pred1 = predict_labels(w1, phi_x1_test)\n",
    "y_pred2 = predict_labels(w2, phi_x2_test)"
   ]
  },
  {
   "cell_type": "code",
   "execution_count": 33,
   "metadata": {},
   "outputs": [],
   "source": [
    "total_length = y_pred0.shape[0] + y_pred1.shape[0] + y_pred2.shape[0]\n",
    "y_pred = np.zeros((total_length,))\n",
    "y_pred[np.where(rows_to_keep0)] = y_pred0\n",
    "y_pred[np.where(rows_to_keep1)] = y_pred1\n",
    "y_pred[np.where(rows_to_keep2)] = y_pred2"
   ]
  },
  {
   "cell_type": "code",
   "execution_count": 34,
   "metadata": {},
   "outputs": [
    {
     "data": {
      "text/plain": [
       "[<matplotlib.lines.Line2D at 0x2188558d1d0>]"
      ]
     },
     "execution_count": 34,
     "metadata": {},
     "output_type": "execute_result"
    },
    {
     "data": {
      "image/png": "[encoded data removed]",
      "text/plain": [
       "<Figure size 432x288 with 1 Axes>"
      ]
     },
     "metadata": {
      "needs_background": "light"
     },
     "output_type": "display_data"
    }
   ],
   "source": [
    "plt.plot(np.sort(y_pred))"
   ]
  },
  {
   "cell_type": "code",
   "execution_count": 277,
   "metadata": {},
   "outputs": [],
   "source": [
    "time_day = datetime.datetime.now().day\n",
    "time_hour = datetime.datetime.now().hour\n",
    "time_min = datetime.datetime.now().minute\n",
    "time_second = datetime.datetime.now().second\n",
    "\n",
    "time = str(time_day)+\"-\"+str(time_hour)+\"-\"+str(time_min)+\"-\"+str(time_second)\n",
    "\n",
    "OUTPUT_PATH = 'submission'+\"_\"+str(time)+\".csv\"\n",
    "#print(weights_LS.shape)\n",
    "create_csv_submission(ids_test, y_pred, OUTPUT_PATH)"
   ]
  },
  {
   "cell_type": "code",
   "execution_count": null,
   "metadata": {},
   "outputs": [],
   "source": []
  }
 ],
 "metadata": {
  "kernelspec": {
   "display_name": "Python 3",
   "language": "python",
   "name": "python3"
  },
  "language_info": {
   "codemirror_mode": {
    "name": "ipython",
    "version": 3
   },
   "file_extension": ".py",
   "mimetype": "text/x-python",
   "name": "python",
   "nbconvert_exporter": "python",
   "pygments_lexer": "ipython3",
   "version": "3.7.3"
  }
 },
 "nbformat": 4,
 "nbformat_minor": 2
}
