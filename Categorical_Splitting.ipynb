{
 "cells": [
  {
   "cell_type": "code",
   "execution_count": 139,
   "metadata": {},
   "outputs": [
    {
     "name": "stdout",
     "output_type": "stream",
     "text": [
      "The autoreload extension is already loaded. To reload it, use:\n",
      "  %reload_ext autoreload\n"
     ]
    }
   ],
   "source": [
    "# Useful starting lines\n",
    "%matplotlib inline\n",
    "import numpy as np\n",
    "import matplotlib.pyplot as plt\n",
    "import datetime\n",
    "%load_ext autoreload\n",
    "%autoreload 2"
   ]
  },
  {
   "cell_type": "code",
   "execution_count": 140,
   "metadata": {},
   "outputs": [],
   "source": [
    "%run proj1_helpers.py\n",
    "DATA_TRAIN_PATH = 'train.csv' # TODO: download train data and supply path here \n",
    "y, tX, ids = load_csv_data(DATA_TRAIN_PATH)"
   ]
  },
  {
   "cell_type": "markdown",
   "metadata": {},
   "source": [
    "## Cleaning the data\n",
    "We see that the column 22 can be used to make categories, since the values of some other columns seems to be proportional to the value of this column."
   ]
  },
  {
   "cell_type": "code",
   "execution_count": 141,
   "metadata": {
    "scrolled": true
   },
   "outputs": [
    {
     "data": {
      "image/png": "[encoded data removed]",
      "text/plain": [
       "<Figure size 432x288 with 1 Axes>"
      ]
     },
     "metadata": {
      "needs_background": "light"
     },
     "output_type": "display_data"
    }
   ],
   "source": [
    "# categorical column\n",
    "plt.plot(np.sort(tX[:,22]))\n",
    "tx = tX.copy()"
   ]
  },
  {
   "cell_type": "code",
   "execution_count": 142,
   "metadata": {},
   "outputs": [],
   "source": [
    "# split data into 4 different catagories\n",
    "\n",
    "Indices0 = tx[:,22]==0\n",
    "x0 = tx[np.where(Indices0)]\n",
    "\n",
    "Indices1 = tx[:,22]==1\n",
    "x1 = tx[np.where(Indices1)]\n",
    "\n",
    "Indices2 = tx[:,22]==2\n",
    "x2 = tx[np.where(Indices2)]\n",
    "\n",
    "Indices3 = tx[:,22]==3\n",
    "x3 = tx[np.where(Indices3)]"
   ]
  },
  {
   "cell_type": "code",
   "execution_count": 143,
   "metadata": {},
   "outputs": [
    {
     "name": "stderr",
     "output_type": "stream",
     "text": [
      "C:\\ProgramData\\Anaconda3\\lib\\site-packages\\numpy\\lib\\nanfunctions.py:959: RuntimeWarning: All-NaN slice encountered\n",
      "  result = np.apply_along_axis(_nanmedian1d, axis, a, overwrite_input)\n"
     ]
    }
   ],
   "source": [
    "# set the -999 to the median of the column\n",
    "\n",
    "x0 = np.where(x0==-999, np.nan, x0)\n",
    "col_median = np.nanmedian(x0, axis=0)\n",
    "inds_nan = np.where(np.isnan(x0))\n",
    "x0[inds_nan] = np.take(col_median, inds_nan[1])\n",
    "\n",
    "x1 = np.where(x1==-999, np.nan, x1)\n",
    "col_median = np.nanmedian(x1, axis=0)\n",
    "inds_nan = np.where(np.isnan(x1))\n",
    "x1[inds_nan] = np.take(col_median, inds_nan[1])\n",
    "\n",
    "x2 = np.where(x2==-999, np.nan, x2)\n",
    "col_median = np.nanmedian(x2, axis=0)\n",
    "inds_nan = np.where(np.isnan(x2))\n",
    "x2[inds_nan] = np.take(col_median, inds_nan[1])\n",
    "\n",
    "x3 = np.where(x3==-999, np.nan, x3)\n",
    "col_median = np.nanmedian(x3, axis=0)\n",
    "inds_nan = np.where(np.isnan(x3))\n",
    "x3[inds_nan] = np.take(col_median, inds_nan[1])\n"
   ]
  },
  {
   "cell_type": "code",
   "execution_count": 144,
   "metadata": {},
   "outputs": [],
   "source": [
    "# remove the nan columns\n",
    "\n",
    "x0 = x0[:,~np.all(np.isnan(x0), axis=0)]\n",
    "x1 = x1[:,~np.all(np.isnan(x1), axis=0)]\n",
    "x2 = x2[:,~np.all(np.isnan(x2), axis=0)]\n",
    "x3 = x3[:,~np.all(np.isnan(x3), axis=0)]"
   ]
  },
  {
   "cell_type": "code",
   "execution_count": 145,
   "metadata": {},
   "outputs": [
    {
     "name": "stdout",
     "output_type": "stream",
     "text": [
      "(99913, 20)\n",
      "(77544, 23)\n",
      "(50379, 30)\n",
      "(22164, 30)\n"
     ]
    }
   ],
   "source": [
    "print(x0.shape)\n",
    "print(x1.shape)\n",
    "print(x2.shape)\n",
    "print(x3.shape)"
   ]
  },
  {
   "cell_type": "code",
   "execution_count": 146,
   "metadata": {},
   "outputs": [],
   "source": [
    "# normalize the datasets\n",
    "\n",
    "minmax = dataset_minmax(x0)\n",
    "x0_normalized = np.copy(x0)\n",
    "normalize_dataset(x0_normalized, minmax)\n",
    "\n",
    "minmax = dataset_minmax(x1)\n",
    "x1_normalized = np.copy(x1)\n",
    "normalize_dataset(x1_normalized, minmax)\n",
    "\n",
    "minmax = dataset_minmax(x2)\n",
    "x2_normalized = np.copy(x2)\n",
    "normalize_dataset(x2_normalized, minmax)\n",
    "\n",
    "minmax = dataset_minmax(x3)\n",
    "x3_normalized = np.copy(x3)\n",
    "normalize_dataset(x3_normalized, minmax)"
   ]
  },
  {
   "cell_type": "code",
   "execution_count": 147,
   "metadata": {},
   "outputs": [],
   "source": [
    "# Remove the 0 columns\n",
    "\n",
    "idx = np.argwhere(np.all(x0[..., :] == 0, axis=0))\n",
    "x0 = np.delete(x0, idx, axis=1)\n",
    "\n",
    "idx = np.argwhere(np.all(x1[..., :] == 0, axis=0))\n",
    "x1 = np.delete(x1, idx, axis=1)\n",
    "\n",
    "idx = np.argwhere(np.all(x2[..., :] == 0, axis=0))\n",
    "x2 = np.delete(x2, idx, axis=1)\n",
    "\n",
    "idx = np.argwhere(np.all(x3[..., :] == 0, axis=0))\n",
    "x3 = np.delete(x3, idx, axis=1)\n"
   ]
  },
  {
   "cell_type": "code",
   "execution_count": 148,
   "metadata": {},
   "outputs": [],
   "source": [
    "x0 = np.insert(x0, 0, 1, axis=1)\n",
    "x1 = np.insert(x1, 0, 1, axis=1)\n",
    "x2 = np.insert(x2, 0, 1, axis=1)\n",
    "x3 = np.insert(x3, 0, 1, axis=1)"
   ]
  },
  {
   "cell_type": "code",
   "execution_count": 149,
   "metadata": {},
   "outputs": [
    {
     "name": "stdout",
     "output_type": "stream",
     "text": [
      "(99913, 19)\n",
      "(77544, 24)\n",
      "(50379, 31)\n",
      "(22164, 31)\n"
     ]
    }
   ],
   "source": [
    "print(x0.shape)\n",
    "print(x1.shape)\n",
    "print(x2.shape)\n",
    "print(x3.shape)"
   ]
  },
  {
   "cell_type": "code",
   "execution_count": 150,
   "metadata": {},
   "outputs": [],
   "source": [
    "y0 = y[Indices0]\n",
    "y1 = y[Indices1]\n",
    "y2 = y[Indices2]\n",
    "y3 = y[Indices3]"
   ]
  },
  {
   "cell_type": "code",
   "execution_count": 151,
   "metadata": {},
   "outputs": [
    {
     "name": "stdout",
     "output_type": "stream",
     "text": [
      "(99913,)\n",
      "(77544,)\n",
      "(50379,)\n",
      "(22164,)\n"
     ]
    }
   ],
   "source": [
    "print(y0.shape)\n",
    "print(y1.shape)\n",
    "print(y2.shape)\n",
    "print(y3.shape)"
   ]
  },
  {
   "cell_type": "markdown",
   "metadata": {},
   "source": [
    "## Test on different models"
   ]
  },
  {
   "cell_type": "code",
   "execution_count": 176,
   "metadata": {},
   "outputs": [],
   "source": [
    "%run implementations.py"
   ]
  },
  {
   "cell_type": "code",
   "execution_count": 66,
   "metadata": {},
   "outputs": [
    {
     "name": "stdout",
     "output_type": "stream",
     "text": [
      "Categorical accuracy train :  0.8100947824607408  || f1_score train:  0.22805306281701132\n"
     ]
    }
   ],
   "source": [
    "n0 = x0.shape[1]\n",
    "weights_LS0 = least_squares_SGD(y0, x0, np.zeros(n0), 100, 0.000001)[1]\n",
    "cat_accuracy_train, f1_score_train = metrics(weights_LS0,y0,x0)\n",
    "print(\"Categorical accuracy train : \",cat_accuracy_train,\" || f1_score train: \",f1_score_train)"
   ]
  },
  {
   "cell_type": "code",
   "execution_count": 118,
   "metadata": {},
   "outputs": [
    {
     "name": "stdout",
     "output_type": "stream",
     "text": [
      "Categorical accuracy train :  0.6859847312493552  || f1_score train:  0.26231932773109246\n"
     ]
    }
   ],
   "source": [
    "weights_LS1 = least_squares_GD(y1, x1, np.zeros(x1.shape[1]), 5000, 0.000001)[1]\n",
    "cat_accuracy_train, f1_score_train = metrics(weights_LS1,y1,x1)\n",
    "print(\"Categorical accuracy train : \",cat_accuracy_train,\" || f1_score train: \",f1_score_train)"
   ]
  },
  {
   "cell_type": "code",
   "execution_count": 88,
   "metadata": {},
   "outputs": [
    {
     "name": "stdout",
     "output_type": "stream",
     "text": [
      "Categorical accuracy train :  0.7079140117906271  || f1_score train:  0.5066473003216196\n"
     ]
    }
   ],
   "source": [
    "weights_LS2 = least_squares_GD(y2, x2, np.zeros(x2.shape[1]), 1000, 0.000001)[1]\n",
    "cat_accuracy_train, f1_score_train = metrics(weights_LS2,y2,x2)\n",
    "print(\"Categorical accuracy train : \",cat_accuracy_train,\" || f1_score train: \",f1_score_train)"
   ]
  },
  {
   "cell_type": "code",
   "execution_count": 179,
   "metadata": {},
   "outputs": [
    {
     "name": "stdout",
     "output_type": "stream",
     "text": [
      "Categorical accuracy train :  0.7148980328460567  || f1_score train:  0.1030469017459774\n"
     ]
    }
   ],
   "source": [
    "weights_LS3 = least_squares_GD(y3, x3, np.zeros(x3.shape[1]), 1000, 0.000001)[1]\n",
    "cat_accuracy_train, f1_score_train = metrics(weights_LS3,y3,x3)\n",
    "print(\"Categorical accuracy train : \",cat_accuracy_train,\" || f1_score train: \",f1_score_train)"
   ]
  },
  {
   "cell_type": "markdown",
   "metadata": {},
   "source": [
    "## Generate predictions and save ouput in csv format for submission:"
   ]
  },
  {
   "cell_type": "code",
   "execution_count": 29,
   "metadata": {},
   "outputs": [],
   "source": [
    "DATA_TEST_PATH = 'test.csv'\n",
    "_, tX_test, ids_test = load_csv_data(DATA_TEST_PATH)"
   ]
  },
  {
   "cell_type": "code",
   "execution_count": 30,
   "metadata": {},
   "outputs": [],
   "source": [
    "# split data into 4 different catagories\n",
    "\n",
    "Indices0 = tX_test[:,22]==0\n",
    "x0_test = tX_test[np.where(Indices0)]\n",
    "\n",
    "Indices1 = tX_test[:,22]==1\n",
    "x1_test = tX_test[np.where(Indices1)]\n",
    "\n",
    "Indices2 = tX_test[:,22]==2\n",
    "x2_test = tX_test[np.where(Indices2)]\n",
    "\n",
    "Indices3 = tX_test[:,22]==3\n",
    "x3_test = tX_test[np.where(Indices3)]\n",
    "\n",
    "# set the -999 to the median of the column\n",
    "\n",
    "x0_test = np.where(x0_test==-999, np.nan, x0_test)\n",
    "col_median = np.nanmedian(x0_test, axis=0)\n",
    "inds_nan = np.where(np.isnan(x0_test))\n",
    "x0_test[inds_nan] = np.take(col_median, inds_nan[1])\n",
    "\n",
    "x1_test = np.where(x1_test==-999, np.nan, x1_test)\n",
    "col_median = np.nanmedian(x1_test, axis=0)\n",
    "inds_nan = np.where(np.isnan(x1_test))\n",
    "x1_test[inds_nan] = np.take(col_median, inds_nan[1])\n",
    "\n",
    "x2_test = np.where(x2_test==-999, np.nan, x2_test)\n",
    "col_median = np.nanmedian(x2_test, axis=0)\n",
    "inds_nan = np.where(np.isnan(x2_test))\n",
    "x2_test[inds_nan] = np.take(col_median, inds_nan[1])\n",
    "\n",
    "x3_test = np.where(x3_test==-999, np.nan, x3_test)\n",
    "col_median = np.nanmedian(x3_test, axis=0)\n",
    "inds_nan = np.where(np.isnan(x3_test))\n",
    "x3_test[inds_nan] = np.take(col_median, inds_nan[1])\n",
    "\n",
    "# remove the nan collumns\n",
    "\n",
    "x0_test = x0_test[:,~np.all(np.isnan(x0_test), axis=0)]\n",
    "x1_test = x1_test[:,~np.all(np.isnan(x1_test), axis=0)]\n",
    "x2_test = x2_test[:,~np.all(np.isnan(x2_test), axis=0)]\n",
    "x3_test = x3_test[:,~np.all(np.isnan(x3_test), axis=0)]\n",
    "\n",
    "# normalize the datasets\n",
    "\n",
    "minmax = dataset_minmax(x0_test)\n",
    "x0_normalized_test = np.copy(x0_test)\n",
    "normalize_dataset(x0_normalized_test, minmax)\n",
    "\n",
    "minmax = dataset_minmax(x1_test)\n",
    "x1_normalized_test = np.copy(x1_test)\n",
    "normalize_dataset(x1_normalized_test, minmax)\n",
    "\n",
    "minmax = dataset_minmax(x2_test)\n",
    "x2_normalized_test = np.copy(x2_test)\n",
    "normalize_dataset(x2_normalized_test, minmax)\n",
    "\n",
    "minmax = dataset_minmax(x3_test)\n",
    "x3_normalized_test = np.copy(x3_test)\n",
    "normalize_dataset(x3_normalized_test, minmax)\n",
    "\n",
    "x0_test = x0_test[:,:-2] #Why?"
   ]
  },
  {
   "cell_type": "code",
   "execution_count": 31,
   "metadata": {},
   "outputs": [
    {
     "name": "stdout",
     "output_type": "stream",
     "text": [
      "(227458, 18)\n",
      "(175338, 23)\n",
      "(114648, 30)\n",
      "(50794, 30)\n"
     ]
    }
   ],
   "source": [
    "print(x0_test.shape)\n",
    "print(x1_test.shape)\n",
    "print(x2_test.shape)\n",
    "print(x3_test.shape)"
   ]
  },
  {
   "cell_type": "code",
   "execution_count": 34,
   "metadata": {},
   "outputs": [],
   "source": [
    "x0_test = np.insert(x0_test, 0, 1, axis=1)\n",
    "x1_test = np.insert(x1_test, 0, 1, axis=1)\n",
    "x2_test = np.insert(x2_test, 0, 1, axis=1)\n",
    "x3_test = np.insert(x3_test, 0, 1, axis=1)"
   ]
  },
  {
   "cell_type": "code",
   "execution_count": 35,
   "metadata": {},
   "outputs": [],
   "source": [
    "y_pred0 = predict_labels(weights_LS0, x0_test)\n",
    "y_pred1 = predict_labels(weights_LS1, x1_test)\n",
    "y_pred2 = predict_labels(weights_LS2, x2_test)\n",
    "y_pred3 = predict_labels(weights_LS3, x3_test)"
   ]
  },
  {
   "cell_type": "code",
   "execution_count": 36,
   "metadata": {},
   "outputs": [],
   "source": [
    "total_length = y_pred0.shape[0] + y_pred1.shape[0] + y_pred2.shape[0] + y_pred3.shape[0] \n",
    "y_pred = np.zeros((total_length,))\n",
    "y_pred[Indices0==1] = y_pred0\n",
    "y_pred[Indices1==1] = y_pred1\n",
    "y_pred[Indices2==1] = y_pred2\n",
    "y_pred[Indices3==1] = y_pred3"
   ]
  },
  {
   "cell_type": "code",
   "execution_count": 37,
   "metadata": {},
   "outputs": [
    {
     "data": {
      "text/plain": [
       "array([-1., -1., -1., ...,  1., -1., -1.])"
      ]
     },
     "execution_count": 37,
     "metadata": {},
     "output_type": "execute_result"
    }
   ],
   "source": [
    "y_pred"
   ]
  },
  {
   "cell_type": "code",
   "execution_count": 38,
   "metadata": {},
   "outputs": [],
   "source": [
    "time_day = datetime.datetime.now().day\n",
    "time_hour = datetime.datetime.now().hour\n",
    "time_min = datetime.datetime.now().minute\n",
    "time_second = datetime.datetime.now().second\n",
    "\n",
    "time = str(time_day)+\"-\"+str(time_hour)+\"-\"+str(time_min)+\"-\"+str(time_second)\n",
    "\n",
    "OUTPUT_PATH = 'submission'+\"_\"+str(time)+\".csv\"\n",
    "#print(weights_LS.shape)\n",
    "create_csv_submission(ids_test, y_pred, OUTPUT_PATH)"
   ]
  },
  {
   "cell_type": "code",
   "execution_count": 39,
   "metadata": {},
   "outputs": [],
   "source": [
    "#TO DO: \n",
    "# use better algorithm than simple Least Squares and ridge regression"
   ]
  }
 ],
 "metadata": {
  "kernelspec": {
   "display_name": "Python 3",
   "language": "python",
   "name": "python3"
  },
  "language_info": {
   "codemirror_mode": {
    "name": "ipython",
    "version": 3
   },
   "file_extension": ".py",
   "mimetype": "text/x-python",
   "name": "python",
   "nbconvert_exporter": "python",
   "pygments_lexer": "ipython3",
   "version": "3.7.3"
  }
 },
 "nbformat": 4,
 "nbformat_minor": 2
}
