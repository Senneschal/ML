{
 "cells": [
  {
   "cell_type": "code",
   "execution_count": 203,
   "metadata": {},
   "outputs": [
    {
     "name": "stdout",
     "output_type": "stream",
     "text": [
      "The autoreload extension is already loaded. To reload it, use:\n",
      "  %reload_ext autoreload\n"
     ]
    }
   ],
   "source": [
    "# Useful starting lines\n",
    "%matplotlib inline\n",
    "import numpy as np\n",
    "import matplotlib.pyplot as plt\n",
    "import datetime\n",
    "import copy\n",
    "%load_ext autoreload\n",
    "%autoreload 2"
   ]
  },
  {
   "cell_type": "code",
   "execution_count": 266,
   "metadata": {},
   "outputs": [],
   "source": [
    "%run proj1_helpers.py\n",
    "%run implementations.py"
   ]
  },
  {
   "cell_type": "code",
   "execution_count": null,
   "metadata": {},
   "outputs": [],
   "source": [
    "DATA_TRAIN_PATH = 'train.csv' # TODO: download train data and supply path here \n",
    "y, tX, ids = load_csv_data(DATA_TRAIN_PATH)"
   ]
  },
  {
   "cell_type": "markdown",
   "metadata": {},
   "source": [
    "## Cleaning the data\n",
    "We see that the column 22 can be used to make categories, since the values of some other columns seems to be proportional to the value of this column."
   ]
  },
  {
   "cell_type": "code",
   "execution_count": 13,
   "metadata": {
    "scrolled": false
   },
   "outputs": [
    {
     "data": {
      "image/png": "[encoded data removed]",
      "text/plain": [
       "<Figure size 432x288 with 1 Axes>"
      ]
     },
     "metadata": {
      "needs_background": "light"
     },
     "output_type": "display_data"
    }
   ],
   "source": [
    "# categorical column\n",
    "plt.plot(np.sort(tX[:,22]))"
   ]
  },
  {
   "cell_type": "code",
   "execution_count": 263,
   "metadata": {},
   "outputs": [],
   "source": [
    "# preprocessing\n",
    "categorical_datasets = preprocessing(y,copy.deepcopy(tX))\n",
    "y0, x0 = categorical_datasets[0]\n",
    "y1, x1 = categorical_datasets[1]\n",
    "y2, x2 = categorical_datasets[2]\n",
    "y3, x3 = categorical_datasets[3]\n",
    "columns_to_keep = categorical_datasets[4]"
   ]
  },
  {
   "cell_type": "code",
   "execution_count": 264,
   "metadata": {},
   "outputs": [
    {
     "name": "stdout",
     "output_type": "stream",
     "text": [
      "(99913, 19)\n",
      "(77544, 23)\n",
      "(50379, 30)\n",
      "(22164, 30)\n"
     ]
    }
   ],
   "source": [
    "print(x0.shape)\n",
    "print(x1.shape)\n",
    "print(x2.shape)\n",
    "print(x3.shape)"
   ]
  },
  {
   "cell_type": "markdown",
   "metadata": {},
   "source": [
    "## Grid search on poly degrees and lambdas"
   ]
  },
  {
   "cell_type": "code",
   "execution_count": 87,
   "metadata": {},
   "outputs": [],
   "source": [
    "%run implementations.py"
   ]
  },
  {
   "cell_type": "code",
   "execution_count": 93,
   "metadata": {},
   "outputs": [],
   "source": [
    "## Set hyperparameters\n",
    "lambdas0 = np.logspace(-6, 0, 20)\n",
    "lambdas1 = np.logspace(-6, 0, 20)\n",
    "lambdas2 = np.logspace(-6, 0, 20)\n",
    "lambdas3 = np.logspace(-6, 0, 20)\n",
    "\n",
    "degrees0 = [i for i in range(10,20)]\n",
    "degrees1 = [i for i in range(10,20)]\n",
    "degrees2 = [i for i in range(10,20)]\n",
    "degrees3 = [i for i in range(10,20)]"
   ]
  },
  {
   "cell_type": "code",
   "execution_count": 94,
   "metadata": {
    "scrolled": true
   },
   "outputs": [],
   "source": [
    "def grid_search_ridge_regression(y,x,lambdas,degrees):\n",
    "    seed = 1\n",
    "    k_fold = 4\n",
    "    # split data in k fold\n",
    "    k_indices = build_k_indices(y, k_fold, seed)\n",
    "    # define lists to store the loss of training data and test data\n",
    "    data = []\n",
    "    for degree in degrees:\n",
    "        data_nested = []\n",
    "        for lambda_ in lambdas:\n",
    "            train_acc, test_acc, w = cross_validation(y, x, k_indices, 5, lambda_, degree)\n",
    "            data_nested.append([train_acc, test_acc, degree, lambda_])\n",
    "        data_nested = np.array(data_nested)\n",
    "        index_best_value = np.where(data_nested[:,1] == np.amax(data_nested[:,1]))\n",
    "        best_value = data_nested[index_best_value][0]\n",
    "        print(\"Running :: Training accuracy: \",best_value[0],\" ,testing accuracy: \",best_value[1],\" ,degree: \",best_value[2],\" , lambda : \",best_value[3])\n",
    "        data.append(best_value)\n",
    "    data = np.array(data)\n",
    "    index_best_value = np.where(data[:,1] == np.amax(data[:,1]))\n",
    "    best_value = data[index_best_value][0]\n",
    "    print(\"Final :: Training accuracy: \",best_value[0],\" ,testing accuracy: \",best_value[1],\" ,degree: \",best_value[2],\" , lambda : \",best_value[3])\n",
    "    \n",
    "    return best_value[2],best_value[3]"
   ]
  },
  {
   "cell_type": "code",
   "execution_count": 95,
   "metadata": {},
   "outputs": [
    {
     "name": "stdout",
     "output_type": "stream",
     "text": [
      "[8.50580511e-01 8.44831452e-01 1.00000000e+01 2.06913808e-06]\n",
      "Training accuracy:  0.8505805108495477  ,testing accuracy:  0.8448314516774762  ,degree:  10.0  , lambda :  2.06913808111479e-06\n",
      "[8.50460405e-01 8.45071663e-01 1.10000000e+01 1.00000000e-06]\n",
      "Training accuracy:  0.8504604051565379  ,testing accuracy:  0.8450716630634959  ,degree:  11.0  , lambda :  1e-06\n",
      "[8.50788694e-01 8.44791416e-01 1.20000000e+01 2.06913808e-06]\n",
      "Training accuracy:  0.8507886940507646  ,testing accuracy:  0.8447914164464729  ,degree:  12.0  , lambda :  2.06913808111479e-06\n",
      "[8.50476419e-01 8.44991593e-01 1.30000000e+01 2.06913808e-06]\n",
      "Training accuracy:  0.8504764192489391  ,testing accuracy:  0.8449915926014893  ,degree:  13.0  , lambda :  2.06913808111479e-06\n",
      "[8.50540476e-01 8.45119705e-01 1.40000000e+01 2.06913808e-06]\n",
      "Training accuracy:  0.8505404756185444  ,testing accuracy:  0.8451197053406998  ,degree:  14.0  , lambda :  2.06913808111479e-06\n",
      "[8.50580511e-01 8.45143726e-01 1.50000000e+01 4.28133240e-06]\n",
      "Training accuracy:  0.8505805108495477  ,testing accuracy:  0.8451437264793018  ,degree:  15.0  , lambda :  4.281332398719396e-06\n",
      "[8.50308271e-01 8.45095684e-01 1.60000000e+01 2.06913808e-06]\n",
      "Training accuracy:  0.8503082712787254  ,testing accuracy:  0.8450956842020979  ,degree:  16.0  , lambda :  2.06913808111479e-06\n",
      "[8.50612539e-01 8.45423973e-01 1.70000000e+01 1.00000000e-06]\n",
      "Training accuracy:  0.8506125390343502  ,testing accuracy:  0.8454239730963249  ,degree:  17.0  , lambda :  1e-06\n",
      "[8.51413244e-01 8.45167748e-01 1.80000000e+01 1.00000000e-06]\n",
      "Training accuracy:  0.851413243654416  ,testing accuracy:  0.8451677476179038  ,degree:  18.0  , lambda :  1e-06\n",
      "[8.50676595e-01 8.45159741e-01 1.90000000e+01 4.28133240e-06]\n",
      "Training accuracy:  0.8506765954039555  ,testing accuracy:  0.8451597405717031  ,degree:  19.0  , lambda :  4.281332398719396e-06\n",
      "Training accuracy:  0.8506125390343502  ,testing accuracy:  0.8454239730963249  ,degree:  17.0  , lambda :  1e-06\n"
     ]
    }
   ],
   "source": [
    "degree0, lambda0 = grid_search_ridge_regression(y0,x0_normalized,lambdas0,degrees0)"
   ]
  },
  {
   "cell_type": "code",
   "execution_count": 96,
   "metadata": {},
   "outputs": [
    {
     "name": "stdout",
     "output_type": "stream",
     "text": [
      "[8.1038894e-01 8.0302280e-01 1.0000000e+01 1.0000000e-06]\n",
      "Training accuracy:  0.810388940472506  ,testing accuracy:  0.803022799958733  ,degree:  10.0  , lambda :  1e-06\n",
      "[8.10667492e-01 8.03342618e-01 1.10000000e+01 1.00000000e-06]\n",
      "Training accuracy:  0.8106674920045392  ,testing accuracy:  0.803342618384401  ,degree:  11.0  , lambda :  1e-06\n",
      "[8.09893738e-01 8.01980811e-01 1.20000000e+01 2.06913808e-06]\n",
      "Training accuracy:  0.8098937377488908  ,testing accuracy:  0.8019808108944598  ,degree:  12.0  , lambda :  2.06913808111479e-06\n",
      "[8.09150934e-01 8.03053750e-01 1.30000000e+01 1.00000000e-06]\n",
      "Training accuracy:  0.8091509336634685  ,testing accuracy:  0.803053750128959  ,degree:  13.0  , lambda :  1e-06\n",
      "[8.11307129e-01 8.03156917e-01 1.40000000e+01 1.00000000e-06]\n",
      "Training accuracy:  0.8113071288558753  ,testing accuracy:  0.8031569173630455  ,degree:  14.0  , lambda :  1e-06\n",
      "[8.11441246e-01 8.03022800e-01 1.50000000e+01 1.00000000e-06]\n",
      "Training accuracy:  0.8114412462601879  ,testing accuracy:  0.803022799958733  ,degree:  15.0  , lambda :  1e-06\n",
      "[8.10069122e-01 8.02414113e-01 1.60000000e+01 2.06913808e-06]\n",
      "Training accuracy:  0.8100691220468379  ,testing accuracy:  0.8024141132776231  ,degree:  16.0  , lambda :  2.06913808111479e-06\n",
      "[8.10853193e-01 8.02476014e-01 1.70000000e+01 2.06913808e-06]\n",
      "Training accuracy:  0.810853193025895  ,testing accuracy:  0.8024760136180749  ,degree:  17.0  , lambda :  2.06913808111479e-06\n",
      "[8.11946766e-01 8.03559270e-01 1.80000000e+01 1.00000000e-06]\n",
      "Training accuracy:  0.8119467657072115  ,testing accuracy:  0.8035592695759826  ,degree:  18.0  , lambda :  1e-06\n",
      "[8.10832560e-01 8.02414113e-01 1.90000000e+01 2.06913808e-06]\n",
      "Training accuracy:  0.8108325595790775  ,testing accuracy:  0.8024141132776231  ,degree:  19.0  , lambda :  2.06913808111479e-06\n",
      "Training accuracy:  0.8119467657072115  ,testing accuracy:  0.8035592695759826  ,degree:  18.0  , lambda :  1e-06\n"
     ]
    }
   ],
   "source": [
    "degree1, lambda1 = grid_search_ridge_regression(y1,x1_normalized,lambdas1,degrees1)"
   ]
  },
  {
   "cell_type": "code",
   "execution_count": 97,
   "metadata": {},
   "outputs": [
    {
     "name": "stdout",
     "output_type": "stream",
     "text": [
      "[8.49356837e-01 8.33047483e-01 1.00000000e+01 1.00000000e-06]\n",
      "Training accuracy:  0.8493568365888517  ,testing accuracy:  0.8330474829283785  ,degree:  10.0  , lambda :  1e-06\n",
      "[8.50214388e-01 8.34159123e-01 1.10000000e+01 1.00000000e-06]\n",
      "Training accuracy:  0.8502143878037159  ,testing accuracy:  0.8341591233920914  ,degree:  11.0  , lambda :  1e-06\n",
      "[8.49880896e-01 8.34603780e-01 1.20000000e+01 1.00000000e-06]\n",
      "Training accuracy:  0.8498808956646021  ,testing accuracy:  0.8346037795775766  ,degree:  12.0  , lambda :  1e-06\n",
      "[8.50531999e-01 8.33746228e-01 1.30000000e+01 1.00000000e-06]\n",
      "Training accuracy:  0.8505319993647769  ,testing accuracy:  0.8337462283627124  ,degree:  13.0  , lambda :  1e-06\n",
      "[8.51262506e-01 8.34032079e-01 1.40000000e+01 1.00000000e-06]\n",
      "Training accuracy:  0.8512625059552168  ,testing accuracy:  0.834032078767667  ,degree:  14.0  , lambda :  1e-06\n",
      "[8.51453073e-01 8.34413213e-01 1.50000000e+01 1.00000000e-06]\n",
      "Training accuracy:  0.8514530728918533  ,testing accuracy:  0.83441321264094  ,degree:  15.0  , lambda :  1e-06\n",
      "[8.51326028e-01 8.34286168e-01 1.60000000e+01 1.00000000e-06]\n",
      "Training accuracy:  0.851326028267429  ,testing accuracy:  0.8342861680165157  ,degree:  16.0  , lambda :  1e-06\n",
      "[8.49960299e-01 8.33936795e-01 1.70000000e+01 1.00000000e-06]\n",
      "Training accuracy:  0.8499602985548675  ,testing accuracy:  0.8339367952993489  ,degree:  17.0  , lambda :  1e-06\n",
      "[8.49674448e-01 8.34572018e-01 1.80000000e+01 1.00000000e-06]\n",
      "Training accuracy:  0.8496744481499127  ,testing accuracy:  0.8345720184214706  ,degree:  18.0  , lambda :  1e-06\n",
      "[8.51310148e-01 8.34651421e-01 1.90000000e+01 1.00000000e-06]\n",
      "Training accuracy:  0.8513101476893759  ,testing accuracy:  0.8346514213117358  ,degree:  19.0  , lambda :  1e-06\n",
      "Training accuracy:  0.8513101476893759  ,testing accuracy:  0.8346514213117358  ,degree:  19.0  , lambda :  1e-06\n"
     ]
    }
   ],
   "source": [
    "degree2, lambda2 = grid_search_ridge_regression(y2,x2_normalized,lambdas2,degrees2)"
   ]
  },
  {
   "cell_type": "code",
   "execution_count": 98,
   "metadata": {},
   "outputs": [
    {
     "name": "stdout",
     "output_type": "stream",
     "text": [
      "[8.60855441e-01 8.18299946e-01 1.00000000e+01 1.00000000e-06]\n",
      "Training accuracy:  0.8608554412560909  ,testing accuracy:  0.8182999458581485  ,degree:  10.0  , lambda :  1e-06\n",
      "[8.61432954e-01 8.18985743e-01 1.10000000e+01 1.00000000e-06]\n",
      "Training accuracy:  0.8614329543403716  ,testing accuracy:  0.8189857426457318  ,degree:  11.0  , lambda :  1e-06\n",
      "[8.62768453e-01 8.19166215e-01 1.20000000e+01 1.00000000e-06]\n",
      "Training accuracy:  0.8627684533477712  ,testing accuracy:  0.8191662154845695  ,degree:  12.0  , lambda :  1e-06\n",
      "[8.63165494e-01 8.19707634e-01 1.30000000e+01 1.00000000e-06]\n",
      "Training accuracy:  0.8631654935932142  ,testing accuracy:  0.8197076340010827  ,degree:  13.0  , lambda :  1e-06\n",
      "[8.63779101e-01 8.20429525e-01 1.40000000e+01 1.00000000e-06]\n",
      "Training accuracy:  0.8637791012452626  ,testing accuracy:  0.820429525356434  ,degree:  14.0  , lambda :  1e-06\n",
      "[8.63382061e-01 8.20609998e-01 1.50000000e+01 1.00000000e-06]\n",
      "Training accuracy:  0.8633820609998194  ,testing accuracy:  0.8206099981952717  ,degree:  15.0  , lambda :  1e-06\n",
      "[8.65583830e-01 8.20393431e-01 1.60000000e+01 1.00000000e-06]\n",
      "Training accuracy:  0.8655838296336402  ,testing accuracy:  0.8203934307886662  ,degree:  16.0  , lambda :  1e-06\n",
      "[8.65980870e-01 8.20826566e-01 1.70000000e+01 1.00000000e-06]\n",
      "Training accuracy:  0.8659808698790832  ,testing accuracy:  0.820826565601877  ,degree:  17.0  , lambda :  1e-06\n",
      "[8.65908681e-01 8.22378632e-01 1.80000000e+01 1.00000000e-06]\n",
      "Training accuracy:  0.8659086807435481  ,testing accuracy:  0.8223786320158816  ,degree:  18.0  , lambda :  1e-06\n",
      "[8.67027612e-01 8.21007038e-01 1.90000000e+01 1.00000000e-06]\n",
      "Training accuracy:  0.8670276123443422  ,testing accuracy:  0.8210070384407147  ,degree:  19.0  , lambda :  1e-06\n",
      "Training accuracy:  0.8659086807435481  ,testing accuracy:  0.8223786320158816  ,degree:  18.0  , lambda :  1e-06\n"
     ]
    }
   ],
   "source": [
    "degree3, lambda3 = grid_search_ridge_regression(y3,x3_normalized,lambdas3,degrees3)"
   ]
  },
  {
   "cell_type": "markdown",
   "metadata": {},
   "source": [
    "## Computing the weights with the results from the grid search"
   ]
  },
  {
   "cell_type": "code",
   "execution_count": 149,
   "metadata": {},
   "outputs": [
    {
     "name": "stdout",
     "output_type": "stream",
     "text": [
      "Categorical accuracy train :  0.8403711228769029  || f1_score train:  0.2347370559810599\n"
     ]
    }
   ],
   "source": [
    "degree0 = 17.0\n",
    "lambda0 = 1e-06\n",
    "\n",
    "degree0 = int(degree0)\n",
    "phi_x0 = build_poly(x0, degree0)\n",
    "\n",
    "w0 = ridge_regression(y0, phi_x0, lambda0)[1]\n",
    "\n",
    "cat_accuracy_train, f1_score_train = metrics(w0,y0,phi_x0)\n",
    "print(\"Categorical accuracy train : \",cat_accuracy_train,\" || f1_score train: \",f1_score_train)"
   ]
  },
  {
   "cell_type": "code",
   "execution_count": 150,
   "metadata": {},
   "outputs": [
    {
     "name": "stdout",
     "output_type": "stream",
     "text": [
      "Categorical accuracy train :  0.8059037449705974  || f1_score train:  0.40951697261819303\n"
     ]
    }
   ],
   "source": [
    "degree1 = 18.0\n",
    "lambda1 = 1e-06\n",
    "\n",
    "degree1 = int(degree1)\n",
    "phi_x1 = build_poly(x1, degree1)\n",
    "\n",
    "w1 = ridge_regression(y1, phi_x1, lambda1)[1]\n",
    "\n",
    "cat_accuracy_train, f1_score_train = metrics(w1,y1,phi_x1)\n",
    "print(\"Categorical accuracy train : \",cat_accuracy_train,\" || f1_score train: \",f1_score_train)"
   ]
  },
  {
   "cell_type": "code",
   "execution_count": 151,
   "metadata": {},
   "outputs": [
    {
     "name": "stdout",
     "output_type": "stream",
     "text": [
      "Categorical accuracy train :  0.7808015244447091  || f1_score train:  0.5771859466787167\n"
     ]
    }
   ],
   "source": [
    "degree2 = 19.0\n",
    "lambda2 = 1e-06\n",
    "\n",
    "degree2 = int(degree2)\n",
    "phi_x2 = build_poly(x2, degree2)\n",
    "\n",
    "w2 = ridge_regression(y2, phi_x2, lambda2)[1]\n",
    "\n",
    "cat_accuracy_train, f1_score_train = metrics(w2,y2,phi_x2)\n",
    "print(\"Categorical accuracy train : \",cat_accuracy_train,\" || f1_score train: \",f1_score_train)"
   ]
  },
  {
   "cell_type": "code",
   "execution_count": 152,
   "metadata": {},
   "outputs": [
    {
     "name": "stdout",
     "output_type": "stream",
     "text": [
      "Categorical accuracy train :  0.8449738314383686  || f1_score train:  0.3507087844625516\n"
     ]
    }
   ],
   "source": [
    "degree3 = 18.0\n",
    "lambda3 = 1e-06\n",
    "\n",
    "degree3 = int(degree3)\n",
    "phi_x3 = build_poly(x3, degree3)\n",
    "\n",
    "w3 = ridge_regression(y3, phi_x3, lambda3)[1]\n",
    "\n",
    "cat_accuracy_train, f1_score_train = metrics(w3,y3,phi_x3)\n",
    "print(\"Categorical accuracy train : \",cat_accuracy_train,\" || f1_score train: \",f1_score_train)"
   ]
  },
  {
   "cell_type": "markdown",
   "metadata": {},
   "source": [
    "## Generate predictions and save ouput in csv format for submission:"
   ]
  },
  {
   "cell_type": "code",
   "execution_count": 201,
   "metadata": {},
   "outputs": [],
   "source": [
    "DATA_TEST_PATH = 'test.csv'\n",
    "_, tX_test, ids_test = load_csv_data(DATA_TEST_PATH)"
   ]
  },
  {
   "cell_type": "code",
   "execution_count": 267,
   "metadata": {},
   "outputs": [
    {
     "ename": "IndexError",
     "evalue": "list index out of range",
     "output_type": "error",
     "traceback": [
      "\u001b[1;31m---------------------------------------------------------------------------\u001b[0m",
      "\u001b[1;31mIndexError\u001b[0m                                Traceback (most recent call last)",
      "\u001b[1;32m<ipython-input-267-915a5d7a1bdb>\u001b[0m in \u001b[0;36m<module>\u001b[1;34m\u001b[0m\n\u001b[0;32m      6\u001b[0m \u001b[0mx3_test\u001b[0m \u001b[1;33m=\u001b[0m \u001b[0mcategorical_datasets_test\u001b[0m\u001b[1;33m[\u001b[0m\u001b[1;36m3\u001b[0m\u001b[1;33m]\u001b[0m\u001b[1;33m\u001b[0m\u001b[1;33m\u001b[0m\u001b[0m\n\u001b[0;32m      7\u001b[0m \u001b[0mrows_to_keep0\u001b[0m \u001b[1;33m=\u001b[0m \u001b[0mcategorical_datasets\u001b[0m\u001b[1;33m[\u001b[0m\u001b[1;36m4\u001b[0m\u001b[1;33m]\u001b[0m\u001b[1;33m\u001b[0m\u001b[1;33m\u001b[0m\u001b[0m\n\u001b[1;32m----> 8\u001b[1;33m \u001b[0mrows_to_keep1\u001b[0m \u001b[1;33m=\u001b[0m \u001b[0mcategorical_datasets\u001b[0m\u001b[1;33m[\u001b[0m\u001b[1;36m5\u001b[0m\u001b[1;33m]\u001b[0m\u001b[1;33m\u001b[0m\u001b[1;33m\u001b[0m\u001b[0m\n\u001b[0m\u001b[0;32m      9\u001b[0m \u001b[0mrows_to_keep2\u001b[0m \u001b[1;33m=\u001b[0m \u001b[0mcategorical_datasets\u001b[0m\u001b[1;33m[\u001b[0m\u001b[1;36m6\u001b[0m\u001b[1;33m]\u001b[0m\u001b[1;33m\u001b[0m\u001b[1;33m\u001b[0m\u001b[0m\n\u001b[0;32m     10\u001b[0m \u001b[0mrows_to_keep3\u001b[0m \u001b[1;33m=\u001b[0m \u001b[0mcategorical_datasets\u001b[0m\u001b[1;33m[\u001b[0m\u001b[1;36m7\u001b[0m\u001b[1;33m]\u001b[0m\u001b[1;33m\u001b[0m\u001b[1;33m\u001b[0m\u001b[0m\n",
      "\u001b[1;31mIndexError\u001b[0m: list index out of range"
     ]
    }
   ],
   "source": [
    "# preprocessing\n",
    "categorical_datasets_test = preprocessing(_,copy.deepcopy(tX_test), train = False, columns_to_keep = columns_to_keep)\n",
    "x0_test = categorical_datasets_test[0]\n",
    "x1_test = categorical_datasets_test[1]\n",
    "x2_test = categorical_datasets_test[2]\n",
    "x3_test = categorical_datasets_test[3]\n",
    "rows_to_keep0 = categorical_datasets_test[4]\n",
    "rows_to_keep1 = categorical_datasets_test[5]\n",
    "rows_to_keep2 = categorical_datasets_test[6]\n",
    "rows_to_keep3 = categorical_datasets_test[7]"
   ]
  },
  {
   "cell_type": "code",
   "execution_count": null,
   "metadata": {},
   "outputs": [],
   "source": [
    "print(x0_test.shape)\n",
    "print(x1_test.shape)\n",
    "print(x2_test.shape)\n",
    "print(x3_test.shape)"
   ]
  },
  {
   "cell_type": "code",
   "execution_count": null,
   "metadata": {},
   "outputs": [],
   "source": [
    "# Build poly features\n",
    "phi_x0_test = build_poly(x0_test, degree0)\n",
    "phi_x1_test = build_poly(x1_test, degree1)\n",
    "phi_x2_test = build_poly(x2_test, degree2)\n",
    "phi_x3_test = build_poly(x3_test, degree3)"
   ]
  },
  {
   "cell_type": "code",
   "execution_count": null,
   "metadata": {},
   "outputs": [],
   "source": [
    "# Predict outcomes\n",
    "y_pred0 = predict_labels(w0, phi_x0_test)\n",
    "y_pred1 = predict_labels(w1, phi_x1_test)\n",
    "y_pred2 = predict_labels(w2, phi_x2_test)\n",
    "y_pred3 = predict_labels(w3, phi_x3_test)"
   ]
  },
  {
   "cell_type": "code",
   "execution_count": null,
   "metadata": {},
   "outputs": [],
   "source": [
    "len(rows_to_keep[0])"
   ]
  },
  {
   "cell_type": "code",
   "execution_count": null,
   "metadata": {},
   "outputs": [],
   "source": [
    "total_length = y_pred0.shape[0] + y_pred1.shape[0] + y_pred2.shape[0] + y_pred3.shape[0] \n",
    "y_pred = np.zeros((total_length,1))\n",
    "y_pred[np.where(rows_to_keep0)] = y_pred0\n",
    "y_pred[np.where(rows_to_keep1)] = y_pred1\n",
    "y_pred[np.where(rows_to_keep2)] = y_pred2\n",
    "y_pred[np.where(rows_to_keep3)] = y_pred3"
   ]
  },
  {
   "cell_type": "code",
   "execution_count": null,
   "metadata": {},
   "outputs": [],
   "source": [
    "plt.plot(np.sort(y_pred))"
   ]
  },
  {
   "cell_type": "code",
   "execution_count": 174,
   "metadata": {},
   "outputs": [],
   "source": [
    "time_day = datetime.datetime.now().day\n",
    "time_hour = datetime.datetime.now().hour\n",
    "time_min = datetime.datetime.now().minute\n",
    "time_second = datetime.datetime.now().second\n",
    "\n",
    "time = str(time_day)+\"-\"+str(time_hour)+\"-\"+str(time_min)+\"-\"+str(time_second)\n",
    "\n",
    "OUTPUT_PATH = 'submission'+\"_\"+str(time)+\".csv\"\n",
    "#print(weights_LS.shape)\n",
    "create_csv_submission(ids_test, y_pred, OUTPUT_PATH)"
   ]
  },
  {
   "cell_type": "code",
   "execution_count": null,
   "metadata": {},
   "outputs": [],
   "source": []
  }
 ],
 "metadata": {
  "kernelspec": {
   "display_name": "Python 3",
   "language": "python",
   "name": "python3"
  },
  "language_info": {
   "codemirror_mode": {
    "name": "ipython",
    "version": 3
   },
   "file_extension": ".py",
   "mimetype": "text/x-python",
   "name": "python",
   "nbconvert_exporter": "python",
   "pygments_lexer": "ipython3",
   "version": "3.7.3"
  }
 },
 "nbformat": 4,
 "nbformat_minor": 2
}
