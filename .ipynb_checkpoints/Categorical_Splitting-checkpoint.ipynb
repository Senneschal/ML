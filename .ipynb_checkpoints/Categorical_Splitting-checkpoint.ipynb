{
 "cells": [
  {
   "cell_type": "code",
   "execution_count": 30,
   "metadata": {},
   "outputs": [
    {
     "name": "stdout",
     "output_type": "stream",
     "text": [
      "The autoreload extension is already loaded. To reload it, use:\n",
      "  %reload_ext autoreload\n"
     ]
    }
   ],
   "source": [
    "# Useful starting lines\n",
    "%matplotlib inline\n",
    "import numpy as np\n",
    "import matplotlib.pyplot as plt\n",
    "import datetime\n",
    "import copy\n",
    "%load_ext autoreload\n",
    "%autoreload 2"
   ]
  },
  {
   "cell_type": "code",
   "execution_count": 31,
   "metadata": {},
   "outputs": [],
   "source": [
    "%run proj1_helpers.py\n",
    "%run implementations.py"
   ]
  },
  {
   "cell_type": "code",
   "execution_count": 32,
   "metadata": {},
   "outputs": [],
   "source": [
    "DATA_TRAIN_PATH = 'train.csv' # TODO: download train data and supply path here \n",
    "y, tX, ids = load_csv_data(DATA_TRAIN_PATH)"
   ]
  },
  {
   "cell_type": "markdown",
   "metadata": {},
   "source": [
    "## Spliting the data"
   ]
  },
  {
   "cell_type": "code",
   "execution_count": 33,
   "metadata": {},
   "outputs": [],
   "source": [
    "ratio_train_test = 0.9\n",
    "x_train, y_train, x_test, y_test = split_data(tX, y, ratio_train_test, seed=1)"
   ]
  },
  {
   "cell_type": "markdown",
   "metadata": {},
   "source": [
    "## Cleaning the data\n",
    "We see that the column 22 can be used to make categories, since the values of some other columns seems to be proportional to the value of this column."
   ]
  },
  {
   "cell_type": "code",
   "execution_count": 34,
   "metadata": {
    "scrolled": false
   },
   "outputs": [
    {
     "data": {
      "text/plain": [
       "[<matplotlib.lines.Line2D at 0x1cd370d1e80>]"
      ]
     },
     "execution_count": 34,
     "metadata": {},
     "output_type": "execute_result"
    },
    {
     "data": {
      "image/png": "[encoded data removed]",
      "text/plain": [
       "<Figure size 432x288 with 1 Axes>"
      ]
     },
     "metadata": {
      "needs_background": "light"
     },
     "output_type": "display_data"
    }
   ],
   "source": [
    "# categorical column\n",
    "plt.plot(np.sort(y_train))"
   ]
  },
  {
   "cell_type": "code",
   "execution_count": 35,
   "metadata": {},
   "outputs": [],
   "source": [
    "# preprocessing training dataset\n",
    "categorical_datasets = preprocessing(copy.deepcopy(y_train),copy.deepcopy(x_train))\n",
    "y0, x0 = categorical_datasets[0]\n",
    "y1, x1 = categorical_datasets[1]\n",
    "y2, x2 = categorical_datasets[2]\n",
    "columns_to_keep = categorical_datasets[3]\n",
    "\n",
    "# clean high correlation areas\n",
    "#x0\n",
    "x0 = np.delete(x0, 6, 1)\n",
    "x0 = np.delete(x0, 6, 1)\n",
    "#x1\n",
    "x1 = np.delete(x1, 4, 1)\n",
    "x1 = np.delete(x1, 18, 1)\n",
    "x1 = np.delete(x1, 6, 1)\n",
    "x1 = np.delete(x1, 3, 1)\n",
    "#x2\n",
    "x2 = np.delete(x2, 10, 1)\n",
    "x2 = np.delete(x2, 21, 1)\n",
    "x2 = np.delete(x2, 4, 1)\n",
    "x2 = np.delete(x2, 6, 1)\n",
    "x2 = np.delete(x2, 3, 1)\n",
    "x2 = np.delete(x2, 4, 1)\n",
    "x2 = np.delete(x2, 18, 1)\n",
    "\n",
    "# preprocessing\n",
    "categorical_datasets_test = preprocessing(_,copy.deepcopy(x_test), train = False, columns_to_keep = columns_to_keep)\n",
    "x0_test = categorical_datasets_test[0]\n",
    "x1_test = categorical_datasets_test[1]\n",
    "x2_test = categorical_datasets_test[2]\n",
    "\n",
    "rows_to_keep0 = categorical_datasets_test[3]\n",
    "rows_to_keep1 = categorical_datasets_test[4]\n",
    "rows_to_keep2 = categorical_datasets_test[5]\n",
    "\n",
    "\n",
    "y0_test = y_test[np.where(rows_to_keep0)]\n",
    "y1_test = y_test[np.where(rows_to_keep1)]\n",
    "y2_test = y_test[np.where(rows_to_keep2)]\n",
    "\n",
    "# clean high correlation areas\n",
    "#x0\n",
    "x0_test = np.delete(x0_test, 6, 1)\n",
    "x0_test = np.delete(x0_test, 6, 1)\n",
    "#x1\n",
    "x1_test = np.delete(x1_test, 4, 1)\n",
    "x1_test = np.delete(x1_test, 18, 1)\n",
    "x1_test = np.delete(x1_test, 6, 1)\n",
    "x1_test = np.delete(x1_test, 3, 1)\n",
    "#x2\n",
    "x2_test = np.delete(x2_test, 10, 1)\n",
    "x2_test = np.delete(x2_test, 21, 1)\n",
    "x2_test = np.delete(x2_test, 4, 1)\n",
    "x2_test = np.delete(x2_test, 6, 1)\n",
    "x2_test = np.delete(x2_test, 3, 1)\n",
    "x2_test = np.delete(x2_test, 4, 1)\n",
    "x2_test = np.delete(x2_test, 18, 1)\n"
   ]
  },
  {
   "cell_type": "code",
   "execution_count": 36,
   "metadata": {},
   "outputs": [],
   "source": [
    "import pandas as pd\n",
    "x0_df=pd.DataFrame(data=x0[0:,0:], index=[i for i in range(x0.shape[0])], columns=['f'+str(i) for i in range(x0.shape[1])])\n",
    "x1_df=pd.DataFrame(data=x1[0:,0:], index=[i for i in range(x1.shape[0])], columns=['f'+str(i) for i in range(x1.shape[1])])\n",
    "x2_df=pd.DataFrame(data=x2[0:,0:], index=[i for i in range(x2.shape[0])], columns=['f'+str(i) for i in range(x2.shape[1])])"
   ]
  },
  {
   "cell_type": "code",
   "execution_count": 37,
   "metadata": {},
   "outputs": [
    {
     "data": {
      "text/plain": [
       "<matplotlib.axes._subplots.AxesSubplot at 0x1cd3cae7da0>"
      ]
     },
     "execution_count": 37,
     "metadata": {},
     "output_type": "execute_result"
    },
    {
     "data": {
      "image/png": "[encoded data removed]",
      "text/plain": [
       "<Figure size 432x288 with 2 Axes>"
      ]
     },
     "metadata": {
      "needs_background": "light"
     },
     "output_type": "display_data"
    }
   ],
   "source": [
    "import seaborn as sns\n",
    "# calculate the correlation matrix\n",
    "corr = x2_df.corr()\n",
    "\n",
    "# plot the heatmap\n",
    "sns.heatmap(corr, \n",
    "        xticklabels=corr.columns,\n",
    "        yticklabels=corr.columns)"
   ]
  },
  {
   "cell_type": "code",
   "execution_count": 38,
   "metadata": {},
   "outputs": [
    {
     "name": "stdout",
     "output_type": "stream",
     "text": [
      "\"y=1\" ratio for category 0: 0.25516749026738206\n",
      "\"y=1\" ratio for category 1: 0.3590503601242894\n",
      "\"y=1\" ratio for category 2: 0.44561633799377254\n"
     ]
    }
   ],
   "source": [
    "print('\"y=1\" ratio for category 0: '+str(np.sum(y0==1)/len(y0)))\n",
    "print('\"y=1\" ratio for category 1: '+str(np.sum(y1==1)/len(y1)))\n",
    "print('\"y=1\" ratio for category 2: '+str(np.sum(y2==1)/len(y2)))"
   ]
  },
  {
   "cell_type": "code",
   "execution_count": 39,
   "metadata": {},
   "outputs": [
    {
     "name": "stdout",
     "output_type": "stream",
     "text": [
      "(89647, 17)\n",
      "(69837, 19)\n",
      "(65516, 24)\n"
     ]
    }
   ],
   "source": [
    "print(x0.shape)\n",
    "print(x1.shape)\n",
    "print(x2.shape)"
   ]
  },
  {
   "cell_type": "markdown",
   "metadata": {},
   "source": [
    "## Grid search on poly degrees and lambdas"
   ]
  },
  {
   "cell_type": "code",
   "execution_count": 40,
   "metadata": {},
   "outputs": [
    {
     "data": {
      "text/plain": [
       "<Figure size 432x288 with 0 Axes>"
      ]
     },
     "metadata": {},
     "output_type": "display_data"
    }
   ],
   "source": [
    "%run implementations.py"
   ]
  },
  {
   "cell_type": "code",
   "execution_count": 41,
   "metadata": {},
   "outputs": [],
   "source": [
    "## Set hyperparameters\n",
    "lambdas0 = np.logspace(-4, 4, 120)\n",
    "lambdas1 = np.logspace(-4, 4, 120)\n",
    "lambdas2 = np.logspace(-4, 4, 120)\n",
    "\n",
    "degrees0 = [i for i in range(4,7)]\n",
    "degrees1 = [i for i in range(7,10)]\n",
    "degrees2 = [i for i in range(9,12)]"
   ]
  },
  {
   "cell_type": "code",
   "execution_count": 42,
   "metadata": {
    "scrolled": true
   },
   "outputs": [],
   "source": [
    "def grid_search_ridge_regression(y_train,x_train,y_test,x_test,lambdas,degrees):\n",
    "    # define lists to store the loss of training data and test data\n",
    "    data = []\n",
    "    for degree in degrees:\n",
    "        data_nested = []        \n",
    "        phi_x_train = build_poly(x_train, degree)\n",
    "        phi_x_test = build_poly(x_test, degree)\n",
    "        for lambda_ in lambdas:\n",
    "            w = ridge_regression(y_train,phi_x_train,lambda_)[1]\n",
    "            y_pred_train = predict_labels(w, phi_x_train)\n",
    "            acc_train,_ = metrics(y_train,y_pred_train)\n",
    "            y_pred_test = predict_labels(w, phi_x_test)\n",
    "            acc_test,_ = metrics(y_test,y_pred_test)\n",
    "            data_nested.append([acc_train, acc_test, degree, lambda_, w])\n",
    "        data_nested = np.array(data_nested)\n",
    "        index_best_value = np.where(data_nested[:,1] == np.amax(data_nested[:,1]))\n",
    "        best_value = data_nested[index_best_value][0]\n",
    "        print(\"Running :: Training accuracy: \",best_value[0],\" ,testing accuracy: \",best_value[1],\" ,degree: \",best_value[2],\" , lambda : \",best_value[3])\n",
    "        data.append(best_value)\n",
    "    data = np.array(data)\n",
    "    index_best_value = np.where(data[:,1] == np.amax(data[:,1]))\n",
    "    best_value = data[index_best_value][0]\n",
    "    acc_train, acc_test, degree, lambda_, w = best_value[0], best_value[1], best_value[2], best_value[3], best_value[4]\n",
    "    print(\"Final :: Training accuracy: \",acc_train,\" ,testing accuracy: \",acc_test,\" ,degree: \",degree,\" , lambda : \",lambda_)\n",
    "    \n",
    "    return degree, lambda_, w"
   ]
  },
  {
   "cell_type": "code",
   "execution_count": 16,
   "metadata": {},
   "outputs": [
    {
     "name": "stdout",
     "output_type": "stream",
     "text": [
      "Running :: Training accuracy:  0.8415674813434917  ,testing accuracy:  0.8437736771355249  ,degree:  4  , lambda :  387.4675120456128\n",
      "Running :: Training accuracy:  0.8424375606545673  ,testing accuracy:  0.844702431870952  ,degree:  5  , lambda :  96.2040327106476\n",
      "Running :: Training accuracy:  0.747576606021395  ,testing accuracy:  0.7472320664792863  ,degree:  6  , lambda :  284.30304593026653\n",
      "Final :: Training accuracy:  0.8424375606545673  ,testing accuracy:  0.844702431870952  ,degree:  5  , lambda :  96.2040327106476\n"
     ]
    }
   ],
   "source": [
    "degree0, lambda0, w0 = grid_search_ridge_regression(y0, x0, y0_test, x0_test, lambdas0, degrees0)"
   ]
  },
  {
   "cell_type": "code",
   "execution_count": 56,
   "metadata": {},
   "outputs": [
    {
     "name": "stdout",
     "output_type": "stream",
     "text": [
      "Running :: Training accuracy:  0.808310780818191  ,testing accuracy:  0.8060451013833617  ,degree:  7  , lambda :  5.930744895010559\n",
      "Running :: Training accuracy:  0.8096710912553517  ,testing accuracy:  0.806518855410271  ,degree:  8  , lambda :  0.00011674193588234588\n",
      "Running :: Training accuracy:  0.8093990291679196  ,testing accuracy:  0.8064556882066831  ,degree:  9  , lambda :  5.930744895010559\n",
      "Final :: Training accuracy:  0.8096710912553517  ,testing accuracy:  0.806518855410271  ,degree:  8  , lambda :  0.00011674193588234588\n"
     ]
    }
   ],
   "source": [
    "degree1, lambda1, w1 = grid_search_ridge_regression(y1, x1, y1_test, x1_test, lambdas1, degrees1)"
   ]
  },
  {
   "cell_type": "code",
   "execution_count": 57,
   "metadata": {},
   "outputs": [
    {
     "name": "stdout",
     "output_type": "stream",
     "text": [
      "Running :: Training accuracy:  0.8428170217962024  ,testing accuracy:  0.836309220147604  ,degree:  9  , lambda :  60.46619009070436\n",
      "Running :: Training accuracy:  0.842893339031687  ,testing accuracy:  0.8365132809577254  ,degree:  10  , lambda :  96.2040327106476\n",
      "Running :: Training accuracy:  0.8423438549361988  ,testing accuracy:  0.8364112505526647  ,degree:  11  , lambda :  7337.467970651373\n",
      "Final :: Training accuracy:  0.842893339031687  ,testing accuracy:  0.8365132809577254  ,degree:  10  , lambda :  96.2040327106476\n"
     ]
    }
   ],
   "source": [
    "degree2, lambda2, w2 = grid_search_ridge_regression(y2, x2, y2_test, x2_test, lambdas2, degrees2)"
   ]
  },
  {
   "cell_type": "markdown",
   "metadata": {},
   "source": [
    "## Test on the validate dataset"
   ]
  },
  {
   "cell_type": "code",
   "execution_count": 43,
   "metadata": {},
   "outputs": [
    {
     "ename": "NameError",
     "evalue": "name 'degree0' is not defined",
     "output_type": "error",
     "traceback": [
      "\u001b[1;31m---------------------------------------------------------------------------\u001b[0m",
      "\u001b[1;31mNameError\u001b[0m                                 Traceback (most recent call last)",
      "\u001b[1;32m<ipython-input-43-9751f721553c>\u001b[0m in \u001b[0;36m<module>\u001b[1;34m\u001b[0m\n\u001b[0;32m      1\u001b[0m \u001b[1;31m# Build poly features\u001b[0m\u001b[1;33m\u001b[0m\u001b[1;33m\u001b[0m\u001b[1;33m\u001b[0m\u001b[0m\n\u001b[1;32m----> 2\u001b[1;33m \u001b[0mphi_x0_test\u001b[0m \u001b[1;33m=\u001b[0m \u001b[0mbuild_poly\u001b[0m\u001b[1;33m(\u001b[0m\u001b[0mcopy\u001b[0m\u001b[1;33m.\u001b[0m\u001b[0mdeepcopy\u001b[0m\u001b[1;33m(\u001b[0m\u001b[0mx0_test\u001b[0m\u001b[1;33m)\u001b[0m\u001b[1;33m,\u001b[0m \u001b[0mdegree0\u001b[0m\u001b[1;33m)\u001b[0m\u001b[1;33m\u001b[0m\u001b[1;33m\u001b[0m\u001b[0m\n\u001b[0m\u001b[0;32m      3\u001b[0m \u001b[0mphi_x1_test\u001b[0m \u001b[1;33m=\u001b[0m \u001b[0mbuild_poly\u001b[0m\u001b[1;33m(\u001b[0m\u001b[0mcopy\u001b[0m\u001b[1;33m.\u001b[0m\u001b[0mdeepcopy\u001b[0m\u001b[1;33m(\u001b[0m\u001b[0mx1_test\u001b[0m\u001b[1;33m)\u001b[0m\u001b[1;33m,\u001b[0m \u001b[0mdegree1\u001b[0m\u001b[1;33m)\u001b[0m\u001b[1;33m\u001b[0m\u001b[1;33m\u001b[0m\u001b[0m\n\u001b[0;32m      4\u001b[0m \u001b[0mphi_x2_test\u001b[0m \u001b[1;33m=\u001b[0m \u001b[0mbuild_poly\u001b[0m\u001b[1;33m(\u001b[0m\u001b[0mcopy\u001b[0m\u001b[1;33m.\u001b[0m\u001b[0mdeepcopy\u001b[0m\u001b[1;33m(\u001b[0m\u001b[0mx2_test\u001b[0m\u001b[1;33m)\u001b[0m\u001b[1;33m,\u001b[0m \u001b[0mdegree2\u001b[0m\u001b[1;33m)\u001b[0m\u001b[1;33m\u001b[0m\u001b[1;33m\u001b[0m\u001b[0m\n\u001b[0;32m      5\u001b[0m \u001b[1;33m\u001b[0m\u001b[0m\n",
      "\u001b[1;31mNameError\u001b[0m: name 'degree0' is not defined"
     ]
    }
   ],
   "source": [
    "# Build poly features\n",
    "phi_x0_test = build_poly(copy.deepcopy(x0_test), degree0)\n",
    "phi_x1_test = build_poly(copy.deepcopy(x1_test), degree1)\n",
    "phi_x2_test = build_poly(copy.deepcopy(x2_test), degree2)\n",
    "\n",
    "# Predict outcomes\n",
    "y_pred0 = predict_labels(w0, phi_x0_test)\n",
    "y_pred1 = predict_labels(w1, phi_x1_test)\n",
    "y_pred2 = predict_labels(w2, phi_x2_test)\n",
    "\n",
    "total_length = y_pred0.shape[0] + y_pred1.shape[0] + y_pred2.shape[0]\n",
    "y_pred = np.zeros((total_length,))\n",
    "y_pred[np.where(rows_to_keep0)] = y_pred0\n",
    "y_pred[np.where(rows_to_keep1)] = y_pred1\n",
    "y_pred[np.where(rows_to_keep2)] = y_pred2\n"
   ]
  },
  {
   "cell_type": "code",
   "execution_count": 59,
   "metadata": {},
   "outputs": [
    {
     "name": "stdout",
     "output_type": "stream",
     "text": [
      "Categorical accuracy test :  0.8304863698764464  || f1_score test:  0.39391457729620766\n"
     ]
    }
   ],
   "source": [
    "cat_accuracy_test, f1_score_test = metrics(y_test,y_pred)\n",
    "print(\"Categorical accuracy test : \",cat_accuracy_test,\" || f1_score test: \",f1_score_test)"
   ]
  },
  {
   "cell_type": "markdown",
   "metadata": {},
   "source": [
    "## Gradient descent with the preheated weights"
   ]
  },
  {
   "cell_type": "code",
   "execution_count": 36,
   "metadata": {},
   "outputs": [],
   "source": [
    "max_iters = 1000\n",
    "learning_rate0 = 0.0001\n",
    "learning_rate1 = 0.0000000001\n",
    "learning_rate2 = 0.0001"
   ]
  },
  {
   "cell_type": "code",
   "execution_count": 42,
   "metadata": {},
   "outputs": [],
   "source": [
    "def ridge_regression_SGD(y_train, x_train, y_test, x_test, initial_w, max_iters, gamma, lambda_, degree):\n",
    "    ws = copy.deepcopy(initial_w)\n",
    "    N = y_train.shape[0]\n",
    "    phi_x_train = build_poly(x_train, degree)\n",
    "    phi_x_test = build_poly(x_test, degree)\n",
    "    for i in range(max_iters):\n",
    "        for n in range(N):\n",
    "            rand_ind = np.random.randint(0, N)\n",
    "            grad = compute_gradient_mse(y_train[rand_ind], phi_x_train[rand_ind], ws) + 2*lambda_*ws\n",
    "            ws = ws - gamma*grad\n",
    "        y_pred_train = predict_labels(ws, phi_x_train)\n",
    "        acc_train,_ = metrics(y_train,y_pred_train)\n",
    "        y_pred_test = predict_labels(ws, phi_x_test)\n",
    "        acc_test,_ = metrics(y_test,y_pred_test)\n",
    "        if (i%10 ==0):\n",
    "            print(\"Step {} :: acc_train: {}, acc_test: {}\".format(i,acc_train,acc_test))\n",
    "        \n",
    "\n",
    "    loss = compute_loss(y_train, phi_x_train, ws)+ lambda_*np.dot(ws.T,ws)\n",
    "\n",
    "    return loss, ws"
   ]
  },
  {
   "cell_type": "code",
   "execution_count": 43,
   "metadata": {},
   "outputs": [
    {
     "name": "stdout",
     "output_type": "stream",
     "text": [
      "Step 0 :: acc_train: 0.7448325097326179, acc_test: 0.7447390932420872\n",
      "Step 10 :: acc_train: 0.7448325097326179, acc_test: 0.7447390932420872\n"
     ]
    },
    {
     "ename": "KeyboardInterrupt",
     "evalue": "",
     "output_type": "error",
     "traceback": [
      "\u001b[1;31m---------------------------------------------------------------------------\u001b[0m",
      "\u001b[1;31mKeyboardInterrupt\u001b[0m                         Traceback (most recent call last)",
      "\u001b[1;32m<ipython-input-43-c4cc6db625b3>\u001b[0m in \u001b[0;36m<module>\u001b[1;34m\u001b[0m\n\u001b[1;32m----> 1\u001b[1;33m \u001b[0mw0_SGD\u001b[0m \u001b[1;33m=\u001b[0m \u001b[0mridge_regression_SGD\u001b[0m\u001b[1;33m(\u001b[0m\u001b[0my0\u001b[0m\u001b[1;33m,\u001b[0m \u001b[0mx0\u001b[0m\u001b[1;33m,\u001b[0m \u001b[0my0_test\u001b[0m\u001b[1;33m,\u001b[0m \u001b[0mx0_test\u001b[0m\u001b[1;33m,\u001b[0m \u001b[0mw0\u001b[0m\u001b[1;33m,\u001b[0m \u001b[0mmax_iters\u001b[0m\u001b[1;33m,\u001b[0m \u001b[0mlearning_rate0\u001b[0m\u001b[1;33m,\u001b[0m \u001b[0mlambda0\u001b[0m\u001b[1;33m,\u001b[0m \u001b[0mdegree0\u001b[0m\u001b[1;33m)\u001b[0m\u001b[1;33m[\u001b[0m\u001b[1;36m1\u001b[0m\u001b[1;33m]\u001b[0m\u001b[1;33m\u001b[0m\u001b[1;33m\u001b[0m\u001b[0m\n\u001b[0m",
      "\u001b[1;32m<ipython-input-42-faba3e78473d>\u001b[0m in \u001b[0;36mridge_regression_SGD\u001b[1;34m(y_train, x_train, y_test, x_test, initial_w, max_iters, gamma, lambda_, degree)\u001b[0m\n\u001b[0;32m     10\u001b[0m             \u001b[0mws\u001b[0m \u001b[1;33m=\u001b[0m \u001b[0mws\u001b[0m \u001b[1;33m-\u001b[0m \u001b[0mgamma\u001b[0m\u001b[1;33m*\u001b[0m\u001b[0mgrad\u001b[0m\u001b[1;33m\u001b[0m\u001b[1;33m\u001b[0m\u001b[0m\n\u001b[0;32m     11\u001b[0m         \u001b[0my_pred_train\u001b[0m \u001b[1;33m=\u001b[0m \u001b[0mpredict_labels\u001b[0m\u001b[1;33m(\u001b[0m\u001b[0mws\u001b[0m\u001b[1;33m,\u001b[0m \u001b[0mphi_x_train\u001b[0m\u001b[1;33m)\u001b[0m\u001b[1;33m\u001b[0m\u001b[1;33m\u001b[0m\u001b[0m\n\u001b[1;32m---> 12\u001b[1;33m         \u001b[0macc_train\u001b[0m\u001b[1;33m,\u001b[0m\u001b[0m_\u001b[0m \u001b[1;33m=\u001b[0m \u001b[0mmetrics\u001b[0m\u001b[1;33m(\u001b[0m\u001b[0my_train\u001b[0m\u001b[1;33m,\u001b[0m\u001b[0my_pred_train\u001b[0m\u001b[1;33m)\u001b[0m\u001b[1;33m\u001b[0m\u001b[1;33m\u001b[0m\u001b[0m\n\u001b[0m\u001b[0;32m     13\u001b[0m         \u001b[0my_pred_test\u001b[0m \u001b[1;33m=\u001b[0m \u001b[0mpredict_labels\u001b[0m\u001b[1;33m(\u001b[0m\u001b[0mws\u001b[0m\u001b[1;33m,\u001b[0m \u001b[0mphi_x_test\u001b[0m\u001b[1;33m)\u001b[0m\u001b[1;33m\u001b[0m\u001b[1;33m\u001b[0m\u001b[0m\n\u001b[0;32m     14\u001b[0m         \u001b[0macc_test\u001b[0m\u001b[1;33m,\u001b[0m\u001b[0m_\u001b[0m \u001b[1;33m=\u001b[0m \u001b[0mmetrics\u001b[0m\u001b[1;33m(\u001b[0m\u001b[0my_test\u001b[0m\u001b[1;33m,\u001b[0m\u001b[0my_pred_test\u001b[0m\u001b[1;33m)\u001b[0m\u001b[1;33m\u001b[0m\u001b[1;33m\u001b[0m\u001b[0m\n",
      "\u001b[1;32m~\\Documents\\GitHub\\ML\\proj1_helpers.py\u001b[0m in \u001b[0;36mmetrics\u001b[1;34m(y_test, y_pred)\u001b[0m\n\u001b[0;32m    183\u001b[0m                 \u001b[0mfn\u001b[0m \u001b[1;33m+=\u001b[0m \u001b[1;36m1\u001b[0m\u001b[1;33m\u001b[0m\u001b[1;33m\u001b[0m\u001b[0m\n\u001b[0;32m    184\u001b[0m             \u001b[1;32melse\u001b[0m\u001b[1;33m:\u001b[0m\u001b[1;33m\u001b[0m\u001b[1;33m\u001b[0m\u001b[0m\n\u001b[1;32m--> 185\u001b[1;33m                 \u001b[0mtn\u001b[0m \u001b[1;33m+=\u001b[0m \u001b[1;36m1\u001b[0m\u001b[1;33m\u001b[0m\u001b[1;33m\u001b[0m\u001b[0m\n\u001b[0m\u001b[0;32m    186\u001b[0m     \u001b[1;31m#precision = tp/(tp+fp)\u001b[0m\u001b[1;33m\u001b[0m\u001b[1;33m\u001b[0m\u001b[1;33m\u001b[0m\u001b[0m\n\u001b[0;32m    187\u001b[0m     \u001b[1;31m#recall = tp/(tp+fn)\u001b[0m\u001b[1;33m\u001b[0m\u001b[1;33m\u001b[0m\u001b[1;33m\u001b[0m\u001b[0m\n",
      "\u001b[1;31mKeyboardInterrupt\u001b[0m: "
     ]
    }
   ],
   "source": [
    "w0_SGD = ridge_regression_SGD(y0, x0, y0_test, x0_test, w0, max_iters, learning_rate0, lambda0, degree0)[1]"
   ]
  },
  {
   "cell_type": "code",
   "execution_count": 30,
   "metadata": {},
   "outputs": [
    {
     "ename": "NameError",
     "evalue": "name 'w1' is not defined",
     "output_type": "error",
     "traceback": [
      "\u001b[1;31m---------------------------------------------------------------------------\u001b[0m",
      "\u001b[1;31mNameError\u001b[0m                                 Traceback (most recent call last)",
      "\u001b[1;32m<ipython-input-30-5530c37bf008>\u001b[0m in \u001b[0;36m<module>\u001b[1;34m\u001b[0m\n\u001b[1;32m----> 1\u001b[1;33m \u001b[0mw1_GD\u001b[0m \u001b[1;33m=\u001b[0m \u001b[0mridge_regression_SGD\u001b[0m\u001b[1;33m(\u001b[0m\u001b[0my1\u001b[0m\u001b[1;33m,\u001b[0m \u001b[0mx1\u001b[0m\u001b[1;33m,\u001b[0m \u001b[0my1_test\u001b[0m\u001b[1;33m,\u001b[0m \u001b[0mx1_test\u001b[0m\u001b[1;33m,\u001b[0m \u001b[0mw1\u001b[0m\u001b[1;33m,\u001b[0m \u001b[0mmax_iters\u001b[0m\u001b[1;33m,\u001b[0m \u001b[0mlearning_rate1\u001b[0m\u001b[1;33m,\u001b[0m \u001b[0mlambda1\u001b[0m\u001b[1;33m,\u001b[0m \u001b[0mdegree1\u001b[0m\u001b[1;33m)\u001b[0m\u001b[1;33m[\u001b[0m\u001b[1;36m1\u001b[0m\u001b[1;33m]\u001b[0m\u001b[1;33m\u001b[0m\u001b[1;33m\u001b[0m\u001b[0m\n\u001b[0m",
      "\u001b[1;31mNameError\u001b[0m: name 'w1' is not defined"
     ]
    }
   ],
   "source": [
    "w1_GD = ridge_regression_SGD(y1, x1, y1_test, x1_test, w1, max_iters, learning_rate1, lambda1, degree1)[1]"
   ]
  },
  {
   "cell_type": "code",
   "execution_count": 217,
   "metadata": {},
   "outputs": [
    {
     "name": "stdout",
     "output_type": "stream",
     "text": [
      "Step 0 :: acc_train: 0.7860827889370535, acc_test: 0.7769615345372921\n",
      "Step 10 :: acc_train: 0.44561633799377254, acc_test: 0.4487977417270347\n",
      "Step 20 :: acc_train: 0.44561633799377254, acc_test: 0.4487977417270347\n"
     ]
    },
    {
     "name": "stderr",
     "output_type": "stream",
     "text": [
      "C:\\ProgramData\\Anaconda3\\lib\\site-packages\\ipykernel_launcher.py:9: RuntimeWarning: invalid value encountered in subtract\n",
      "  if __name__ == '__main__':\n"
     ]
    },
    {
     "ename": "KeyboardInterrupt",
     "evalue": "",
     "output_type": "error",
     "traceback": [
      "\u001b[1;31m---------------------------------------------------------------------------\u001b[0m",
      "\u001b[1;31mKeyboardInterrupt\u001b[0m                         Traceback (most recent call last)",
      "\u001b[1;32m<ipython-input-217-0abece1ac978>\u001b[0m in \u001b[0;36m<module>\u001b[1;34m\u001b[0m\n\u001b[1;32m----> 1\u001b[1;33m \u001b[0mw2_GD\u001b[0m \u001b[1;33m=\u001b[0m \u001b[0mridge_regression_GD\u001b[0m\u001b[1;33m(\u001b[0m\u001b[0my2\u001b[0m\u001b[1;33m,\u001b[0m \u001b[0mx2\u001b[0m\u001b[1;33m,\u001b[0m \u001b[0my2_test\u001b[0m\u001b[1;33m,\u001b[0m \u001b[0mx2_test\u001b[0m\u001b[1;33m,\u001b[0m \u001b[0mw2\u001b[0m\u001b[1;33m,\u001b[0m \u001b[0mmax_iters\u001b[0m\u001b[1;33m,\u001b[0m \u001b[0mlearning_rate2\u001b[0m\u001b[1;33m,\u001b[0m \u001b[0mlambda2\u001b[0m\u001b[1;33m,\u001b[0m \u001b[0mdegree2\u001b[0m\u001b[1;33m)\u001b[0m\u001b[1;33m[\u001b[0m\u001b[1;36m1\u001b[0m\u001b[1;33m]\u001b[0m\u001b[1;33m\u001b[0m\u001b[1;33m\u001b[0m\u001b[0m\n\u001b[0m",
      "\u001b[1;32m<ipython-input-210-3e8d54b07e9f>\u001b[0m in \u001b[0;36mridge_regression_GD\u001b[1;34m(y_train, x_train, y_test, x_test, initial_w, max_iters, gamma, lambda_, degree)\u001b[0m\n\u001b[0;32m      8\u001b[0m         \u001b[0mgrad\u001b[0m \u001b[1;33m=\u001b[0m \u001b[0mcompute_gradient\u001b[0m\u001b[1;33m(\u001b[0m\u001b[0my_train\u001b[0m\u001b[1;33m,\u001b[0m \u001b[0mphi_x_train\u001b[0m\u001b[1;33m,\u001b[0m \u001b[0mws\u001b[0m\u001b[1;33m)\u001b[0m \u001b[1;33m+\u001b[0m \u001b[1;36m2\u001b[0m\u001b[1;33m*\u001b[0m\u001b[0mlambda_\u001b[0m\u001b[1;33m*\u001b[0m\u001b[0mws\u001b[0m\u001b[1;33m\u001b[0m\u001b[1;33m\u001b[0m\u001b[0m\n\u001b[0;32m      9\u001b[0m         \u001b[0mws\u001b[0m \u001b[1;33m=\u001b[0m \u001b[0mws\u001b[0m \u001b[1;33m-\u001b[0m \u001b[0mgamma\u001b[0m\u001b[1;33m*\u001b[0m\u001b[0mgrad\u001b[0m\u001b[1;33m\u001b[0m\u001b[1;33m\u001b[0m\u001b[0m\n\u001b[1;32m---> 10\u001b[1;33m         \u001b[0my_pred_train\u001b[0m \u001b[1;33m=\u001b[0m \u001b[0mpredict_labels\u001b[0m\u001b[1;33m(\u001b[0m\u001b[0mws\u001b[0m\u001b[1;33m,\u001b[0m \u001b[0mphi_x_train\u001b[0m\u001b[1;33m)\u001b[0m\u001b[1;33m\u001b[0m\u001b[1;33m\u001b[0m\u001b[0m\n\u001b[0m\u001b[0;32m     11\u001b[0m         \u001b[0macc_train\u001b[0m\u001b[1;33m,\u001b[0m\u001b[0m_\u001b[0m \u001b[1;33m=\u001b[0m \u001b[0mmetrics_check\u001b[0m\u001b[1;33m(\u001b[0m\u001b[0my_train\u001b[0m\u001b[1;33m,\u001b[0m\u001b[0my_pred_train\u001b[0m\u001b[1;33m)\u001b[0m\u001b[1;33m\u001b[0m\u001b[1;33m\u001b[0m\u001b[0m\n\u001b[0;32m     12\u001b[0m         \u001b[0my_pred_test\u001b[0m \u001b[1;33m=\u001b[0m \u001b[0mpredict_labels\u001b[0m\u001b[1;33m(\u001b[0m\u001b[0mws\u001b[0m\u001b[1;33m,\u001b[0m \u001b[0mphi_x_test\u001b[0m\u001b[1;33m)\u001b[0m\u001b[1;33m\u001b[0m\u001b[1;33m\u001b[0m\u001b[0m\n",
      "\u001b[1;32m~\\Documents\\GitHub\\ML\\proj1_helpers.py\u001b[0m in \u001b[0;36mpredict_labels\u001b[1;34m(weights, data)\u001b[0m\n\u001b[0;32m     28\u001b[0m \u001b[1;32mdef\u001b[0m \u001b[0mpredict_labels\u001b[0m\u001b[1;33m(\u001b[0m\u001b[0mweights\u001b[0m\u001b[1;33m,\u001b[0m \u001b[0mdata\u001b[0m\u001b[1;33m)\u001b[0m\u001b[1;33m:\u001b[0m\u001b[1;33m\u001b[0m\u001b[1;33m\u001b[0m\u001b[0m\n\u001b[0;32m     29\u001b[0m     \u001b[1;34m\"\"\"Generates class predictions given weights, and a test data matrix\"\"\"\u001b[0m\u001b[1;33m\u001b[0m\u001b[1;33m\u001b[0m\u001b[0m\n\u001b[1;32m---> 30\u001b[1;33m     \u001b[0my_pred\u001b[0m \u001b[1;33m=\u001b[0m \u001b[0mnp\u001b[0m\u001b[1;33m.\u001b[0m\u001b[0mdot\u001b[0m\u001b[1;33m(\u001b[0m\u001b[0mdata\u001b[0m\u001b[1;33m,\u001b[0m \u001b[0mweights\u001b[0m\u001b[1;33m)\u001b[0m\u001b[1;33m\u001b[0m\u001b[1;33m\u001b[0m\u001b[0m\n\u001b[0m\u001b[0;32m     31\u001b[0m     \u001b[0my_pred\u001b[0m\u001b[1;33m[\u001b[0m\u001b[0mnp\u001b[0m\u001b[1;33m.\u001b[0m\u001b[0mwhere\u001b[0m\u001b[1;33m(\u001b[0m\u001b[0my_pred\u001b[0m \u001b[1;33m<=\u001b[0m \u001b[1;36m0\u001b[0m\u001b[1;33m)\u001b[0m\u001b[1;33m]\u001b[0m \u001b[1;33m=\u001b[0m \u001b[1;33m-\u001b[0m\u001b[1;36m1\u001b[0m\u001b[1;33m\u001b[0m\u001b[1;33m\u001b[0m\u001b[0m\n\u001b[0;32m     32\u001b[0m     \u001b[0my_pred\u001b[0m\u001b[1;33m[\u001b[0m\u001b[0mnp\u001b[0m\u001b[1;33m.\u001b[0m\u001b[0mwhere\u001b[0m\u001b[1;33m(\u001b[0m\u001b[0my_pred\u001b[0m \u001b[1;33m>\u001b[0m \u001b[1;36m0\u001b[0m\u001b[1;33m)\u001b[0m\u001b[1;33m]\u001b[0m \u001b[1;33m=\u001b[0m \u001b[1;36m1\u001b[0m\u001b[1;33m\u001b[0m\u001b[1;33m\u001b[0m\u001b[0m\n",
      "\u001b[1;31mKeyboardInterrupt\u001b[0m: "
     ]
    }
   ],
   "source": [
    "w2_GD = ridge_regression_GD(y2, x2, y2_test, x2_test, w2, max_iters, learning_rate2, lambda2, degree2)[1]"
   ]
  },
  {
   "cell_type": "markdown",
   "metadata": {},
   "source": [
    "## Log regression"
   ]
  },
  {
   "cell_type": "code",
   "execution_count": 45,
   "metadata": {
    "scrolled": true
   },
   "outputs": [
    {
     "name": "stdout",
     "output_type": "stream",
     "text": [
      "The loss for step 0 is 48407.3196331703.\n",
      "The loss for step 1000 is 48406.688142149455.\n",
      "The loss for step 2000 is 48406.074246988064.\n",
      "The loss for step 3000 is 48405.48712314278.\n",
      "The loss for step 4000 is 48404.91882019634.\n",
      "The loss for step 5000 is 48404.28898881933.\n",
      "The loss for step 6000 is 48403.72364483125.\n",
      "The loss for step 7000 is 48403.1327289118.\n",
      "The loss for step 8000 is 48402.51364324114.\n",
      "The loss for step 9000 is 48401.867419306014.\n"
     ]
    },
    {
     "ename": "NameError",
     "evalue": "name 'lambda_' is not defined",
     "output_type": "error",
     "traceback": [
      "\u001b[1;31m---------------------------------------------------------------------------\u001b[0m",
      "\u001b[1;31mNameError\u001b[0m                                 Traceback (most recent call last)",
      "\u001b[1;32m<ipython-input-45-4d1877d45592>\u001b[0m in \u001b[0;36m<module>\u001b[1;34m\u001b[0m\n\u001b[0;32m     17\u001b[0m     \u001b[0mcat_accuracy_test\u001b[0m\u001b[1;33m,\u001b[0m \u001b[0mf1_score_test\u001b[0m \u001b[1;33m=\u001b[0m \u001b[0mmetrics\u001b[0m\u001b[1;33m(\u001b[0m\u001b[0my1_test_log\u001b[0m\u001b[1;33m,\u001b[0m \u001b[0mpredict_labels\u001b[0m\u001b[1;33m(\u001b[0m\u001b[0mweights_LR\u001b[0m\u001b[1;33m,\u001b[0m \u001b[0mx1_test\u001b[0m\u001b[1;33m,\u001b[0m\u001b[1;33m)\u001b[0m\u001b[1;33m)\u001b[0m\u001b[1;33m\u001b[0m\u001b[1;33m\u001b[0m\u001b[0m\n\u001b[0;32m     18\u001b[0m \u001b[1;33m\u001b[0m\u001b[0m\n\u001b[1;32m---> 19\u001b[1;33m     \u001b[0mprint\u001b[0m\u001b[1;33m(\u001b[0m\u001b[1;34m\"Lambda: \"\u001b[0m\u001b[1;33m+\u001b[0m\u001b[0mstr\u001b[0m\u001b[1;33m(\u001b[0m\u001b[0mlambda_\u001b[0m\u001b[1;33m)\u001b[0m\u001b[1;33m+\u001b[0m\u001b[1;34m\" || Gamma: \"\u001b[0m \u001b[1;33m+\u001b[0m \u001b[0mstr\u001b[0m\u001b[1;33m(\u001b[0m\u001b[0mgamma\u001b[0m\u001b[1;33m)\u001b[0m \u001b[1;33m+\u001b[0m \u001b[1;34m\" || Categorical accuracy train : \"\u001b[0m\u001b[1;33m,\u001b[0m\u001b[0mcat_accuracy_train\u001b[0m\u001b[1;33m,\u001b[0m\u001b[1;34m\" || f1_score train: \"\u001b[0m\u001b[1;33m,\u001b[0m\u001b[0mf1_score_train\u001b[0m\u001b[1;33m)\u001b[0m\u001b[1;33m\u001b[0m\u001b[1;33m\u001b[0m\u001b[0m\n\u001b[0m\u001b[0;32m     20\u001b[0m     \u001b[0mprint\u001b[0m\u001b[1;33m(\u001b[0m\u001b[1;34m\"Lambda: \"\u001b[0m\u001b[1;33m+\u001b[0m\u001b[0mstr\u001b[0m\u001b[1;33m(\u001b[0m\u001b[0mlambda_\u001b[0m\u001b[1;33m)\u001b[0m\u001b[1;33m+\u001b[0m\u001b[1;34m\" || Gamma: \"\u001b[0m \u001b[1;33m+\u001b[0m \u001b[0mstr\u001b[0m\u001b[1;33m(\u001b[0m\u001b[0mgamma\u001b[0m\u001b[1;33m)\u001b[0m \u001b[1;33m+\u001b[0m \u001b[1;34m\" || Categorical accuracy test : \"\u001b[0m\u001b[1;33m,\u001b[0m\u001b[0mcat_accuracy_test\u001b[0m\u001b[1;33m,\u001b[0m\u001b[1;34m\" || f1_score test: \"\u001b[0m\u001b[1;33m,\u001b[0m\u001b[0mf1_score_test\u001b[0m\u001b[1;33m)\u001b[0m\u001b[1;33m\u001b[0m\u001b[1;33m\u001b[0m\u001b[0m\n\u001b[0;32m     21\u001b[0m     \u001b[0mweights_result_5\u001b[0m\u001b[1;33m.\u001b[0m\u001b[0mappend\u001b[0m\u001b[1;33m(\u001b[0m\u001b[0mweights_LR\u001b[0m\u001b[1;33m)\u001b[0m\u001b[1;33m\u001b[0m\u001b[1;33m\u001b[0m\u001b[0m\n",
      "\u001b[1;31mNameError\u001b[0m: name 'lambda_' is not defined"
     ]
    }
   ],
   "source": [
    "y1_log = np.copy(y1)\n",
    "y1_log = np.where(y1_log==-1, 0, y1_log)\n",
    "\n",
    "y1_test_log = np.copy(y1_test)\n",
    "y1_test_log = np.where(y1_test_log==-1, 0, y1_test_log)\n",
    "lambdas = lambdas =  np.logspace(-4, 4, 20)\n",
    "gammas = [0.0000001, 0.000001, 0.00001, 0.0001, 0.001, 0.01, 0.05, 0.1, 0.2, 0.3, 0.31, 0.32, 0.33, 0.34, 0.4, 0.5]\n",
    "weights_result_5 = []\n",
    "accuracies_train_5 = []\n",
    "accuracies_test_5 = []\n",
    "# x0_poly = build_poly(x0, 5)\n",
    "# x0_poly_test = build_poly(x0_test, 5)\n",
    "\n",
    "for gamma in gammas:\n",
    "    weights_LR = logistic_regression(y1_log, x1, np.zeros(x1.shape[1]), 10000, gamma)[1]\n",
    "    cat_accuracy_train, f1_score_train = metrics(y1_log, predict_labels(weights_LR, x1))\n",
    "    cat_accuracy_test, f1_score_test = metrics(y1_test_log, predict_labels(weights_LR, x1_test,))\n",
    "\n",
    "    print(\"Gamma: \" + str(gamma) + \" || Categorical accuracy train : \",cat_accuracy_train,\" || f1_score train: \",f1_score_train)\n",
    "    print(\"Gamma: \" + str(gamma) + \" || Categorical accuracy test : \",cat_accuracy_test,\" || f1_score test: \",f1_score_test)\n",
    "    weights_result_5.append(weights_LR)\n",
    "    accuracies_train_5.append(cat_accuracy_train)\n",
    "    accuracies_test_5.append(cat_accuracy_test)\n",
    "    \n",
    "#print(accuracies_train_5)\n",
    "#print(accuracies_test_5)"
   ]
  },
  {
   "cell_type": "code",
   "execution_count": null,
   "metadata": {},
   "outputs": [],
   "source": [
    "plt.plot(gammas[:8], accuracies_train_5[:8], label=\"train\")\n",
    "plt.plot(gammas[:8], accuracies_test_5[:8], label=\"test\")\n",
    "plt.xscale(\"log\")\n",
    "plt.xlabel(\"Gamma\")\n",
    "plt.ylabel(\"Categorical accuracy\")\n",
    "plt.title(\"Categorical accuracy for Logistic Regression\")\n",
    "plt.legend()\n",
    "plt.show()"
   ]
  },
  {
   "cell_type": "markdown",
   "metadata": {},
   "source": [
    "## Test the GD version"
   ]
  },
  {
   "cell_type": "code",
   "execution_count": 155,
   "metadata": {},
   "outputs": [],
   "source": [
    "# Predict outcomes\n",
    "y_pred0_GD = predict_labels(w0, phi_x0_test)\n",
    "y_pred1_GD = predict_labels(w1, phi_x1_test)\n",
    "y_pred2_GD = predict_labels(w2, phi_x2_test)\n",
    "\n",
    "total_length = y_pred0_GD.shape[0] + y_pred1_GD.shape[0] + y_pred2_GD.shape[0]\n",
    "y_pred_GD = np.zeros((total_length,))\n",
    "y_pred_GD[np.where(rows_to_keep0)] = y_pred0_GD\n",
    "y_pred_GD[np.where(rows_to_keep1)] = y_pred1_GD\n",
    "y_pred_GD[np.where(rows_to_keep2)] = y_pred2_GD"
   ]
  },
  {
   "cell_type": "code",
   "execution_count": 156,
   "metadata": {},
   "outputs": [
    {
     "name": "stdout",
     "output_type": "stream",
     "text": [
      "Categorical accuracy test :  0.8135614826436556  || f1_score test:  0.36176706827309235\n"
     ]
    }
   ],
   "source": [
    "cat_accuracy_test, f1_score_test = metrics_check(y_test,y_pred_GD)\n",
    "print(\"Categorical accuracy test : \",cat_accuracy_test,\" || f1_score test: \",f1_score_test)"
   ]
  },
  {
   "cell_type": "markdown",
   "metadata": {},
   "source": [
    "## Neural Network"
   ]
  },
  {
   "cell_type": "code",
   "execution_count": 23,
   "metadata": {},
   "outputs": [],
   "source": [
    "def Poly_Neural_Net(y_train, x_train,y_test, x_test, degree, eps):\n",
    "    # define lists to store the loss of training data and test data\n",
    "    \n",
    "    phi_x_train = build_poly(x_train, degree)\n",
    "    phi_x_test = build_poly(x_test, degree)\n",
    "    y_train = np.where(y_train==-1, 0, y_train)\n",
    "    y_test = np.where(y_test==-1, 0, y_test)\n",
    "        \n",
    "    labels = [0, 1]\n",
    "    layer_array = [[len(labels), 'sigmoid']]\n",
    "    input_dims = phi_x_train.shape[1]\n",
    "    neural_net = create_neural_network(layer_array, input_dims)\n",
    "    neural_net = train_network(phi_x_train, y_train, labels, neural_net, epochs=eps)\n",
    "    \n",
    "    y_pred_train = []\n",
    "    for i in range(len(y_train)):\n",
    "        y_pred_train.append((predict(phi_x_train[i], neural_net))[0])\n",
    "    \n",
    "    y_pred_test = []\n",
    "    for i in range(len(y_test)):\n",
    "        y_pred_test.append((predict(phi_x_test[i], neural_net))[0])\n",
    "        \n",
    "    y_pred_train = np.where(y_pred_train==0, -1, y_pred_train)\n",
    "    y_pred_test = np.where(y_pred_test==0, -1, y_pred_test)\n",
    "    \n",
    "    acc_train,_ = metrics_check(y_train,y_pred_train)\n",
    "    acc_test,_ = metrics_check(y_test,y_pred_test)\n",
    "    \n",
    "    data = []\n",
    "    data_nested = []        \n",
    "        \n",
    "    data_nested.append([acc_train, acc_test, degree])\n",
    "    data_nested = np.array(data_nested)\n",
    "    index_best_value = np.where(data_nested[:,1] == np.amax(data_nested[:,1]))\n",
    "    best_value = data_nested[index_best_value][0]\n",
    "    print(\"Running :: Training accuracy: \",best_value[0],\" ,testing accuracy: \",best_value[1])\n",
    "    data.append(best_value)\n",
    "        \n",
    "    data = np.array(data)\n",
    "    index_best_value = np.where(data[:,1] == np.amax(data[:,1]))\n",
    "    best_value = data[index_best_value][0]\n",
    "    acc_train, acc_test = best_value[0], best_value[1]\n",
    "    print(\"Final :: Training accuracy: \",acc_train,\" ,testing accuracy: \",acc_test)\n",
    "    \n",
    "    return degree\n"
   ]
  },
  {
   "cell_type": "code",
   "execution_count": 26,
   "metadata": {},
   "outputs": [
    {
     "name": "stdout",
     "output_type": "stream",
     "text": [
      "Running :: Training accuracy:  0.845215121532232  ,testing accuracy:  0.845362336551387\n",
      "Final :: Training accuracy:  0.845215121532232  ,testing accuracy:  0.845362336551387\n"
     ]
    }
   ],
   "source": [
    "degree = 3\n",
    "epochs=50\n",
    "\n",
    "degree0 = Poly_Neural_Net(y0, x0, y0_test, x0_test, degree, epochs)"
   ]
  },
  {
   "cell_type": "code",
   "execution_count": 34,
   "metadata": {},
   "outputs": [
    {
     "name": "stdout",
     "output_type": "stream",
     "text": [
      "Running :: Training accuracy:  0.8116471211535432  ,testing accuracy:  0.8025393215842335\n",
      "Final :: Training accuracy:  0.8116471211535432  ,testing accuracy:  0.8025393215842335\n"
     ]
    }
   ],
   "source": [
    "degree = 3\n",
    "epochs= 200\n",
    "\n",
    "degree0 = Poly_Neural_Net(y1, x1, y1_test, x1_test, degree, epochs)"
   ]
  },
  {
   "cell_type": "code",
   "execution_count": 33,
   "metadata": {},
   "outputs": [
    {
     "ename": "KeyboardInterrupt",
     "evalue": "",
     "output_type": "error",
     "traceback": [
      "\u001b[1;31m---------------------------------------------------------------------------\u001b[0m",
      "\u001b[1;31mKeyboardInterrupt\u001b[0m                         Traceback (most recent call last)",
      "\u001b[1;32m<ipython-input-33-264f63b48fde>\u001b[0m in \u001b[0;36m<module>\u001b[1;34m\u001b[0m\n\u001b[0;32m      2\u001b[0m \u001b[0mepochs\u001b[0m\u001b[1;33m=\u001b[0m\u001b[1;36m150\u001b[0m\u001b[1;33m\u001b[0m\u001b[1;33m\u001b[0m\u001b[0m\n\u001b[0;32m      3\u001b[0m \u001b[1;33m\u001b[0m\u001b[0m\n\u001b[1;32m----> 4\u001b[1;33m \u001b[0mdegree0\u001b[0m \u001b[1;33m=\u001b[0m \u001b[0mPoly_Neural_Net\u001b[0m\u001b[1;33m(\u001b[0m\u001b[0my2\u001b[0m\u001b[1;33m,\u001b[0m \u001b[0mx2\u001b[0m\u001b[1;33m,\u001b[0m \u001b[0my2_test\u001b[0m\u001b[1;33m,\u001b[0m \u001b[0mx2_test\u001b[0m\u001b[1;33m,\u001b[0m \u001b[0mdegree\u001b[0m\u001b[1;33m,\u001b[0m \u001b[0mepochs\u001b[0m\u001b[1;33m)\u001b[0m\u001b[1;33m\u001b[0m\u001b[1;33m\u001b[0m\u001b[0m\n\u001b[0m",
      "\u001b[1;32m<ipython-input-23-cf3c3a26f35c>\u001b[0m in \u001b[0;36mPoly_Neural_Net\u001b[1;34m(y_train, x_train, y_test, x_test, degree, eps)\u001b[0m\n\u001b[0;32m     11\u001b[0m     \u001b[0minput_dims\u001b[0m \u001b[1;33m=\u001b[0m \u001b[0mphi_x_train\u001b[0m\u001b[1;33m.\u001b[0m\u001b[0mshape\u001b[0m\u001b[1;33m[\u001b[0m\u001b[1;36m1\u001b[0m\u001b[1;33m]\u001b[0m\u001b[1;33m\u001b[0m\u001b[1;33m\u001b[0m\u001b[0m\n\u001b[0;32m     12\u001b[0m     \u001b[0mneural_net\u001b[0m \u001b[1;33m=\u001b[0m \u001b[0mcreate_neural_network\u001b[0m\u001b[1;33m(\u001b[0m\u001b[0mlayer_array\u001b[0m\u001b[1;33m,\u001b[0m \u001b[0minput_dims\u001b[0m\u001b[1;33m)\u001b[0m\u001b[1;33m\u001b[0m\u001b[1;33m\u001b[0m\u001b[0m\n\u001b[1;32m---> 13\u001b[1;33m     \u001b[0mneural_net\u001b[0m \u001b[1;33m=\u001b[0m \u001b[0mtrain_network\u001b[0m\u001b[1;33m(\u001b[0m\u001b[0mphi_x_train\u001b[0m\u001b[1;33m,\u001b[0m \u001b[0my_train\u001b[0m\u001b[1;33m,\u001b[0m \u001b[0mlabels\u001b[0m\u001b[1;33m,\u001b[0m \u001b[0mneural_net\u001b[0m\u001b[1;33m,\u001b[0m \u001b[0mepochs\u001b[0m\u001b[1;33m=\u001b[0m\u001b[0meps\u001b[0m\u001b[1;33m)\u001b[0m\u001b[1;33m\u001b[0m\u001b[1;33m\u001b[0m\u001b[0m\n\u001b[0m\u001b[0;32m     14\u001b[0m \u001b[1;33m\u001b[0m\u001b[0m\n\u001b[0;32m     15\u001b[0m     \u001b[0my_pred_train\u001b[0m \u001b[1;33m=\u001b[0m \u001b[1;33m[\u001b[0m\u001b[1;33m]\u001b[0m\u001b[1;33m\u001b[0m\u001b[1;33m\u001b[0m\u001b[0m\n",
      "\u001b[1;32m~\\Desktop\\yey\\implementations.py\u001b[0m in \u001b[0;36mtrain_network\u001b[1;34m(X, Y, labels, neural_net, epochs)\u001b[0m\n\u001b[0;32m    440\u001b[0m     \u001b[1;32mfor\u001b[0m \u001b[0mepoch\u001b[0m \u001b[1;32min\u001b[0m \u001b[0mrange\u001b[0m\u001b[1;33m(\u001b[0m\u001b[1;36m0\u001b[0m\u001b[1;33m,\u001b[0m \u001b[0mepochs\u001b[0m\u001b[1;33m)\u001b[0m\u001b[1;33m:\u001b[0m\u001b[1;33m\u001b[0m\u001b[1;33m\u001b[0m\u001b[0m\n\u001b[0;32m    441\u001b[0m         \u001b[1;32mfor\u001b[0m \u001b[0md\u001b[0m \u001b[1;32min\u001b[0m \u001b[0mrange\u001b[0m\u001b[1;33m(\u001b[0m\u001b[1;36m0\u001b[0m\u001b[1;33m,\u001b[0m \u001b[0mlen\u001b[0m\u001b[1;33m(\u001b[0m\u001b[0mX\u001b[0m\u001b[1;33m)\u001b[0m\u001b[1;33m)\u001b[0m\u001b[1;33m:\u001b[0m\u001b[1;33m\u001b[0m\u001b[1;33m\u001b[0m\u001b[0m\n\u001b[1;32m--> 442\u001b[1;33m             \u001b[0mprediction\u001b[0m \u001b[1;33m=\u001b[0m \u001b[0mpredict_ratio\u001b[0m\u001b[1;33m(\u001b[0m\u001b[0mX\u001b[0m\u001b[1;33m[\u001b[0m\u001b[0md\u001b[0m\u001b[1;33m]\u001b[0m\u001b[1;33m,\u001b[0m \u001b[0mneural_net\u001b[0m\u001b[1;33m)\u001b[0m\u001b[1;33m\u001b[0m\u001b[1;33m\u001b[0m\u001b[0m\n\u001b[0m\u001b[0;32m    443\u001b[0m \u001b[1;33m\u001b[0m\u001b[0m\n\u001b[0;32m    444\u001b[0m             \u001b[1;31m# Calculate total error per label\u001b[0m\u001b[1;33m\u001b[0m\u001b[1;33m\u001b[0m\u001b[1;33m\u001b[0m\u001b[0m\n",
      "\u001b[1;32m~\\Desktop\\yey\\implementations.py\u001b[0m in \u001b[0;36mpredict_ratio\u001b[1;34m(data, neural_net)\u001b[0m\n\u001b[0;32m    404\u001b[0m \u001b[1;33m\u001b[0m\u001b[0m\n\u001b[0;32m    405\u001b[0m     \u001b[1;32mfor\u001b[0m \u001b[0ml\u001b[0m \u001b[1;32min\u001b[0m \u001b[0mrange\u001b[0m\u001b[1;33m(\u001b[0m\u001b[1;36m0\u001b[0m\u001b[1;33m,\u001b[0m \u001b[0mlayer_num\u001b[0m\u001b[1;33m)\u001b[0m\u001b[1;33m:\u001b[0m\u001b[1;33m\u001b[0m\u001b[1;33m\u001b[0m\u001b[0m\n\u001b[1;32m--> 406\u001b[1;33m         \u001b[0mdata\u001b[0m \u001b[1;33m=\u001b[0m \u001b[0mnp\u001b[0m\u001b[1;33m.\u001b[0m\u001b[0mdot\u001b[0m\u001b[1;33m(\u001b[0m\u001b[0mweights\u001b[0m\u001b[1;33m[\u001b[0m\u001b[0ml\u001b[0m\u001b[1;33m]\u001b[0m\u001b[1;33m,\u001b[0m \u001b[0mdata\u001b[0m\u001b[1;33m)\u001b[0m\u001b[1;33m\u001b[0m\u001b[1;33m\u001b[0m\u001b[0m\n\u001b[0m\u001b[0;32m    407\u001b[0m         \u001b[1;32mfor\u001b[0m \u001b[0mt\u001b[0m \u001b[1;32min\u001b[0m \u001b[0mrange\u001b[0m\u001b[1;33m(\u001b[0m\u001b[0mlen\u001b[0m\u001b[1;33m(\u001b[0m\u001b[0mdata\u001b[0m\u001b[1;33m)\u001b[0m\u001b[1;33m)\u001b[0m\u001b[1;33m:\u001b[0m\u001b[1;33m\u001b[0m\u001b[1;33m\u001b[0m\u001b[0m\n\u001b[0;32m    408\u001b[0m             \u001b[0mdata\u001b[0m\u001b[1;33m[\u001b[0m\u001b[0mt\u001b[0m\u001b[1;33m]\u001b[0m \u001b[1;33m+=\u001b[0m \u001b[0mbiases\u001b[0m\u001b[1;33m[\u001b[0m\u001b[0ml\u001b[0m\u001b[1;33m]\u001b[0m\u001b[1;33m[\u001b[0m\u001b[0mt\u001b[0m\u001b[1;33m]\u001b[0m\u001b[1;33m\u001b[0m\u001b[1;33m\u001b[0m\u001b[0m\n",
      "\u001b[1;31mKeyboardInterrupt\u001b[0m: "
     ]
    }
   ],
   "source": [
    "degree = 8\n",
    "epochs=150\n",
    "\n",
    "degree0 = Poly_Neural_Net(y2, x2, y2_test, x2_test, degree, epochs)"
   ]
  },
  {
   "cell_type": "code",
   "execution_count": null,
   "metadata": {},
   "outputs": [],
   "source": []
  },
  {
   "cell_type": "code",
   "execution_count": null,
   "metadata": {},
   "outputs": [],
   "source": []
  },
  {
   "cell_type": "markdown",
   "metadata": {},
   "source": [
    "## Generate predictions and save ouput in csv format for submission:"
   ]
  },
  {
   "cell_type": "code",
   "execution_count": 60,
   "metadata": {},
   "outputs": [],
   "source": [
    "DATA_TEST_PATH = 'test.csv'\n",
    "_, tX_test, ids_test = load_csv_data(DATA_TEST_PATH)"
   ]
  },
  {
   "cell_type": "code",
   "execution_count": 61,
   "metadata": {},
   "outputs": [
    {
     "name": "stderr",
     "output_type": "stream",
     "text": [
      "C:\\ProgramData\\Anaconda3\\lib\\site-packages\\numpy\\lib\\nanfunctions.py:959: RuntimeWarning: All-NaN slice encountered\n",
      "  result = np.apply_along_axis(_nanmedian1d, axis, a, overwrite_input)\n"
     ]
    }
   ],
   "source": [
    "# preprocessing\n",
    "categorical_datasets_test = preprocessing(_,copy.deepcopy(tX_test), train = False, columns_to_keep = columns_to_keep)\n",
    "x0_validate = categorical_datasets_test[0]\n",
    "x1_validate = categorical_datasets_test[1]\n",
    "x2_validate = categorical_datasets_test[2]\n",
    "rows_to_keep_validate0 = categorical_datasets_test[3]\n",
    "rows_to_keep_validate1 = categorical_datasets_test[4]\n",
    "rows_to_keep_validate2 = categorical_datasets_test[5]\n",
    "\n",
    "# clean high correlation areas\n",
    "#x0\n",
    "x0_validate = np.delete(x0_validate, 6, 1)\n",
    "x0_validate = np.delete(x0_validate, 6, 1)\n",
    "#x1\n",
    "x1_validate = np.delete(x1_validate, 4, 1)\n",
    "x1_validate = np.delete(x1_validate, 18, 1)\n",
    "x1_validate = np.delete(x1_validate, 6, 1)\n",
    "x1_validate = np.delete(x1_validate, 3, 1)\n",
    "#x2\n",
    "x2_validate = np.delete(x2_validate, 10, 1)\n",
    "x2_validate = np.delete(x2_validate, 21, 1)\n",
    "x2_validate = np.delete(x2_validate, 4, 1)\n",
    "x2_validate = np.delete(x2_validate, 6, 1)\n",
    "x2_validate = np.delete(x2_validate, 3, 1)\n",
    "x2_validate = np.delete(x2_validate, 4, 1)\n",
    "x2_validate = np.delete(x2_validate, 18, 1)"
   ]
  },
  {
   "cell_type": "code",
   "execution_count": 62,
   "metadata": {},
   "outputs": [
    {
     "name": "stdout",
     "output_type": "stream",
     "text": [
      "(227458, 17)\n",
      "(175338, 19)\n",
      "(165442, 24)\n"
     ]
    }
   ],
   "source": [
    "print(x0_validate.shape)\n",
    "print(x1_validate.shape)\n",
    "print(x2_validate.shape)"
   ]
  },
  {
   "cell_type": "code",
   "execution_count": 63,
   "metadata": {},
   "outputs": [],
   "source": [
    "# Build poly features\n",
    "phi_x0_validate = build_poly(copy.deepcopy(x0_validate), degree0)\n",
    "phi_x1_validate = build_poly(copy.deepcopy(x1_validate), degree1)\n",
    "phi_x2_validate = build_poly(copy.deepcopy(x2_validate), degree2)"
   ]
  },
  {
   "cell_type": "code",
   "execution_count": 64,
   "metadata": {},
   "outputs": [],
   "source": [
    "# Predict outcomes\n",
    "y_pred0 = predict_labels(w0, phi_x0_validate)\n",
    "y_pred1 = predict_labels(w1, phi_x1_validate)\n",
    "y_pred2 = predict_labels(w2, phi_x2_validate)"
   ]
  },
  {
   "cell_type": "code",
   "execution_count": 65,
   "metadata": {},
   "outputs": [
    {
     "data": {
      "image/png": "[encoded data removed]",
      "text/plain": [
       "<Figure size 1080x720 with 6 Axes>"
      ]
     },
     "metadata": {
      "needs_background": "light"
     },
     "output_type": "display_data"
    }
   ],
   "source": [
    "fig = plt.figure(figsize=(15, 10))\n",
    "ax1 = fig.add_subplot(321)\n",
    "ax2 = fig.add_subplot(322)\n",
    "ax3 = fig.add_subplot(323)\n",
    "ax4 = fig.add_subplot(324)\n",
    "ax5 = fig.add_subplot(325)\n",
    "ax6 = fig.add_subplot(326)\n",
    "\n",
    "# Cat 0\n",
    "print('\"y=1\" ratio y0: '+str(np.sum(y0==1)/len(y0)))\n",
    "print('\"y=1\" ratio y_pred0: '+str(np.sum(y_pred0==1)/len(y_pred0)))\n",
    "print('-----------------------------------------------------------')\n",
    "\n",
    "# Cat 1\n",
    "print('\"y=1\" ratio y1: '+str(np.sum(y1==1)/len(y1)))\n",
    "print('\"y=1\" ratio y_pred1: '+str(np.sum(y_pred1==1)/len(y_pred1)))\n",
    "print('-----------------------------------------------------------')\n",
    "\n",
    "# Cat 2 and 3\n",
    "print('\"y=1\" ratio y2: '+str(np.sum(y2==1)/len(y2)))\n",
    "print('\"y=1\" ratio y_pred2: '+str(np.sum(y_pred2==1)/len(y_pred2)))\n",
    "print('-----------------------------------------------------------')"
   ]
  },
  {
   "cell_type": "code",
   "execution_count": 66,
   "metadata": {},
   "outputs": [],
   "source": [
    "total_length = y_pred0.shape[0] + y_pred1.shape[0] + y_pred2.shape[0]\n",
    "y_pred = np.zeros((total_length,))\n",
    "y_pred[np.where(rows_to_keep_validate0)] = y_pred0\n",
    "y_pred[np.where(rows_to_keep_validate1)] = y_pred1\n",
    "y_pred[np.where(rows_to_keep_validate2)] = y_pred2"
   ]
  },
  {
   "cell_type": "code",
   "execution_count": 67,
   "metadata": {},
   "outputs": [
    {
     "data": {
      "text/plain": [
       "568238"
      ]
     },
     "execution_count": 67,
     "metadata": {},
     "output_type": "execute_result"
    }
   ],
   "source": [
    "total_length"
   ]
  },
  {
   "cell_type": "code",
   "execution_count": 37,
   "metadata": {},
   "outputs": [
    {
     "ename": "NameError",
     "evalue": "name 'y_pred' is not defined",
     "output_type": "error",
     "traceback": [
      "\u001b[1;31m---------------------------------------------------------------------------\u001b[0m",
      "\u001b[1;31mNameError\u001b[0m                                 Traceback (most recent call last)",
      "\u001b[1;32m<ipython-input-37-0db24c9dd9af>\u001b[0m in \u001b[0;36m<module>\u001b[1;34m\u001b[0m\n\u001b[1;32m----> 1\u001b[1;33m \u001b[0mprint\u001b[0m\u001b[1;33m(\u001b[0m\u001b[1;34m'\"y=1\" ratio y_pred: '\u001b[0m\u001b[1;33m+\u001b[0m\u001b[0mstr\u001b[0m\u001b[1;33m(\u001b[0m\u001b[0mnp\u001b[0m\u001b[1;33m.\u001b[0m\u001b[0msum\u001b[0m\u001b[1;33m(\u001b[0m\u001b[0my_pred\u001b[0m\u001b[1;33m==\u001b[0m\u001b[1;36m1\u001b[0m\u001b[1;33m)\u001b[0m\u001b[1;33m/\u001b[0m\u001b[0mlen\u001b[0m\u001b[1;33m(\u001b[0m\u001b[0my_pred\u001b[0m\u001b[1;33m)\u001b[0m\u001b[1;33m)\u001b[0m\u001b[1;33m)\u001b[0m\u001b[1;33m\u001b[0m\u001b[1;33m\u001b[0m\u001b[0m\n\u001b[0m",
      "\u001b[1;31mNameError\u001b[0m: name 'y_pred' is not defined"
     ]
    }
   ],
   "source": [
    "print('\"y=1\" ratio y_pred: '+str(np.sum(y_pred==1)/len(y_pred)))"
   ]
  },
  {
   "cell_type": "code",
   "execution_count": 69,
   "metadata": {},
   "outputs": [],
   "source": [
    "time_day = datetime.datetime.now().day\n",
    "time_hour = datetime.datetime.now().hour\n",
    "time_min = datetime.datetime.now().minute\n",
    "time_second = datetime.datetime.now().second\n",
    "\n",
    "time = str(time_day)+\"-\"+str(time_hour)+\"-\"+str(time_min)+\"-\"+str(time_second)\n",
    "\n",
    "OUTPUT_PATH = 'submission'+\"_\"+str(time)+\".csv\"\n",
    "#print(weights_LS.shape)\n",
    "create_csv_submission(ids_test, y_pred, OUTPUT_PATH)"
   ]
  },
  {
   "cell_type": "code",
   "execution_count": null,
   "metadata": {},
   "outputs": [],
   "source": []
  },
  {
   "cell_type": "code",
   "execution_count": 36,
   "metadata": {},
   "outputs": [
    {
     "name": "stdout",
     "output_type": "stream",
     "text": [
      "The loss for step 0 is 1414412.097399069.\n",
      "The loss for step 1 is 1383982.922053602.\n",
      "The loss for step 2 is 1364709.9585894903.\n",
      "The loss for step 3 is 1347233.0466802006.\n",
      "The loss for step 4 is 1336214.9867060357.\n",
      "The loss for step 5 is 1327890.9992665192.\n",
      "The loss for step 6 is 1316113.0814140816.\n",
      "The loss for step 7 is 1308548.9614480073.\n",
      "The loss for step 8 is 1302504.573230427.\n",
      "The loss for step 9 is 1295285.8458258861.\n"
     ]
    }
   ],
   "source": [
    "loss, ws = logistic_regression(y0, build_poly(x0, 5), w0, 10, 0.01)"
   ]
  },
  {
   "cell_type": "code",
   "execution_count": null,
   "metadata": {},
   "outputs": [],
   "source": []
  }
 ],
 "metadata": {
  "kernelspec": {
   "display_name": "Python 3",
   "language": "python",
   "name": "python3"
  },
  "language_info": {
   "codemirror_mode": {
    "name": "ipython",
    "version": 3
   },
   "file_extension": ".py",
   "mimetype": "text/x-python",
   "name": "python",
   "nbconvert_exporter": "python",
   "pygments_lexer": "ipython3",
   "version": "3.7.3"
  }
 },
 "nbformat": 4,
 "nbformat_minor": 2
}
